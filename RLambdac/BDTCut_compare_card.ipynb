{
 "cells": [
  {
   "cell_type": "code",
   "execution_count": 1,
   "id": "4255cc33-315a-4071-9c33-fbf9a930ac75",
   "metadata": {},
   "outputs": [
    {
     "name": "stderr",
     "output_type": "stream",
     "text": [
      "/home/anson/.local/lib/python3.10/site-packages/xgboost/compat.py:36: FutureWarning: pandas.Int64Index is deprecated and will be removed from pandas in a future version. Use pandas.Index with the appropriate dtype instead.\n",
      "  from pandas import MultiIndex, Int64Index\n"
     ]
    }
   ],
   "source": [
    "import uproot\n",
    "import pandas as pd\n",
    "import numpy as np\n",
    "import matplotlib.pyplot as plt\n",
    "import xgboost as xgb\n",
    "\n",
    "\n",
    "import warnings\n",
    "warnings.filterwarnings(\"ignore\")"
   ]
  },
  {
   "cell_type": "markdown",
   "id": "7d1fdbbe",
   "metadata": {},
   "source": [
    "## Theoretical $q^2$"
   ]
  },
  {
   "cell_type": "code",
   "execution_count": 2,
   "id": "75d024d4-b466-46e5-9445-9da8e87aaa6d",
   "metadata": {},
   "outputs": [],
   "source": [
    "def dGammaLambdacmu(q2):\n",
    "    return 4.73286*10**(-7) * (1 - 0.011025/q2)**2 * q2 * np.sqrt(1024.56 + q2**2 - 2 * (165.091 + 36.8068 * q2)) * \\\n",
    "            ((-((np.sqrt(2) * (1.0809 - (11.6259 * (-7.16904 + np.sqrt(62.5044 - q2)))/(7.16904 + \\\n",
    "            np.sqrt(62.5044 - q2))) * np.sqrt(11.1092 - q2))/(1 - 0.0249412 * q2)) - (np.sqrt(2) * (\\\n",
    "            0.6876 - (6.787 * (-7.16904 + np.sqrt(62.5044 - q2)))/(7.16904 + np.sqrt(62.5044 - q2))) * np.sqrt(62.5044 - q2))/(\\\n",
    "            1 - 0.0218313 * q2))**2 + (-((np.sqrt(2) * (1.0809 - (11.6259 * (-7.16904 + np.sqrt(62.5044 - q2)))/(\\\n",
    "            7.16904 + np.sqrt(62.5044 - q2))) * np.sqrt(11.1092 - q2))/(1 - 0.0249412 * q2)) + (np.sqrt(2) * (\\\n",
    "            0.6876 - (6.787 * (-7.16904 + np.sqrt(62.5044 - q2)))/(7.16904 + np.sqrt(62.5044 - q2))) * np.sqrt(62.5044 - q2))/(\\\n",
    "            1 - 0.0218313 * q2))**2 + (1/np.sqrt(q2) * np.sqrt(11.1092 - q2) * (7.90597 * ((62.5044 * (-((1.0809 - \\\n",
    "            (11.6259 * (-7.16904 + np.sqrt(62.5044 - q2)))/(7.16904 + np.sqrt(62.5044 - q2)))/(1 - 0.0249412 * q2)) + (\\\n",
    "            0.8137 - (8.5673 * (-7.16904 + np.sqrt(62.5044 - q2)))/(7.16904 + np.sqrt(62.5044 - q2)))/(1 - 0.0249412 * q2)))/(\\\n",
    "            62.5044 - q2) + (1.0809 - (11.6259 * (-7.16904 + np.sqrt(62.5044 - q2)))/(7.16904 + np.sqrt(62.5044 - q2)))/(\\\n",
    "            1 - 0.0249412 * q2)) - (7.90597 * (-((1.0809 - (11.6259 * (-7.16904 + np.sqrt(62.5044 - q2)))/(\\\n",
    "            7.16904 + np.sqrt(62.5044 - q2)))/(1 - 0.0249412 * q2)) + (0.8137 - (8.5673 * (-7.16904 + np.sqrt(62.5044 - q2)))/(\\\n",
    "            7.16904 + np.sqrt(62.5044 - q2)))/(1 - 0.0249412 * q2)) * q2)/(62.5044 - q2)) - 1/np.sqrt(q2) * np.sqrt(62.5044 -\\\n",
    "            q2) * (3.33305 * ((0.6876 - (6.787 * (-7.16904 + np.sqrt(62.5044 - q2)))/(7.16904 + np.sqrt(62.5044 - q2)))/(\\\n",
    "            1 - 0.0218313 * q2) - (11.1092 * (-((0.6876 - (6.787 * (-7.16904 + np.sqrt(62.5044 - q2)))/(7.16904 + np.sqrt(\\\n",
    "            62.5044 - q2)))/(1 - 0.0218313 * q2)) + (0.6876 - (6.5556 * (-7.16904 + np.sqrt(62.5044 - q2)))/(\\\n",
    "            7.16904 + np.sqrt(62.5044 - q2)))/(1 - 0.0218313 * q2)))/(-11.1092 + q2)) - (3.33305 * (-((0.6876 - (6.787 *\\\n",
    "            (-7.16904 + np.sqrt(62.5044 - q2)))/(7.16904 + np.sqrt(62.5044 - q2)))/(1 - 0.0218313 * q2)) + (\\\n",
    "            0.6876 - (6.5556 * (-7.16904 + np.sqrt(62.5044 - q2)))/(7.16904 + np.sqrt(62.5044 - q2)))/(1 - 0.0218313 * q2)) *\\\n",
    "            q2)/(-11.1092 + q2)))**2 + (1/np.sqrt(q2) * np.sqrt(11.1092 - q2) * (7.90597 * ((62.5044 * (-((\\\n",
    "            1.0809 - (11.6259 * (-7.16904 + np.sqrt(62.5044 - q2)))/(7.16904 + np.sqrt(62.5044 - q2)))/(1 - 0.0249412 * q2)) +\\\n",
    "            (0.8137 - (8.5673 * (-7.16904 + np.sqrt(62.5044 - q2)))/(7.16904 + np.sqrt(62.5044 - q2)))/(1 - 0.0249412 * q2)))/(\\\n",
    "            62.5044 - q2) + (1.0809 - (11.6259 * (-7.16904 + np.sqrt(62.5044 - q2)))/(7.16904 + np.sqrt(62.5044 - q2)))/(\\\n",
    "            1 - 0.0249412 * q2)) - (7.90597 * (-((1.0809 - (11.6259 * (-7.16904 + np.sqrt(62.5044 - q2)))/(\\\n",
    "            7.16904 + np.sqrt(62.5044 - q2)))/(1 - 0.0249412 * q2)) + (0.8137 - (8.5673 * (-7.16904 + np.sqrt(62.5044 - q2)))/(\\\n",
    "            7.16904 + np.sqrt(62.5044 - q2)))/(1 - 0.0249412 * q2)) * q2)/(62.5044 - q2)) + 1/np.sqrt(q2) * np.sqrt(62.5044 -\\\n",
    "            q2) * (3.33305 * ((0.6876 - (6.787 * (-7.16904 + np.sqrt(62.5044 - q2)))/(7.16904 + np.sqrt(62.5044 - q2)))/(\\\n",
    "            1 - 0.0218313 * q2) - (11.1092 * (-((0.6876 - (6.787 * (-7.16904 + np.sqrt(62.5044 - q2)))/(\\\n",
    "            7.16904 + np.sqrt(62.5044 - q2)))/(1 - 0.0218313 * q2)) + (0.6876 - (6.5556 * (-7.16904 + np.sqrt(62.5044 - q2)))/(\\\n",
    "            7.16904 + np.sqrt(62.5044 - q2)))/(1 - 0.0218313 * q2)))/(-11.1092 + q2)) - (3.33305 * (-((\n",
    "            0.6876 - (6.787 * (-7.16904 + np.sqrt(62.5044 - q2)))/(7.16904 + np.sqrt(62.5044 - q2)))/(1 - 0.0218313 * q2)) + (\\\n",
    "            0.6876 - (6.5556 * (-7.16904 + np.sqrt(62.5044 - q2)))/(7.16904 + np.sqrt(62.5044 - q2)))/(1 - 0.0218313 * q2)) *\\\n",
    "            q2)/(-11.1092 + q2)))**2 + 1/q2 * 0.0055125 * (3 * ((-(1/np.sqrt(q2)) * (7.90597 * ((0.6876 - (6.787 * (-7.16904 +\\\n",
    "            np.sqrt(62.5044 - q2)))/(7.16904 + np.sqrt(62.5044 - q2)))/(1 - 0.0218313 * q2) - (11.1092 * (-((0.6876 - \\\n",
    "            (6.787 * (-7.16904 + np.sqrt(62.5044 - q2)))/(7.16904 + np.sqrt(62.5044 - q2)))/(1 - 0.0218313 * q2)) + (\\\n",
    "            0.6876 - (6.5556 * (-7.16904 + np.sqrt(62.5044 - q2)))/(7.16904 + np.sqrt(62.5044 - q2)))/(1 - 0.0218313 * q2)))/(\\\n",
    "            -11.1092 + q2)) - 7.90597 * ((0.7446 - (7.7216 * (-7.16904 + np.sqrt(62.5044 - q2)))/(7.16904 + np.sqrt(62.5044\\\n",
    "            - q2)))/(1 - 0.0253883 * q2) - (0.6876 - (6.787 * (-7.16904 + np.sqrt(62.5044 - q2)))/(7.16904 + np.sqrt(62.5044\\\n",
    "            - q2)))/(1 - 0.0218313 * q2) + (11.1092 * (-((0.6876 - (6.787 * (-7.16904 + np.sqrt(62.5044 - q2)))/(7.16904 + \\\n",
    "            np.sqrt(62.5044 - q2)))/(1 - 0.0218313 * q2)) + (0.6876 - (6.5556 * (-7.16904 + np.sqrt(62.5044 - q2)))/(\\\n",
    "            7.16904 + np.sqrt(62.5044 - q2)))/(1 - 0.0218313 * q2)))/(-11.1092 + q2))) * np.sqrt(11.1092 - q2) + 1/np.sqrt(q2) \\\n",
    "            * (3.33305 * ((62.5044 * (-((1.0809 - (11.6259 * (-7.16904 + np.sqrt(62.5044 - q2)))/(7.16904 + np.sqrt(62.5044 - \\\n",
    "            q2)))/(1 - 0.0249412 * q2)) + (0.8137 - (8.5673 * (-7.16904 + np.sqrt(62.5044 - q2)))/(7.16904 + np.sqrt(62.5044 -\\\n",
    "            q2)))/(1 - 0.0249412 * q2)))/(62.5044 - q2) + (1.0809 - (11.6259 * (-7.16904 + np.sqrt(62.5044 - q2)))/(\\\n",
    "            7.16904 + np.sqrt(62.5044 - q2)))/(1 - 0.0249412 * q2)) + 3.33305 * (-((62.5044 * (-((1.0809 - (11.6259 * \\\n",
    "            (-7.16904 + np.sqrt(62.5044 - q2)))/(7.16904 + np.sqrt(62.5044 - q2)))/(1 - 0.0249412 * q2)) + (0.8137 - (\\\n",
    "            8.5673 * (-7.16904 + np.sqrt(62.5044 - q2)))/(7.16904 + np.sqrt(62.5044 - q2)))/(1 - 0.0249412 * q2)))/(62.5044 -\\\n",
    "            q2)) - (1.0809 - (11.6259 * (-7.16904 + np.sqrt(62.5044 - q2)))/(7.16904 + np.sqrt(62.5044 - q2)))/(1 - 0.0249412 \\\n",
    "            * q2) + (0.7494 - (7.253 * (-7.16904 + np.sqrt(62.5044 - q2)))/(7.16904 + np.sqrt(62.5044 - q2)))/(1 - 0.0221114 *q2)\\\n",
    "            )) * np.sqrt(62.5044 - q2))**2 + (1/np.sqrt(q2) * (7.90597 * ((0.6876 - (6.787 * (-7.16904 + np.sqrt(62.5044 - q2)))/(\\\n",
    "            7.16904 + np.sqrt(62.5044 - q2)))/(1 - 0.0218313 * q2) - (11.1092 * (-((0.6876 - (6.787 * (-7.16904 + \\\n",
    "            np.sqrt(62.5044 - q2)))/(7.16904 + np.sqrt(62.5044 - q2)))/(1 - 0.0218313 * q2)) + (0.6876 - (6.5556 *\\\n",
    "            (-7.16904 + np.sqrt(62.5044 - q2)))/(7.16904 + np.sqrt(62.5044 - q2)))/(1 - 0.0218313 * q2)))/(-11.1092 + q2)) - \\\n",
    "            7.90597 * ((0.7446 - (7.7216 * (-7.16904 + np.sqrt(62.5044 - q2)))/(7.16904 + np.sqrt(62.5044 - q2)))/(1 - \\\n",
    "            0.0253883 * q2) - (0.6876 - (6.787 * (-7.16904 + np.sqrt(62.5044 - q2)))/(7.16904 + np.sqrt(62.5044 - q2)))/(\\\n",
    "            1 - 0.0218313 * q2) + (11.1092 * (-((0.6876 - (6.787 * (-7.16904 + np.sqrt(62.5044 - q2)))/(7.16904 + \\\n",
    "            np.sqrt(62.5044 - q2)))/(1 - 0.0218313 * q2)) + ( 0.6876 - ( 6.5556 * (-7.16904 + np.sqrt(62.5044 - q2)))/(\\\n",
    "            7.16904 + np.sqrt(62.5044 - q2)))/( 1 - 0.0218313 * q2)))/(-11.1092 + q2))) * np.sqrt(11.1092 - q2) + 1/np.sqrt(q2) \\\n",
    "            * (3.33305 * ((62.5044 * (-((1.0809 - ( 11.6259 * (-7.16904 + np.sqrt(62.5044 - q2)))/( 7.16904 + np.sqrt(62.5044 \\\n",
    "            - q2)))/( 1 - 0.0249412 * q2)) + ( 0.8137 - ( 8.5673 * (-7.16904 + np.sqrt(62.5044 - q2)))/( 7.16904 + \\\n",
    "            np.sqrt(62.5044 - q2)))/( 1 - 0.0249412 * q2)))/(62.5044 - q2) + ( 1.0809 - (11.6259 * (-7.16904 + \\\n",
    "            np.sqrt(62.5044 - q2)))/( 7.16904 + np.sqrt(62.5044 - q2)))/(1 - 0.0249412 * q2)) + 3.33305 * (-(( 62.5044 * \\\n",
    "            (-(( 1.0809 - ( 11.6259 * (-7.16904 + np.sqrt(62.5044 - q2)))/( 7.16904 + np.sqrt(62.5044 - q2)))/( 1 - 0.0249412 \\\n",
    "            * q2)) + ( 0.8137 - ( 8.5673 * (-7.16904 + np.sqrt(62.5044 - q2)))/( 7.16904 + np.sqrt(62.5044 - q2)))/( 1 - \\\n",
    "            0.0249412 * q2)))/(62.5044 - q2)) - ( 1.0809 - (11.6259 * (-7.16904 + np.sqrt(62.5044 - q2)))/(7.16904 + \\\n",
    "            np.sqrt(62.5044 - q2)))/(1 - 0.0249412 * q2) + ( 0.7494 - (7.253 * (-7.16904 + np.sqrt(62.5044 - q2)))/(7.16904 + \\\n",
    "            np.sqrt(62.5044 - q2)))/( 1 - 0.0221114 *q2))) * np.sqrt(62.5044 - q2))**2) + (-((np.sqrt(2) * (1.0809 - (11.6259 * \\\n",
    "            (-7.16904 + np.sqrt(62.5044 - q2)))/(7.16904 + np.sqrt(62.5044 - q2))) * np.sqrt(11.1092 - q2))/(1 - 0.0249412 * q2)) \\\n",
    "            - (np.sqrt(2) * (0.6876 - (6.787 * (-7.16904 + np.sqrt(62.5044 - q2)))/(7.16904 + np.sqrt(62.5044 - q2))) * \\\n",
    "            np.sqrt(62.5044 - q2))/(1 - 0.0218313 * q2))**2 + (-((np.sqrt(2) * (1.0809 - (11.6259 * (-7.16904 + \\\n",
    "            np.sqrt(62.5044 - q2)))/(7.16904 + np.sqrt(62.5044 - q2))) * np.sqrt(11.1092 - q2))/(1 - 0.0249412 * q2)) + (\\\n",
    "            np.sqrt(2) * (0.6876 - (6.787 * (-7.16904 + np.sqrt(62.5044 - q2)))/(7.16904 + np.sqrt(62.5044 - q2))) * \\\n",
    "            np.sqrt(62.5044 - q2))/(1 - 0.0218313 * q2))**2 + (1/np.sqrt(q2) * np.sqrt(11.1092 - q2) * (7.90597 * ((\\\n",
    "            62.5044 * (-((1.0809 - (11.6259 * (-7.16904 + np.sqrt(62.5044 - q2)))/(7.16904 + np.sqrt(62.5044 - q2)))/(\\\n",
    "            1 - 0.0249412 * q2)) + (0.8137 - (8.5673 * (-7.16904 + np.sqrt(62.5044 - q2)))/(7.16904 + np.sqrt(62.5044 - q2)))/(\\\n",
    "            1 - 0.0249412 * q2)))/(62.5044 - q2) + (1.0809 - (11.6259 * (-7.16904 + np.sqrt(62.5044 - q2)))/( 7.16904 + \\\n",
    "            np.sqrt(62.5044 - q2)))/(1 - 0.0249412 * q2)) - (7.90597 * (-(( 1.0809 - (11.6259 * (-7.16904 + np.sqrt(62.5044 - \\\n",
    "            q2)))/(7.16904 + np.sqrt(62.5044 - q2)))/(1 - 0.0249412 * q2)) + (0.8137 - (8.5673 * (-7.16904 + np.sqrt(62.5044 \\\n",
    "            - q2)))/( 7.16904 + np.sqrt(62.5044 - q2)))/(1 - 0.0249412 * q2)) * q2)/(62.5044 - q2)) - 1/np.sqrt(q2) * np.sqrt(\\\n",
    "            62.5044 - q2) * (3.33305 * ((0.6876 - (6.787 * (-7.16904 + np.sqrt(62.5044 - q2)))/(7.16904 + np.sqrt(62.5044 - \\\n",
    "            q2)))/(1 - 0.0218313 * q2) - (11.1092 * (-((0.6876 - (6.787 * (-7.16904 + np.sqrt(62.5044 - q2)))/(7.16904 + \\\n",
    "            np.sqrt(62.5044 - q2)))/( 1 - 0.0218313 * q2)) + (0.6876 - (6.5556 * (-7.16904 + np.sqrt(62.5044 - q2)))/(\\\n",
    "            7.16904 + np.sqrt(62.5044 - q2)))/( 1 - 0.0218313 * q2)))/(-11.1092 + q2)) - (3.33305 * (-((0.6876 - (6.787 * \\\n",
    "            (-7.16904 + np.sqrt(62.5044 - q2)))/(7.16904 + np.sqrt(62.5044 - q2)))/(1 - 0.0218313 * q2)) + (0.6876 - (6.5556 * \\\n",
    "            (-7.16904 + np.sqrt(62.5044 - q2)))/(7.16904 + np.sqrt(62.5044 - q2)))/(1 - 0.0218313 * q2)) * q2)/(-11.1092 + \\\n",
    "            q2)))**2 + (1/np.sqrt(q2)* np.sqrt(11.1092 - q2) * (7.90597 * ((62.5044 * (-((1.0809 - (11.6259 * (-7.16904 + \\\n",
    "            np.sqrt(62.5044 - q2)))/(7.16904 + np.sqrt(62.5044 - q2)))/(1 - 0.0249412 * q2)) + (0.8137 - (8.5673 * (-7.16904 \\\n",
    "            + np.sqrt(62.5044 - q2)))/(7.16904 + np.sqrt(62.5044 - q2)))/( 1 - 0.0249412 * q2)))/(62.5044 - q2) + (1.0809 - \\\n",
    "            (11.6259 * (-7.16904 + np.sqrt(62.5044 - q2)))/( 7.16904 + np.sqrt(62.5044 - q2)))/(1 - 0.0249412 * q2)) - (\\\n",
    "            7.90597 * (-(( 1.0809 - (11.6259 * (-7.16904 + np.sqrt(62.5044 - q2)))/( 7.16904 + np.sqrt(62.5044 - q2)))/(1 - \\\n",
    "            0.0249412 * q2)) + (0.8137 - (8.5673 * (-7.16904 + np.sqrt(62.5044 - q2)))/(7.16904 + np.sqrt(62.5044 - q2)))/(\\\n",
    "            1 - 0.0249412 * q2)) * q2)/(62.5044 - q2)) + 1/np.sqrt(q2) * np.sqrt(62.5044 - q2) * (3.33305 * ((0.6876 - (6.787 *\\\n",
    "            (-7.16904 + np.sqrt(62.5044 - q2)))/(7.16904 + np.sqrt(62.5044 - q2)))/(1 - 0.0218313 * q2) - (11.1092 * (-((\\\n",
    "            0.6876 - (6.787 * (-7.16904 + np.sqrt(62.5044 - q2)))/( 7.16904 + np.sqrt(62.5044 - q2)))/( 1 - 0.0218313 * q2)) + \\\n",
    "            (0.6876 - (6.5556 * (-7.16904 + np.sqrt(62.5044 - q2)))/( 7.16904 + np.sqrt(62.5044 - q2)))/( 1 - 0.0218313 * \\\n",
    "            q2)))/(-11.1092 + q2)) - (3.33305 * (-((0.6876 - (6.787 * (-7.16904 + np.sqrt(62.5044 - q2)))/(7.16904 + \\\n",
    "            np.sqrt(62.5044 - q2)))/(1 - 0.0218313 * q2)) + (0.6876 - (6.5556 * (-7.16904 + np.sqrt(62.5044 - q2)))/(\\\n",
    "            7.16904 + np.sqrt(62.5044 - q2)))/(1 - 0.0218313 * q2)) * q2)/(-11.1092 + q2)))**2))\n",
    "\n",
    "\n",
    "\n",
    "\n",
    "\n"
   ]
  },
  {
   "cell_type": "code",
   "execution_count": 3,
   "id": "4d466d8f",
   "metadata": {},
   "outputs": [],
   "source": [
    "def dGammaLambdactau(q2):\n",
    "    return 4.73286*10**-7 * (1 - 3.16128/q2)**2 * q2 * np.sqrt( 1024.56 + q2**2 -   2 * (165.091 +  36.8068 * q2)) * ((-((\\\n",
    "            np.sqrt(2) * (1.0809 - (11.6259 * (-7.16904 + np.sqrt(62.5044 - q2)))/( 7.16904 + np.sqrt(62.5044 - q2))) * \\\n",
    "            np.sqrt(11.1092 - q2))/( 1 - 0.0249412 * q2)) - ( np.sqrt(2) * (0.6876 - (6.787 * (-7.16904 + np.sqrt(62.5044 - \\\n",
    "            q2)))/( 7.16904 + np.sqrt(62.5044 - q2))) * np.sqrt(62.5044 - q2))/( 1 - 0.0218313 * q2))**2 + (-(( np.sqrt(2) * \\\n",
    "            (1.0809 - (11.6259 * (-7.16904 + np.sqrt(62.5044 - q2)))/( 7.16904 + np.sqrt(62.5044 - q2))) * np.sqrt(11.1092 - \\\n",
    "            q2))/( 1 - 0.0249412 * q2)) + ( np.sqrt(2) * (0.6876 - (6.787 * (-7.16904 + np.sqrt(62.5044 - q2)))/(\\\n",
    "            7.16904 + np.sqrt(62.5044 - q2))) * np.sqrt(62.5044 - q2))/( 1 - 0.0218313 * q2))**2 + (1/np.sqrt(q2) * np.sqrt(\\\n",
    "            11.1092 -  q2) * (7.90597 * (( 62.5044 * (-(( 1.0809 - (11.6259 * (-7.16904 + np.sqrt(62.5044 - q2)))/(\\\n",
    "            7.16904 + np.sqrt(62.5044 - q2)))/(1 - 0.0249412 * q2)) + ( 0.8137 - (8.5673 * (-7.16904 + np.sqrt(62.5044 - q2)))/(\\\n",
    "            7.16904 + np.sqrt(62.5044 - q2)))/(1 - 0.0249412 * q2)))/( 62.5044 - q2) + (1.0809 - (11.6259 * (-7.16904 + \\\n",
    "            np.sqrt(62.5044 - q2)))/( 7.16904 + np.sqrt(62.5044 - q2)))/(1 - 0.0249412 * q2)) - ( 7.90597 * (-(( 1.0809 - \\\n",
    "            (11.6259 * (-7.16904 + np.sqrt(62.5044 - q2)))/( 7.16904 + np.sqrt(62.5044 - q2)))/(1 - 0.0249412 * q2)) + (\\\n",
    "            0.8137 - (8.5673 * (-7.16904 + np.sqrt(62.5044 - q2)))/( 7.16904 + np.sqrt(62.5044 - q2)))/(1 - 0.0249412 * q2)) * \\\n",
    "            q2)/( 62.5044 - q2)) -  1/np.sqrt(q2) * np.sqrt( 62.5044 -  q2) * (3.33305 * (( 0.6876 - (6.787 * (-7.16904 + \\\n",
    "            np.sqrt(62.5044 - q2)))/( 7.16904 + np.sqrt(62.5044 - q2)))/(1 - 0.0218313 * q2) - ( 11.1092 * (-(( 0.6876 - \\\n",
    "            (6.787 * (-7.16904 + np.sqrt(62.5044 - q2)))/( 7.16904 + np.sqrt(62.5044 - q2)))/(1 - 0.0218313 * q2)) + ( 0.6876 - \\\n",
    "            (6.5556 * (-7.16904 + np.sqrt(62.5044 - q2)))/( 7.16904 + np.sqrt(62.5044 - q2)))/( 1 - 0.0218313 * q2)))/(-11.1092 \\\n",
    "            + q2)) - ( 3.33305 * (-(( 0.6876 - (6.787 * (-7.16904 + np.sqrt(62.5044 - q2)))/( 7.16904 + np.sqrt(62.5044 - \\\n",
    "            q2)))/(1 - 0.0218313 * q2)) + ( 0.6876 - (6.5556 * (-7.16904 + np.sqrt(62.5044 - q2)))/( 7.16904 + np.sqrt(62.5044 \\\n",
    "            - q2)))/( 1 - 0.0218313 * q2)) * q2)/(-11.1092 + q2)))**2 + (1/np.sqrt(q2) * np.sqrt(11.1092 -  q2) * (7.90597 * \\\n",
    "            (( 62.5044 * (-(( 1.0809 - (11.6259 * (-7.16904 + np.sqrt(62.5044 - q2)))/( 7.16904 + np.sqrt(62.5044 - q2)))/(1 - \\\n",
    "            0.0249412 * q2)) + ( 0.8137 - (8.5673 * (-7.16904 + np.sqrt(62.5044 - q2)))/( 7.16904 + np.sqrt(62.5044 - q2)))/(1 \\\n",
    "            - 0.0249412 * q2)))/( 62.5044 - q2) + ( 1.0809 - (11.6259 * (-7.16904 + np.sqrt(62.5044 - q2)))/( 7.16904 + \\\n",
    "            np.sqrt(62.5044 - q2)))/(1 - 0.0249412 * q2)) - ( 7.90597 * (-(( 1.0809 - (11.6259 * (-7.16904 + np.sqrt(62.5044 -\\\n",
    "            q2)))/( 7.16904 + np.sqrt(62.5044 - q2)))/(1 - 0.0249412 * q2)) + ( 0.8137 - (8.5673 * (-7.16904 +\\\n",
    "            np.sqrt(62.5044 - q2)))/( 7.16904 + np.sqrt(62.5044 - q2)))/(1 - 0.0249412 * q2)) * q2)/( 62.5044 - q2)) + \\\n",
    "            1/np.sqrt(q2) * np.sqrt( 62.5044 -  q2) * (3.33305 * (( 0.6876 - (6.787 * (-7.16904 + np.sqrt(62.5044 - q2)))/(\\\n",
    "            7.16904 + np.sqrt(62.5044 - q2)))/(1 - 0.0218313 * q2) - ( 11.1092 * (-(( 0.6876 - (6.787 * (-7.16904 + \\\n",
    "            np.sqrt(62.5044 - q2)))/( 7.16904 + np.sqrt(62.5044 - q2)))/(1 - 0.0218313 * q2)) + ( 0.6876 - (6.5556 * \\\n",
    "            (-7.16904 + np.sqrt(62.5044 - q2)))/( 7.16904 + np.sqrt(62.5044 - q2)))/( 1 - 0.0218313 * q2)))/(-11.1092 + q2)) \\\n",
    "            - ( 3.33305 * (-(( 0.6876 - (6.787 * (-7.16904 + np.sqrt(62.5044 - q2)))/( 7.16904 + np.sqrt(62.5044 - q2)))/(1 \\\n",
    "            - 0.0218313 * q2)) + ( 0.6876 - (6.5556 * (-7.16904 + np.sqrt(62.5044 - q2)))/( 7.16904 + np.sqrt(62.5044 - \\\n",
    "            q2)))/( 1 - 0.0218313 * q2)) * q2)/(-11.1092 + q2)))**2 +  1/q2 * 1.58064 * (3 * ((-(1/np.sqrt( q2)) * \\\n",
    "            (7.90597 * (( 0.6876 - (6.787 * (-7.16904 + np.sqrt(62.5044 - q2)))/( 7.16904 + np.sqrt(62.5044 - q2)))/(\\\n",
    "            1 - 0.0218313 * q2) - ( 11.1092 * (-(( 0.6876 - (6.787 * (-7.16904 + np.sqrt(62.5044 - q2)))/( 7.16904 + \\\n",
    "            np.sqrt(62.5044 - q2)))/( 1 - 0.0218313 * q2)) + ( 0.6876 - ( 6.5556 * (-7.16904 + np.sqrt(62.5044 - q2)))/(\\\n",
    "            7.16904 + np.sqrt(62.5044 - q2)))/( 1 - 0.0218313 * q2)))/(-11.1092 + q2)) -  7.90597 * (( 0.7446 - (7.7216 *\\\n",
    "            (-7.16904 + np.sqrt(62.5044 - q2)))/( 7.16904 + np.sqrt(62.5044 - q2)))/( 1 - 0.0253883 * q2) - ( 0.6876 - \\\n",
    "            (6.787 * (-7.16904 + np.sqrt(62.5044 - q2)))/( 7.16904 + np.sqrt(62.5044 - q2)))/( 1 - 0.0218313 * q2) + (\\\n",
    "            11.1092 * (-(( 0.6876 - (6.787 * (-7.16904 + np.sqrt(62.5044 - q2)))/( 7.16904 + np.sqrt(62.5044 - q2)))/(\\\n",
    "            1 - 0.0218313 * q2)) + ( 0.6876 - ( 6.5556 * (-7.16904 + np.sqrt(62.5044 - q2)))/( 7.16904 + np.sqrt(62.5044 - \\\n",
    "            q2)))/( 1 - 0.0218313 * q2)))/(-11.1092 + q2))) * np.sqrt( 11.1092 - q2) +  1/np.sqrt(q2) * (3.33305 * ((\\\n",
    "            62.5044 * (-(( 1.0809 - ( 11.6259 * (-7.16904 + np.sqrt(62.5044 - q2)))/( 7.16904 + np.sqrt(62.5044 - q2)))/(\\\n",
    "            1 - 0.0249412 * q2)) + ( 0.8137 - ( 8.5673 * (-7.16904 + np.sqrt(62.5044 - q2)))/( 7.16904 + np.sqrt(62.5044 - \\\n",
    "            q2)))/( 1 - 0.0249412 * q2)))/(62.5044 - q2) + ( 1.0809 - (11.6259 * (-7.16904 + np.sqrt(62.5044 - q2)))/(\\\n",
    "            7.16904 + np.sqrt(62.5044 - q2)))/( 1 - 0.0249412 * q2)) +  3.33305 * (-(( 62.5044 * (-(( 1.0809 - ( 11.6259 * \\\n",
    "            (-7.16904 + np.sqrt(62.5044 - q2)))/( 7.16904 + np.sqrt(62.5044 - q2)))/( 1 - 0.0249412 * q2)) + ( 0.8137 - (\\\n",
    "            8.5673 * (-7.16904 + np.sqrt(62.5044 - q2)))/( 7.16904 + np.sqrt(62.5044 - q2)))/( 1 - 0.0249412 * q2)))/(62.5044 \\\n",
    "            - q2)) - ( 1.0809 - (11.6259 * (-7.16904 + np.sqrt(62.5044 - q2)))/( 7.16904 + np.sqrt(62.5044 - q2)))/(\\\n",
    "            1 - 0.0249412 * q2) + ( 0.7494 - (7.253 * (-7.16904 + np.sqrt(62.5044 - q2)))/( 7.16904 + np.sqrt(62.5044 - \\\n",
    "            q2)))/( 1 - 0.0221114 * q2))) * np.sqrt(62.5044 - q2))**2 + (1/np.sqrt( q2) * (7.90597 * (( 0.6876 - (6.787 * \\\n",
    "            (-7.16904 + np.sqrt(62.5044 - q2)))/( 7.16904 + np.sqrt(62.5044 - q2)))/( 1 - 0.0218313 * q2) - ( 11.1092 * (-((\\\n",
    "            0.6876 - (6.787 * (-7.16904 + np.sqrt(62.5044 - q2)))/( 7.16904 + np.sqrt(62.5044 - q2)))/( 1 - 0.0218313 * q2)) +\\\n",
    "            ( 0.6876 - ( 6.5556 * (-7.16904 + np.sqrt(62.5044 - q2)))/( 7.16904 + np.sqrt(62.5044 - q2)))/( 1 - 0.0218313 * \\\n",
    "            q2)))/(-11.1092 + q2)) -  7.90597 * (( 0.7446 - (7.7216 * (-7.16904 + np.sqrt(62.5044 - q2)))/( 7.16904 + \\\n",
    "            np.sqrt(62.5044 - q2)))/( 1 - 0.0253883 * q2) - ( 0.6876 - (6.787 * (-7.16904 + np.sqrt(62.5044 - q2)))/( 7.16904 +\\\n",
    "            np.sqrt(62.5044 - q2)))/( 1 - 0.0218313 * q2) + ( 11.1092 * (-(( 0.6876 - (6.787 * (-7.16904 + \\\n",
    "            np.sqrt(62.5044 - q2)))/( 7.16904 + np.sqrt(62.5044 - q2)))/( 1 - 0.0218313 * q2)) + ( 0.6876 - ( 6.5556 * \\\n",
    "            (-7.16904 + np.sqrt(62.5044 - q2)))/( 7.16904 + np.sqrt(62.5044 - q2)))/( 1 - 0.0218313 * q2)))/(-11.1092 + q2))) \\\n",
    "            * np.sqrt( 11.1092 - q2) +  1/np.sqrt(q2) * (3.33305 * (( 62.5044 * (-(( 1.0809 - ( 11.6259 * (-7.16904 + \\\n",
    "            np.sqrt(62.5044 - q2)))/( 7.16904 + np.sqrt(62.5044 - q2)))/( 1 - 0.0249412 * q2)) + ( 0.8137 - ( 8.5673 * \\\n",
    "            (-7.16904 + np.sqrt(62.5044 - q2)))/( 7.16904 + np.sqrt(62.5044 - q2)))/( 1 - 0.0249412 * q2)))/(62.5044 - q2) +\\\n",
    "            ( 1.0809 - (11.6259 * (-7.16904 + np.sqrt(62.5044 - q2)))/( 7.16904 + np.sqrt(62.5044 - q2)))/( 1 - 0.0249412 * \\\n",
    "            q2)) +  3.33305 * (-(( 62.5044 * (-(( 1.0809 - ( 11.6259 * (-7.16904 + np.sqrt(62.5044 - q2)))/( 7.16904 + \\\n",
    "            np.sqrt(62.5044 - q2)))/( 1 - 0.0249412 * q2)) + ( 0.8137 - ( 8.5673 * (-7.16904 + np.sqrt(62.5044 - q2)))/(\\\n",
    "            7.16904 + np.sqrt(62.5044 - q2)))/( 1 - 0.0249412 * q2)))/(62.5044 - q2)) - ( 1.0809 - (11.6259 * (-7.16904 + \\\n",
    "            np.sqrt(62.5044 - q2)))/( 7.16904 + np.sqrt(62.5044 - q2)))/( 1 - 0.0249412 * q2) + ( 0.7494 - (7.253 * (-7.16904 + \\\n",
    "            np.sqrt(62.5044 - q2)))/( 7.16904 + np.sqrt(62.5044 - q2)))/( 1 - 0.0221114 * q2))) * np.sqrt(62.5044 - q2))**2) + \\\n",
    "            (-(( np.sqrt(2) * (1.0809 - (11.6259 * (-7.16904 + np.sqrt(62.5044 - q2)))/( 7.16904 + np.sqrt(62.5044 - q2))) * \\\n",
    "            np.sqrt(11.1092 - q2))/( 1 - 0.0249412 * q2)) - ( np.sqrt(2) * (0.6876 - (6.787 * (-7.16904 + np.sqrt(62.5044 - \\\n",
    "            q2)))/( 7.16904 + np.sqrt(62.5044 - q2))) * np.sqrt(62.5044 - q2))/( 1 - 0.0218313 * q2))**2 + (-(( np.sqrt(2) * \\\n",
    "            (1.0809 - (11.6259 * (-7.16904 + np.sqrt(62.5044 - q2)))/( 7.16904 + np.sqrt(62.5044 - q2))) * np.sqrt(11.1092 - \\\n",
    "            q2))/( 1 - 0.0249412 * q2)) + ( np.sqrt(2) * (0.6876 - (6.787 * (-7.16904 + np.sqrt(62.5044 - q2)))/( 7.16904 +\\\n",
    "            np.sqrt(62.5044 - q2))) * np.sqrt(62.5044 - q2))/( 1 - 0.0218313 * q2))**2 + (1/np.sqrt(q2) * np.sqrt( 11.1092 - \\\n",
    "            q2) * (7.90597 * (( 62.5044 * (-(( 1.0809 - (11.6259 * (-7.16904 + np.sqrt(62.5044 - q2)))/( 7.16904 + \\\n",
    "            np.sqrt(62.5044 - q2)))/( 1 - 0.0249412 * q2)) + ( 0.8137 - (8.5673 * (-7.16904 + np.sqrt(62.5044 - q2)))/(\\\n",
    "            7.16904 + np.sqrt(62.5044 - q2)))/( 1 - 0.0249412 * q2)))/(62.5044 - q2) + ( 1.0809 - (11.6259 * (-7.16904 +\\\n",
    "            np.sqrt(62.5044 - q2)))/( 7.16904 + np.sqrt(62.5044 - q2)))/(1 - 0.0249412 * q2)) - ( 7.90597 * (-(( 1.0809 - \\\n",
    "            (11.6259 * (-7.16904 + np.sqrt(62.5044 - q2)))/( 7.16904 + np.sqrt(62.5044 - q2)))/(1 - 0.0249412 * q2)) + (\\\n",
    "            0.8137 - (8.5673 * (-7.16904 + np.sqrt(62.5044 - q2)))/( 7.16904 + np.sqrt(62.5044 - q2)))/( 1 - 0.0249412 * q2)) * \\\n",
    "            q2)/(62.5044 - q2)) -  1/np.sqrt(q2) * np.sqrt( 62.5044 -  q2) * (3.33305 * (( 0.6876 - (6.787 * (-7.16904 + \\\n",
    "            np.sqrt(62.5044 - q2)))/( 7.16904 + np.sqrt(62.5044 - q2)))/(1 - 0.0218313 * q2) - ( 11.1092 * (-(( 0.6876 - \\\n",
    "            (6.787 * (-7.16904 + np.sqrt(62.5044 - q2)))/( 7.16904 + np.sqrt(62.5044 - q2)))/( 1 - 0.0218313 * q2)) + ( 0.6876 -\\\n",
    "            (6.5556 * (-7.16904 + np.sqrt(62.5044 - q2)))/( 7.16904 + np.sqrt(62.5044 - q2)))/( 1 - 0.0218313 * q2)))/(-11.1092 \\\n",
    "            + q2)) - ( 3.33305 * (-(( 0.6876 - (6.787 * (-7.16904 + np.sqrt(62.5044 - q2)))/( 7.16904 + np.sqrt(62.5044 - \\\n",
    "            q2)))/(1 - 0.0218313 * q2)) + (  0.6876 - (6.5556 * (-7.16904 + np.sqrt(62.5044 - q2)))/( 7.16904 + np.sqrt(62.5044 \\\n",
    "            - q2)))/( 1 - 0.0218313 * q2)) * q2)/(-11.1092 + q2)))**2 + (1/np.sqrt(q2) * np.sqrt(11.1092 -  q2) * (7.90597 * \\\n",
    "            (( 62.5044 * (-(( 1.0809 - (11.6259 * (-7.16904 + np.sqrt(62.5044 - q2)))/( 7.16904 + np.sqrt(62.5044 - q2)))/(\\\n",
    "            1 - 0.0249412 * q2)) + ( 0.8137 - (8.5673 * (-7.16904 + np.sqrt(62.5044 - q2)))/( 7.16904 + np.sqrt(62.5044 - \\\n",
    "            q2)))/( 1 - 0.0249412 * q2)))/(62.5044 - q2) + ( 1.0809 - (11.6259 * (-7.16904 + np.sqrt(62.5044 - q2)))/(\\\n",
    "            7.16904 + np.sqrt(62.5044 - q2)))/(1 - 0.0249412 * q2)) - ( 7.90597 * (-(( 1.0809 - (11.6259 * (-7.16904 + \\\n",
    "            np.sqrt(62.5044 - q2)))/( 7.16904 + np.sqrt(62.5044 - q2)))/(1 - 0.0249412 * q2)) + ( 0.8137 - (8.5673 * \\\n",
    "            (-7.16904 + np.sqrt(62.5044 - q2)))/( 7.16904 + np.sqrt(62.5044 - q2)))/( 1 - 0.0249412 * q2)) * q2)/(62.5044 - \\\n",
    "            q2)) +  1/np.sqrt(q2) * np.sqrt( 62.5044 -  q2) * (3.33305 * (( 0.6876 - (6.787 * (-7.16904 + np.sqrt(62.5044 - \\\n",
    "            q2)))/( 7.16904 + np.sqrt(62.5044 - q2)))/(1 - 0.0218313 * q2) - ( 11.1092 * (-(( 0.6876 - (6.787 * (-7.16904 + \\\n",
    "            np.sqrt(62.5044 - q2)))/( 7.16904 + np.sqrt(62.5044 - q2)))/( 1 - 0.0218313 * q2)) + ( 0.6876 - (6.5556 * \\\n",
    "            (-7.16904 + np.sqrt(62.5044 - q2)))/( 7.16904 + np.sqrt(62.5044 - q2)))/( 1 - 0.0218313 * q2)))/(-11.1092 + q2)) -\\\n",
    "            (3.33305 * (-(( 0.6876 - (6.787 * (-7.16904 + np.sqrt(62.5044 - q2)))/( 7.16904 + np.sqrt(62.5044 - q2)))/(1 - \\\n",
    "            0.0218313 * q2)) + ( 0.6876 - (6.5556 * (-7.16904 + np.sqrt(62.5044 - q2)))/( 7.16904 + np.sqrt(62.5044 - q2)))/(\\\n",
    "            1 - 0.0218313 * q2)) * q2)/(-11.1092 + q2)))**2))\n",
    "\n",
    "\n",
    "\n"
   ]
  },
  {
   "cell_type": "code",
   "execution_count": 4,
   "id": "d7b1a38a-a750-4ec5-bf46-4294d158959d",
   "metadata": {},
   "outputs": [
    {
     "data": {
      "text/plain": [
       "[<matplotlib.lines.Line2D at 0x7f71af2147f0>]"
      ]
     },
     "execution_count": 4,
     "metadata": {},
     "output_type": "execute_result"
    },
    {
     "data": {
      "image/png": "[encoded data removed]",
      "text/plain": [
       "<Figure size 432x288 with 1 Axes>"
      ]
     },
     "metadata": {
      "needs_background": "light"
     },
     "output_type": "display_data"
    }
   ],
   "source": [
    "q2_mu = np.linspace(0.105**2, 11)\n",
    "q2_tau = np.linspace(1.778**2, 11)\n",
    "\n",
    "\n",
    "dGmu = dGammaLambdacmu(q2_mu)\n",
    "dGtau = dGammaLambdactau(q2_tau)\n",
    "\n",
    "plt.plot(q2_mu, dGmu)\n",
    "plt.plot(q2_tau, dGtau)"
   ]
  },
  {
   "cell_type": "code",
   "execution_count": null,
   "id": "6a1c29af-98df-4ad7-b1d0-e7099400683c",
   "metadata": {},
   "outputs": [],
   "source": []
  },
  {
   "cell_type": "markdown",
   "id": "28471494",
   "metadata": {},
   "source": [
    "## Loading Data"
   ]
  },
  {
   "cell_type": "code",
   "execution_count": 5,
   "id": "ca2a0ba8-d7cb-4c1f-a83a-af2c05f711ad",
   "metadata": {},
   "outputs": [],
   "source": [
    "epsilon_pimu = 1/100\n",
    "\n",
    "# 10noise\n",
    "modes_dt = {0: {'mode': './features/IDEA_card_LambdacTauNu_10Noise.root', 'yields': 2.39e6}, \n",
    "            1: {'mode': './features/IDEA_card_LambdacMuNu_10Noise.root', 'yields': 4.79e7},\n",
    "            2: {'mode': './features/RLambdacInclusive_10Noise.root', 'yields': 6.33e5},\n",
    "            3: {'mode': './features/RLambdacCombCascade_10Noise.root', 'yields': 2.37e5},\n",
    "            4: {'mode': './features/RLambdacMisID_10Noise.root', 'yields': epsilon_pimu*1.63e7}\n",
    "           }\n",
    "\n",
    "# 20noise\n",
    "# modes_dt = {0: {'mode': './features/LambdacTauNu_20Noise.root', 'yields': 2.39e6}, \n",
    "#             1: {'mode': './features/LambdacMuNu_20Noise.root', 'yields': 4.76e7},\n",
    "#             2: {'mode': './features/RLambdacInclusive_20Noise.root', 'yields': 6.32e5},\n",
    "#             3: {'mode': './features/RLambdacCombCascade_20Noise.root', 'yields': 2.43e5},\n",
    "#             4: {'mode': './features/RLambdacMisID_20Noise.root', 'yields': epsilon_pimu*1.65e7}\n",
    "#            }\n",
    "\n"
   ]
  },
  {
   "cell_type": "code",
   "execution_count": 6,
   "id": "5a0e9d29-4e37-4e8f-8367-e89fe06f4f5c",
   "metadata": {},
   "outputs": [],
   "source": [
    "def load_train_test(modes_dt, size=0.5):\n",
    "    np.random.seed(9)\n",
    "    df_train = pd.DataFrame()\n",
    "    df_test = pd.DataFrame()\n",
    "    num_lt = []\n",
    "    \n",
    "    # loop over different modes\n",
    "    for i, (k, v) in enumerate(modes_dt.items()):\n",
    "        print('\\rReading:', i)\n",
    "        file = uproot.open(v['mode'])\n",
    "#         df_i = file['t'].pandas.df()\n",
    "        df_i = pd.DataFrame(np.array(file['t']['features'].array()))\n",
    "        \n",
    "        # shuffle the index for training and testing sets\n",
    "        idx = df_i.index.tolist()\n",
    "        np.random.shuffle(idx)\n",
    "#         print(len(idx))\n",
    "#         idx = idx[:100000]    # if too much data\n",
    "        num_lt.append(len(idx))    \n",
    "\n",
    "        df_i['target'] = i    # add the target label\n",
    "        df_i['weight'] = v['yields']/len(idx)\n",
    "        print(df_i['weight'][0])\n",
    "        \n",
    "        # cut according to the fraction\n",
    "        cut = int(np.ceil(len(idx) * size))\n",
    "        df_train_i = df_i.loc[idx[:cut]]\n",
    "        df_test_i = df_i.loc[idx[cut:]]\n",
    "        \n",
    "        # Put to the global dataframs\n",
    "        df_train = pd.concat([df_train, df_train_i])\n",
    "        df_test = pd.concat([df_test, df_test_i])\n",
    "    \n",
    "    df_train.reset_index(drop=True, inplace=True)\n",
    "    df_test.reset_index(drop=True, inplace=True)\n",
    "    \n",
    "    print('train size: {} ({:.2f}%); test size: {} ({:.2f}%)'.format(len(df_train), 100*len(df_train)/(len(df_train)+len(df_test)), len(df_test), 100*len(df_test)/(len(df_train)+len(df_test))))\n",
    "    print('data points per mode: ',num_lt)\n",
    "    return df_train, df_test\n",
    "\n",
    "    "
   ]
  },
  {
   "cell_type": "code",
   "execution_count": 7,
   "id": "6ca7635f-3c7e-440a-9dcd-95b942b509b0",
   "metadata": {},
   "outputs": [
    {
     "name": "stdout",
     "output_type": "stream",
     "text": [
      "Reading: 0\n",
      "382.6448927313481\n",
      "Reading: 1\n",
      "1144.0991711849429\n",
      "Reading: 2\n",
      "172.99808690899152\n",
      "Reading: 3\n",
      "172.36363636363637\n",
      "Reading: 4\n",
      "1.6962204462204462\n",
      "train size: 74623 (50.00%); test size: 74620 (50.00%)\n",
      "data points per mode:  [6246, 41867, 3659, 1375, 96096]\n"
     ]
    }
   ],
   "source": [
    "tr_te_split = 0.5\n",
    "df_train, df_test = load_train_test(modes_dt, tr_te_split)\n",
    "# make a copy\n",
    "df_train_o, df_test_o = df_train.copy(), df_test.copy()"
   ]
  },
  {
   "cell_type": "code",
   "execution_count": null,
   "id": "8dda4e95",
   "metadata": {},
   "outputs": [],
   "source": []
  },
  {
   "cell_type": "code",
   "execution_count": 8,
   "id": "ae5b84d9-d9af-4ac4-8945-287dc2fbb6c6",
   "metadata": {},
   "outputs": [],
   "source": [
    "def relabel(x):\n",
    "    if x == 0:    # tau\n",
    "        return 0\n",
    "    elif x == 1:    # mu\n",
    "        return 1\n",
    "    else:    # other bkg\n",
    "        return 2"
   ]
  },
  {
   "cell_type": "code",
   "execution_count": 9,
   "id": "5b273e42-755f-4b81-811c-9413a3b2c2b4",
   "metadata": {},
   "outputs": [],
   "source": [
    "# relabel the, all bkg become one label\n",
    "df_train['target'] = df_train['target'].apply(relabel)\n",
    "df_test['target'] = df_test['target'].apply(relabel)"
   ]
  },
  {
   "cell_type": "code",
   "execution_count": 10,
   "id": "0e1b3776-dd5d-4aa9-bb0f-1bcc7aac2db5",
   "metadata": {},
   "outputs": [
    {
     "data": {
      "text/plain": [
       "Index(['iEvt', 'q2', 'miss2', 'pB', 'EB', 'pHc', 'EHc', 'pMu', 'EMu',\n",
       "       'sMinMuBVert', 'sMinMuHcVert', 'sMinMuTr', 'sMinHcTr', 'sPVHc', 'mHcMu',\n",
       "       'pPerp', 'mCorr', 'D0Max', 'DzMax', 'D0Sum', 'DzSum', 'ENeutral03',\n",
       "       'ENeutral06', 'ENeutral03Hadron', 'ENeutral06Hadron',\n",
       "       'ENeutral03Photon', 'ENeutral06Photon', 'ECharge03', 'ECharge06',\n",
       "       'ECharge03PV', 'ECharge06PV', 'ECharge03DV', 'ECharge06DV', 'mK0SHcMu',\n",
       "       'pK0S', 'q2True', 'miss2True', 'EBTrue', 'pBTrue', 'sMinMuHcVertTrue',\n",
       "       'target', 'weight', 'pPerpHc'],\n",
       "      dtype='object')"
      ]
     },
     "execution_count": 10,
     "metadata": {},
     "output_type": "execute_result"
    }
   ],
   "source": [
    "df_train.columns"
   ]
  },
  {
   "cell_type": "code",
   "execution_count": 11,
   "id": "824ab394-53be-4288-93b3-f9cf53006442",
   "metadata": {},
   "outputs": [],
   "source": [
    "# features = ['q2', 'miss2', \n",
    "#             'pB', 'EB', \n",
    "#             'pHc', 'EHc', \n",
    "#             'pMu', 'EMu',\n",
    "#             'sMinMuHcVert', 'sMinMuTr', 'sMinHcTr', 'sPVHc', \n",
    "#             'mHcMu',\n",
    "#             'pPerp', 'mCorr', \n",
    "#             'D0Max', 'DzMax', 'D0Sum', 'DzSum', \n",
    "#             'ENeutral03','ENeutral06', \n",
    "#             'ENeutral03Hadron', 'ENeutral06Hadron',\n",
    "#             'ENeutral03Photon', 'ENeutral06Photon', \n",
    "#             'ECharge03', 'ECharge06',\n",
    "#             'ECharge03PV', 'ECharge06PV', \n",
    "#             'ECharge03DV', 'ECharge06DV', \n",
    "#             'mK0SHcMu', 'pK0S'\n",
    "#            ]\n",
    "\n",
    "features = ['q2', 'miss2', \n",
    "            'pB', 'EB', \n",
    "            'pHc', 'EHc', \n",
    "            'pMu', 'EMu',\n",
    "            'sMinMuHcVert', 'sMinMuTr', 'sMinHcTr', 'sPVHc', \n",
    "            'mHcMu',\n",
    "            'pPerp', 'mCorr', \n",
    "            'D0Max', 'DzMax', 'D0Sum', 'DzSum', \n",
    "            'ENeutral03','ENeutral06', \n",
    "            'ENeutral03Hadron', 'ENeutral06Hadron',\n",
    "            'ENeutral03Photon', 'ENeutral06Photon', \n",
    "            'ECharge03', 'ECharge06',\n",
    "            'ECharge03PV', 'ECharge06PV', \n",
    "            'ECharge03DV', 'ECharge06DV'\n",
    "           ]"
   ]
  },
  {
   "cell_type": "code",
   "execution_count": 12,
   "id": "2a52aad2-9c65-476b-b428-31cf3ebaef6b",
   "metadata": {},
   "outputs": [],
   "source": [
    "df_train[features] = df_train[features].replace([99999, -np.inf, np.inf], np.nan)\n",
    "df_test[features] = df_test[features].replace([99999, -np.inf, np.inf], np.nan)"
   ]
  },
  {
   "cell_type": "code",
   "execution_count": null,
   "id": "9f696b5d",
   "metadata": {},
   "outputs": [],
   "source": []
  },
  {
   "cell_type": "markdown",
   "id": "07d04069",
   "metadata": {},
   "source": [
    "## Reweight by $q^2\n",
    "$"
   ]
  },
  {
   "cell_type": "code",
   "execution_count": 13,
   "id": "42f5de16-6fff-44c4-acac-6daa5372ca1e",
   "metadata": {},
   "outputs": [],
   "source": [
    "# replace some values that have q2 larger than the max, by the max\n",
    "df_train_o.loc[(df_train_o['q2True']>=11) & ((df_train_o.target==0) | (df_train_o.target==1)), 'q2True'] = 10.9\n",
    "df_train.loc[(df_train['q2True']>=11) & ((df_train.target==0) | (df_train.target==1)), 'q2True'] = 10.9\n",
    "df_test.loc[(df_test['q2True']>=11) & ((df_test.target==0) | (df_test.target==1)), 'q2True'] = 10.9"
   ]
  },
  {
   "cell_type": "code",
   "execution_count": 14,
   "id": "deca2252-be6b-4ae2-80dd-2292e717d13d",
   "metadata": {},
   "outputs": [
    {
     "data": {
      "text/plain": [
       "[<matplotlib.lines.Line2D at 0x7f71acb16800>]"
      ]
     },
     "execution_count": 14,
     "metadata": {},
     "output_type": "execute_result"
    },
    {
     "data": {
      "image/png": "[encoded data removed]",
      "text/plain": [
       "<Figure size 864x720 with 2 Axes>"
      ]
     },
     "metadata": {
      "needs_background": "light"
     },
     "output_type": "display_data"
    }
   ],
   "source": [
    "bins = 10\n",
    "\n",
    "plt.figure(figsize=(12, 10))\n",
    "\n",
    "# plot for mu\n",
    "ax1 = plt.subplot(221)\n",
    "range_mu = [0.105**2, 11]\n",
    "ax1.hist(df_train_o[df_train_o.target==1]['q2True'], bins=bins, density=True, range=range_mu);\n",
    "q2_mu = np.linspace(range_mu[0], range_mu[1], 1000, endpoint=True)\n",
    "dGmu = dGammaLambdacmu(q2_mu)\n",
    "ax1.plot(q2_mu, dGmu/np.trapz(dGmu, x=q2_mu), color='red', label='theoretical')\n",
    "\n",
    "# plot for tau\n",
    "ax2 = plt.subplot(222)\n",
    "range_tau = [1.778**2, 11]\n",
    "ax2.hist(df_train_o[df_train_o.target==0]['q2True'], bins=bins, density=True, range=range_tau);\n",
    "q2_tau = np.linspace(range_tau[0], range_tau[1], 1000, endpoint=True)\n",
    "dGtau = dGammaLambdactau(q2_tau)\n",
    "ax2.plot(q2_tau, dGtau/np.trapz(dGtau, x=q2_tau), color='red', label='theoretical')"
   ]
  },
  {
   "cell_type": "code",
   "execution_count": 15,
   "id": "9386bf2b-fa70-4e70-bdf6-6d39fedabb10",
   "metadata": {},
   "outputs": [],
   "source": [
    "# reweight according to q^2\n",
    "def find_m_rw(dGamma, df_train, target, range_, bin_num=10):\n",
    "    # get the truth q2 array\n",
    "    q2 = df_train[df_train.target==target]['q2True'].values    \n",
    "\n",
    "    # Simulated bins\n",
    "    hist, bins = np.histogram(a=q2, bins=bin_num, density=True, range=range_)\n",
    "    width = np.diff(bins)\n",
    "    center = (bins[:-1] + bins[1:]) / 2\n",
    "\n",
    "    # Theoretical bins\n",
    "    th_w = []\n",
    "    for i in range(bin_num):\n",
    "        dx = -(bins[i] - bins[i+1])/10\n",
    "        x = np.linspace(bins[i], bins[i+1], 1000)\n",
    "        y = dGamma(q2=x)\n",
    "        th_w.append(np.trapz(y, dx=dx))    # Find area under curve\n",
    "    # normalize\n",
    "    th_w = th_w / sum(th_w) / width\n",
    "\n",
    "    # reweighting\n",
    "    m_rw = th_w / hist\n",
    "    m_rw[np.isinf(m_rw)] = 0\n",
    "    \n",
    "    # return the values of each bin, and the bin bounds\n",
    "    return m_rw, bins\n",
    "\n",
    "\n",
    "\n",
    "\n",
    "\n",
    "# add the reweighting column to th dataframe\n",
    "def add_m_rw(target, m_rw, bins, df):\n",
    "    for i in range(len(bins)-1):\n",
    "        df.loc[(df['target']==target) & (df['q2True']>=bins[i]) & (df['q2True']<bins[i+1]), 'm_rw'] = m_rw[i]\n",
    "    \n",
    "#     print(df.loc[df['target']==target, 'weight'].sum())\n",
    "#     df.loc[df.target==target, 'm_rw'] = df.loc[df.target==target, 'm_rw']/(df.loc[df.target==target, 'm_rw'].sum())\n",
    "    df.loc[df['target']==target, 'reweight'] = df.loc[df['target']==target, 'weight'] * df.loc[df.target==target, 'm_rw']\n",
    "    df = df.drop(columns = ['m_rw'])\n",
    "    \n",
    "#     print(df.loc[df.target==target, 'reweight'].sum())\n",
    "#     print()\n",
    "    return df"
   ]
  },
  {
   "cell_type": "code",
   "execution_count": 16,
   "id": "fff24ec8-5450-4762-b574-b9ee2d284f5e",
   "metadata": {},
   "outputs": [],
   "source": [
    "# getting the weightings, and the bin bounds\n",
    "m_rw_tau, bins_tau = find_m_rw(dGammaLambdactau, df_train_o, target=0, range_=range_tau)\n",
    "m_rw_mu, bins_mu = find_m_rw(dGammaLambdacmu, df_train_o, target=1, range_=range_mu)\n",
    "\n",
    "# duplicate the column for inputting to the function to get the reweight column\n",
    "df_train_o['reweight'] = df_train_o['weight']\n",
    "df_train['reweight'] = df_train['weight']\n",
    "df_test['reweight'] = df_test['weight']\n",
    "\n",
    "df_train_o = add_m_rw(target=0, m_rw=m_rw_tau, bins=bins_tau, df=df_train_o)\n",
    "df_train_o = add_m_rw(target=1, m_rw=m_rw_mu, bins=bins_mu, df=df_train_o)\n",
    "\n",
    "df_train = add_m_rw(target=0, m_rw=m_rw_tau, bins=bins_tau, df=df_train)\n",
    "df_train = add_m_rw(target=1, m_rw=m_rw_mu, bins=bins_mu, df=df_train)\n",
    "\n",
    "df_test = add_m_rw(target=0, m_rw=m_rw_tau, bins=bins_tau, df=df_test)\n",
    "df_test = add_m_rw(target=1, m_rw=m_rw_mu, bins=bins_mu, df=df_test)\n"
   ]
  },
  {
   "cell_type": "code",
   "execution_count": 17,
   "id": "e1e62cae-6704-46ff-a4e0-2c8a76737c7d",
   "metadata": {},
   "outputs": [
    {
     "data": {
      "text/plain": [
       "[<matplotlib.lines.Line2D at 0x7f71abd78550>]"
      ]
     },
     "execution_count": 17,
     "metadata": {},
     "output_type": "execute_result"
    },
    {
     "data": {
      "image/png": "[encoded data removed]",
      "text/plain": [
       "<Figure size 864x720 with 2 Axes>"
      ]
     },
     "metadata": {
      "needs_background": "light"
     },
     "output_type": "display_data"
    }
   ],
   "source": [
    "bins = 10\n",
    "\n",
    "plt.figure(figsize=(12, 10))\n",
    "\n",
    "# reweighted plot for tau, in testing \n",
    "ax1 = plt.subplot(221)\n",
    "ax1.hist(df_train[df_train.target==0]['q2True'], bins=10, weights=df_train[df_train.target==0]['reweight'], density=True, alpha=0.5);\n",
    "ax1.hist(df_test[df_test.target==0]['q2True'], bins=10, weights=df_test[df_test.target==0]['reweight'], density=True, alpha=0.5);\n",
    "ax1.plot(q2_tau, dGtau/np.trapz(dGtau, x=q2_tau), color='red', label='theoretical')\n",
    "\n",
    "# reweighted plot for mu, in testing \n",
    "ax2 = plt.subplot(222)\n",
    "ax2.hist(df_train[df_train.target==1]['q2True'], bins=10, weights=df_train[df_train.target==1]['reweight'], density=True, alpha=0.5, range=[.105**2 ,11]);\n",
    "ax2.hist(df_test[df_test.target==1]['q2True'], bins=10, weights=df_test[df_test.target==1]['reweight'], density=True, alpha=0.5, range=[.105**2 ,11]);\n",
    "ax2.plot(q2_mu, dGmu/np.trapz(dGmu, x=q2_mu), color='red', label='theoretical')"
   ]
  },
  {
   "cell_type": "code",
   "execution_count": null,
   "id": "92191a61",
   "metadata": {},
   "outputs": [],
   "source": []
  },
  {
   "cell_type": "code",
   "execution_count": null,
   "id": "8b6cc5f9",
   "metadata": {},
   "outputs": [],
   "source": []
  },
  {
   "cell_type": "code",
   "execution_count": null,
   "id": "cb21de50",
   "metadata": {},
   "outputs": [],
   "source": []
  },
  {
   "cell_type": "code",
   "execution_count": null,
   "id": "a4f56e14",
   "metadata": {},
   "outputs": [],
   "source": []
  },
  {
   "cell_type": "markdown",
   "id": "163b120e",
   "metadata": {},
   "source": [
    "## Saving Plots"
   ]
  },
  {
   "cell_type": "code",
   "execution_count": 18,
   "id": "00ac3520",
   "metadata": {},
   "outputs": [],
   "source": [
    "df_plot = df_test"
   ]
  },
  {
   "cell_type": "code",
   "execution_count": 19,
   "id": "9afc1409",
   "metadata": {},
   "outputs": [
    {
     "name": "stdout",
     "output_type": "stream",
     "text": [
      "E_B\n",
      "error for mu mode:  1.34\n",
      "error for tau mode: 1.61\n"
     ]
    }
   ],
   "source": [
    "# f = plt.figure(figsize=(8,6))\n",
    "# ax1 = plt.subplot(111)\n",
    "# range_=[0,50]\n",
    "\n",
    "# ax1.hist(df_plot[(df_plot.target==0)]['EB'], weights=df_plot[df_plot.target==0]['reweight'], bins=20, range=range_, density=True, histtype='step', lw=3, label=r'$\\Lambda_b^0 \\to \\Lambda_c^- \\tau^+\\nu$', alpha=0.5, color='C0');\n",
    "# ax1.hist(df_plot[(df_plot.target==1)]['EB'], weights=df_plot[df_plot.target==1]['reweight'], bins=20, range=range_, density=True, histtype='step', lw=3, label=r'$\\Lambda_b^0 \\to \\Lambda_c^- \\mu^+\\nu$', alpha=0.5, color='C1');\n",
    "# ax1.hist(df_plot[(df_plot.target!=0)&(df_plot.target!=1)]['EB'], weights=df_plot[(df_plot.target!=0)&(df_plot.target!=1)]['reweight'], bins=20, range=range_, density=True, histtype='step', lw=3, label=r'Bkg.', alpha=0.5, color='C2');\n",
    "\n",
    "# ax1.legend(loc=2, fontsize=20)\n",
    "# ax1.hist(df_plot[(df_plot.target==0)]['EBTrue'], weights=df_plot[df_plot.target==0]['reweight'], bins=20, range=range_, density=True, histtype='step', lw=2, label=r'true $\\Lambda_b^0\\to \\Lambda_c^- \\tau^+\\nu$', alpha=0.5, color='C0', linestyle='--');\n",
    "# ax1.hist(df_plot[(df_plot.target==1)]['EBTrue'], weights=df_plot[df_plot.target==1]['reweight'], bins=20, range=range_, density=True, histtype='step', lw=2, label=r'true $\\Lambda_b^0\\to \\Lambda_c^- \\mu^+\\nu$', alpha=0.5, color='C1', linestyle='--');\n",
    "\n",
    "# ax1.set_ylabel('Normlized distribution', fontsize=20)\n",
    "# ax1.set_xlabel(r'$E_{\\Lambda_b^0}$ [GeV]', fontsize=20)\n",
    "# ax1.set_yticks([])\n",
    "\n",
    "# f.savefig('./figures/LambdabE')\n",
    "# # f.savefig('./figures/LambdabE_20noise')\n",
    "\n",
    "\n",
    "X_mea0 = df_plot[(df_plot.target==0)]['EB']\n",
    "X_mea1 = df_plot[(df_plot.target==1)]['EB']\n",
    "X_tru0 = df_plot[(df_plot.target==0)]['EBTrue']\n",
    "X_tru1 = df_plot[(df_plot.target==1)]['EBTrue']\n",
    "\n",
    "X0 = X_mea0 - X_tru0\n",
    "X1 = X_mea1 - X_tru1\n",
    "\n",
    "W0 = df_plot[(df_plot.target==0)]['reweight']\n",
    "W1 = df_plot[(df_plot.target==1)]['reweight']\n",
    "\n",
    "X_Wmean0 = sum(X0 * W0) / sum(W0)\n",
    "X_Wmean1 = sum(X1 * W1) / sum(W1)\n",
    "print(\"E_B\")\n",
    "\n",
    "print(\"error for mu mode:  {:.2f}\".format((sum((X0 - X_Wmean0)**2 * W0) / (sum(W0)*(len(W0)-1)/len(W0)))**0.5))\n",
    "print(\"error for tau mode: {:.2f}\".format((sum((X1 - X_Wmean1)**2 * W1) / (sum(W1)*(len(W1)-1)/len(W1)))**0.5))\n"
   ]
  },
  {
   "cell_type": "code",
   "execution_count": 20,
   "id": "861a5d98",
   "metadata": {},
   "outputs": [
    {
     "name": "stdout",
     "output_type": "stream",
     "text": [
      "Q2\n",
      "error for tau mode:  1.37\n",
      "error for mu mode: 1.16\n"
     ]
    }
   ],
   "source": [
    "# f = plt.figure(figsize=(8,6))\n",
    "# ax1 = plt.subplot(111)\n",
    "# range_=[-10,13]\n",
    "\n",
    "# ax1.hist(df_plot[(df_plot.target==0)]['q2'], weights=df_plot[df_plot.target==0]['reweight'], bins=20, range=range_, density=True, histtype='step', lw=3, label=r'$\\Lambda_b^0 \\to \\Lambda_c^- \\tau^+\\nu$', alpha=0.5, color='C0');\n",
    "# ax1.hist(df_plot[(df_plot.target==1)]['q2'], weights=df_plot[df_plot.target==1]['reweight'], bins=20, range=range_, density=True, histtype='step', lw=3, label=r'$\\Lambda_b^0 \\to \\Lambda_c^-  \\mu^+\\nu$', alpha=0.5, color='C1');\n",
    "# ax1.hist(df_plot[(df_plot.target!=0)&(df_plot.target!=1)]['q2'], weights=df_plot[(df_plot.target!=0)&(df_plot.target!=1)]['reweight'], bins=20, range=range_, density=True, histtype='step', lw=3, label=r'Bkg.', alpha=0.5, color='C2');\n",
    "\n",
    "# ax1.legend(loc=2, fontsize=20)\n",
    "# ax1.hist(df_plot[(df_plot.target==0)]['q2True'], weights=df_plot[df_plot.target==0]['reweight'], bins=20, range=range_, density=True, histtype='step', lw=2, label=r'$\\Lambda_b^0\\to \\Lambda_c^- \\tau^+\\nu$', alpha=0.5, color='C0', linestyle='--');\n",
    "# ax1.hist(df_plot[(df_plot.target==1)]['q2True'], weights=df_plot[df_plot.target==1]['reweight'], bins=20, range=range_, density=True, histtype='step', lw=2, label=r'$\\Lambda_b^0\\to \\Lambda_c^- \\mu^+\\nu$', alpha=0.5, color='C1', linestyle='--');\n",
    "\n",
    "# ax1.set_ylabel('Normlized distribution', fontsize=20)\n",
    "# ax1.set_xlabel(r'$q^2$ [GeV$^2$]', fontsize=20)\n",
    "# ax1.set_yticks([])\n",
    "\n",
    "# # f.savefig('./figures/Lambdabq2')\n",
    "# # f.savefig('./figures/Lambdabq2_20noise')\n",
    "\n",
    "\n",
    "X_mea0 = df_plot[(df_plot.target==0)]['q2']\n",
    "X_mea1 = df_plot[(df_plot.target==1)]['q2']\n",
    "X_tru0 = df_plot[(df_plot.target==0)]['q2True']\n",
    "X_tru1 = df_plot[(df_plot.target==1)]['q2True']\n",
    "\n",
    "X0 = X_mea0 - X_tru0\n",
    "X1 = X_mea1 - X_tru1\n",
    "\n",
    "W0 = df_plot[(df_plot.target==0)]['reweight']\n",
    "W1 = df_plot[(df_plot.target==1)]['reweight']\n",
    "\n",
    "X_Wmean0 = sum(X0 * W0) / sum(W0)\n",
    "X_Wmean1 = sum(X1 * W1) / sum(W1)\n",
    "\n",
    "print(\"Q2\")\n",
    "print(\"error for tau mode:  {:.2f}\".format((sum((X0 - X_Wmean0)**2 * W0) / (sum(W0)*(len(W0)-1)/len(W0)))**0.5))\n",
    "print(\"error for mu mode: {:.2f}\".format((sum((X1 - X_Wmean1)**2 * W1) / (sum(W1)*(len(W1)-1)/len(W1)))**0.5))\n"
   ]
  },
  {
   "cell_type": "code",
   "execution_count": 21,
   "id": "66825d4e",
   "metadata": {},
   "outputs": [
    {
     "name": "stdout",
     "output_type": "stream",
     "text": [
      "miss2\n",
      "error for mu mode:  1.62\n",
      "error for tau mode: 1.68\n"
     ]
    }
   ],
   "source": [
    "# f = plt.figure(figsize=(8,6))\n",
    "# ax1 = plt.subplot(111)\n",
    "# range_=[-11,10]\n",
    "\n",
    "\n",
    "# ax1.hist(df_plot[(df_plot.target==0)]['miss2'], weights=df_plot[df_plot.target==0]['reweight'], bins=20, range=range_, density=True, histtype='step', lw=3, label=r'$\\Lambda_b^0 \\to \\Lambda_c^-  \\tau^+\\nu$', alpha=0.5, color='C0');\n",
    "# ax1.hist(df_plot[(df_plot.target==1)]['miss2'], weights=df_plot[df_plot.target==1]['reweight'], bins=20, range=range_, density=True, histtype='step', lw=3, label=r'$\\Lambda_b^0 \\to \\Lambda_c^-  \\mu^+\\nu$', alpha=0.5, color='C1');\n",
    "# ax1.hist(df_plot[(df_plot.target!=0)&(df_plot.target!=1)]['miss2'], weights=df_plot[(df_plot.target!=0)&(df_plot.target!=1)]['reweight'], bins=20, range=range_, density=True, histtype='step', lw=3, label=r'Bkg.', alpha=0.5, color='C2');\n",
    "\n",
    "# ax1.legend(loc=2, fontsize=20)\n",
    "# ax1.hist(df_plot[(df_plot.target==0)]['miss2True'], weights=df_plot[df_plot.target==0]['reweight'], bins=20, range=range_, density=True, histtype='step', lw=2, label=r'true $\\Lambda_b^0\\to \\Lambda_c^- \\tau^+\\nu$', alpha=0.5, color='C0', linestyle='--');\n",
    "# ax1.hist(df_plot[(df_plot.target==1)]['miss2True'], weights=df_plot[df_plot.target==1]['reweight'], bins=20, range=range_, density=True, histtype='step', lw=2, label=r'true $\\Lambda_b^0\\to \\Lambda_c^- \\mu^+\\nu$', alpha=0.5, color='C1', linestyle='--');\n",
    "\n",
    "# ax1.set_ylabel('Normlized distribution', fontsize=20)\n",
    "# ax1.set_xlabel(r'$m_{\\rm miss}^2$ [GeV$^2$]', fontsize=20)\n",
    "# ax1.set_yticks([])\n",
    "\n",
    "# # f.savefig('./figures/Lambdabmiss2')\n",
    "# # f.savefig('./figures/Lambdabmiss2_20noise')\n",
    "\n",
    "\n",
    "X_mea0 = df_plot[(df_plot.target==0)]['miss2']\n",
    "X_mea1 = df_plot[(df_plot.target==1)]['miss2']\n",
    "X_tru0 = df_plot[(df_plot.target==0)]['miss2True']\n",
    "X_tru1 = df_plot[(df_plot.target==1)]['miss2True']\n",
    "\n",
    "X0 = X_mea0 - X_tru0\n",
    "X1 = X_mea1 - X_tru1\n",
    "\n",
    "W0 = df_plot[(df_plot.target==0)]['reweight']\n",
    "W1 = df_plot[(df_plot.target==1)]['reweight']\n",
    "\n",
    "X_Wmean0 = sum(X0 * W0) / sum(W0)\n",
    "X_Wmean1 = sum(X1 * W1) / sum(W1)\n",
    "\n",
    "print(\"miss2\")\n",
    "print(\"error for mu mode:  {:.2f}\".format((sum((X0 - X_Wmean0)**2 * W0) / (sum(W0)*(len(W0)-1)/len(W0)))**0.5))\n",
    "print(\"error for tau mode: {:.2f}\".format((sum((X1 - X_Wmean1)**2 * W1) / (sum(W1)*(len(W1)-1)/len(W1)))**0.5))\n",
    "\n"
   ]
  },
  {
   "cell_type": "code",
   "execution_count": null,
   "id": "771da72b",
   "metadata": {},
   "outputs": [],
   "source": []
  },
  {
   "cell_type": "code",
   "execution_count": null,
   "id": "5689773d",
   "metadata": {},
   "outputs": [],
   "source": []
  },
  {
   "cell_type": "code",
   "execution_count": null,
   "id": "6c9ac15c",
   "metadata": {},
   "outputs": [],
   "source": []
  },
  {
   "cell_type": "code",
   "execution_count": null,
   "id": "5451f825",
   "metadata": {},
   "outputs": [],
   "source": []
  },
  {
   "cell_type": "code",
   "execution_count": 110,
   "id": "498e7a48",
   "metadata": {
    "scrolled": false
   },
   "outputs": [
    {
     "data": {
      "image/png": "[encoded data removed]",
      "text/plain": [
       "<Figure size 576x432 with 1 Axes>"
      ]
     },
     "metadata": {
      "needs_background": "light"
     },
     "output_type": "display_data"
    }
   ],
   "source": [
    "f = plt.figure(figsize=(8,6))\n",
    "ax1 = plt.subplot(111)\n",
    "range_=[-3,0.3]\n",
    "\n",
    "\n",
    "ax1.hist(np.log10(df_plot[(df_plot.target==0)]['sMinMuBVert']), weights=df_plot[df_plot.target==0]['reweight'], bins=20, range=range_, density=True, histtype='step', lw=3, label=r'$\\Lambda_b^0 \\to \\Lambda_c^-  \\tau^+\\nu$', alpha=0.5);\n",
    "ax1.hist(np.log10(df_plot[(df_plot.target==1)]['sMinMuBVert']), weights=df_plot[df_plot.target==1]['reweight'], bins=20, range=range_, density=True, histtype='step', lw=3, label=r'$\\Lambda_b^0 \\to \\Lambda_c^-  \\mu^+\\nu$', alpha=0.5);\n",
    "ax1.hist(np.log10(df_plot[(df_plot.target!=0)&(df_plot.target!=1)]['sMinMuBVert']), weights=df_plot[(df_plot.target!=0)&(df_plot.target!=1)]['reweight'], bins=20, range=range_, density=True, histtype='step', lw=3, label=r'Bkg.', alpha=0.5);\n",
    "\n",
    "\n",
    "# ax1.hist(np.log10(df_plot[(df_plot.target==0)]['sMinMuHcVertTrue']), weights=df_plot[df_plot.target==0]['reweight'], bins=20, range=range_, density=True, histtype='step', lw=3, alpha=0.5, color='C0', linestyle='--');\n",
    "# ax1.hist(np.log10(df_plot[(df_plot.target==1)]['sMinMuHcVertTrue']), weights=df_plot[df_plot.target==1]['reweight'], bins=20, range=range_, density=True, histtype='step', lw=3, alpha=0.5, color='C1', linestyle='--');\n",
    "\n",
    "ax1.set_ylabel('Normlized distribution', fontsize=20)\n",
    "ax1.set_xlabel(r'$\\log{s_{\\rm SV}}$', fontsize=20)\n",
    "ax1.set_yticks([])\n",
    "ax1.legend(loc=2, fontsize=20)\n",
    "\n",
    "f.savefig('./figures/Lambdablogssv')\n",
    "# f.savefig('./figures/Lambdablogssv_20noise')\n"
   ]
  },
  {
   "cell_type": "code",
   "execution_count": 111,
   "id": "a10ece6a",
   "metadata": {},
   "outputs": [
    {
     "data": {
      "text/plain": [
       "['q2',\n",
       " 'miss2',\n",
       " 'pB',\n",
       " 'EB',\n",
       " 'pHc',\n",
       " 'EHc',\n",
       " 'pMu',\n",
       " 'EMu',\n",
       " 'sMinMuHcVert',\n",
       " 'sMinMuTr',\n",
       " 'sMinHcTr',\n",
       " 'sPVHc',\n",
       " 'mHcMu',\n",
       " 'pPerp',\n",
       " 'mCorr',\n",
       " 'D0Max',\n",
       " 'DzMax',\n",
       " 'D0Sum',\n",
       " 'DzSum',\n",
       " 'ENeutral03',\n",
       " 'ENeutral06',\n",
       " 'ENeutral03Hadron',\n",
       " 'ENeutral06Hadron',\n",
       " 'ENeutral03Photon',\n",
       " 'ENeutral06Photon',\n",
       " 'ECharge03',\n",
       " 'ECharge06',\n",
       " 'ECharge03PV',\n",
       " 'ECharge06PV',\n",
       " 'ECharge03DV',\n",
       " 'ECharge06DV']"
      ]
     },
     "execution_count": 111,
     "metadata": {},
     "output_type": "execute_result"
    }
   ],
   "source": [
    "features"
   ]
  },
  {
   "cell_type": "code",
   "execution_count": 112,
   "id": "117cdf5b",
   "metadata": {},
   "outputs": [
    {
     "data": {
      "image/png": "[encoded data removed]",
      "text/plain": [
       "<Figure size 576x432 with 1 Axes>"
      ]
     },
     "metadata": {
      "needs_background": "light"
     },
     "output_type": "display_data"
    }
   ],
   "source": [
    "f = plt.figure(figsize=(8,6))\n",
    "ax1 = plt.subplot(111)\n",
    "range_=[0,10]\n",
    "\n",
    "\n",
    "ax1.hist(df_plot[(df_plot.target==0)]['ENeutral03Photon'], weights=df_plot[df_plot.target==0]['reweight'], bins=20, range=range_, density=True, histtype='step', lw=3, label=r'$\\Lambda_b^0 \\to \\Lambda_c^- \\tau^+\\nu$', alpha=0.5);\n",
    "ax1.hist(df_plot[(df_plot.target==1)]['ENeutral03Photon'], weights=df_plot[df_plot.target==1]['reweight'], bins=20, range=range_, density=True, histtype='step', lw=3, label=r'$\\Lambda_b^0 \\to \\Lambda_c^- \\mu^+\\nu$', alpha=0.5);\n",
    "ax1.hist(df_plot[(df_plot.target!=0)&(df_plot.target!=1)]['ENeutral03Photon'], weights=df_plot[(df_plot.target!=0)&(df_plot.target!=1)]['reweight'], bins=20, range=range_, density=True, histtype='step', lw=3, label=r'Bkg.', alpha=0.5);\n",
    "ax1.set_ylabel('Normlized distribution', fontsize=20)\n",
    "ax1.set_xlabel(r'$I_\\gamma(0.3\\rm rad)$ [GeV]', fontsize=20)\n",
    "ax1.set_yticks([])\n",
    "ax1.legend(loc=1, fontsize=20)\n",
    "\n",
    "f.savefig('./figures/Lambdabisolation')\n"
   ]
  },
  {
   "cell_type": "code",
   "execution_count": 113,
   "id": "473841ec",
   "metadata": {},
   "outputs": [
    {
     "data": {
      "image/png": "[encoded data removed]",
      "text/plain": [
       "<Figure size 576x432 with 1 Axes>"
      ]
     },
     "metadata": {
      "needs_background": "light"
     },
     "output_type": "display_data"
    }
   ],
   "source": [
    "\n",
    "df_plot = df_bdt_test_s\n",
    "f = plt.figure(figsize=(8,6))\n",
    "ax1 = plt.subplot(111)\n",
    "pred0_max = df_plot[(df_plot.target==0)]['pred0'].max() \n",
    "pred0_min = df_plot[(df_plot.target==0)]['pred0'].min() \n",
    "pred0_diff = pred0_max - pred0_min\n",
    "range_=[pred0_min - 0.1*pred0_max, pred0_max + 0.1*pred0_diff]\n",
    "# print(range_)\n",
    "\n",
    "ax1.hist(df_plot[(df_plot.target==0)]['pred0'], weights=df_plot[df_plot.target==0]['reweight'], bins=20, range=range_, density=True, histtype='step', lw=3, label=r'$\\Lambda_b^0 \\to \\Lambda_c^-\\tau^+\\nu$', alpha=0.5);\n",
    "ax1.hist(df_plot[(df_plot.target==1)]['pred0'], weights=df_plot[df_plot.target==1]['reweight'], bins=20, range=range_, density=True, histtype='step', lw=3, label=r'$\\Lambda_b^0 \\to \\Lambda_c^-\\mu^+\\nu$', alpha=0.5);\n",
    "ax1.hist(df_plot[(df_plot.target!=0)&(df_plot.target!=1)]['pred0'], weights=df_plot[(df_plot.target!=0)&(df_plot.target!=1)]['reweight'], bins=20, range=range_, density=True, histtype='step', lw=3, label=r'Bkg.', alpha=0.5);\n",
    "ax1.set_ylabel('Normlized distribution', fontsize=20)\n",
    "ax1.set_xlabel(r'BDT score for $B_c^+\\to J/\\psi \\tau^+\\nu$', fontsize=20)\n",
    "ax1.set_yticks([])\n",
    "ax1.legend(loc=1, fontsize=20)\n",
    "ax1.axvline(c1, color='red', lw=3)\n",
    "\n",
    "f.savefig('./figures/LambdabtauBDT')\n"
   ]
  },
  {
   "cell_type": "code",
   "execution_count": 114,
   "id": "940df3a3",
   "metadata": {},
   "outputs": [
    {
     "data": {
      "text/plain": [
       "{'miss2': 1489.0,\n",
       " 'q2': 1122.0,\n",
       " 'mHcMu': 1114.0,\n",
       " 'pB': 1094.0,\n",
       " 'sPVHc': 1001.0,\n",
       " 'pHc': 988.0,\n",
       " 'mCorr': 842.0,\n",
       " 'sMinMuHcVert': 841.0,\n",
       " 'pMu': 840.0,\n",
       " 'pPerp': 681.0,\n",
       " 'ENeutral03Photon': 515.0,\n",
       " 'ENeutral06': 491.0,\n",
       " 'ENeutral06Photon': 483.0,\n",
       " 'ENeutral03': 459.0,\n",
       " 'sMinMuTr': 344.0,\n",
       " 'ENeutral06Hadron': 344.0,\n",
       " 'ECharge06PV': 278.0,\n",
       " 'ECharge06': 273.0,\n",
       " 'sMinHcTr': 268.0,\n",
       " 'ENeutral03Hadron': 223.0,\n",
       " 'ECharge03': 218.0,\n",
       " 'ECharge03PV': 183.0,\n",
       " 'ECharge06DV': 129.0,\n",
       " 'ECharge03DV': 127.0,\n",
       " 'D0Max': 98.0,\n",
       " 'DzMax': 91.0,\n",
       " 'EHc': 75.0,\n",
       " 'DzSum': 69.0,\n",
       " 'D0Sum': 65.0}"
      ]
     },
     "execution_count": 114,
     "metadata": {},
     "output_type": "execute_result"
    }
   ],
   "source": [
    "d = xgbc1.get_booster().get_score()\n",
    "dict(sorted(d.items(), key=lambda item: -1*item[1]))\n",
    "# R(Jpsi)"
   ]
  },
  {
   "cell_type": "code",
   "execution_count": null,
   "id": "c57c60ca",
   "metadata": {},
   "outputs": [],
   "source": []
  },
  {
   "cell_type": "code",
   "execution_count": null,
   "id": "6127435d",
   "metadata": {},
   "outputs": [],
   "source": []
  },
  {
   "cell_type": "code",
   "execution_count": null,
   "id": "b046b844",
   "metadata": {},
   "outputs": [],
   "source": []
  },
  {
   "cell_type": "code",
   "execution_count": 115,
   "id": "4bb926c2",
   "metadata": {},
   "outputs": [
    {
     "data": {
      "text/plain": [
       "0        0.028694\n",
       "1        0.186322\n",
       "2        0.024403\n",
       "3        0.007119\n",
       "4        0.095647\n",
       "           ...   \n",
       "80933    0.013411\n",
       "80934    0.035840\n",
       "80935    0.076256\n",
       "80936    0.009792\n",
       "80937    0.450642\n",
       "Name: sMinMuHcVert, Length: 80938, dtype: float32"
      ]
     },
     "execution_count": 115,
     "metadata": {},
     "output_type": "execute_result"
    }
   ],
   "source": [
    "df_test['sMinMuHcVert']"
   ]
  },
  {
   "cell_type": "code",
   "execution_count": 116,
   "id": "0a8aad4f",
   "metadata": {},
   "outputs": [],
   "source": [
    "# df_plot = df_test.loc[df_test_o[df_test_o['target']!=4].index]\n",
    "df_plot = df_test.loc[df_test_o[df_test_o['target']!=4].index]\n",
    "df_plot = df_test\n"
   ]
  },
  {
   "cell_type": "code",
   "execution_count": null,
   "id": "2b35e190",
   "metadata": {},
   "outputs": [],
   "source": []
  },
  {
   "cell_type": "code",
   "execution_count": null,
   "id": "49974256",
   "metadata": {},
   "outputs": [],
   "source": []
  },
  {
   "cell_type": "code",
   "execution_count": null,
   "id": "2cf9092c",
   "metadata": {},
   "outputs": [],
   "source": []
  }
 ],
 "metadata": {
  "kernelspec": {
   "display_name": "Python 3 (ipykernel)",
   "language": "python",
   "name": "python3"
  },
  "language_info": {
   "codemirror_mode": {
    "name": "ipython",
    "version": 3
   },
   "file_extension": ".py",
   "mimetype": "text/x-python",
   "name": "python",
   "nbconvert_exporter": "python",
   "pygments_lexer": "ipython3",
   "version": "3.10.2"
  }
 },
 "nbformat": 4,
 "nbformat_minor": 5
}
