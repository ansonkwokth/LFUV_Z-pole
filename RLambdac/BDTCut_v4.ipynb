{
 "cells": [
  {
   "cell_type": "code",
   "execution_count": 21,
   "id": "4255cc33-315a-4071-9c33-fbf9a930ac75",
   "metadata": {},
   "outputs": [],
   "source": [
    "import uproot\n",
    "import pandas as pd\n",
    "import numpy as np\n",
    "import matplotlib.pyplot as plt\n",
    "import xgboost as xgb\n",
    "\n",
    "\n",
    "import warnings\n",
    "warnings.filterwarnings(\"ignore\")"
   ]
  },
  {
   "cell_type": "markdown",
   "id": "7d1fdbbe",
   "metadata": {},
   "source": [
    "## Theoretical $q^2$"
   ]
  },
  {
   "cell_type": "code",
   "execution_count": 22,
   "id": "75d024d4-b466-46e5-9445-9da8e87aaa6d",
   "metadata": {},
   "outputs": [],
   "source": [
    "def dGammaLambdacmu(q2):\n",
    "    return 4.73286*10**(-7) * (1 - 0.011025/q2)**2 * q2 * np.sqrt(1024.56 + q2**2 - 2 * (165.091 + 36.8068 * q2)) * \\\n",
    "            ((-((np.sqrt(2) * (1.0809 - (11.6259 * (-7.16904 + np.sqrt(62.5044 - q2)))/(7.16904 + \\\n",
    "            np.sqrt(62.5044 - q2))) * np.sqrt(11.1092 - q2))/(1 - 0.0249412 * q2)) - (np.sqrt(2) * (\\\n",
    "            0.6876 - (6.787 * (-7.16904 + np.sqrt(62.5044 - q2)))/(7.16904 + np.sqrt(62.5044 - q2))) * np.sqrt(62.5044 - q2))/(\\\n",
    "            1 - 0.0218313 * q2))**2 + (-((np.sqrt(2) * (1.0809 - (11.6259 * (-7.16904 + np.sqrt(62.5044 - q2)))/(\\\n",
    "            7.16904 + np.sqrt(62.5044 - q2))) * np.sqrt(11.1092 - q2))/(1 - 0.0249412 * q2)) + (np.sqrt(2) * (\\\n",
    "            0.6876 - (6.787 * (-7.16904 + np.sqrt(62.5044 - q2)))/(7.16904 + np.sqrt(62.5044 - q2))) * np.sqrt(62.5044 - q2))/(\\\n",
    "            1 - 0.0218313 * q2))**2 + (1/np.sqrt(q2) * np.sqrt(11.1092 - q2) * (7.90597 * ((62.5044 * (-((1.0809 - \\\n",
    "            (11.6259 * (-7.16904 + np.sqrt(62.5044 - q2)))/(7.16904 + np.sqrt(62.5044 - q2)))/(1 - 0.0249412 * q2)) + (\\\n",
    "            0.8137 - (8.5673 * (-7.16904 + np.sqrt(62.5044 - q2)))/(7.16904 + np.sqrt(62.5044 - q2)))/(1 - 0.0249412 * q2)))/(\\\n",
    "            62.5044 - q2) + (1.0809 - (11.6259 * (-7.16904 + np.sqrt(62.5044 - q2)))/(7.16904 + np.sqrt(62.5044 - q2)))/(\\\n",
    "            1 - 0.0249412 * q2)) - (7.90597 * (-((1.0809 - (11.6259 * (-7.16904 + np.sqrt(62.5044 - q2)))/(\\\n",
    "            7.16904 + np.sqrt(62.5044 - q2)))/(1 - 0.0249412 * q2)) + (0.8137 - (8.5673 * (-7.16904 + np.sqrt(62.5044 - q2)))/(\\\n",
    "            7.16904 + np.sqrt(62.5044 - q2)))/(1 - 0.0249412 * q2)) * q2)/(62.5044 - q2)) - 1/np.sqrt(q2) * np.sqrt(62.5044 -\\\n",
    "            q2) * (3.33305 * ((0.6876 - (6.787 * (-7.16904 + np.sqrt(62.5044 - q2)))/(7.16904 + np.sqrt(62.5044 - q2)))/(\\\n",
    "            1 - 0.0218313 * q2) - (11.1092 * (-((0.6876 - (6.787 * (-7.16904 + np.sqrt(62.5044 - q2)))/(7.16904 + np.sqrt(\\\n",
    "            62.5044 - q2)))/(1 - 0.0218313 * q2)) + (0.6876 - (6.5556 * (-7.16904 + np.sqrt(62.5044 - q2)))/(\\\n",
    "            7.16904 + np.sqrt(62.5044 - q2)))/(1 - 0.0218313 * q2)))/(-11.1092 + q2)) - (3.33305 * (-((0.6876 - (6.787 *\\\n",
    "            (-7.16904 + np.sqrt(62.5044 - q2)))/(7.16904 + np.sqrt(62.5044 - q2)))/(1 - 0.0218313 * q2)) + (\\\n",
    "            0.6876 - (6.5556 * (-7.16904 + np.sqrt(62.5044 - q2)))/(7.16904 + np.sqrt(62.5044 - q2)))/(1 - 0.0218313 * q2)) *\\\n",
    "            q2)/(-11.1092 + q2)))**2 + (1/np.sqrt(q2) * np.sqrt(11.1092 - q2) * (7.90597 * ((62.5044 * (-((\\\n",
    "            1.0809 - (11.6259 * (-7.16904 + np.sqrt(62.5044 - q2)))/(7.16904 + np.sqrt(62.5044 - q2)))/(1 - 0.0249412 * q2)) +\\\n",
    "            (0.8137 - (8.5673 * (-7.16904 + np.sqrt(62.5044 - q2)))/(7.16904 + np.sqrt(62.5044 - q2)))/(1 - 0.0249412 * q2)))/(\\\n",
    "            62.5044 - q2) + (1.0809 - (11.6259 * (-7.16904 + np.sqrt(62.5044 - q2)))/(7.16904 + np.sqrt(62.5044 - q2)))/(\\\n",
    "            1 - 0.0249412 * q2)) - (7.90597 * (-((1.0809 - (11.6259 * (-7.16904 + np.sqrt(62.5044 - q2)))/(\\\n",
    "            7.16904 + np.sqrt(62.5044 - q2)))/(1 - 0.0249412 * q2)) + (0.8137 - (8.5673 * (-7.16904 + np.sqrt(62.5044 - q2)))/(\\\n",
    "            7.16904 + np.sqrt(62.5044 - q2)))/(1 - 0.0249412 * q2)) * q2)/(62.5044 - q2)) + 1/np.sqrt(q2) * np.sqrt(62.5044 -\\\n",
    "            q2) * (3.33305 * ((0.6876 - (6.787 * (-7.16904 + np.sqrt(62.5044 - q2)))/(7.16904 + np.sqrt(62.5044 - q2)))/(\\\n",
    "            1 - 0.0218313 * q2) - (11.1092 * (-((0.6876 - (6.787 * (-7.16904 + np.sqrt(62.5044 - q2)))/(\\\n",
    "            7.16904 + np.sqrt(62.5044 - q2)))/(1 - 0.0218313 * q2)) + (0.6876 - (6.5556 * (-7.16904 + np.sqrt(62.5044 - q2)))/(\\\n",
    "            7.16904 + np.sqrt(62.5044 - q2)))/(1 - 0.0218313 * q2)))/(-11.1092 + q2)) - (3.33305 * (-((\n",
    "            0.6876 - (6.787 * (-7.16904 + np.sqrt(62.5044 - q2)))/(7.16904 + np.sqrt(62.5044 - q2)))/(1 - 0.0218313 * q2)) + (\\\n",
    "            0.6876 - (6.5556 * (-7.16904 + np.sqrt(62.5044 - q2)))/(7.16904 + np.sqrt(62.5044 - q2)))/(1 - 0.0218313 * q2)) *\\\n",
    "            q2)/(-11.1092 + q2)))**2 + 1/q2 * 0.0055125 * (3 * ((-(1/np.sqrt(q2)) * (7.90597 * ((0.6876 - (6.787 * (-7.16904 +\\\n",
    "            np.sqrt(62.5044 - q2)))/(7.16904 + np.sqrt(62.5044 - q2)))/(1 - 0.0218313 * q2) - (11.1092 * (-((0.6876 - \\\n",
    "            (6.787 * (-7.16904 + np.sqrt(62.5044 - q2)))/(7.16904 + np.sqrt(62.5044 - q2)))/(1 - 0.0218313 * q2)) + (\\\n",
    "            0.6876 - (6.5556 * (-7.16904 + np.sqrt(62.5044 - q2)))/(7.16904 + np.sqrt(62.5044 - q2)))/(1 - 0.0218313 * q2)))/(\\\n",
    "            -11.1092 + q2)) - 7.90597 * ((0.7446 - (7.7216 * (-7.16904 + np.sqrt(62.5044 - q2)))/(7.16904 + np.sqrt(62.5044\\\n",
    "            - q2)))/(1 - 0.0253883 * q2) - (0.6876 - (6.787 * (-7.16904 + np.sqrt(62.5044 - q2)))/(7.16904 + np.sqrt(62.5044\\\n",
    "            - q2)))/(1 - 0.0218313 * q2) + (11.1092 * (-((0.6876 - (6.787 * (-7.16904 + np.sqrt(62.5044 - q2)))/(7.16904 + \\\n",
    "            np.sqrt(62.5044 - q2)))/(1 - 0.0218313 * q2)) + (0.6876 - (6.5556 * (-7.16904 + np.sqrt(62.5044 - q2)))/(\\\n",
    "            7.16904 + np.sqrt(62.5044 - q2)))/(1 - 0.0218313 * q2)))/(-11.1092 + q2))) * np.sqrt(11.1092 - q2) + 1/np.sqrt(q2) \\\n",
    "            * (3.33305 * ((62.5044 * (-((1.0809 - (11.6259 * (-7.16904 + np.sqrt(62.5044 - q2)))/(7.16904 + np.sqrt(62.5044 - \\\n",
    "            q2)))/(1 - 0.0249412 * q2)) + (0.8137 - (8.5673 * (-7.16904 + np.sqrt(62.5044 - q2)))/(7.16904 + np.sqrt(62.5044 -\\\n",
    "            q2)))/(1 - 0.0249412 * q2)))/(62.5044 - q2) + (1.0809 - (11.6259 * (-7.16904 + np.sqrt(62.5044 - q2)))/(\\\n",
    "            7.16904 + np.sqrt(62.5044 - q2)))/(1 - 0.0249412 * q2)) + 3.33305 * (-((62.5044 * (-((1.0809 - (11.6259 * \\\n",
    "            (-7.16904 + np.sqrt(62.5044 - q2)))/(7.16904 + np.sqrt(62.5044 - q2)))/(1 - 0.0249412 * q2)) + (0.8137 - (\\\n",
    "            8.5673 * (-7.16904 + np.sqrt(62.5044 - q2)))/(7.16904 + np.sqrt(62.5044 - q2)))/(1 - 0.0249412 * q2)))/(62.5044 -\\\n",
    "            q2)) - (1.0809 - (11.6259 * (-7.16904 + np.sqrt(62.5044 - q2)))/(7.16904 + np.sqrt(62.5044 - q2)))/(1 - 0.0249412 \\\n",
    "            * q2) + (0.7494 - (7.253 * (-7.16904 + np.sqrt(62.5044 - q2)))/(7.16904 + np.sqrt(62.5044 - q2)))/(1 - 0.0221114 *q2)\\\n",
    "            )) * np.sqrt(62.5044 - q2))**2 + (1/np.sqrt(q2) * (7.90597 * ((0.6876 - (6.787 * (-7.16904 + np.sqrt(62.5044 - q2)))/(\\\n",
    "            7.16904 + np.sqrt(62.5044 - q2)))/(1 - 0.0218313 * q2) - (11.1092 * (-((0.6876 - (6.787 * (-7.16904 + \\\n",
    "            np.sqrt(62.5044 - q2)))/(7.16904 + np.sqrt(62.5044 - q2)))/(1 - 0.0218313 * q2)) + (0.6876 - (6.5556 *\\\n",
    "            (-7.16904 + np.sqrt(62.5044 - q2)))/(7.16904 + np.sqrt(62.5044 - q2)))/(1 - 0.0218313 * q2)))/(-11.1092 + q2)) - \\\n",
    "            7.90597 * ((0.7446 - (7.7216 * (-7.16904 + np.sqrt(62.5044 - q2)))/(7.16904 + np.sqrt(62.5044 - q2)))/(1 - \\\n",
    "            0.0253883 * q2) - (0.6876 - (6.787 * (-7.16904 + np.sqrt(62.5044 - q2)))/(7.16904 + np.sqrt(62.5044 - q2)))/(\\\n",
    "            1 - 0.0218313 * q2) + (11.1092 * (-((0.6876 - (6.787 * (-7.16904 + np.sqrt(62.5044 - q2)))/(7.16904 + \\\n",
    "            np.sqrt(62.5044 - q2)))/(1 - 0.0218313 * q2)) + ( 0.6876 - ( 6.5556 * (-7.16904 + np.sqrt(62.5044 - q2)))/(\\\n",
    "            7.16904 + np.sqrt(62.5044 - q2)))/( 1 - 0.0218313 * q2)))/(-11.1092 + q2))) * np.sqrt(11.1092 - q2) + 1/np.sqrt(q2) \\\n",
    "            * (3.33305 * ((62.5044 * (-((1.0809 - ( 11.6259 * (-7.16904 + np.sqrt(62.5044 - q2)))/( 7.16904 + np.sqrt(62.5044 \\\n",
    "            - q2)))/( 1 - 0.0249412 * q2)) + ( 0.8137 - ( 8.5673 * (-7.16904 + np.sqrt(62.5044 - q2)))/( 7.16904 + \\\n",
    "            np.sqrt(62.5044 - q2)))/( 1 - 0.0249412 * q2)))/(62.5044 - q2) + ( 1.0809 - (11.6259 * (-7.16904 + \\\n",
    "            np.sqrt(62.5044 - q2)))/( 7.16904 + np.sqrt(62.5044 - q2)))/(1 - 0.0249412 * q2)) + 3.33305 * (-(( 62.5044 * \\\n",
    "            (-(( 1.0809 - ( 11.6259 * (-7.16904 + np.sqrt(62.5044 - q2)))/( 7.16904 + np.sqrt(62.5044 - q2)))/( 1 - 0.0249412 \\\n",
    "            * q2)) + ( 0.8137 - ( 8.5673 * (-7.16904 + np.sqrt(62.5044 - q2)))/( 7.16904 + np.sqrt(62.5044 - q2)))/( 1 - \\\n",
    "            0.0249412 * q2)))/(62.5044 - q2)) - ( 1.0809 - (11.6259 * (-7.16904 + np.sqrt(62.5044 - q2)))/(7.16904 + \\\n",
    "            np.sqrt(62.5044 - q2)))/(1 - 0.0249412 * q2) + ( 0.7494 - (7.253 * (-7.16904 + np.sqrt(62.5044 - q2)))/(7.16904 + \\\n",
    "            np.sqrt(62.5044 - q2)))/( 1 - 0.0221114 *q2))) * np.sqrt(62.5044 - q2))**2) + (-((np.sqrt(2) * (1.0809 - (11.6259 * \\\n",
    "            (-7.16904 + np.sqrt(62.5044 - q2)))/(7.16904 + np.sqrt(62.5044 - q2))) * np.sqrt(11.1092 - q2))/(1 - 0.0249412 * q2)) \\\n",
    "            - (np.sqrt(2) * (0.6876 - (6.787 * (-7.16904 + np.sqrt(62.5044 - q2)))/(7.16904 + np.sqrt(62.5044 - q2))) * \\\n",
    "            np.sqrt(62.5044 - q2))/(1 - 0.0218313 * q2))**2 + (-((np.sqrt(2) * (1.0809 - (11.6259 * (-7.16904 + \\\n",
    "            np.sqrt(62.5044 - q2)))/(7.16904 + np.sqrt(62.5044 - q2))) * np.sqrt(11.1092 - q2))/(1 - 0.0249412 * q2)) + (\\\n",
    "            np.sqrt(2) * (0.6876 - (6.787 * (-7.16904 + np.sqrt(62.5044 - q2)))/(7.16904 + np.sqrt(62.5044 - q2))) * \\\n",
    "            np.sqrt(62.5044 - q2))/(1 - 0.0218313 * q2))**2 + (1/np.sqrt(q2) * np.sqrt(11.1092 - q2) * (7.90597 * ((\\\n",
    "            62.5044 * (-((1.0809 - (11.6259 * (-7.16904 + np.sqrt(62.5044 - q2)))/(7.16904 + np.sqrt(62.5044 - q2)))/(\\\n",
    "            1 - 0.0249412 * q2)) + (0.8137 - (8.5673 * (-7.16904 + np.sqrt(62.5044 - q2)))/(7.16904 + np.sqrt(62.5044 - q2)))/(\\\n",
    "            1 - 0.0249412 * q2)))/(62.5044 - q2) + (1.0809 - (11.6259 * (-7.16904 + np.sqrt(62.5044 - q2)))/( 7.16904 + \\\n",
    "            np.sqrt(62.5044 - q2)))/(1 - 0.0249412 * q2)) - (7.90597 * (-(( 1.0809 - (11.6259 * (-7.16904 + np.sqrt(62.5044 - \\\n",
    "            q2)))/(7.16904 + np.sqrt(62.5044 - q2)))/(1 - 0.0249412 * q2)) + (0.8137 - (8.5673 * (-7.16904 + np.sqrt(62.5044 \\\n",
    "            - q2)))/( 7.16904 + np.sqrt(62.5044 - q2)))/(1 - 0.0249412 * q2)) * q2)/(62.5044 - q2)) - 1/np.sqrt(q2) * np.sqrt(\\\n",
    "            62.5044 - q2) * (3.33305 * ((0.6876 - (6.787 * (-7.16904 + np.sqrt(62.5044 - q2)))/(7.16904 + np.sqrt(62.5044 - \\\n",
    "            q2)))/(1 - 0.0218313 * q2) - (11.1092 * (-((0.6876 - (6.787 * (-7.16904 + np.sqrt(62.5044 - q2)))/(7.16904 + \\\n",
    "            np.sqrt(62.5044 - q2)))/( 1 - 0.0218313 * q2)) + (0.6876 - (6.5556 * (-7.16904 + np.sqrt(62.5044 - q2)))/(\\\n",
    "            7.16904 + np.sqrt(62.5044 - q2)))/( 1 - 0.0218313 * q2)))/(-11.1092 + q2)) - (3.33305 * (-((0.6876 - (6.787 * \\\n",
    "            (-7.16904 + np.sqrt(62.5044 - q2)))/(7.16904 + np.sqrt(62.5044 - q2)))/(1 - 0.0218313 * q2)) + (0.6876 - (6.5556 * \\\n",
    "            (-7.16904 + np.sqrt(62.5044 - q2)))/(7.16904 + np.sqrt(62.5044 - q2)))/(1 - 0.0218313 * q2)) * q2)/(-11.1092 + \\\n",
    "            q2)))**2 + (1/np.sqrt(q2)* np.sqrt(11.1092 - q2) * (7.90597 * ((62.5044 * (-((1.0809 - (11.6259 * (-7.16904 + \\\n",
    "            np.sqrt(62.5044 - q2)))/(7.16904 + np.sqrt(62.5044 - q2)))/(1 - 0.0249412 * q2)) + (0.8137 - (8.5673 * (-7.16904 \\\n",
    "            + np.sqrt(62.5044 - q2)))/(7.16904 + np.sqrt(62.5044 - q2)))/( 1 - 0.0249412 * q2)))/(62.5044 - q2) + (1.0809 - \\\n",
    "            (11.6259 * (-7.16904 + np.sqrt(62.5044 - q2)))/( 7.16904 + np.sqrt(62.5044 - q2)))/(1 - 0.0249412 * q2)) - (\\\n",
    "            7.90597 * (-(( 1.0809 - (11.6259 * (-7.16904 + np.sqrt(62.5044 - q2)))/( 7.16904 + np.sqrt(62.5044 - q2)))/(1 - \\\n",
    "            0.0249412 * q2)) + (0.8137 - (8.5673 * (-7.16904 + np.sqrt(62.5044 - q2)))/(7.16904 + np.sqrt(62.5044 - q2)))/(\\\n",
    "            1 - 0.0249412 * q2)) * q2)/(62.5044 - q2)) + 1/np.sqrt(q2) * np.sqrt(62.5044 - q2) * (3.33305 * ((0.6876 - (6.787 *\\\n",
    "            (-7.16904 + np.sqrt(62.5044 - q2)))/(7.16904 + np.sqrt(62.5044 - q2)))/(1 - 0.0218313 * q2) - (11.1092 * (-((\\\n",
    "            0.6876 - (6.787 * (-7.16904 + np.sqrt(62.5044 - q2)))/( 7.16904 + np.sqrt(62.5044 - q2)))/( 1 - 0.0218313 * q2)) + \\\n",
    "            (0.6876 - (6.5556 * (-7.16904 + np.sqrt(62.5044 - q2)))/( 7.16904 + np.sqrt(62.5044 - q2)))/( 1 - 0.0218313 * \\\n",
    "            q2)))/(-11.1092 + q2)) - (3.33305 * (-((0.6876 - (6.787 * (-7.16904 + np.sqrt(62.5044 - q2)))/(7.16904 + \\\n",
    "            np.sqrt(62.5044 - q2)))/(1 - 0.0218313 * q2)) + (0.6876 - (6.5556 * (-7.16904 + np.sqrt(62.5044 - q2)))/(\\\n",
    "            7.16904 + np.sqrt(62.5044 - q2)))/(1 - 0.0218313 * q2)) * q2)/(-11.1092 + q2)))**2))\n",
    "\n",
    "\n",
    "\n",
    "\n",
    "\n"
   ]
  },
  {
   "cell_type": "code",
   "execution_count": 23,
   "id": "4d466d8f",
   "metadata": {},
   "outputs": [],
   "source": [
    "def dGammaLambdactau(q2):\n",
    "    return 4.73286*10**-7 * (1 - 3.16128/q2)**2 * q2 * np.sqrt( 1024.56 + q2**2 -   2 * (165.091 +  36.8068 * q2)) * ((-((\\\n",
    "            np.sqrt(2) * (1.0809 - (11.6259 * (-7.16904 + np.sqrt(62.5044 - q2)))/( 7.16904 + np.sqrt(62.5044 - q2))) * \\\n",
    "            np.sqrt(11.1092 - q2))/( 1 - 0.0249412 * q2)) - ( np.sqrt(2) * (0.6876 - (6.787 * (-7.16904 + np.sqrt(62.5044 - \\\n",
    "            q2)))/( 7.16904 + np.sqrt(62.5044 - q2))) * np.sqrt(62.5044 - q2))/( 1 - 0.0218313 * q2))**2 + (-(( np.sqrt(2) * \\\n",
    "            (1.0809 - (11.6259 * (-7.16904 + np.sqrt(62.5044 - q2)))/( 7.16904 + np.sqrt(62.5044 - q2))) * np.sqrt(11.1092 - \\\n",
    "            q2))/( 1 - 0.0249412 * q2)) + ( np.sqrt(2) * (0.6876 - (6.787 * (-7.16904 + np.sqrt(62.5044 - q2)))/(\\\n",
    "            7.16904 + np.sqrt(62.5044 - q2))) * np.sqrt(62.5044 - q2))/( 1 - 0.0218313 * q2))**2 + (1/np.sqrt(q2) * np.sqrt(\\\n",
    "            11.1092 -  q2) * (7.90597 * (( 62.5044 * (-(( 1.0809 - (11.6259 * (-7.16904 + np.sqrt(62.5044 - q2)))/(\\\n",
    "            7.16904 + np.sqrt(62.5044 - q2)))/(1 - 0.0249412 * q2)) + ( 0.8137 - (8.5673 * (-7.16904 + np.sqrt(62.5044 - q2)))/(\\\n",
    "            7.16904 + np.sqrt(62.5044 - q2)))/(1 - 0.0249412 * q2)))/( 62.5044 - q2) + (1.0809 - (11.6259 * (-7.16904 + \\\n",
    "            np.sqrt(62.5044 - q2)))/( 7.16904 + np.sqrt(62.5044 - q2)))/(1 - 0.0249412 * q2)) - ( 7.90597 * (-(( 1.0809 - \\\n",
    "            (11.6259 * (-7.16904 + np.sqrt(62.5044 - q2)))/( 7.16904 + np.sqrt(62.5044 - q2)))/(1 - 0.0249412 * q2)) + (\\\n",
    "            0.8137 - (8.5673 * (-7.16904 + np.sqrt(62.5044 - q2)))/( 7.16904 + np.sqrt(62.5044 - q2)))/(1 - 0.0249412 * q2)) * \\\n",
    "            q2)/( 62.5044 - q2)) -  1/np.sqrt(q2) * np.sqrt( 62.5044 -  q2) * (3.33305 * (( 0.6876 - (6.787 * (-7.16904 + \\\n",
    "            np.sqrt(62.5044 - q2)))/( 7.16904 + np.sqrt(62.5044 - q2)))/(1 - 0.0218313 * q2) - ( 11.1092 * (-(( 0.6876 - \\\n",
    "            (6.787 * (-7.16904 + np.sqrt(62.5044 - q2)))/( 7.16904 + np.sqrt(62.5044 - q2)))/(1 - 0.0218313 * q2)) + ( 0.6876 - \\\n",
    "            (6.5556 * (-7.16904 + np.sqrt(62.5044 - q2)))/( 7.16904 + np.sqrt(62.5044 - q2)))/( 1 - 0.0218313 * q2)))/(-11.1092 \\\n",
    "            + q2)) - ( 3.33305 * (-(( 0.6876 - (6.787 * (-7.16904 + np.sqrt(62.5044 - q2)))/( 7.16904 + np.sqrt(62.5044 - \\\n",
    "            q2)))/(1 - 0.0218313 * q2)) + ( 0.6876 - (6.5556 * (-7.16904 + np.sqrt(62.5044 - q2)))/( 7.16904 + np.sqrt(62.5044 \\\n",
    "            - q2)))/( 1 - 0.0218313 * q2)) * q2)/(-11.1092 + q2)))**2 + (1/np.sqrt(q2) * np.sqrt(11.1092 -  q2) * (7.90597 * \\\n",
    "            (( 62.5044 * (-(( 1.0809 - (11.6259 * (-7.16904 + np.sqrt(62.5044 - q2)))/( 7.16904 + np.sqrt(62.5044 - q2)))/(1 - \\\n",
    "            0.0249412 * q2)) + ( 0.8137 - (8.5673 * (-7.16904 + np.sqrt(62.5044 - q2)))/( 7.16904 + np.sqrt(62.5044 - q2)))/(1 \\\n",
    "            - 0.0249412 * q2)))/( 62.5044 - q2) + ( 1.0809 - (11.6259 * (-7.16904 + np.sqrt(62.5044 - q2)))/( 7.16904 + \\\n",
    "            np.sqrt(62.5044 - q2)))/(1 - 0.0249412 * q2)) - ( 7.90597 * (-(( 1.0809 - (11.6259 * (-7.16904 + np.sqrt(62.5044 -\\\n",
    "            q2)))/( 7.16904 + np.sqrt(62.5044 - q2)))/(1 - 0.0249412 * q2)) + ( 0.8137 - (8.5673 * (-7.16904 +\\\n",
    "            np.sqrt(62.5044 - q2)))/( 7.16904 + np.sqrt(62.5044 - q2)))/(1 - 0.0249412 * q2)) * q2)/( 62.5044 - q2)) + \\\n",
    "            1/np.sqrt(q2) * np.sqrt( 62.5044 -  q2) * (3.33305 * (( 0.6876 - (6.787 * (-7.16904 + np.sqrt(62.5044 - q2)))/(\\\n",
    "            7.16904 + np.sqrt(62.5044 - q2)))/(1 - 0.0218313 * q2) - ( 11.1092 * (-(( 0.6876 - (6.787 * (-7.16904 + \\\n",
    "            np.sqrt(62.5044 - q2)))/( 7.16904 + np.sqrt(62.5044 - q2)))/(1 - 0.0218313 * q2)) + ( 0.6876 - (6.5556 * \\\n",
    "            (-7.16904 + np.sqrt(62.5044 - q2)))/( 7.16904 + np.sqrt(62.5044 - q2)))/( 1 - 0.0218313 * q2)))/(-11.1092 + q2)) \\\n",
    "            - ( 3.33305 * (-(( 0.6876 - (6.787 * (-7.16904 + np.sqrt(62.5044 - q2)))/( 7.16904 + np.sqrt(62.5044 - q2)))/(1 \\\n",
    "            - 0.0218313 * q2)) + ( 0.6876 - (6.5556 * (-7.16904 + np.sqrt(62.5044 - q2)))/( 7.16904 + np.sqrt(62.5044 - \\\n",
    "            q2)))/( 1 - 0.0218313 * q2)) * q2)/(-11.1092 + q2)))**2 +  1/q2 * 1.58064 * (3 * ((-(1/np.sqrt( q2)) * \\\n",
    "            (7.90597 * (( 0.6876 - (6.787 * (-7.16904 + np.sqrt(62.5044 - q2)))/( 7.16904 + np.sqrt(62.5044 - q2)))/(\\\n",
    "            1 - 0.0218313 * q2) - ( 11.1092 * (-(( 0.6876 - (6.787 * (-7.16904 + np.sqrt(62.5044 - q2)))/( 7.16904 + \\\n",
    "            np.sqrt(62.5044 - q2)))/( 1 - 0.0218313 * q2)) + ( 0.6876 - ( 6.5556 * (-7.16904 + np.sqrt(62.5044 - q2)))/(\\\n",
    "            7.16904 + np.sqrt(62.5044 - q2)))/( 1 - 0.0218313 * q2)))/(-11.1092 + q2)) -  7.90597 * (( 0.7446 - (7.7216 *\\\n",
    "            (-7.16904 + np.sqrt(62.5044 - q2)))/( 7.16904 + np.sqrt(62.5044 - q2)))/( 1 - 0.0253883 * q2) - ( 0.6876 - \\\n",
    "            (6.787 * (-7.16904 + np.sqrt(62.5044 - q2)))/( 7.16904 + np.sqrt(62.5044 - q2)))/( 1 - 0.0218313 * q2) + (\\\n",
    "            11.1092 * (-(( 0.6876 - (6.787 * (-7.16904 + np.sqrt(62.5044 - q2)))/( 7.16904 + np.sqrt(62.5044 - q2)))/(\\\n",
    "            1 - 0.0218313 * q2)) + ( 0.6876 - ( 6.5556 * (-7.16904 + np.sqrt(62.5044 - q2)))/( 7.16904 + np.sqrt(62.5044 - \\\n",
    "            q2)))/( 1 - 0.0218313 * q2)))/(-11.1092 + q2))) * np.sqrt( 11.1092 - q2) +  1/np.sqrt(q2) * (3.33305 * ((\\\n",
    "            62.5044 * (-(( 1.0809 - ( 11.6259 * (-7.16904 + np.sqrt(62.5044 - q2)))/( 7.16904 + np.sqrt(62.5044 - q2)))/(\\\n",
    "            1 - 0.0249412 * q2)) + ( 0.8137 - ( 8.5673 * (-7.16904 + np.sqrt(62.5044 - q2)))/( 7.16904 + np.sqrt(62.5044 - \\\n",
    "            q2)))/( 1 - 0.0249412 * q2)))/(62.5044 - q2) + ( 1.0809 - (11.6259 * (-7.16904 + np.sqrt(62.5044 - q2)))/(\\\n",
    "            7.16904 + np.sqrt(62.5044 - q2)))/( 1 - 0.0249412 * q2)) +  3.33305 * (-(( 62.5044 * (-(( 1.0809 - ( 11.6259 * \\\n",
    "            (-7.16904 + np.sqrt(62.5044 - q2)))/( 7.16904 + np.sqrt(62.5044 - q2)))/( 1 - 0.0249412 * q2)) + ( 0.8137 - (\\\n",
    "            8.5673 * (-7.16904 + np.sqrt(62.5044 - q2)))/( 7.16904 + np.sqrt(62.5044 - q2)))/( 1 - 0.0249412 * q2)))/(62.5044 \\\n",
    "            - q2)) - ( 1.0809 - (11.6259 * (-7.16904 + np.sqrt(62.5044 - q2)))/( 7.16904 + np.sqrt(62.5044 - q2)))/(\\\n",
    "            1 - 0.0249412 * q2) + ( 0.7494 - (7.253 * (-7.16904 + np.sqrt(62.5044 - q2)))/( 7.16904 + np.sqrt(62.5044 - \\\n",
    "            q2)))/( 1 - 0.0221114 * q2))) * np.sqrt(62.5044 - q2))**2 + (1/np.sqrt( q2) * (7.90597 * (( 0.6876 - (6.787 * \\\n",
    "            (-7.16904 + np.sqrt(62.5044 - q2)))/( 7.16904 + np.sqrt(62.5044 - q2)))/( 1 - 0.0218313 * q2) - ( 11.1092 * (-((\\\n",
    "            0.6876 - (6.787 * (-7.16904 + np.sqrt(62.5044 - q2)))/( 7.16904 + np.sqrt(62.5044 - q2)))/( 1 - 0.0218313 * q2)) +\\\n",
    "            ( 0.6876 - ( 6.5556 * (-7.16904 + np.sqrt(62.5044 - q2)))/( 7.16904 + np.sqrt(62.5044 - q2)))/( 1 - 0.0218313 * \\\n",
    "            q2)))/(-11.1092 + q2)) -  7.90597 * (( 0.7446 - (7.7216 * (-7.16904 + np.sqrt(62.5044 - q2)))/( 7.16904 + \\\n",
    "            np.sqrt(62.5044 - q2)))/( 1 - 0.0253883 * q2) - ( 0.6876 - (6.787 * (-7.16904 + np.sqrt(62.5044 - q2)))/( 7.16904 +\\\n",
    "            np.sqrt(62.5044 - q2)))/( 1 - 0.0218313 * q2) + ( 11.1092 * (-(( 0.6876 - (6.787 * (-7.16904 + \\\n",
    "            np.sqrt(62.5044 - q2)))/( 7.16904 + np.sqrt(62.5044 - q2)))/( 1 - 0.0218313 * q2)) + ( 0.6876 - ( 6.5556 * \\\n",
    "            (-7.16904 + np.sqrt(62.5044 - q2)))/( 7.16904 + np.sqrt(62.5044 - q2)))/( 1 - 0.0218313 * q2)))/(-11.1092 + q2))) \\\n",
    "            * np.sqrt( 11.1092 - q2) +  1/np.sqrt(q2) * (3.33305 * (( 62.5044 * (-(( 1.0809 - ( 11.6259 * (-7.16904 + \\\n",
    "            np.sqrt(62.5044 - q2)))/( 7.16904 + np.sqrt(62.5044 - q2)))/( 1 - 0.0249412 * q2)) + ( 0.8137 - ( 8.5673 * \\\n",
    "            (-7.16904 + np.sqrt(62.5044 - q2)))/( 7.16904 + np.sqrt(62.5044 - q2)))/( 1 - 0.0249412 * q2)))/(62.5044 - q2) +\\\n",
    "            ( 1.0809 - (11.6259 * (-7.16904 + np.sqrt(62.5044 - q2)))/( 7.16904 + np.sqrt(62.5044 - q2)))/( 1 - 0.0249412 * \\\n",
    "            q2)) +  3.33305 * (-(( 62.5044 * (-(( 1.0809 - ( 11.6259 * (-7.16904 + np.sqrt(62.5044 - q2)))/( 7.16904 + \\\n",
    "            np.sqrt(62.5044 - q2)))/( 1 - 0.0249412 * q2)) + ( 0.8137 - ( 8.5673 * (-7.16904 + np.sqrt(62.5044 - q2)))/(\\\n",
    "            7.16904 + np.sqrt(62.5044 - q2)))/( 1 - 0.0249412 * q2)))/(62.5044 - q2)) - ( 1.0809 - (11.6259 * (-7.16904 + \\\n",
    "            np.sqrt(62.5044 - q2)))/( 7.16904 + np.sqrt(62.5044 - q2)))/( 1 - 0.0249412 * q2) + ( 0.7494 - (7.253 * (-7.16904 + \\\n",
    "            np.sqrt(62.5044 - q2)))/( 7.16904 + np.sqrt(62.5044 - q2)))/( 1 - 0.0221114 * q2))) * np.sqrt(62.5044 - q2))**2) + \\\n",
    "            (-(( np.sqrt(2) * (1.0809 - (11.6259 * (-7.16904 + np.sqrt(62.5044 - q2)))/( 7.16904 + np.sqrt(62.5044 - q2))) * \\\n",
    "            np.sqrt(11.1092 - q2))/( 1 - 0.0249412 * q2)) - ( np.sqrt(2) * (0.6876 - (6.787 * (-7.16904 + np.sqrt(62.5044 - \\\n",
    "            q2)))/( 7.16904 + np.sqrt(62.5044 - q2))) * np.sqrt(62.5044 - q2))/( 1 - 0.0218313 * q2))**2 + (-(( np.sqrt(2) * \\\n",
    "            (1.0809 - (11.6259 * (-7.16904 + np.sqrt(62.5044 - q2)))/( 7.16904 + np.sqrt(62.5044 - q2))) * np.sqrt(11.1092 - \\\n",
    "            q2))/( 1 - 0.0249412 * q2)) + ( np.sqrt(2) * (0.6876 - (6.787 * (-7.16904 + np.sqrt(62.5044 - q2)))/( 7.16904 +\\\n",
    "            np.sqrt(62.5044 - q2))) * np.sqrt(62.5044 - q2))/( 1 - 0.0218313 * q2))**2 + (1/np.sqrt(q2) * np.sqrt( 11.1092 - \\\n",
    "            q2) * (7.90597 * (( 62.5044 * (-(( 1.0809 - (11.6259 * (-7.16904 + np.sqrt(62.5044 - q2)))/( 7.16904 + \\\n",
    "            np.sqrt(62.5044 - q2)))/( 1 - 0.0249412 * q2)) + ( 0.8137 - (8.5673 * (-7.16904 + np.sqrt(62.5044 - q2)))/(\\\n",
    "            7.16904 + np.sqrt(62.5044 - q2)))/( 1 - 0.0249412 * q2)))/(62.5044 - q2) + ( 1.0809 - (11.6259 * (-7.16904 +\\\n",
    "            np.sqrt(62.5044 - q2)))/( 7.16904 + np.sqrt(62.5044 - q2)))/(1 - 0.0249412 * q2)) - ( 7.90597 * (-(( 1.0809 - \\\n",
    "            (11.6259 * (-7.16904 + np.sqrt(62.5044 - q2)))/( 7.16904 + np.sqrt(62.5044 - q2)))/(1 - 0.0249412 * q2)) + (\\\n",
    "            0.8137 - (8.5673 * (-7.16904 + np.sqrt(62.5044 - q2)))/( 7.16904 + np.sqrt(62.5044 - q2)))/( 1 - 0.0249412 * q2)) * \\\n",
    "            q2)/(62.5044 - q2)) -  1/np.sqrt(q2) * np.sqrt( 62.5044 -  q2) * (3.33305 * (( 0.6876 - (6.787 * (-7.16904 + \\\n",
    "            np.sqrt(62.5044 - q2)))/( 7.16904 + np.sqrt(62.5044 - q2)))/(1 - 0.0218313 * q2) - ( 11.1092 * (-(( 0.6876 - \\\n",
    "            (6.787 * (-7.16904 + np.sqrt(62.5044 - q2)))/( 7.16904 + np.sqrt(62.5044 - q2)))/( 1 - 0.0218313 * q2)) + ( 0.6876 -\\\n",
    "            (6.5556 * (-7.16904 + np.sqrt(62.5044 - q2)))/( 7.16904 + np.sqrt(62.5044 - q2)))/( 1 - 0.0218313 * q2)))/(-11.1092 \\\n",
    "            + q2)) - ( 3.33305 * (-(( 0.6876 - (6.787 * (-7.16904 + np.sqrt(62.5044 - q2)))/( 7.16904 + np.sqrt(62.5044 - \\\n",
    "            q2)))/(1 - 0.0218313 * q2)) + (  0.6876 - (6.5556 * (-7.16904 + np.sqrt(62.5044 - q2)))/( 7.16904 + np.sqrt(62.5044 \\\n",
    "            - q2)))/( 1 - 0.0218313 * q2)) * q2)/(-11.1092 + q2)))**2 + (1/np.sqrt(q2) * np.sqrt(11.1092 -  q2) * (7.90597 * \\\n",
    "            (( 62.5044 * (-(( 1.0809 - (11.6259 * (-7.16904 + np.sqrt(62.5044 - q2)))/( 7.16904 + np.sqrt(62.5044 - q2)))/(\\\n",
    "            1 - 0.0249412 * q2)) + ( 0.8137 - (8.5673 * (-7.16904 + np.sqrt(62.5044 - q2)))/( 7.16904 + np.sqrt(62.5044 - \\\n",
    "            q2)))/( 1 - 0.0249412 * q2)))/(62.5044 - q2) + ( 1.0809 - (11.6259 * (-7.16904 + np.sqrt(62.5044 - q2)))/(\\\n",
    "            7.16904 + np.sqrt(62.5044 - q2)))/(1 - 0.0249412 * q2)) - ( 7.90597 * (-(( 1.0809 - (11.6259 * (-7.16904 + \\\n",
    "            np.sqrt(62.5044 - q2)))/( 7.16904 + np.sqrt(62.5044 - q2)))/(1 - 0.0249412 * q2)) + ( 0.8137 - (8.5673 * \\\n",
    "            (-7.16904 + np.sqrt(62.5044 - q2)))/( 7.16904 + np.sqrt(62.5044 - q2)))/( 1 - 0.0249412 * q2)) * q2)/(62.5044 - \\\n",
    "            q2)) +  1/np.sqrt(q2) * np.sqrt( 62.5044 -  q2) * (3.33305 * (( 0.6876 - (6.787 * (-7.16904 + np.sqrt(62.5044 - \\\n",
    "            q2)))/( 7.16904 + np.sqrt(62.5044 - q2)))/(1 - 0.0218313 * q2) - ( 11.1092 * (-(( 0.6876 - (6.787 * (-7.16904 + \\\n",
    "            np.sqrt(62.5044 - q2)))/( 7.16904 + np.sqrt(62.5044 - q2)))/( 1 - 0.0218313 * q2)) + ( 0.6876 - (6.5556 * \\\n",
    "            (-7.16904 + np.sqrt(62.5044 - q2)))/( 7.16904 + np.sqrt(62.5044 - q2)))/( 1 - 0.0218313 * q2)))/(-11.1092 + q2)) -\\\n",
    "            (3.33305 * (-(( 0.6876 - (6.787 * (-7.16904 + np.sqrt(62.5044 - q2)))/( 7.16904 + np.sqrt(62.5044 - q2)))/(1 - \\\n",
    "            0.0218313 * q2)) + ( 0.6876 - (6.5556 * (-7.16904 + np.sqrt(62.5044 - q2)))/( 7.16904 + np.sqrt(62.5044 - q2)))/(\\\n",
    "            1 - 0.0218313 * q2)) * q2)/(-11.1092 + q2)))**2))\n",
    "\n",
    "\n",
    "\n"
   ]
  },
  {
   "cell_type": "code",
   "execution_count": 24,
   "id": "d7b1a38a-a750-4ec5-bf46-4294d158959d",
   "metadata": {},
   "outputs": [
    {
     "data": {
      "text/plain": [
       "[<matplotlib.lines.Line2D at 0x7f05bc1960e0>]"
      ]
     },
     "execution_count": 24,
     "metadata": {},
     "output_type": "execute_result"
    },
    {
     "data": {
      "image/png": "[encoded data removed]",
      "text/plain": [
       "<Figure size 432x288 with 1 Axes>"
      ]
     },
     "metadata": {
      "needs_background": "light"
     },
     "output_type": "display_data"
    }
   ],
   "source": [
    "q2_mu = np.linspace(0.105**2, 11)\n",
    "q2_tau = np.linspace(1.778**2, 11)\n",
    "\n",
    "\n",
    "dGmu = dGammaLambdacmu(q2_mu)\n",
    "dGtau = dGammaLambdactau(q2_tau)\n",
    "\n",
    "plt.plot(q2_mu, dGmu)\n",
    "plt.plot(q2_tau, dGtau)"
   ]
  },
  {
   "cell_type": "code",
   "execution_count": null,
   "id": "6a1c29af-98df-4ad7-b1d0-e7099400683c",
   "metadata": {},
   "outputs": [],
   "source": []
  },
  {
   "cell_type": "markdown",
   "id": "28471494",
   "metadata": {},
   "source": [
    "## Loading Data"
   ]
  },
  {
   "cell_type": "code",
   "execution_count": 25,
   "id": "ca2a0ba8-d7cb-4c1f-a83a-af2c05f711ad",
   "metadata": {},
   "outputs": [],
   "source": [
    "epsilon_pimu = 1/100\n",
    "\n",
    "# # 10noise\n",
    "modes_dt = {0: {'mode': './features/LambdacTauNu_10Noise.root', 'yields': 2.22e6}, \n",
    "            1: {'mode': './features/LambdacMuNu_10Noise.root', 'yields': 4.48e7},\n",
    "            2: {'mode': './features/RLambdacInclusive_10Noise.root', 'yields': 5.79e5},\n",
    "            3: {'mode': './features/RLambdacCombCascade_10Noise.root', 'yields': 2.18e5},\n",
    "            4: {'mode': './features/RLambdacMisID_10Noise.root', 'yields': epsilon_pimu*1.52e7}\n",
    "           }\n",
    "\n",
    "\n",
    "# 20noise\n",
    "# modes_dt = {0: {'mode': './features/LambdacTauNu_20Noise.root', 'yields': 2.22e6}, \n",
    "#             1: {'mode': './features/LambdacMuNu_20Noise.root', 'yields': 4.43e7},\n",
    "#             2: {'mode': './features/RLambdacInclusive_20Noise.root', 'yields': 5.80e5},\n",
    "#             3: {'mode': './features/RLambdacCombCascade_20Noise.root', 'yields': 2.24e5},\n",
    "#             4: {'mode': './features/RLambdacMisID_20Noise.root', 'yields': epsilon_pimu*1.57e7}\n",
    "#            }\n",
    "\n"
   ]
  },
  {
   "cell_type": "code",
   "execution_count": 26,
   "id": "5a0e9d29-4e37-4e8f-8367-e89fe06f4f5c",
   "metadata": {},
   "outputs": [],
   "source": [
    "def load_train_test(modes_dt, size=0.5):\n",
    "    np.random.seed(9)\n",
    "    df_train = pd.DataFrame()\n",
    "    df_test = pd.DataFrame()\n",
    "    num_lt = []\n",
    "    \n",
    "    # loop over different modes\n",
    "    for i, (k, v) in enumerate(modes_dt.items()):\n",
    "        print('\\rReading:', i)\n",
    "        file = uproot.open(v['mode'])\n",
    "#         df_i = file['t'].pandas.df()\n",
    "        df_i = pd.DataFrame(np.array(file['t']['features'].array()))\n",
    "        \n",
    "        # shuffle the index for training and testing sets\n",
    "        idx = df_i.index.tolist()\n",
    "        np.random.shuffle(idx)\n",
    "#         print(len(idx))\n",
    "#         idx = idx[:10000]    # if too much data\n",
    "        num_lt.append(len(idx))    \n",
    "\n",
    "        df_i['target'] = i    # add the target label\n",
    "        df_i['weight'] = v['yields']/len(idx)\n",
    "        print(df_i['weight'][0])\n",
    "        \n",
    "        # cut according to the fraction\n",
    "        cut = int(np.ceil(len(idx) * size))\n",
    "        df_train_i = df_i.loc[idx[:cut]]\n",
    "        df_test_i = df_i.loc[idx[cut:]]\n",
    "        \n",
    "        # Put to the global dataframs\n",
    "        df_train = pd.concat([df_train, df_train_i])\n",
    "        df_test = pd.concat([df_test, df_test_i])\n",
    "    \n",
    "    df_train.reset_index(drop=True, inplace=True)\n",
    "    df_test.reset_index(drop=True, inplace=True)\n",
    "    \n",
    "    print('train size: {} ({:.2f}%); test size: {} ({:.2f}%)'.format(len(df_train), 100*len(df_train)/(len(df_train)+len(df_test)), len(df_test), 100*len(df_test)/(len(df_train)+len(df_test))))\n",
    "    print('data points per mode: ',num_lt)\n",
    "    return df_train, df_test\n",
    "\n",
    "    "
   ]
  },
  {
   "cell_type": "code",
   "execution_count": 27,
   "id": "6ca7635f-3c7e-440a-9dcd-95b942b509b0",
   "metadata": {},
   "outputs": [
    {
     "name": "stdout",
     "output_type": "stream",
     "text": [
      "Reading: 0\n",
      "349.0566037735849\n",
      "Reading: 1\n",
      "1051.8160261075764\n",
      "Reading: 2\n",
      "158.23995627220552\n",
      "Reading: 3\n",
      "158.54545454545453\n",
      "Reading: 4\n",
      "1.5817515817515817\n",
      "train size: 75043 (50.00%); test size: 75040 (50.00%)\n",
      "data points per mode:  [6360, 42593, 3659, 1375, 96096]\n"
     ]
    }
   ],
   "source": [
    "tr_te_split = 0.5\n",
    "df_train, df_test = load_train_test(modes_dt, tr_te_split)\n",
    "# make a copy\n",
    "df_train_o, df_test_o = df_train.copy(), df_test.copy()"
   ]
  },
  {
   "cell_type": "code",
   "execution_count": 28,
   "id": "ae5b84d9-d9af-4ac4-8945-287dc2fbb6c6",
   "metadata": {},
   "outputs": [],
   "source": [
    "def relabel(x):\n",
    "    if x == 0:    # tau\n",
    "        return 0\n",
    "    elif x == 1:    # mu\n",
    "        return 1\n",
    "    else:    # other bkg\n",
    "        return 2"
   ]
  },
  {
   "cell_type": "code",
   "execution_count": 29,
   "id": "5b273e42-755f-4b81-811c-9413a3b2c2b4",
   "metadata": {},
   "outputs": [],
   "source": [
    "# relabel the, all bkg become one label\n",
    "df_train['target'] = df_train['target'].apply(relabel)\n",
    "df_test['target'] = df_test['target'].apply(relabel)"
   ]
  },
  {
   "cell_type": "code",
   "execution_count": 30,
   "id": "0e1b3776-dd5d-4aa9-bb0f-1bcc7aac2db5",
   "metadata": {},
   "outputs": [
    {
     "data": {
      "text/plain": [
       "Index(['iEvt', 'q2', 'miss2', 'pB', 'EB', 'pHc', 'EHc', 'pMu', 'EMu',\n",
       "       'sMinMuBVert', 'sMinMuHcVert', 'sMinMuTr', 'sMinHcTr', 'sPVHc', 'mHcMu',\n",
       "       'pPerp', 'pPerpHc', 'mCorr', 'D0Max', 'DzMax', 'D0Sum', 'DzSum',\n",
       "       'ENeutral03', 'ENeutral06', 'ENeutral03Hadron', 'ENeutral06Hadron',\n",
       "       'ENeutral03Photon', 'ENeutral06Photon', 'ECharge03', 'ECharge06',\n",
       "       'ECharge03PV', 'ECharge06PV', 'ECharge03DV', 'ECharge06DV', 'mK0SHcMu',\n",
       "       'pK0S', 'q2True', 'miss2True', 'EBTrue', 'pBTrue', 'sMinMuHcVertTrue',\n",
       "       'target', 'weight'],\n",
       "      dtype='object')"
      ]
     },
     "execution_count": 30,
     "metadata": {},
     "output_type": "execute_result"
    }
   ],
   "source": [
    "df_train.columns"
   ]
  },
  {
   "cell_type": "code",
   "execution_count": 31,
   "id": "824ab394-53be-4288-93b3-f9cf53006442",
   "metadata": {},
   "outputs": [],
   "source": [
    "# features = ['q2', 'miss2', \n",
    "#             'pB', 'EB', \n",
    "#             'pHc', 'EHc', \n",
    "#             'pMu', 'EMu',\n",
    "#             'sMinMuHcVert', 'sMinMuTr', 'sMinHcTr', 'sPVHc', \n",
    "#             'mHcMu',\n",
    "#             'pPerp', 'mCorr', \n",
    "#             'D0Max', 'DzMax', 'D0Sum', 'DzSum', \n",
    "#             'ENeutral03','ENeutral06', \n",
    "#             'ENeutral03Hadron', 'ENeutral06Hadron',\n",
    "#             'ENeutral03Photon', 'ENeutral06Photon', \n",
    "#             'ECharge03', 'ECharge06',\n",
    "#             'ECharge03PV', 'ECharge06PV', \n",
    "#             'ECharge03DV', 'ECharge06DV', \n",
    "#             'mK0SHcMu', 'pK0S'\n",
    "#            ]\n",
    "\n",
    "features = ['q2', 'miss2', # check\n",
    "            'pB', 'EB',  # check\n",
    "            'pHc', 'EHc',  # check\n",
    "            'pMu', 'EMu', # check\n",
    "            'sMinMuBVert', 'sMinMuHcVert', 'sMinMuTr', 'sMinHcTr', 'sPVHc',  # check\n",
    "            'mHcMu', # check\n",
    "            'pPerp', 'mCorr',  # check\n",
    "            'D0Max', 'DzMax', 'D0Sum', 'DzSum',  # check\n",
    "            'ENeutral03','ENeutral06',  # check\n",
    "            'ENeutral03Hadron', 'ENeutral06Hadron',  # check\n",
    "            'ENeutral03Photon', 'ENeutral06Photon',  # check\n",
    "            'ECharge03', 'ECharge06', # check\n",
    "            'ECharge03PV', 'ECharge06PV',  # check\n",
    "            'ECharge03DV', 'ECharge06DV' # check\n",
    "           ]"
   ]
  },
  {
   "cell_type": "code",
   "execution_count": 32,
   "id": "2a52aad2-9c65-476b-b428-31cf3ebaef6b",
   "metadata": {},
   "outputs": [],
   "source": [
    "df_train[features] = df_train[features].replace([99999, -np.inf, np.inf], np.nan)\n",
    "df_test[features] = df_test[features].replace([99999, -np.inf, np.inf], np.nan)"
   ]
  },
  {
   "cell_type": "markdown",
   "id": "07d04069",
   "metadata": {},
   "source": [
    "## Reweight by $q^2\n",
    "$"
   ]
  },
  {
   "cell_type": "code",
   "execution_count": 33,
   "id": "42f5de16-6fff-44c4-acac-6daa5372ca1e",
   "metadata": {},
   "outputs": [],
   "source": [
    "# replace some values that have q2 larger than the max, by the max\n",
    "df_train_o.loc[(df_train_o['q2True']>=11) & ((df_train_o.target==0) | (df_train_o.target==1)), 'q2True'] = 10.9\n",
    "df_train.loc[(df_train['q2True']>=11) & ((df_train.target==0) | (df_train.target==1)), 'q2True'] = 10.9\n",
    "df_test.loc[(df_test['q2True']>=11) & ((df_test.target==0) | (df_test.target==1)), 'q2True'] = 10.9"
   ]
  },
  {
   "cell_type": "code",
   "execution_count": 34,
   "id": "deca2252-be6b-4ae2-80dd-2292e717d13d",
   "metadata": {},
   "outputs": [
    {
     "data": {
      "text/plain": [
       "[<matplotlib.lines.Line2D at 0x7f05bc1a78b0>]"
      ]
     },
     "execution_count": 34,
     "metadata": {},
     "output_type": "execute_result"
    },
    {
     "data": {
      "image/png": "[encoded data removed]",
      "text/plain": [
       "<Figure size 864x720 with 2 Axes>"
      ]
     },
     "metadata": {
      "needs_background": "light"
     },
     "output_type": "display_data"
    }
   ],
   "source": [
    "bins = 10\n",
    "\n",
    "plt.figure(figsize=(12, 10))\n",
    "\n",
    "# plot for mu\n",
    "ax1 = plt.subplot(221)\n",
    "range_mu = [0.105**2, 11]\n",
    "ax1.hist(df_train_o[df_train_o.target==1]['q2True'], bins=bins, density=True, range=range_mu);\n",
    "q2_mu = np.linspace(range_mu[0], range_mu[1], 1000, endpoint=True)\n",
    "dGmu = dGammaLambdacmu(q2_mu)\n",
    "ax1.plot(q2_mu, dGmu/np.trapz(dGmu, x=q2_mu), color='red', label='theoretical')\n",
    "\n",
    "# plot for tau\n",
    "ax2 = plt.subplot(222)\n",
    "range_tau = [1.778**2, 11]\n",
    "ax2.hist(df_train_o[df_train_o.target==0]['q2True'], bins=bins, density=True, range=range_tau);\n",
    "q2_tau = np.linspace(range_tau[0], range_tau[1], 1000, endpoint=True)\n",
    "dGtau = dGammaLambdactau(q2_tau)\n",
    "ax2.plot(q2_tau, dGtau/np.trapz(dGtau, x=q2_tau), color='red', label='theoretical')"
   ]
  },
  {
   "cell_type": "code",
   "execution_count": 35,
   "id": "9386bf2b-fa70-4e70-bdf6-6d39fedabb10",
   "metadata": {},
   "outputs": [],
   "source": [
    "# reweight according to q^2\n",
    "def find_m_rw(dGamma, df_train, target, range_, bin_num=10):\n",
    "    # get the truth q2 array\n",
    "    q2 = df_train[df_train.target==target]['q2True'].values    \n",
    "\n",
    "    # Simulated bins\n",
    "    hist, bins = np.histogram(a=q2, bins=bin_num, density=True, range=range_)\n",
    "    width = np.diff(bins)\n",
    "    center = (bins[:-1] + bins[1:]) / 2\n",
    "\n",
    "    # Theoretical bins\n",
    "    th_w = []\n",
    "    for i in range(bin_num):\n",
    "        dx = -(bins[i] - bins[i+1])/10\n",
    "        x = np.linspace(bins[i], bins[i+1], 1000)\n",
    "        y = dGamma(q2=x)\n",
    "        th_w.append(np.trapz(y, dx=dx))    # Find area under curve\n",
    "    # normalize\n",
    "    th_w = th_w / sum(th_w) / width\n",
    "\n",
    "    # reweighting\n",
    "    m_rw = th_w / hist\n",
    "    m_rw[np.isinf(m_rw)] = 0\n",
    "    \n",
    "    # return the values of each bin, and the bin bounds\n",
    "    return m_rw, bins\n",
    "\n",
    "\n",
    "\n",
    "\n",
    "\n",
    "# add the reweighting column to th dataframe\n",
    "def add_m_rw(target, m_rw, bins, df):\n",
    "    for i in range(len(bins)-1):\n",
    "        df.loc[(df['target']==target) & (df['q2True']>=bins[i]) & (df['q2True']<bins[i+1]), 'm_rw'] = m_rw[i]\n",
    "    \n",
    "#     print(df.loc[df['target']==target, 'weight'].sum())\n",
    "#     df.loc[df.target==target, 'm_rw'] = df.loc[df.target==target, 'm_rw']/(df.loc[df.target==target, 'm_rw'].sum())\n",
    "    df.loc[df['target']==target, 'reweight'] = df.loc[df['target']==target, 'weight'] * df.loc[df.target==target, 'm_rw']\n",
    "    df = df.drop(columns = ['m_rw'])\n",
    "    \n",
    "#     print(df.loc[df.target==target, 'reweight'].sum())\n",
    "#     print()\n",
    "    return df"
   ]
  },
  {
   "cell_type": "code",
   "execution_count": 36,
   "id": "fff24ec8-5450-4762-b574-b9ee2d284f5e",
   "metadata": {},
   "outputs": [],
   "source": [
    "# getting the weightings, and the bin bounds\n",
    "m_rw_tau, bins_tau = find_m_rw(dGammaLambdactau, df_train_o, target=0, range_=range_tau)\n",
    "m_rw_mu, bins_mu = find_m_rw(dGammaLambdacmu, df_train_o, target=1, range_=range_mu)\n",
    "\n",
    "# duplicate the column for inputting to the function to get the reweight column\n",
    "df_train_o['reweight'] = df_train_o['weight']\n",
    "df_train['reweight'] = df_train['weight']\n",
    "df_test['reweight'] = df_test['weight']\n",
    "\n",
    "df_train_o = add_m_rw(target=0, m_rw=m_rw_tau, bins=bins_tau, df=df_train_o)\n",
    "df_train_o = add_m_rw(target=1, m_rw=m_rw_mu, bins=bins_mu, df=df_train_o)\n",
    "\n",
    "df_train = add_m_rw(target=0, m_rw=m_rw_tau, bins=bins_tau, df=df_train)\n",
    "df_train = add_m_rw(target=1, m_rw=m_rw_mu, bins=bins_mu, df=df_train)\n",
    "\n",
    "df_test = add_m_rw(target=0, m_rw=m_rw_tau, bins=bins_tau, df=df_test)\n",
    "df_test = add_m_rw(target=1, m_rw=m_rw_mu, bins=bins_mu, df=df_test)\n"
   ]
  },
  {
   "cell_type": "code",
   "execution_count": 37,
   "id": "e1e62cae-6704-46ff-a4e0-2c8a76737c7d",
   "metadata": {},
   "outputs": [
    {
     "data": {
      "text/plain": [
       "[<matplotlib.lines.Line2D at 0x7f05b188d570>]"
      ]
     },
     "execution_count": 37,
     "metadata": {},
     "output_type": "execute_result"
    },
    {
     "data": {
      "image/png": "[encoded data removed]",
      "text/plain": [
       "<Figure size 864x720 with 2 Axes>"
      ]
     },
     "metadata": {
      "needs_background": "light"
     },
     "output_type": "display_data"
    }
   ],
   "source": [
    "bins = 10\n",
    "\n",
    "plt.figure(figsize=(12, 10))\n",
    "\n",
    "# reweighted plot for tau, in testing \n",
    "ax1 = plt.subplot(221)\n",
    "ax1.hist(df_train[df_train.target==0]['q2True'], bins=10, weights=df_train[df_train.target==0]['reweight'], density=True, alpha=0.5);\n",
    "ax1.hist(df_test[df_test.target==0]['q2True'], bins=10, weights=df_test[df_test.target==0]['reweight'], density=True, alpha=0.5);\n",
    "ax1.plot(q2_tau, dGtau/np.trapz(dGtau, x=q2_tau), color='red', label='theoretical')\n",
    "\n",
    "# reweighted plot for mu, in testing \n",
    "ax2 = plt.subplot(222)\n",
    "ax2.hist(df_train[df_train.target==1]['q2True'], bins=10, weights=df_train[df_train.target==1]['reweight'], density=True, alpha=0.5, range=[.105**2 ,11]);\n",
    "ax2.hist(df_test[df_test.target==1]['q2True'], bins=10, weights=df_test[df_test.target==1]['reweight'], density=True, alpha=0.5, range=[.105**2 ,11]);\n",
    "ax2.plot(q2_mu, dGmu/np.trapz(dGmu, x=q2_mu), color='red', label='theoretical')"
   ]
  },
  {
   "cell_type": "code",
   "execution_count": null,
   "id": "92191a61",
   "metadata": {},
   "outputs": [],
   "source": []
  },
  {
   "cell_type": "code",
   "execution_count": null,
   "id": "8b6cc5f9",
   "metadata": {},
   "outputs": [],
   "source": []
  },
  {
   "cell_type": "markdown",
   "id": "99bf630c",
   "metadata": {},
   "source": [
    "## BDT"
   ]
  },
  {
   "cell_type": "code",
   "execution_count": 38,
   "id": "d749e004-c765-4815-99ce-d9a532f7c8dd",
   "metadata": {},
   "outputs": [],
   "source": [
    "# getting the inputs and labels\n",
    "X_train = df_train[features]\n",
    "y_train = np.array(df_train.target)\n",
    "\n",
    "# getting the inputs and labels\n",
    "X_test = df_test[features]\n",
    "y_test = np.array(df_train.target)"
   ]
  },
  {
   "cell_type": "code",
   "execution_count": 39,
   "id": "418d498a-3146-4b9f-b93e-30fcfe0c139d",
   "metadata": {},
   "outputs": [],
   "source": [
    "# trainging\n",
    "X_train = df_train[features]\n",
    "y_train = np.array([relabel(i) for i in df_train['target']])\n",
    "\n",
    "# testing\n",
    "X_test = df_test[features]\n",
    "y_test = np.array([relabel(i) for i in df_test['target']])\n",
    "\n",
    "# fitting, with reweighting\n",
    "xgbc1 = xgb.XGBClassifier(seed=0)\n",
    "xgbc1.fit(X_train, y_train, sample_weight=df_train.reweight.values);"
   ]
  },
  {
   "cell_type": "code",
   "execution_count": 40,
   "id": "25ef94ac-a57f-4443-9ccd-897edf2f31bb",
   "metadata": {},
   "outputs": [],
   "source": [
    "\n",
    "# scores for training\n",
    "df_bdt_train_s = df_train[['target', 'reweight']]\n",
    "df_bdt_train_s.loc[:, 'pred0'] = xgbc1.predict_proba(X_train)[:, 0]\n",
    "df_bdt_train_s.loc[:, 'pred1'] = xgbc1.predict_proba(X_train)[:, 1]\n",
    "\n",
    "# score for testing \n",
    "df_bdt_test_s = df_test[['target', 'reweight']]\n",
    "df_bdt_test_s.loc[:, 'pred0'] = xgbc1.predict_proba(X_test)[:, 0]\n",
    "df_bdt_test_s.loc[:, 'pred1'] = xgbc1.predict_proba(X_test)[:, 1]"
   ]
  },
  {
   "cell_type": "code",
   "execution_count": null,
   "id": "edbeb767",
   "metadata": {},
   "outputs": [],
   "source": []
  },
  {
   "cell_type": "markdown",
   "id": "b8c35739",
   "metadata": {},
   "source": [
    "## Finding the optimal position to cut"
   ]
  },
  {
   "cell_type": "code",
   "execution_count": 41,
   "id": "5501d7a8",
   "metadata": {},
   "outputs": [],
   "source": [
    "def bdt_cut(df, cut1, cut2, signal1=0, signal2=1):\n",
    "    df1 = df[(df['pred0'] >= cut1)]    # pass tau cut, not pass mu cut\n",
    "    df2 = df[(df['pred0'] < cut1) & (df['pred1'] >= cut2)]    # pass mu cut, not pass tau cut\n",
    "    \n",
    "    S1 = df1[df1['target'] == signal1]['reweight'].values.sum()    # Number of tau signals\n",
    "    B1 = df1[df1['target'] != signal1]['reweight'].values.sum()    # Number of tau bkg.\n",
    "#     B1 = df1[df1['target'] != signal1]['reweight'].values.sum() + df1[df1['target'] == 1]['reweight'].values.sum()*0.28/100   # Number of tau bkg.\n",
    "    \n",
    "    S2 = df2[df2['target'] == signal2]['reweight'].values.sum()    # Number of mu signals\n",
    "    B2 = df2[df2['target'] != signal2]['reweight'].values.sum()    # Number of mu bkg.\n",
    "#     B2 = df2[df2['target'] != signal2]['reweight'].values.sum() + df2[df2['target'] == 1]['reweight'].values.sum()*0.28/100   # Number of mu bkg.\n",
    "    \n",
    "    return ((S1+B1)**0.5, (0.1*B1), S1/(np.sqrt(S1+B1))), ((S2+B2)**0.5, (0.1*B2), S2/(np.sqrt(S2+B2)))\n",
    "\n",
    "\n",
    "\n",
    "\n",
    "\n",
    "\n",
    "# looping to find the optimal cut\n",
    "def find_opt_cut(df_bdt_train_s, step=0.01):\n",
    "\n",
    "    # tau cut\n",
    "#     cuts1 = np.arange(round(df_bdt_train_s.min()['pred0'], 2) - step, round(df_bdt_train_s.max()['pred0'], 2) + step, step)\n",
    "    cuts1 = np.arange(0, 1, step)\n",
    "    # mu cut\n",
    "    cuts2 = np.arange(0, 1, step)\n",
    "\n",
    "    # store cuts (tau, and mu)\n",
    "    c1_lt, c2_lt = [], []\n",
    "    # store losses\n",
    "    loss11, loss12 = [], []\n",
    "    loss21, loss22 = [], []\n",
    "    snr1, snr2 = [], []\n",
    "\n",
    "    # loop over two cuts\n",
    "    for i1, c1 in enumerate(cuts1):\n",
    "        for i2, c2 in enumerate(cuts2):\n",
    "            print(\"{}/{}; {}/{}\".format(i1, len(cuts1), i2, len(cuts2)), end='\\r')\n",
    "            res1, res2 = bdt_cut(df_bdt_train_s, c1, c2)\n",
    "            c1_lt.append(c1); c2_lt.append(c2)\n",
    "\n",
    "            loss11.append(res1[0]); loss12.append(res1[1])\n",
    "            loss21.append(res2[0]); loss22.append(res2[1])\n",
    "            snr1.append(res1[2]), snr2.append(res2[2])\n",
    "\n",
    "    # store the cuts and corresponding losses\n",
    "    df_bdt_loss = pd.DataFrame([c1_lt, c2_lt, loss11, loss12, snr1, loss21, loss22, snr2]).T\n",
    "    df_bdt_loss.columns = ['c1', 'c2', 'loss11', 'loss12', 'snr1', 'loss21', 'loss22', 'snr2']\n",
    "\n",
    "    df_bdt_loss['loss1'] = (df_bdt_loss['loss11']**2 + df_bdt_loss['loss12']**2)**0.5\n",
    "    df_bdt_loss['tot1'] = (df_bdt_loss['loss1'] - df_bdt_loss['loss1'].min())/(df_bdt_loss['loss1'].max() - df_bdt_loss['loss1'].min()) - \\\n",
    "        ((df_bdt_loss['snr1'] - df_bdt_loss['snr1'].min())/(df_bdt_loss['snr1'].max() - df_bdt_loss['snr1'].min()))\n",
    "\n",
    "    df_bdt_loss['loss2'] = (df_bdt_loss['loss21']**2 + df_bdt_loss['loss22']**2)**0.5\n",
    "    df_bdt_loss['tot2'] = (df_bdt_loss['loss2'] - df_bdt_loss['loss2'].min())/(df_bdt_loss['loss2'].max() - df_bdt_loss['loss2'].min()) - \\\n",
    "        ((df_bdt_loss['snr2'] - df_bdt_loss['snr2'].min())/(df_bdt_loss['snr2'].max() - df_bdt_loss['snr2'].min()))\n",
    "\n",
    "    df_bdt_loss['tot'] = df_bdt_loss['tot1'] + df_bdt_loss['tot2']\n",
    "\n",
    "    return df_bdt_loss.iloc[df_bdt_loss['tot'].argmin()][['c1', 'c2']].values"
   ]
  },
  {
   "cell_type": "code",
   "execution_count": 43,
   "id": "91101347",
   "metadata": {},
   "outputs": [],
   "source": [
    "# c1, c2 = find_opt_cut(df_bdt_train_s)\n",
    "# print()\n",
    "# print(c1, c2)\n",
    "\n",
    "# 10 noise\n",
    "c1, c2 = 0.44, 0.72"
   ]
  },
  {
   "cell_type": "code",
   "execution_count": 46,
   "id": "dc5e8d74",
   "metadata": {},
   "outputs": [],
   "source": [
    "# apply the cut, to select tau and mu samples\n",
    "df_bdt_test_s_cut_tau = df_bdt_test_s.loc[(df_bdt_test_s['pred0'] >= c1)]\n",
    "\n",
    "df_bdt_test_s_cut_mu = df_bdt_test_s.loc[(df_bdt_test_s['pred0'] <  c1) &\n",
    "                                         (df_bdt_test_s['pred1'] >= c2)]\n"
   ]
  },
  {
   "cell_type": "code",
   "execution_count": 47,
   "id": "24d62e90",
   "metadata": {},
   "outputs": [],
   "source": [
    "# Grouping the bkg. types\n",
    "df_bdt_test_s_cut_tau['target'] = \\\n",
    "            df_test_o.loc[df_bdt_test_s_cut_tau.index]['target']\n",
    "\n",
    "df_bdt_test_s_cut_mu['target'] = \\\n",
    "            df_test_o.loc[df_bdt_test_s_cut_mu.index]['target']\n",
    "\n"
   ]
  },
  {
   "cell_type": "code",
   "execution_count": 48,
   "id": "34fc20b3",
   "metadata": {},
   "outputs": [],
   "source": [
    "df_bdt_test_s_cut_tau['q2'] = df_test_o.loc[df_bdt_test_s_cut_tau.index]['q2']\n",
    "df_bdt_test_s_cut_mu['q2'] = df_test_o.loc[df_bdt_test_s_cut_mu.index]['q2']\n",
    "\n",
    "df_bdt_test_s_cut_tau['iEvt'] = df_test_o.loc[df_bdt_test_s_cut_tau.index]['iEvt']\n",
    "df_bdt_test_s_cut_mu['iEvt'] = df_test_o.loc[df_bdt_test_s_cut_mu.index]['iEvt']"
   ]
  },
  {
   "cell_type": "code",
   "execution_count": 49,
   "id": "58c08f6c",
   "metadata": {},
   "outputs": [
    {
     "data": {
      "text/plain": [
       "array([0, 1, 2, 3, 4])"
      ]
     },
     "execution_count": 49,
     "metadata": {},
     "output_type": "execute_result"
    }
   ],
   "source": [
    "np.unique(df_bdt_test_s_cut_mu.target)"
   ]
  },
  {
   "cell_type": "code",
   "execution_count": 50,
   "id": "c362657c",
   "metadata": {},
   "outputs": [],
   "source": [
    "# separate CombCascade\n",
    "# 1. change label 4(misID)->5\n",
    "# 2. change label 3(Comb+Casc)->999\n",
    "# 3. loop over 999 and change to 3/4 (Comb/Casc)\n",
    "\n",
    "df_bdt_test_s_cut_tau.loc[df_bdt_test_s_cut_tau.target==4, 'target'] = 5\n",
    "df_bdt_test_s_cut_mu.loc[df_bdt_test_s_cut_mu.target==4, 'target'] = 5\n",
    "\n",
    "df_bdt_test_s_cut_tau.loc[df_bdt_test_s_cut_tau.target==3, 'target'] = 999\n",
    "df_bdt_test_s_cut_mu.loc[df_bdt_test_s_cut_mu.target==3, 'target'] = 999"
   ]
  },
  {
   "cell_type": "code",
   "execution_count": 51,
   "id": "720b87fe",
   "metadata": {},
   "outputs": [],
   "source": [
    "file = uproot.open('./features/RLambdacComb_0Noise.root')\n",
    "df_comb = pd.DataFrame(np.array(file['t']['features'].array()))\n",
    "comb_iEvt = df_comb.iEvt.tolist()\n",
    "file = uproot.open('./features/RLambdacCascade_0Noise.root')\n",
    "df_casc = pd.DataFrame(np.array(file['t']['features'].array()))\n",
    "casc_iEvt = df_casc.iEvt.tolist()\n",
    "\n"
   ]
  },
  {
   "cell_type": "code",
   "execution_count": 52,
   "id": "c08606aa",
   "metadata": {},
   "outputs": [],
   "source": [
    "for ie in df_bdt_test_s_cut_tau[df_bdt_test_s_cut_tau.target==999]['iEvt']:\n",
    "    if (ie in comb_iEvt):\n",
    "        df_bdt_test_s_cut_tau.loc[(df_bdt_test_s_cut_tau.target==999) & (df_bdt_test_s_cut_tau.iEvt==ie), 'target'] = 3\n",
    "    elif (ie in casc_iEvt):\n",
    "        df_bdt_test_s_cut_tau.loc[(df_bdt_test_s_cut_tau.target==999) & (df_bdt_test_s_cut_tau.iEvt==ie), 'target'] = 4\n",
    "    elif ie == 61828:\n",
    "        df_bdt_test_s_cut_tau.loc[(df_bdt_test_s_cut_tau.target==999) & (df_bdt_test_s_cut_tau.iEvt==ie), 'target'] = 4\n",
    "    else:\n",
    "        print(\"Did not find such event:\", ie)\n",
    "\n",
    "for ie in df_bdt_test_s_cut_mu[df_bdt_test_s_cut_mu.target==999]['iEvt']:\n",
    "    if (ie in comb_iEvt):\n",
    "        df_bdt_test_s_cut_mu.loc[(df_bdt_test_s_cut_mu.target==999) & (df_bdt_test_s_cut_mu.iEvt==ie), 'target'] = 3\n",
    "    elif (ie in casc_iEvt):\n",
    "        df_bdt_test_s_cut_mu.loc[(df_bdt_test_s_cut_mu.target==999) & (df_bdt_test_s_cut_mu.iEvt==ie), 'target'] = 4\n",
    "    elif ie == 61828:\n",
    "        df_bdt_test_s_cut_tau.loc[(df_bdt_test_s_cut_tau.target==999) & (df_bdt_test_s_cut_tau.iEvt==ie), 'target'] = 4\n",
    "    else:\n",
    "        print(\"Did not find such event:\", ie)\n",
    "\n"
   ]
  },
  {
   "cell_type": "code",
   "execution_count": 53,
   "id": "5541bf33",
   "metadata": {},
   "outputs": [
    {
     "data": {
      "text/plain": [
       "array([0, 1, 2, 4, 5])"
      ]
     },
     "execution_count": 53,
     "metadata": {},
     "output_type": "execute_result"
    }
   ],
   "source": [
    "np.unique(df_bdt_test_s_cut_tau.target)"
   ]
  },
  {
   "cell_type": "code",
   "execution_count": 54,
   "id": "7f12d3b9",
   "metadata": {},
   "outputs": [
    {
     "data": {
      "text/plain": [
       "array([0, 1, 2, 4, 5])"
      ]
     },
     "execution_count": 54,
     "metadata": {},
     "output_type": "execute_result"
    }
   ],
   "source": [
    "np.unique(df_bdt_test_s_cut_mu.target)"
   ]
  },
  {
   "cell_type": "markdown",
   "id": "c6cd5795",
   "metadata": {},
   "source": [
    "## Calculating the yields"
   ]
  },
  {
   "cell_type": "code",
   "execution_count": 55,
   "id": "0487c09c",
   "metadata": {},
   "outputs": [],
   "source": [
    "def cal_uncertainty(df, channel, channel_labels):\n",
    "    n_lt = []\n",
    "    for i in channel_labels.keys():\n",
    "        # Select the signal/bkg. \n",
    "        dfi = df[df.target==i]\n",
    "        if len(dfi) == 0:\n",
    "            ni = 0\n",
    "        else: \n",
    "            # reweighted number \n",
    "            ni = dfi.reweight.sum() / (1-tr_te_split)\n",
    "        # Print out the table\n",
    "        if i==channel:\n",
    "            print('(*Signal)  {}:\\t\\t{:.2e}'.format(channel_labels[i], ni))\n",
    "#             print(len(dfi))\n",
    "        else:\n",
    "            print('(*Bkg.)    {}:\\t\\t{:.2e}'.format(channel_labels[i], ni))\n",
    "#             print(len(dfi))\n",
    "        \n",
    "        n_lt.append(ni)\n",
    "    # Estimate the Fake-Lambda_c Bkg.\n",
    "#     n_fakeLambdac = n_lt[1]*0.28/100\n",
    "#     n_lt.append(n_fakeLambdac)\n",
    "#     print('(*Bkg.)  {}:\\t{:.2e}'.format('Fake-Lambdac', n_fakeLambdac))\n",
    "    \n",
    "    \n",
    "    print('.'*60)\n",
    "    s = n_lt[channel]    # Number of signals\n",
    "    b = sum(n_lt)    # Number of Bkg. (including the signals, since signal fluctaution also contribute to the uncertainty)\n",
    "    Z = (2*((s + b)*np.log(1+s/b) - s))**0.5    #Signifiance\n",
    "    u = 1/Z    # Uncertainty\n",
    "    print(\"# of Siganl ({}):\\t{:.2e}\".format(channel_labels[channel], s))\n",
    "    print(\"# of Bkg. for {}:\\t{:.2e}\".format(channel_labels[channel], (b-s)))\n",
    "    print('Significance for {}:\\t{:.0f}'.format(channel_labels[channel], Z))\n",
    "    print('Uncertainty for {}:\\t{:.2e} ({:.2e})'.format(channel_labels[channel], u, u))\n",
    "    print('Uncertainty at {}:\\t{:.2e} ({:.2e})'.format('10 TeraZ', 1/((2*(((s*10) + (b*10))*np.log(1+(s*10)/(b*10)) - (s*10)))**0.5), 1/((2*(((s*10) + (b*10))*np.log(1+(s*10)/(b*10)) - (s*10)))**0.5)))\n",
    "    print('S/B for {}:\\t\\t{:.2f}'.format(channel_labels[channel], s/(b-s)))\n",
    "    print('\\n'+'='*60+'\\n'*5)\n",
    "    print()\n",
    "    \n",
    "    u_10TeraZ = 1/((2*(((s*10) + (b*10))*np.log(1+(s*10)/(b*10)) - (s*10)))**0.5)\n",
    "    return u, u_10TeraZ"
   ]
  },
  {
   "cell_type": "code",
   "execution_count": 56,
   "id": "b73d2b45",
   "metadata": {},
   "outputs": [
    {
     "name": "stdout",
     "output_type": "stream",
     "text": [
      "(*Signal)  Lambda tau:\t\t1.79e+06\n",
      "(*Bkg.)    Lambda mu:\t\t5.34e+05\n",
      "(*Bkg.)    Inclusive:\t\t4.84e+04\n",
      "(*Bkg.)    Comb.:\t\t0.00e+00\n",
      "(*Bkg.)    Casc:\t\t4.53e+04\n",
      "(*Bkg.)    MisID:\t\t4.87e+03\n",
      "............................................................\n",
      "# of Siganl (Lambda tau):\t1.79e+06\n",
      "# of Bkg. for Lambda tau:\t6.32e+05\n",
      "Significance for Lambda tau:\t1040\n",
      "Uncertainty for Lambda tau:\t9.61e-04 (9.61e-04)\n",
      "Uncertainty at 10 TeraZ:\t3.04e-04 (3.04e-04)\n",
      "S/B for Lambda tau:\t\t2.83\n",
      "\n",
      "============================================================\n",
      "\n",
      "\n",
      "\n",
      "\n",
      "\n",
      "\n",
      "(*Bkg.)    Lambda tau:\t\t2.47e+05\n",
      "(*Signal)  Lambda mu:\t\t4.26e+07\n",
      "(*Bkg.)    Inclusive:\t\t2.53e+05\n",
      "(*Bkg.)    Comb.:\t\t0.00e+00\n",
      "(*Bkg.)    Casc:\t\t2.63e+04\n",
      "(*Bkg.)    MisID:\t\t2.68e+04\n",
      "............................................................\n",
      "# of Siganl (Lambda mu):\t4.26e+07\n",
      "# of Bkg. for Lambda mu:\t5.53e+05\n",
      "Significance for Lambda mu:\t5705\n",
      "Uncertainty for Lambda mu:\t1.75e-04 (1.75e-04)\n",
      "Uncertainty at 10 TeraZ:\t5.54e-05 (5.54e-05)\n",
      "S/B for Lambda mu:\t\t76.93\n",
      "\n",
      "============================================================\n",
      "\n",
      "\n",
      "\n",
      "\n",
      "\n",
      "\n",
      "Overall Uncertainty: 9.77e-04\n",
      "Overall Uncertainty 10-Tera Z: 3.09e-04\n"
     ]
    }
   ],
   "source": [
    "CHANNEL_LABELS = {0: 'Lambda tau', 1: 'Lambda mu', 2: 'Inclusive', 3: 'Comb.', 4:'Casc', 5: 'MisID'}\n",
    "uFull_tau, uFull_tau10 = cal_uncertainty(df_bdt_test_s_cut_tau, 0, CHANNEL_LABELS)\n",
    "\n",
    "uFull_mu, uFull_mu10 = cal_uncertainty(df_bdt_test_s_cut_mu, 1, CHANNEL_LABELS)\n",
    "\n",
    "print(\"Overall Uncertainty: {:.2e}\".format((uFull_mu**2 + uFull_tau**2)**0.5))\n",
    "print(\"Overall Uncertainty 10-Tera Z: {:.2e}\".format((uFull_mu10**2 + uFull_tau10**2)**0.5))"
   ]
  },
  {
   "cell_type": "code",
   "execution_count": 34,
   "id": "dbcc7349",
   "metadata": {},
   "outputs": [
    {
     "data": {
      "text/plain": [
       "'0.1470'"
      ]
     },
     "execution_count": 34,
     "metadata": {},
     "output_type": "execute_result"
    }
   ],
   "source": [
    "'{:.4f}'.format(1.10/0.959-1)"
   ]
  },
  {
   "cell_type": "code",
   "execution_count": 35,
   "id": "f89efb6a",
   "metadata": {},
   "outputs": [],
   "source": [
    "# for q^2 binning (cut=7.15GeV)\n",
    "def binbybin_correction(df_train, cut=7.15):\n",
    "    Cs = {}\n",
    "    for i in np.unique(df_train.target):\n",
    "        dfi = df_train[df_train.target == i]\n",
    "        N_q2Low = dfi[dfi.q2 < cut]['reweight'].sum()\n",
    "        N_q2High = dfi[dfi.q2 >= cut]['reweight'].sum()\n",
    "        N_q2truthLow = dfi[dfi.q2True < cut]['reweight'].sum()\n",
    "        N_q2truthHigh = dfi[dfi.q2True >= cut]['reweight'].sum()\n",
    "        Cs[i] = [N_q2truthLow/N_q2Low, N_q2truthHigh/N_q2High]\n",
    "    return Cs"
   ]
  },
  {
   "cell_type": "code",
   "execution_count": 36,
   "id": "31930db7",
   "metadata": {},
   "outputs": [
    {
     "data": {
      "text/plain": [
       "{0: [1.16493969791945, 0.9327179935297761],\n",
       " 1: [0.9802439400287177, 1.0345223038658575],\n",
       " 2: [1, 1],\n",
       " 3: [1, 1],\n",
       " 4: [1, 1],\n",
       " 5: [1, 1]}"
      ]
     },
     "execution_count": 36,
     "metadata": {},
     "output_type": "execute_result"
    }
   ],
   "source": [
    "Cs = binbybin_correction(df_train, 7.15)\n",
    "Cs[2] = [1, 1]    # replacing the bins correction for bkg. to 1\n",
    "Cs[3] = [1, 1]    # replacing the bins correction for bkg. to 1\n",
    "Cs[4] = [1, 1]    # replacing the bins correction for bkg. to 1\n",
    "Cs[5] = [1, 1]    # replacing the bins correction for bkg. to 1\n",
    "\n",
    "Cs"
   ]
  },
  {
   "cell_type": "code",
   "execution_count": 37,
   "id": "57debb54",
   "metadata": {},
   "outputs": [],
   "source": [
    "def diff_measurement(df, q2_cut, channel, Cs):\n",
    "#     global dfHigh\n",
    "    def _cal_uncertainty_(df, channel, channel_labels, Cs, region):\n",
    "        n_lt = []\n",
    "        for i in channel_labels.keys():\n",
    "            # Select the signal/bkg. \n",
    "            dfi = df[df.target==i]\n",
    "            if len(dfi) == 0:\n",
    "                ni = 0\n",
    "            else: \n",
    "                # reweighted number \n",
    "                ni = dfi.reweight.sum() / (1-tr_te_split) * Cs[i][region]\n",
    "            # Print out the table\n",
    "            if i==channel:\n",
    "                print('(*Signal)  {}:\\t{:.2e}'.format(channel_labels[i], ni))\n",
    "            else:\n",
    "                print('(*Bkg.)    {}:\\t{:.2e}'.format(channel_labels[i], ni))\n",
    "\n",
    "            n_lt.append(ni)\n",
    "        # Estimate the Fake-J/psi Bkg.\n",
    "#         n_fakeJpsi = n_lt[1]/.99998*.95*7/95/2\n",
    "#         n_lt.append(n_fakeJpsi)\n",
    "#         print('(*Bkg.)    {}:\\t{:.2e}'.format('Fake-Jpsi', n_fakeJpsi))\n",
    "\n",
    "\n",
    "        print('.'*40)\n",
    "        s = n_lt[channel]    # Number of signals\n",
    "        b = sum(n_lt)    # Number of Bkg. (including the signals, since signal fluctaution also contribute to the uncertainty)\n",
    "        Z = (2*((s + b)*np.log(1+s/b) - s))**0.5    #Signifiance\n",
    "        u = 1/Z    # Uncertainty\n",
    "        print(\"# of Siganl ({}):     {:.2e}\".format(channel_labels[channel], s))\n",
    "        print(\"# of Bkg. for {}:     {:.2e}\".format(channel_labels[channel], (b-s)))\n",
    "        print('Significance for {}:  {:.0f}'.format(channel_labels[channel], Z))\n",
    "        print('Uncertainty for {}:   {:.5e} ({:.2e})'.format(channel_labels[channel], u, u))\n",
    "        print('Uncertainty at {}:    {:.5e} ({:.2e})'.format('10 TeraZ', 1/((2*(((s*10) + (b*10))*np.log(1+(s*10)/(b*10)) - (s*10)))**0.5), 1/((2*(((s*10) + (b*10))*np.log(1+(s*10)/(b*10)) - (s*10)))**0.5)))\n",
    "        print('S/B for {}:           {:.2f}'.format(channel_labels[channel], s/(b-s)))\n",
    "        print('\\n'+'='*40)\n",
    "\n",
    "#         for i in channel_labels.keys():\n",
    "#             if i == channel:\n",
    "#                 continue\n",
    "#             else:\n",
    "#                 print('{}/B:\\t{:.2f}/{:.2f} = {:.2f}%'.format(channel_labels[i], n_lt[i], (b-s), n_lt[i]/(b-s)*100))\n",
    "#         print('{}/B:\\t{:.2f}/{:.2f} = {:.2f}%'.format('Fake-J/psi', n_lt[-1], (b-s), (n_lt[-1])/(b-s)*100))\n",
    "\n",
    "        u10 = 1/((2*(((s*10) + (b*10))*np.log(1+(s*10)/(b*10)) - (s*10)))**0.5)\n",
    "        return u, u10\n",
    "    \n",
    "    \n",
    "    dfLow = df[df.q2 < q2_cut]\n",
    "    dfHigh = df[df.q2 >= q2_cut]\n",
    "#     print(dfHigh)\n",
    "    print('#####   q^2 < 7.15   #####')\n",
    "    print()\n",
    "    u_Low, u_Low10 = _cal_uncertainty_(dfLow, channel, CHANNEL_LABELS, Cs, 0)\n",
    "    print()\n",
    "    print('#####   q^2 >= 7.15   #####')    \n",
    "    print()\n",
    "    u_High, u_High10 = _cal_uncertainty_(dfHigh, channel, CHANNEL_LABELS, Cs, 1)\n",
    "    \n",
    "    \n",
    "    \n",
    "    return u_Low, u_High, u_Low10, u_High10\n",
    "    "
   ]
  },
  {
   "cell_type": "code",
   "execution_count": 38,
   "id": "a38cfe7b",
   "metadata": {},
   "outputs": [
    {
     "name": "stdout",
     "output_type": "stream",
     "text": [
      "#####   q^2 < 7.15   #####\n",
      "\n",
      "(*Signal)  Lambda tau:\t4.69e+05\n",
      "(*Bkg.)    Lambda mu:\t2.23e+05\n",
      "(*Bkg.)    Inclusive:\t1.33e+04\n",
      "(*Bkg.)    Comb.:\t0.00e+00\n",
      "(*Bkg.)    Casc:\t2.95e+04\n",
      "(*Bkg.)    MisID:\t1.77e+03\n",
      "........................................\n",
      "# of Siganl (Lambda tau):     4.69e+05\n",
      "# of Bkg. for Lambda tau:     2.67e+05\n",
      "Significance for Lambda tau:  500\n",
      "Uncertainty for Lambda tau:   1.99886e-03 (2.00e-03)\n",
      "Uncertainty at 10 TeraZ:    6.32094e-04 (6.32e-04)\n",
      "S/B for Lambda tau:           1.76\n",
      "\n",
      "========================================\n",
      "\n",
      "#####   q^2 >= 7.15   #####\n",
      "\n",
      "(*Signal)  Lambda tau:\t1.28e+06\n",
      "(*Bkg.)    Lambda mu:\t2.77e+05\n",
      "(*Bkg.)    Inclusive:\t3.13e+04\n",
      "(*Bkg.)    Comb.:\t0.00e+00\n",
      "(*Bkg.)    Casc:\t1.30e+04\n",
      "(*Bkg.)    MisID:\t2.88e+03\n",
      "........................................\n",
      "# of Siganl (Lambda tau):     1.28e+06\n",
      "# of Bkg. for Lambda tau:     3.24e+05\n",
      "Significance for Lambda tau:  909\n",
      "Uncertainty for Lambda tau:   1.10016e-03 (1.10e-03)\n",
      "Uncertainty at 10 TeraZ:    3.47902e-04 (3.48e-04)\n",
      "S/B for Lambda tau:           3.96\n",
      "\n",
      "========================================\n",
      "\n",
      "\n",
      "\n",
      "\n",
      "\n",
      "\n",
      "#####   q^2 < 7.15   #####\n",
      "\n",
      "(*Bkg.)    Lambda tau:\t1.57e+05\n",
      "(*Signal)  Lambda mu:\t2.66e+07\n",
      "(*Bkg.)    Inclusive:\t1.61e+05\n",
      "(*Bkg.)    Comb.:\t0.00e+00\n",
      "(*Bkg.)    Casc:\t2.38e+04\n",
      "(*Bkg.)    MisID:\t2.30e+04\n",
      "........................................\n",
      "# of Siganl (Lambda mu):     2.66e+07\n",
      "# of Bkg. for Lambda mu:     3.66e+05\n",
      "Significance for Lambda mu:  4507\n",
      "Uncertainty for Lambda mu:   2.21884e-04 (2.22e-04)\n",
      "Uncertainty at 10 TeraZ:    7.01660e-05 (7.02e-05)\n",
      "S/B for Lambda mu:           72.70\n",
      "\n",
      "========================================\n",
      "\n",
      "#####   q^2 >= 7.15   #####\n",
      "\n",
      "(*Bkg.)    Lambda tau:\t1.05e+05\n",
      "(*Signal)  Lambda mu:\t1.60e+07\n",
      "(*Bkg.)    Inclusive:\t9.15e+04\n",
      "(*Bkg.)    Comb.:\t0.00e+00\n",
      "(*Bkg.)    Casc:\t2.54e+03\n",
      "(*Bkg.)    MisID:\t3.76e+03\n",
      "........................................\n",
      "# of Siganl (Lambda mu):     1.60e+07\n",
      "# of Bkg. for Lambda mu:     2.02e+05\n",
      "Significance for Lambda mu:  3497\n",
      "Uncertainty for Lambda mu:   2.85957e-04 (2.86e-04)\n",
      "Uncertainty at 10 TeraZ:    9.04277e-05 (9.04e-05)\n",
      "S/B for Lambda mu:           78.96\n",
      "\n",
      "========================================\n",
      "\n",
      "\n",
      "\n",
      "\n",
      "\n",
      "\n",
      "Overall Uncertainty (Low):  2.01e-03\n",
      "Overall Uncertainty 10-Tera Z (Low):  6.36e-04\n",
      "Overall Uncertainty (High): 1.14e-03\n",
      "Overall Uncertainty 10-Tera Z (High): 3.59e-04\n"
     ]
    }
   ],
   "source": [
    "uLow_tau, uHigh_tau, uLow_tau10, uHigh_tau10 = diff_measurement(df_bdt_test_s_cut_tau, 7.15, 0, Cs)\n",
    "\n",
    "print('\\n'*5)\n",
    "\n",
    "uLow_mu, uHigh_mu, uLow_mu10, uHigh_mu10 = diff_measurement(df_bdt_test_s_cut_mu, 7.15, 1, Cs)\n",
    "\n",
    "print('\\n'*5)\n",
    "\n",
    "print(\"Overall Uncertainty (Low):  {:.2e}\".format((uLow_tau**2 + uLow_mu**2)**0.5))\n",
    "print(\"Overall Uncertainty 10-Tera Z (Low):  {:.2e}\".format((uLow_mu10**2 + uLow_tau10**2)**0.5))\n",
    "print(\"Overall Uncertainty (High): {:.2e}\".format((uHigh_tau**2 + uHigh_mu**2)**0.5))\n",
    "print(\"Overall Uncertainty 10-Tera Z (High): {:.2e}\".format((uHigh_tau10**2 + uHigh_mu10**2)**0.5))\n"
   ]
  },
  {
   "cell_type": "code",
   "execution_count": null,
   "id": "49172ddf",
   "metadata": {},
   "outputs": [],
   "source": []
  },
  {
   "cell_type": "code",
   "execution_count": null,
   "id": "1bb6a3d4",
   "metadata": {},
   "outputs": [],
   "source": []
  },
  {
   "cell_type": "code",
   "execution_count": null,
   "id": "ee951031",
   "metadata": {},
   "outputs": [],
   "source": []
  },
  {
   "cell_type": "code",
   "execution_count": null,
   "id": "5acec62e",
   "metadata": {},
   "outputs": [],
   "source": []
  },
  {
   "cell_type": "code",
   "execution_count": null,
   "id": "cb21de50",
   "metadata": {},
   "outputs": [],
   "source": []
  },
  {
   "cell_type": "code",
   "execution_count": null,
   "id": "a4f56e14",
   "metadata": {},
   "outputs": [],
   "source": []
  },
  {
   "cell_type": "markdown",
   "id": "163b120e",
   "metadata": {},
   "source": [
    "## Saving Plots"
   ]
  },
  {
   "cell_type": "code",
   "execution_count": 1,
   "id": "00ac3520",
   "metadata": {},
   "outputs": [
    {
     "ename": "NameError",
     "evalue": "name 'df_test' is not defined",
     "output_type": "error",
     "traceback": [
      "\u001b[0;31m---------------------------------------------------------------------------\u001b[0m",
      "\u001b[0;31mNameError\u001b[0m                                 Traceback (most recent call last)",
      "Input \u001b[0;32mIn [1]\u001b[0m, in \u001b[0;36m<cell line: 1>\u001b[0;34m()\u001b[0m\n\u001b[0;32m----> 1\u001b[0m df_plot \u001b[38;5;241m=\u001b[39m \u001b[43mdf_test\u001b[49m\n",
      "\u001b[0;31mNameError\u001b[0m: name 'df_test' is not defined"
     ]
    }
   ],
   "source": [
    "df_plot = df_test\n",
    "# df_plot = pd.concat([df_train, df_test])"
   ]
  },
  {
   "cell_type": "code",
   "execution_count": 2,
   "id": "9afc1409",
   "metadata": {},
   "outputs": [
    {
     "ename": "NameError",
     "evalue": "name 'plt' is not defined",
     "output_type": "error",
     "traceback": [
      "\u001b[0;31m---------------------------------------------------------------------------\u001b[0m",
      "\u001b[0;31mNameError\u001b[0m                                 Traceback (most recent call last)",
      "Input \u001b[0;32mIn [2]\u001b[0m, in \u001b[0;36m<cell line: 1>\u001b[0;34m()\u001b[0m\n\u001b[0;32m----> 1\u001b[0m f \u001b[38;5;241m=\u001b[39m \u001b[43mplt\u001b[49m\u001b[38;5;241m.\u001b[39mfigure(figsize\u001b[38;5;241m=\u001b[39m(\u001b[38;5;241m8\u001b[39m,\u001b[38;5;241m6\u001b[39m))\n\u001b[1;32m      2\u001b[0m ax1 \u001b[38;5;241m=\u001b[39m plt\u001b[38;5;241m.\u001b[39msubplot(\u001b[38;5;241m111\u001b[39m)\n\u001b[1;32m      3\u001b[0m range_\u001b[38;5;241m=\u001b[39m[\u001b[38;5;241m0\u001b[39m,\u001b[38;5;241m50\u001b[39m]\n",
      "\u001b[0;31mNameError\u001b[0m: name 'plt' is not defined"
     ]
    }
   ],
   "source": [
    "f = plt.figure(figsize=(8,6))\n",
    "ax1 = plt.subplot(111)\n",
    "range_=[0,50]\n",
    "\n",
    "ax1.hist(df_plot[(df_plot.target==0)]['EB'], weights=df_plot[df_plot.target==0]['reweight']/sum(df_plot[df_plot.target==0]['reweight']), bins=20, range=range_, histtype='step', lw=3, label=r'$\\Lambda_b^0 \\to \\Lambda_c^- \\tau^+\\nu_\\tau$', alpha=0.5, color='C0');\n",
    "ax1.hist(df_plot[(df_plot.target==1)]['EB'], weights=df_plot[df_plot.target==1]['reweight']/sum(df_plot[df_plot.target==1]['reweight']), bins=20, range=range_, histtype='step', lw=3, label=r'$\\Lambda_b^0 \\to \\Lambda_c^- \\mu^+\\nu_\\mu$', alpha=0.5, color='C1');\n",
    "ax1.hist(df_plot[(df_plot.target!=0)&(df_plot.target!=1)]['EB'], weights=df_plot[(df_plot.target!=0)&(df_plot.target!=1)]['reweight']/sum(df_plot[(df_plot.target!=0)&(df_plot.target!=1)]['reweight']), bins=20, range=range_, histtype='step', lw=3, label=r'Bkg.', alpha=0.5, color='C2');\n",
    "\n",
    "ax1.legend(loc=2, fontsize=20)\n",
    "ax1.hist(df_plot[(df_plot.target==0)]['EBTrue'], weights=df_plot[df_plot.target==0]['reweight']/sum(df_plot[df_plot.target==0]['reweight']), bins=20, range=range_, histtype='step', lw=2, label=r'true $\\Lambda_b^0\\to \\Lambda_c^- \\tau^+\\nu$', alpha=0.5, color='C0', linestyle='--');\n",
    "ax1.hist(df_plot[(df_plot.target==1)]['EBTrue'], weights=df_plot[df_plot.target==1]['reweight']/sum(df_plot[df_plot.target==1]['reweight']), bins=20, range=range_, histtype='step', lw=2, label=r'true $\\Lambda_b^0\\to \\Lambda_c^- \\mu^+\\nu$', alpha=0.5, color='C1', linestyle='--');\n",
    "\n",
    "ax1.set_ylabel('Normalized distribution', fontsize=20)\n",
    "ax1.set_xlabel(r'$E_{\\Lambda_b^0}$ [GeV]', fontsize=20)\n",
    "ax1.set_yticks([])\n",
    "\n",
    "f.savefig('./figures/LambdabE')\n",
    "# f.savefig('./figures/LambdabE_20noise')\n",
    "\n",
    "\n",
    "X_mea0 = df_plot[(df_plot.target==0)]['EB']\n",
    "X_mea1 = df_plot[(df_plot.target==1)]['EB']\n",
    "X_tru0 = df_plot[(df_plot.target==0)]['EBTrue']\n",
    "X_tru1 = df_plot[(df_plot.target==1)]['EBTrue']\n",
    "\n",
    "X0 = X_mea0 - X_tru0\n",
    "X1 = X_mea1 - X_tru1\n",
    "\n",
    "W0 = df_plot[(df_plot.target==0)]['reweight']\n",
    "W1 = df_plot[(df_plot.target==1)]['reweight']\n",
    "\n",
    "X_Wmean0 = sum(X0 * W0) / sum(W0)\n",
    "X_Wmean1 = sum(X1 * W1) / sum(W1)\n",
    "\n",
    "print(\"error for tau mode: {:.2f}\".format((sum((X0 - X_Wmean0)**2 * W0) / (sum(W0)*(len(W0)-1)/len(W0)))**0.5))\n",
    "print(\"error for mu mode:  {:.2f}\".format((sum((X1 - X_Wmean1)**2 * W1) / (sum(W1)*(len(W1)-1)/len(W1)))**0.5))\n"
   ]
  },
  {
   "cell_type": "code",
   "execution_count": 3,
   "id": "861a5d98",
   "metadata": {},
   "outputs": [
    {
     "ename": "NameError",
     "evalue": "name 'plt' is not defined",
     "output_type": "error",
     "traceback": [
      "\u001b[0;31m---------------------------------------------------------------------------\u001b[0m",
      "\u001b[0;31mNameError\u001b[0m                                 Traceback (most recent call last)",
      "Input \u001b[0;32mIn [3]\u001b[0m, in \u001b[0;36m<cell line: 1>\u001b[0;34m()\u001b[0m\n\u001b[0;32m----> 1\u001b[0m f \u001b[38;5;241m=\u001b[39m \u001b[43mplt\u001b[49m\u001b[38;5;241m.\u001b[39mfigure(figsize\u001b[38;5;241m=\u001b[39m(\u001b[38;5;241m8\u001b[39m,\u001b[38;5;241m6\u001b[39m))\n\u001b[1;32m      2\u001b[0m ax1 \u001b[38;5;241m=\u001b[39m plt\u001b[38;5;241m.\u001b[39msubplot(\u001b[38;5;241m111\u001b[39m)\n\u001b[1;32m      3\u001b[0m range_\u001b[38;5;241m=\u001b[39m[\u001b[38;5;241m-\u001b[39m\u001b[38;5;241m10\u001b[39m,\u001b[38;5;241m13\u001b[39m]\n",
      "\u001b[0;31mNameError\u001b[0m: name 'plt' is not defined"
     ]
    }
   ],
   "source": [
    "f = plt.figure(figsize=(8,6))\n",
    "ax1 = plt.subplot(111)\n",
    "range_=[-10,13]\n",
    "\n",
    "ax1.hist(df_plot[(df_plot.target==0)]['q2'], weights=df_plot[df_plot.target==0]['reweight']/sum(df_plot[df_plot.target==0]['reweight']), bins=20, range=range_, histtype='step', lw=3, label=r'$\\Lambda_b^0 \\to \\Lambda_c^- \\tau^+\\nu_\\tau$', alpha=0.5, color='C0');\n",
    "ax1.hist(df_plot[(df_plot.target==1)]['q2'], weights=df_plot[df_plot.target==1]['reweight']/sum(df_plot[df_plot.target==1]['reweight']), bins=20, range=range_, histtype='step', lw=3, label=r'$\\Lambda_b^0 \\to \\Lambda_c^-  \\mu^+\\nu_\\mu$', alpha=0.5, color='C1');\n",
    "ax1.hist(df_plot[(df_plot.target!=0)&(df_plot.target!=1)]['q2'], weights=df_plot[(df_plot.target!=0)&(df_plot.target!=1)]['reweight']/sum(df_plot[(df_plot.target!=0)&(df_plot.target!=1)]['reweight']), bins=20, range=range_, histtype='step', lw=3, label=r'Bkg.', alpha=0.5, color='C2');\n",
    "\n",
    "ax1.legend(loc=2, fontsize=20)\n",
    "ax1.hist(df_plot[(df_plot.target==0)]['q2True'], weights=df_plot[df_plot.target==0]['reweight']/sum(df_plot[df_plot.target==0]['reweight']), bins=20, range=range_, histtype='step', lw=2, label=r'$\\Lambda_b^0\\to \\Lambda_c^- \\tau^+\\nu$', alpha=0.5, color='C0', linestyle='--');\n",
    "ax1.hist(df_plot[(df_plot.target==1)]['q2True'], weights=df_plot[df_plot.target==1]['reweight']/sum(df_plot[df_plot.target==1]['reweight']), bins=20, range=range_, histtype='step', lw=2, label=r'$\\Lambda_b^0\\to \\Lambda_c^- \\mu^+\\nu$', alpha=0.5, color='C1', linestyle='--');\n",
    "\n",
    "ax1.set_ylabel('Normalized distribution', fontsize=20)\n",
    "ax1.set_xlabel(r'$q^2$ [GeV$^2$]', fontsize=20)\n",
    "ax1.set_yticks([])\n",
    "\n",
    "f.savefig('./figures/Lambdabq2')\n",
    "# f.savefig('./figures/Lambdabq2_20noise')\n",
    "\n",
    "\n",
    "X_mea0 = df_plot[(df_plot.target==0)]['q2']\n",
    "X_mea1 = df_plot[(df_plot.target==1)]['q2']\n",
    "X_tru0 = df_plot[(df_plot.target==0)]['q2True']\n",
    "X_tru1 = df_plot[(df_plot.target==1)]['q2True']\n",
    "\n",
    "X0 = X_mea0 - X_tru0\n",
    "X1 = X_mea1 - X_tru1\n",
    "\n",
    "W0 = df_plot[(df_plot.target==0)]['reweight']\n",
    "W1 = df_plot[(df_plot.target==1)]['reweight']\n",
    "\n",
    "X_Wmean0 = sum(X0 * W0) / sum(W0)\n",
    "X_Wmean1 = sum(X1 * W1) / sum(W1)\n",
    "\n",
    "print(\"error for tau mode:  {:.2f}\".format((sum((X0 - X_Wmean0)**2 * W0) / (sum(W0)*(len(W0)-1)/len(W0)))**0.5))\n",
    "print(\"error for mu mode: {:.2f}\".format((sum((X1 - X_Wmean1)**2 * W1) / (sum(W1)*(len(W1)-1)/len(W1)))**0.5))\n"
   ]
  },
  {
   "cell_type": "code",
   "execution_count": 4,
   "id": "66825d4e",
   "metadata": {},
   "outputs": [
    {
     "ename": "NameError",
     "evalue": "name 'plt' is not defined",
     "output_type": "error",
     "traceback": [
      "\u001b[0;31m---------------------------------------------------------------------------\u001b[0m",
      "\u001b[0;31mNameError\u001b[0m                                 Traceback (most recent call last)",
      "Input \u001b[0;32mIn [4]\u001b[0m, in \u001b[0;36m<cell line: 1>\u001b[0;34m()\u001b[0m\n\u001b[0;32m----> 1\u001b[0m f \u001b[38;5;241m=\u001b[39m \u001b[43mplt\u001b[49m\u001b[38;5;241m.\u001b[39mfigure(figsize\u001b[38;5;241m=\u001b[39m(\u001b[38;5;241m8\u001b[39m,\u001b[38;5;241m6\u001b[39m))\n\u001b[1;32m      2\u001b[0m ax1 \u001b[38;5;241m=\u001b[39m plt\u001b[38;5;241m.\u001b[39msubplot(\u001b[38;5;241m111\u001b[39m)\n\u001b[1;32m      3\u001b[0m range_\u001b[38;5;241m=\u001b[39m[\u001b[38;5;241m-\u001b[39m\u001b[38;5;241m11\u001b[39m,\u001b[38;5;241m10\u001b[39m]\n",
      "\u001b[0;31mNameError\u001b[0m: name 'plt' is not defined"
     ]
    }
   ],
   "source": [
    "f = plt.figure(figsize=(8,6))\n",
    "ax1 = plt.subplot(111)\n",
    "range_=[-11,10]\n",
    "\n",
    "\n",
    "ax1.hist(df_plot[(df_plot.target==0)]['miss2'], weights=df_plot[df_plot.target==0]['reweight']/sum(df_plot[df_plot.target==0]['reweight']), bins=20, range=range_, histtype='step', lw=3, label=r'$\\Lambda_b^0 \\to \\Lambda_c^-  \\tau^+\\nu_\\tau$', alpha=0.5, color='C0');\n",
    "ax1.hist(df_plot[(df_plot.target==1)]['miss2'], weights=df_plot[df_plot.target==1]['reweight']/sum(df_plot[df_plot.target==1]['reweight']), bins=20, range=range_, histtype='step', lw=3, label=r'$\\Lambda_b^0 \\to \\Lambda_c^-  \\mu^+\\nu_\\mu$', alpha=0.5, color='C1');\n",
    "ax1.hist(df_plot[(df_plot.target!=0)&(df_plot.target!=1)]['miss2'], weights=df_plot[(df_plot.target!=0)&(df_plot.target!=1)]['reweight']/sum(df_plot[(df_plot.target!=0)&(df_plot.target!=1)]['reweight']), bins=20, range=range_, histtype='step', lw=3, label=r'Bkg.', alpha=0.5, color='C2');\n",
    "\n",
    "ax1.legend(loc=2, fontsize=20)\n",
    "ax1.hist(df_plot[(df_plot.target==0)]['miss2True'], weights=df_plot[df_plot.target==0]['reweight']/sum(df_plot[df_plot.target==0]['reweight']), bins=20, range=range_, histtype='step', lw=2, label=r'true $\\Lambda_b^0\\to \\Lambda_c^- \\tau^+\\nu$', alpha=0.5, color='C0', linestyle='--');\n",
    "ax1.hist(df_plot[(df_plot.target==1)]['miss2True'], weights=df_plot[df_plot.target==1]['reweight']/sum(df_plot[df_plot.target==1]['reweight']), bins=20, range=range_, histtype='step', lw=2, label=r'true $\\Lambda_b^0\\to \\Lambda_c^- \\mu^+\\nu$', alpha=0.5, color='C1', linestyle='--');\n",
    "\n",
    "ax1.set_ylabel('Normalized distribution', fontsize=20)\n",
    "ax1.set_xlabel(r'$m_{\\rm miss}^2$ [GeV$^2$]', fontsize=20)\n",
    "ax1.set_yticks([])\n",
    "\n",
    "f.savefig('./figures/Lambdabmiss2')\n",
    "# f.savefig('./figures/Lambdabmiss2_20noise')\n",
    "\n",
    "\n",
    "X_mea0 = df_plot[(df_plot.target==0)]['miss2']\n",
    "X_mea1 = df_plot[(df_plot.target==1)]['miss2']\n",
    "X_tru0 = df_plot[(df_plot.target==0)]['miss2True']\n",
    "X_tru1 = df_plot[(df_plot.target==1)]['miss2True']\n",
    "\n",
    "X0 = X_mea0 - X_tru0\n",
    "X1 = X_mea1 - X_tru1\n",
    "\n",
    "W0 = df_plot[(df_plot.target==0)]['reweight']\n",
    "W1 = df_plot[(df_plot.target==1)]['reweight']\n",
    "\n",
    "X_Wmean0 = sum(X0 * W0) / sum(W0)\n",
    "X_Wmean1 = sum(X1 * W1) / sum(W1)\n",
    "\n",
    "print(\"error for tau mode: {:.2f}\".format((sum((X0 - X_Wmean0)**2 * W0) / (sum(W0)*(len(W0)-1)/len(W0)))**0.5))\n",
    "print(\"error for mu mode: {:.2f}\".format((sum((X1 - X_Wmean1)**2 * W1) / (sum(W1)*(len(W1)-1)/len(W1)))**0.5))\n",
    "\n"
   ]
  },
  {
   "cell_type": "code",
   "execution_count": null,
   "id": "39f89131",
   "metadata": {},
   "outputs": [],
   "source": []
  },
  {
   "cell_type": "code",
   "execution_count": null,
   "id": "8edc844d",
   "metadata": {},
   "outputs": [],
   "source": []
  },
  {
   "cell_type": "code",
   "execution_count": 98,
   "id": "85f9d6da",
   "metadata": {},
   "outputs": [],
   "source": [
    "df_plot.loc[df_test_o.index, 'target'] = df_test_o.loc[df_test_o.index]\n",
    "df_plot.loc[df_train_o.index, 'target'] = df_train_o.loc[df_train_o.index]\n",
    "df_plot.loc[df_test.index, 'reweight'] = df_test.reweight\n",
    "df_plot.loc[df_train.index, 'reweight'] = df_train.reweight"
   ]
  },
  {
   "cell_type": "code",
   "execution_count": 101,
   "id": "adbd4b4e",
   "metadata": {},
   "outputs": [],
   "source": [
    "# separate CombCascade\n",
    "# 1. change label 4(misID)->5\n",
    "# 2. change label 3(Comb+Casc)->999\n",
    "# 3. loop over 999 and change to 3/4 (Comb/Casc)\n",
    "\n",
    "df_plot.loc[df_plot.target==4, 'target'] = 5\n",
    "df_plot.loc[df_plot.target==3, 'target'] = 999\n",
    "\n",
    "for ie in df_plot[df_plot.target==999]['iEvt']:\n",
    "    if (ie in comb_iEvt):\n",
    "        df_plot.loc[(df_plot.target==999) & (df_plot.iEvt==ie), 'target'] = 3\n",
    "    elif ie in [61828, 933894, 798288, 918589, 1024451, 241686, 470480]:\n",
    "        df_plot.loc[(df_plot.target==999) & (df_plot.iEvt==ie), 'target'] = 3\n",
    "        \n",
    "    elif (ie in casc_iEvt):\n",
    "        df_plot.loc[(df_plot.target==999) & (df_plot.iEvt==ie), 'target'] = 4\n",
    "    elif ie in [445699, 574269, 614352, 631440, 694582, 1033343, 244788, 135449, 753011, 958376]:\n",
    "        df_plot.loc[(df_plot.target==999) & (df_plot.iEvt==ie), 'target'] = 4\n",
    "    else:\n",
    "        print(\"Did not find such event:\", ie)\n",
    "\n"
   ]
  },
  {
   "cell_type": "code",
   "execution_count": 102,
   "id": "498e7a48",
   "metadata": {
    "scrolled": false
   },
   "outputs": [
    {
     "data": {
      "image/png": "[encoded data removed]",
      "text/plain": [
       "<Figure size 576x432 with 1 Axes>"
      ]
     },
     "metadata": {
      "needs_background": "light"
     },
     "output_type": "display_data"
    }
   ],
   "source": [
    "f = plt.figure(figsize=(8,6))\n",
    "ax1 = plt.subplot(111)\n",
    "range_=[-3,0.3]\n",
    "\n",
    "\n",
    "ax1.hist(np.log10(df_plot[(df_plot.target==0)]['sMinMuBVert']), weights=df_plot[df_plot.target==0]['reweight']/sum(df_plot[df_plot.target==0]['reweight']), bins=20, range=range_, histtype='step', lw=3, label=r'$\\Lambda_b^0 \\to \\Lambda_c^-  \\tau^+\\nu_\\tau$', alpha=0.5);\n",
    "ax1.hist(np.log10(df_plot[(df_plot.target==1)]['sMinMuBVert']), weights=df_plot[df_plot.target==1]['reweight']/sum(df_plot[df_plot.target==1]['reweight']), bins=20, range=range_, histtype='step', lw=3, label=r'$\\Lambda_b^0 \\to \\Lambda_c^-  \\mu^+\\nu_\\mu$', alpha=0.5);\n",
    "# ax1.hist(np.log10(df_plot[(df_plot.target!=0)&(df_plot.target!=1)]['sMinMuBVert']), weights=df_plot[(df_plot.target!=0)&(df_plot.target!=1)]['reweight']/sum(df_plot[(df_plot.target!=0)&(df_plot.target!=1)]['reweight']), bins=20, range=range_, histtype='step', lw=3, label=r'Bkg.', alpha=0.5);\n",
    "ax1.hist(np.log10(df_plot[(df_plot.target!=0)&(df_plot.target!=1)]['sMinMuBVert']), weights=df_plot[(df_plot.target!=0)&(df_plot.target!=1)]['reweight']/sum(df_plot[(df_plot.target!=0)&(df_plot.target!=1)]['reweight']), bins=20, range=range_, lw=3, label=r'Bkg.', alpha=0.25);\n",
    "# ax1.hist(np.log10(df_plot[(df_plot.target==3)]['sMinMuBVert']), weights=df_plot[df_plot.target==3]['reweight']/sum(df_plot[df_plot.target==3]['reweight']), bins=20, range=range_, histtype='step', lw=3, label=r'Comb+Cascade', alpha=0.5,color='C2');\n",
    "ax1.hist(np.log10(df_plot[(df_plot.target==4)]['sMinMuBVert']), weights=df_plot[df_plot.target==4]['reweight']/sum(df_plot[df_plot.target==4]['reweight']), bins=20, range=range_, histtype='step', lw=3, label=r'Casc.', alpha=0.5,color='C2', linestyle=':');\n",
    "ax1.hist(np.log10(df_plot[(df_plot.target==5)]['sMinMuBVert']), weights=df_plot[df_plot.target==5]['reweight']/sum(df_plot[df_plot.target==5]['reweight']), bins=20, range=range_, histtype='step', lw=3, label=r'Mis-ID', alpha=0.5,color='C2', linestyle='--');\n",
    "\n",
    "\n",
    "# ax1.hist(np.log10(df_plot[(df_plot.target==0)]['sMinMuHcVertTrue']), weights=df_plot[df_plot.target==0]['reweight'], bins=20, range=range_, histtype='step', lw=3, alpha=0.5, color='C0', linestyle='--');\n",
    "# ax1.hist(np.log10(df_plot[(df_plot.target==1)]['sMinMuHcVertTrue']), weights=df_plot[df_plot.target==1]['reweight'], bins=20, range=range_, histtype='step', lw=3, alpha=0.5, color='C1', linestyle='--');\n",
    "\n",
    "ax1.set_ylabel('Normalized distribution', fontsize=20)\n",
    "ax1.set_xlabel(r'$\\log{s_{\\rm SV}}$', fontsize=20)\n",
    "ax1.set_yticks([])\n",
    "ax1.legend(loc=2, fontsize=20)\n",
    "\n",
    "f.savefig('./figures/Lambdablogssv')\n",
    "# f.savefig('./figures/Lambdablogssv_20noise')\n"
   ]
  },
  {
   "cell_type": "code",
   "execution_count": null,
   "id": "9fbebd06",
   "metadata": {},
   "outputs": [],
   "source": []
  },
  {
   "cell_type": "code",
   "execution_count": 103,
   "id": "117cdf5b",
   "metadata": {},
   "outputs": [
    {
     "data": {
      "image/png": "[encoded data removed]",
      "text/plain": [
       "<Figure size 576x432 with 1 Axes>"
      ]
     },
     "metadata": {
      "needs_background": "light"
     },
     "output_type": "display_data"
    }
   ],
   "source": [
    "f = plt.figure(figsize=(8,6))\n",
    "ax1 = plt.subplot(111)\n",
    "range_=[0,10]\n",
    "\n",
    "\n",
    "ax1.hist(df_plot[(df_plot.target==0)]['ENeutral03Photon'], weights=df_plot[df_plot.target==0]['reweight']/sum(df_plot[df_plot.target==0]['reweight']), bins=20, range=range_, histtype='step', lw=3, label=r'$\\Lambda_b^0 \\to \\Lambda_c^- \\tau^+\\nu_\\tau$', alpha=0.5);\n",
    "ax1.hist(df_plot[(df_plot.target==1)]['ENeutral03Photon'], weights=df_plot[df_plot.target==1]['reweight']/sum(df_plot[df_plot.target==1]['reweight']), bins=20, range=range_, histtype='step', lw=3, label=r'$\\Lambda_b^0 \\to \\Lambda_c^- \\mu^+\\nu_\\mu$', alpha=0.5);\n",
    "# ax1.hist(df_plot[(df_plot.target!=0)&(df_plot.target!=1)]['ENeutral03Photon'], weights=df_plot[(df_plot.target!=0)&(df_plot.target!=1)]['reweight']/sum(df_plot[(df_plot.target!=0)&(df_plot.target!=1)]['reweight']), bins=20, range=range_, histtype='step', lw=3, label=r'Bkg.', alpha=0.5);\n",
    "ax1.hist(df_plot[(df_plot.target!=0)&(df_plot.target!=1)]['ENeutral03Photon'], weights=df_plot[(df_plot.target!=0)&(df_plot.target!=1)]['reweight']/sum(df_plot[(df_plot.target!=0)&(df_plot.target!=1)]['reweight']), bins=20, range=range_, lw=3, label=r'Bkg.', alpha=0.25);\n",
    "ax1.hist(df_plot[(df_plot.target==2)]['ENeutral03Photon'], weights=df_plot[df_plot.target==2]['reweight']/sum(df_plot[df_plot.target==2]['reweight']), bins=20, range=range_, histtype='step', lw=3, label=r'Incl.', alpha=0.5, color='C2', linestyle='-.');\n",
    "ax1.hist(df_plot[(df_plot.target==4)]['ENeutral03Photon'], weights=df_plot[df_plot.target==4]['reweight']/sum(df_plot[df_plot.target==4]['reweight']), bins=20, range=range_, histtype='step', lw=3, label=r'Casc.', alpha=0.5, color='C2', linestyle=':');\n",
    "\n",
    "\n",
    "ax1.set_ylabel('Normalized distribution', fontsize=20)\n",
    "ax1.set_xlabel(r'$I_\\gamma(0.3\\rm rad)$ [GeV]', fontsize=20)\n",
    "ax1.set_yticks([])\n",
    "ax1.legend(loc=1, fontsize=20)\n",
    "\n",
    "f.savefig('./figures/Lambdabisolation')\n"
   ]
  },
  {
   "cell_type": "code",
   "execution_count": null,
   "id": "ea371732",
   "metadata": {},
   "outputs": [],
   "source": []
  },
  {
   "cell_type": "code",
   "execution_count": 104,
   "id": "473841ec",
   "metadata": {
    "scrolled": false
   },
   "outputs": [
    {
     "ename": "NameError",
     "evalue": "name 'df_bdt_test_s' is not defined",
     "output_type": "error",
     "traceback": [
      "\u001b[0;31m---------------------------------------------------------------------------\u001b[0m",
      "\u001b[0;31mNameError\u001b[0m                                 Traceback (most recent call last)",
      "Input \u001b[0;32mIn [104]\u001b[0m, in \u001b[0;36m<cell line: 1>\u001b[0;34m()\u001b[0m\n\u001b[0;32m----> 1\u001b[0m df_plot \u001b[38;5;241m=\u001b[39m \u001b[43mdf_bdt_test_s\u001b[49m\n\u001b[1;32m      2\u001b[0m f \u001b[38;5;241m=\u001b[39m plt\u001b[38;5;241m.\u001b[39mfigure(figsize\u001b[38;5;241m=\u001b[39m(\u001b[38;5;241m8\u001b[39m,\u001b[38;5;241m6\u001b[39m))\n\u001b[1;32m      3\u001b[0m ax1 \u001b[38;5;241m=\u001b[39m plt\u001b[38;5;241m.\u001b[39msubplot(\u001b[38;5;241m111\u001b[39m)\n",
      "\u001b[0;31mNameError\u001b[0m: name 'df_bdt_test_s' is not defined"
     ]
    }
   ],
   "source": [
    "\n",
    "df_plot = df_bdt_test_s\n",
    "f = plt.figure(figsize=(8,6))\n",
    "ax1 = plt.subplot(111)\n",
    "pred0_max = df_plot['pred0'].max() \n",
    "pred0_min = df_plot['pred0'].min() \n",
    "pred0_diff = pred0_max - pred0_min\n",
    "range_=[0,1]\n",
    "# print(range_)\n",
    "\n",
    "ax1.margins(y=0.25)\n",
    "ax1.margins(x=0.1)\n",
    "\n",
    "bins_ = 20\n",
    "\n",
    "\n",
    "ax1.hist(df_plot[(df_plot.target==0)]['pred0'], weights=df_plot[df_plot.target==0]['reweight']/sum(df_plot[df_plot.target==0]['reweight']), bins=bins_, range=range_, histtype='step', lw=3, label=r'$\\Lambda_b^0 \\to \\Lambda_c^-\\tau^+\\nu_\\tau$', alpha=0.5);\n",
    "ax1.hist(df_plot[(df_plot.target==1)]['pred0'], weights=df_plot[df_plot.target==1]['reweight']/sum(df_plot[df_plot.target==1]['reweight']), bins=bins_, range=range_, histtype='step', lw=3, label=r'$\\Lambda_b^0 \\to \\Lambda_c^-\\mu^+\\nu_\\mu$', alpha=0.5);\n",
    "ax1.hist(df_plot[(df_plot.target!=0)&(df_plot.target!=1)]['pred0'], weights=df_plot[(df_plot.target!=0)&(df_plot.target!=1)]['reweight']/sum(df_plot[(df_plot.target!=0)&(df_plot.target!=1)]['reweight']), bins=bins_, range=range_, histtype='step', lw=3, label=r'Bkg.', alpha=0.5);\n",
    "ax1.set_ylabel('Normalized distribution', fontsize=20)\n",
    "ax1.set_xlabel(r'$y(\\Lambda_b^0 \\to \\Lambda_c^-\\tau^+\\nu_\\tau)$', fontsize=20)\n",
    "ax1.set_yticks([])\n",
    "ax1.legend(loc=1, fontsize=20)\n",
    "# ax1.axvline(c1, color='red', lw=3)\n",
    "ax1.axvline(c1, color='C4', lw=3, linestyle='--')\n",
    "\n",
    "f.savefig('./figures/LambdabtauBDT')\n"
   ]
  },
  {
   "cell_type": "code",
   "execution_count": 105,
   "id": "c57c60ca",
   "metadata": {},
   "outputs": [
    {
     "ename": "NameError",
     "evalue": "name 'df_bdt_test_s' is not defined",
     "output_type": "error",
     "traceback": [
      "\u001b[0;31m---------------------------------------------------------------------------\u001b[0m",
      "\u001b[0;31mNameError\u001b[0m                                 Traceback (most recent call last)",
      "Input \u001b[0;32mIn [105]\u001b[0m, in \u001b[0;36m<cell line: 1>\u001b[0;34m()\u001b[0m\n\u001b[0;32m----> 1\u001b[0m df_plot \u001b[38;5;241m=\u001b[39m \u001b[43mdf_bdt_test_s\u001b[49m\n\u001b[1;32m      2\u001b[0m f \u001b[38;5;241m=\u001b[39m plt\u001b[38;5;241m.\u001b[39mfigure(figsize\u001b[38;5;241m=\u001b[39m(\u001b[38;5;241m8\u001b[39m,\u001b[38;5;241m6\u001b[39m))\n\u001b[1;32m      3\u001b[0m ax1 \u001b[38;5;241m=\u001b[39m plt\u001b[38;5;241m.\u001b[39msubplot(\u001b[38;5;241m111\u001b[39m)\n",
      "\u001b[0;31mNameError\u001b[0m: name 'df_bdt_test_s' is not defined"
     ]
    }
   ],
   "source": [
    "\n",
    "df_plot = df_bdt_test_s\n",
    "f = plt.figure(figsize=(8,6))\n",
    "ax1 = plt.subplot(111)\n",
    "pred1_max = df_plot['pred1'].max() \n",
    "pred1_min = df_plot['pred1'].min() \n",
    "pred1_diff = pred1_max - pred1_min\n",
    "range_=[0,1]\n",
    "# print(range_)\n",
    "\n",
    "ax1.margins(y=0.25)\n",
    "ax1.margins(x=0.1)\n",
    "\n",
    "bins_ = 20\n",
    "\n",
    "\n",
    "\n",
    "ax1.hist(df_plot[(df_plot.target==0)]['pred1'], weights=df_plot[df_plot.target==0]['reweight']/sum(df_plot[df_plot.target==0]['reweight']), bins=bins_, range=range_, histtype='step', lw=3, label=r'$\\Lambda_b^0 \\to \\Lambda_c^-\\tau^+\\nu_\\tau$', alpha=0.5);\n",
    "ax1.hist(df_plot[(df_plot.target==1)]['pred1'], weights=df_plot[df_plot.target==1]['reweight']/sum(df_plot[df_plot.target==1]['reweight']), bins=bins_, range=range_, histtype='step', lw=3, label=r'$\\Lambda_b^0 \\to \\Lambda_c^-\\mu^+\\nu_\\mu$', alpha=0.5);\n",
    "ax1.hist(df_plot[(df_plot.target!=0)&(df_plot.target!=1)]['pred1'], weights=df_plot[(df_plot.target!=0)&(df_plot.target!=1)]['reweight']/sum(df_plot[(df_plot.target!=0)&(df_plot.target!=1)]['reweight']), bins=bins_, range=range_, histtype='step', lw=3, label=r'Bkg.', alpha=0.5);\n",
    "ax1.set_ylabel('Normalized distribution', fontsize=20)\n",
    "ax1.set_xlabel(r'$y(\\Lambda_b^0 \\to \\Lambda_c^-\\mu^+\\nu_\\mu)$', fontsize=20)\n",
    "ax1.set_yticks([])\n",
    "ax1.legend(loc=9, fontsize=20)\n",
    "ax1.axvline(c2, color='C4', lw=3, linestyle='--')\n",
    "\n",
    "f.savefig('./figures/LambdabmuBDT')\n"
   ]
  },
  {
   "cell_type": "code",
   "execution_count": null,
   "id": "6127435d",
   "metadata": {},
   "outputs": [],
   "source": []
  },
  {
   "cell_type": "code",
   "execution_count": null,
   "id": "b046b844",
   "metadata": {},
   "outputs": [],
   "source": []
  },
  {
   "cell_type": "code",
   "execution_count": 121,
   "id": "4bb926c2",
   "metadata": {},
   "outputs": [],
   "source": [
    "file = uproot.open('./features/mHC_Spectrum_LambdacTauNu_10Noise.root')\n",
    "df_mHc = pd.DataFrame(np.array(file['t']['features'].array()))\n",
    "df_mHc = df_mHc.set_index('iEvt')"
   ]
  },
  {
   "cell_type": "code",
   "execution_count": null,
   "id": "2b35e190",
   "metadata": {},
   "outputs": [],
   "source": []
  },
  {
   "cell_type": "code",
   "execution_count": null,
   "id": "49974256",
   "metadata": {},
   "outputs": [],
   "source": []
  },
  {
   "cell_type": "code",
   "execution_count": 163,
   "id": "0bd216a4",
   "metadata": {},
   "outputs": [
    {
     "data": {
      "image/png": "[encoded data removed]",
      "text/plain": [
       "<Figure size 432x288 with 1 Axes>"
      ]
     },
     "metadata": {
      "needs_background": "light"
     },
     "output_type": "display_data"
    }
   ],
   "source": [
    "df_mHc['mHc'] = 1000*(df_mHc['EHc']**2 - df_mHc['pHc']**2)**0.5\n",
    "range_=[2210, 2365]\n",
    "plt.hist(df_mHc['mHc'], range=range_, bins=100, histtype='step');\n",
    "plt.grid()"
   ]
  },
  {
   "cell_type": "code",
   "execution_count": 159,
   "id": "2cf9092c",
   "metadata": {},
   "outputs": [
    {
     "data": {
      "image/png": "[encoded data removed]",
      "text/plain": [
       "<Figure size 432x288 with 1 Axes>"
      ]
     },
     "metadata": {
      "needs_background": "light"
     },
     "output_type": "display_data"
    }
   ],
   "source": [
    "df_mHc['mHc'] = 1000*(df_mHc['EHc']**2 - df_mHc['pHc']**2)**0.5\n",
    "range_ = [2286.1965-0.7*11.68086, 2286.1965+0.7*11.68086]\n",
    "plt.hist(df_mHc['mHc'], range=range_, bins=100, histtype='step');\n",
    "plt.grid()"
   ]
  },
  {
   "cell_type": "code",
   "execution_count": 162,
   "id": "49ae49da",
   "metadata": {},
   "outputs": [
    {
     "data": {
      "text/plain": [
       "4.5"
      ]
     },
     "execution_count": 162,
     "metadata": {},
     "output_type": "execute_result"
    }
   ],
   "source": [
    "2288.5 - 2284"
   ]
  },
  {
   "cell_type": "code",
   "execution_count": null,
   "id": "8e00d768",
   "metadata": {},
   "outputs": [],
   "source": []
  },
  {
   "cell_type": "code",
   "execution_count": 164,
   "id": "ba3207a2",
   "metadata": {},
   "outputs": [
    {
     "data": {
      "text/plain": [
       "(2286.1965, 5.3720794)"
      ]
     },
     "execution_count": 164,
     "metadata": {},
     "output_type": "execute_result"
    }
   ],
   "source": [
    "df_mHc.mHc.mean(), df_mHc[(df_mHc.mHc>=2250) & (df_mHc.mHc<=2310)].mHc.std()"
   ]
  },
  {
   "cell_type": "code",
   "execution_count": null,
   "id": "b71f669c",
   "metadata": {},
   "outputs": [],
   "source": []
  },
  {
   "cell_type": "code",
   "execution_count": 170,
   "id": "272590a6",
   "metadata": {},
   "outputs": [
    {
     "data": {
      "text/plain": [
       "(2286.3504310885105, 4.52049389681472)"
      ]
     },
     "execution_count": 170,
     "metadata": {},
     "output_type": "execute_result"
    }
   ],
   "source": [
    "df_plot = df_test[df_test.target==0]\n",
    "\n",
    "mHc = 1000*(df_plot['EHc']**2 - df_plot['pHc']**2)**0.5\n",
    "W0 = df_plot[(df_plot.target==0)]['reweight']\n",
    "\n",
    "X_Wmean0 = sum(mHc * W0) / sum(W0)\n",
    "\n",
    "X_Wstd0 = (sum((mHc - X_Wmean0)**2 * W0) / (sum(W0)*(len(W0)-1)/len(W0)))**0.5\n",
    "\n",
    "X_Wmean0, X_Wstd0"
   ]
  },
  {
   "cell_type": "code",
   "execution_count": null,
   "id": "564d1632",
   "metadata": {},
   "outputs": [],
   "source": []
  },
  {
   "cell_type": "code",
   "execution_count": 194,
   "id": "ef20842d",
   "metadata": {},
   "outputs": [
    {
     "data": {
      "image/png": "[encoded data removed]",
      "text/plain": [
       "<Figure size 576x432 with 1 Axes>"
      ]
     },
     "metadata": {
      "needs_background": "light"
     },
     "output_type": "display_data"
    }
   ],
   "source": [
    "f = plt.figure(figsize=(8,6))\n",
    "ax1 = plt.subplot(111)\n",
    "range_=[2210, 2365]\n",
    "bins_=100\n",
    "\n",
    "\n",
    "mHc = 1000*(df_plot['EHc']**2 - df_plot['pHc']**2)**0.5\n",
    "\n",
    "ax1.hist(mHc, weights=df_plot['reweight']/sum(df_plot['reweight']), bins=bins_, range=range_, histtype='step', lw=3, label=r'$\\Lambda_b^0 \\to \\Lambda_c^- \\tau^+\\nu_\\tau$', alpha=0.5, color='C0');\n",
    "# ax1.hist(df_plot[(df_plot.target==1)]['q2'], weights=df_plot[df_plot.target==1]['reweight']/sum(df_plot[df_plot.target==1]['reweight']), bins=20, range=range_, histtype='step', lw=3, label=r'$\\Lambda_b^0 \\to \\Lambda_c^-  \\mu^+\\nu_\\mu$', alpha=0.5, color='C1');\n",
    "# ax1.hist(df_plot[(df_plot.target!=0)&(df_plot.target!=1)]['q2'], weights=df_plot[(df_plot.target!=0)&(df_plot.target!=1)]['reweight']/sum(df_plot[(df_plot.target!=0)&(df_plot.target!=1)]['reweight']), bins=20, range=range_, histtype='step', lw=3, label=r'Bkg.', alpha=0.5, color='C2');\n",
    "\n",
    "# ax1.legend(loc=2, fontsize=20)\n",
    "# ax1.hist(df_plot[(df_plot.target==0)]['q2True'], weights=df_plot[df_plot.target==0]['reweight']/sum(df_plot[df_plot.target==0]['reweight']), bins=20, range=range_, histtype='step', lw=2, label=r'$\\Lambda_b^0\\to \\Lambda_c^- \\tau^+\\nu$', alpha=0.5, color='C0', linestyle='--');\n",
    "# ax1.hist(df_plot[(df_plot.target==1)]['q2True'], weights=df_plot[df_plot.target==1]['reweight']/sum(df_plot[df_plot.target==1]['reweight']), bins=20, range=range_, histtype='step', lw=2, label=r'$\\Lambda_b^0\\to \\Lambda_c^- \\mu^+\\nu$', alpha=0.5, color='C1', linestyle='--');\n",
    "\n",
    "# ax2 = ax1.twinx()\n",
    "# ax1.plot(x_axis, norm.pdf(x_axis,X_Wmean0,X_Wstd0))\n",
    "ax1.set_ylabel('Normalized distribution', fontsize=20)\n",
    "ax1.set_xlabel(r'$m(pK\\pi)$ [MeV]', fontsize=20);\n",
    "# ax1.set_yticks([])\n"
   ]
  },
  {
   "cell_type": "code",
   "execution_count": 98,
   "id": "768cbb08",
   "metadata": {},
   "outputs": [],
   "source": [
    "W0 = df_plot[(df_plot.target==0)]['reweight']\n",
    "\n",
    "X_Wmean0 = sum(mHc * W0) / sum(W0)\n",
    "\n",
    "X_Wstd0 = (sum((mHc - X_Wmean0)**2 * W0) / (sum(W0)*(len(W0)-1)/len(W0)))**0.5"
   ]
  },
  {
   "cell_type": "code",
   "execution_count": 172,
   "id": "1404db7d",
   "metadata": {},
   "outputs": [
    {
     "data": {
      "image/png": "[encoded data removed]",
      "text/plain": [
       "<Figure size 432x288 with 1 Axes>"
      ]
     },
     "metadata": {
      "needs_background": "light"
     },
     "output_type": "display_data"
    }
   ],
   "source": [
    "from scipy.stats import norm\n",
    "\n",
    "# Plot between -10 and 10 with .001 steps.\n",
    "x_axis = np.arange(range_[0], range_[1], 0.001)\n",
    "# Mean = 0, SD = 2.\n",
    "plt.plot(x_axis, norm.pdf(x_axis,X_Wmean0,X_Wstd0))\n",
    "plt.show()"
   ]
  },
  {
   "cell_type": "code",
   "execution_count": null,
   "id": "f582b82a",
   "metadata": {},
   "outputs": [],
   "source": []
  }
 ],
 "metadata": {
  "kernelspec": {
   "display_name": "Python 3 (ipykernel)",
   "language": "python",
   "name": "python3"
  },
  "language_info": {
   "codemirror_mode": {
    "name": "ipython",
    "version": 3
   },
   "file_extension": ".py",
   "mimetype": "text/x-python",
   "name": "python",
   "nbconvert_exporter": "python",
   "pygments_lexer": "ipython3",
   "version": "3.10.2"
  }
 },
 "nbformat": 4,
 "nbformat_minor": 5
}
