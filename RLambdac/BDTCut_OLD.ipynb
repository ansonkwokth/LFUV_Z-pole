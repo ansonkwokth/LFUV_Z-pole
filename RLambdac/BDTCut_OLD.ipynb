{
 "cells": [
  {
   "cell_type": "code",
   "execution_count": null,
   "id": "78270a7b",
   "metadata": {},
   "outputs": [],
   "source": [
    "# OLD: using the old .root data directly from Freddie\n",
    "# New version is using the pythia code and simulated. Since there is no .hepmc from Freddie\n",
    "# need to get the .hepmc again for IDEA card comparion.\n"
   ]
  },
  {
   "cell_type": "code",
   "execution_count": 221,
   "id": "4255cc33-315a-4071-9c33-fbf9a930ac75",
   "metadata": {},
   "outputs": [],
   "source": [
    "import uproot\n",
    "import pandas as pd\n",
    "import numpy as np\n",
    "import matplotlib.pyplot as plt\n",
    "import xgboost as xgb\n",
    "\n",
    "\n",
    "import warnings\n",
    "warnings.filterwarnings(\"ignore\")"
   ]
  },
  {
   "cell_type": "markdown",
   "id": "7d1fdbbe",
   "metadata": {},
   "source": [
    "## Theoretical $q^2$"
   ]
  },
  {
   "cell_type": "code",
   "execution_count": 222,
   "id": "75d024d4-b466-46e5-9445-9da8e87aaa6d",
   "metadata": {},
   "outputs": [],
   "source": [
    "def dGammaLambdacmu(q2):\n",
    "    return 4.73286*10**(-7) * (1 - 0.011025/q2)**2 * q2 * np.sqrt(1024.56 + q2**2 - 2 * (165.091 + 36.8068 * q2)) * \\\n",
    "            ((-((np.sqrt(2) * (1.0809 - (11.6259 * (-7.16904 + np.sqrt(62.5044 - q2)))/(7.16904 + \\\n",
    "            np.sqrt(62.5044 - q2))) * np.sqrt(11.1092 - q2))/(1 - 0.0249412 * q2)) - (np.sqrt(2) * (\\\n",
    "            0.6876 - (6.787 * (-7.16904 + np.sqrt(62.5044 - q2)))/(7.16904 + np.sqrt(62.5044 - q2))) * np.sqrt(62.5044 - q2))/(\\\n",
    "            1 - 0.0218313 * q2))**2 + (-((np.sqrt(2) * (1.0809 - (11.6259 * (-7.16904 + np.sqrt(62.5044 - q2)))/(\\\n",
    "            7.16904 + np.sqrt(62.5044 - q2))) * np.sqrt(11.1092 - q2))/(1 - 0.0249412 * q2)) + (np.sqrt(2) * (\\\n",
    "            0.6876 - (6.787 * (-7.16904 + np.sqrt(62.5044 - q2)))/(7.16904 + np.sqrt(62.5044 - q2))) * np.sqrt(62.5044 - q2))/(\\\n",
    "            1 - 0.0218313 * q2))**2 + (1/np.sqrt(q2) * np.sqrt(11.1092 - q2) * (7.90597 * ((62.5044 * (-((1.0809 - \\\n",
    "            (11.6259 * (-7.16904 + np.sqrt(62.5044 - q2)))/(7.16904 + np.sqrt(62.5044 - q2)))/(1 - 0.0249412 * q2)) + (\\\n",
    "            0.8137 - (8.5673 * (-7.16904 + np.sqrt(62.5044 - q2)))/(7.16904 + np.sqrt(62.5044 - q2)))/(1 - 0.0249412 * q2)))/(\\\n",
    "            62.5044 - q2) + (1.0809 - (11.6259 * (-7.16904 + np.sqrt(62.5044 - q2)))/(7.16904 + np.sqrt(62.5044 - q2)))/(\\\n",
    "            1 - 0.0249412 * q2)) - (7.90597 * (-((1.0809 - (11.6259 * (-7.16904 + np.sqrt(62.5044 - q2)))/(\\\n",
    "            7.16904 + np.sqrt(62.5044 - q2)))/(1 - 0.0249412 * q2)) + (0.8137 - (8.5673 * (-7.16904 + np.sqrt(62.5044 - q2)))/(\\\n",
    "            7.16904 + np.sqrt(62.5044 - q2)))/(1 - 0.0249412 * q2)) * q2)/(62.5044 - q2)) - 1/np.sqrt(q2) * np.sqrt(62.5044 -\\\n",
    "            q2) * (3.33305 * ((0.6876 - (6.787 * (-7.16904 + np.sqrt(62.5044 - q2)))/(7.16904 + np.sqrt(62.5044 - q2)))/(\\\n",
    "            1 - 0.0218313 * q2) - (11.1092 * (-((0.6876 - (6.787 * (-7.16904 + np.sqrt(62.5044 - q2)))/(7.16904 + np.sqrt(\\\n",
    "            62.5044 - q2)))/(1 - 0.0218313 * q2)) + (0.6876 - (6.5556 * (-7.16904 + np.sqrt(62.5044 - q2)))/(\\\n",
    "            7.16904 + np.sqrt(62.5044 - q2)))/(1 - 0.0218313 * q2)))/(-11.1092 + q2)) - (3.33305 * (-((0.6876 - (6.787 *\\\n",
    "            (-7.16904 + np.sqrt(62.5044 - q2)))/(7.16904 + np.sqrt(62.5044 - q2)))/(1 - 0.0218313 * q2)) + (\\\n",
    "            0.6876 - (6.5556 * (-7.16904 + np.sqrt(62.5044 - q2)))/(7.16904 + np.sqrt(62.5044 - q2)))/(1 - 0.0218313 * q2)) *\\\n",
    "            q2)/(-11.1092 + q2)))**2 + (1/np.sqrt(q2) * np.sqrt(11.1092 - q2) * (7.90597 * ((62.5044 * (-((\\\n",
    "            1.0809 - (11.6259 * (-7.16904 + np.sqrt(62.5044 - q2)))/(7.16904 + np.sqrt(62.5044 - q2)))/(1 - 0.0249412 * q2)) +\\\n",
    "            (0.8137 - (8.5673 * (-7.16904 + np.sqrt(62.5044 - q2)))/(7.16904 + np.sqrt(62.5044 - q2)))/(1 - 0.0249412 * q2)))/(\\\n",
    "            62.5044 - q2) + (1.0809 - (11.6259 * (-7.16904 + np.sqrt(62.5044 - q2)))/(7.16904 + np.sqrt(62.5044 - q2)))/(\\\n",
    "            1 - 0.0249412 * q2)) - (7.90597 * (-((1.0809 - (11.6259 * (-7.16904 + np.sqrt(62.5044 - q2)))/(\\\n",
    "            7.16904 + np.sqrt(62.5044 - q2)))/(1 - 0.0249412 * q2)) + (0.8137 - (8.5673 * (-7.16904 + np.sqrt(62.5044 - q2)))/(\\\n",
    "            7.16904 + np.sqrt(62.5044 - q2)))/(1 - 0.0249412 * q2)) * q2)/(62.5044 - q2)) + 1/np.sqrt(q2) * np.sqrt(62.5044 -\\\n",
    "            q2) * (3.33305 * ((0.6876 - (6.787 * (-7.16904 + np.sqrt(62.5044 - q2)))/(7.16904 + np.sqrt(62.5044 - q2)))/(\\\n",
    "            1 - 0.0218313 * q2) - (11.1092 * (-((0.6876 - (6.787 * (-7.16904 + np.sqrt(62.5044 - q2)))/(\\\n",
    "            7.16904 + np.sqrt(62.5044 - q2)))/(1 - 0.0218313 * q2)) + (0.6876 - (6.5556 * (-7.16904 + np.sqrt(62.5044 - q2)))/(\\\n",
    "            7.16904 + np.sqrt(62.5044 - q2)))/(1 - 0.0218313 * q2)))/(-11.1092 + q2)) - (3.33305 * (-((\n",
    "            0.6876 - (6.787 * (-7.16904 + np.sqrt(62.5044 - q2)))/(7.16904 + np.sqrt(62.5044 - q2)))/(1 - 0.0218313 * q2)) + (\\\n",
    "            0.6876 - (6.5556 * (-7.16904 + np.sqrt(62.5044 - q2)))/(7.16904 + np.sqrt(62.5044 - q2)))/(1 - 0.0218313 * q2)) *\\\n",
    "            q2)/(-11.1092 + q2)))**2 + 1/q2 * 0.0055125 * (3 * ((-(1/np.sqrt(q2)) * (7.90597 * ((0.6876 - (6.787 * (-7.16904 +\\\n",
    "            np.sqrt(62.5044 - q2)))/(7.16904 + np.sqrt(62.5044 - q2)))/(1 - 0.0218313 * q2) - (11.1092 * (-((0.6876 - \\\n",
    "            (6.787 * (-7.16904 + np.sqrt(62.5044 - q2)))/(7.16904 + np.sqrt(62.5044 - q2)))/(1 - 0.0218313 * q2)) + (\\\n",
    "            0.6876 - (6.5556 * (-7.16904 + np.sqrt(62.5044 - q2)))/(7.16904 + np.sqrt(62.5044 - q2)))/(1 - 0.0218313 * q2)))/(\\\n",
    "            -11.1092 + q2)) - 7.90597 * ((0.7446 - (7.7216 * (-7.16904 + np.sqrt(62.5044 - q2)))/(7.16904 + np.sqrt(62.5044\\\n",
    "            - q2)))/(1 - 0.0253883 * q2) - (0.6876 - (6.787 * (-7.16904 + np.sqrt(62.5044 - q2)))/(7.16904 + np.sqrt(62.5044\\\n",
    "            - q2)))/(1 - 0.0218313 * q2) + (11.1092 * (-((0.6876 - (6.787 * (-7.16904 + np.sqrt(62.5044 - q2)))/(7.16904 + \\\n",
    "            np.sqrt(62.5044 - q2)))/(1 - 0.0218313 * q2)) + (0.6876 - (6.5556 * (-7.16904 + np.sqrt(62.5044 - q2)))/(\\\n",
    "            7.16904 + np.sqrt(62.5044 - q2)))/(1 - 0.0218313 * q2)))/(-11.1092 + q2))) * np.sqrt(11.1092 - q2) + 1/np.sqrt(q2) \\\n",
    "            * (3.33305 * ((62.5044 * (-((1.0809 - (11.6259 * (-7.16904 + np.sqrt(62.5044 - q2)))/(7.16904 + np.sqrt(62.5044 - \\\n",
    "            q2)))/(1 - 0.0249412 * q2)) + (0.8137 - (8.5673 * (-7.16904 + np.sqrt(62.5044 - q2)))/(7.16904 + np.sqrt(62.5044 -\\\n",
    "            q2)))/(1 - 0.0249412 * q2)))/(62.5044 - q2) + (1.0809 - (11.6259 * (-7.16904 + np.sqrt(62.5044 - q2)))/(\\\n",
    "            7.16904 + np.sqrt(62.5044 - q2)))/(1 - 0.0249412 * q2)) + 3.33305 * (-((62.5044 * (-((1.0809 - (11.6259 * \\\n",
    "            (-7.16904 + np.sqrt(62.5044 - q2)))/(7.16904 + np.sqrt(62.5044 - q2)))/(1 - 0.0249412 * q2)) + (0.8137 - (\\\n",
    "            8.5673 * (-7.16904 + np.sqrt(62.5044 - q2)))/(7.16904 + np.sqrt(62.5044 - q2)))/(1 - 0.0249412 * q2)))/(62.5044 -\\\n",
    "            q2)) - (1.0809 - (11.6259 * (-7.16904 + np.sqrt(62.5044 - q2)))/(7.16904 + np.sqrt(62.5044 - q2)))/(1 - 0.0249412 \\\n",
    "            * q2) + (0.7494 - (7.253 * (-7.16904 + np.sqrt(62.5044 - q2)))/(7.16904 + np.sqrt(62.5044 - q2)))/(1 - 0.0221114 *q2)\\\n",
    "            )) * np.sqrt(62.5044 - q2))**2 + (1/np.sqrt(q2) * (7.90597 * ((0.6876 - (6.787 * (-7.16904 + np.sqrt(62.5044 - q2)))/(\\\n",
    "            7.16904 + np.sqrt(62.5044 - q2)))/(1 - 0.0218313 * q2) - (11.1092 * (-((0.6876 - (6.787 * (-7.16904 + \\\n",
    "            np.sqrt(62.5044 - q2)))/(7.16904 + np.sqrt(62.5044 - q2)))/(1 - 0.0218313 * q2)) + (0.6876 - (6.5556 *\\\n",
    "            (-7.16904 + np.sqrt(62.5044 - q2)))/(7.16904 + np.sqrt(62.5044 - q2)))/(1 - 0.0218313 * q2)))/(-11.1092 + q2)) - \\\n",
    "            7.90597 * ((0.7446 - (7.7216 * (-7.16904 + np.sqrt(62.5044 - q2)))/(7.16904 + np.sqrt(62.5044 - q2)))/(1 - \\\n",
    "            0.0253883 * q2) - (0.6876 - (6.787 * (-7.16904 + np.sqrt(62.5044 - q2)))/(7.16904 + np.sqrt(62.5044 - q2)))/(\\\n",
    "            1 - 0.0218313 * q2) + (11.1092 * (-((0.6876 - (6.787 * (-7.16904 + np.sqrt(62.5044 - q2)))/(7.16904 + \\\n",
    "            np.sqrt(62.5044 - q2)))/(1 - 0.0218313 * q2)) + ( 0.6876 - ( 6.5556 * (-7.16904 + np.sqrt(62.5044 - q2)))/(\\\n",
    "            7.16904 + np.sqrt(62.5044 - q2)))/( 1 - 0.0218313 * q2)))/(-11.1092 + q2))) * np.sqrt(11.1092 - q2) + 1/np.sqrt(q2) \\\n",
    "            * (3.33305 * ((62.5044 * (-((1.0809 - ( 11.6259 * (-7.16904 + np.sqrt(62.5044 - q2)))/( 7.16904 + np.sqrt(62.5044 \\\n",
    "            - q2)))/( 1 - 0.0249412 * q2)) + ( 0.8137 - ( 8.5673 * (-7.16904 + np.sqrt(62.5044 - q2)))/( 7.16904 + \\\n",
    "            np.sqrt(62.5044 - q2)))/( 1 - 0.0249412 * q2)))/(62.5044 - q2) + ( 1.0809 - (11.6259 * (-7.16904 + \\\n",
    "            np.sqrt(62.5044 - q2)))/( 7.16904 + np.sqrt(62.5044 - q2)))/(1 - 0.0249412 * q2)) + 3.33305 * (-(( 62.5044 * \\\n",
    "            (-(( 1.0809 - ( 11.6259 * (-7.16904 + np.sqrt(62.5044 - q2)))/( 7.16904 + np.sqrt(62.5044 - q2)))/( 1 - 0.0249412 \\\n",
    "            * q2)) + ( 0.8137 - ( 8.5673 * (-7.16904 + np.sqrt(62.5044 - q2)))/( 7.16904 + np.sqrt(62.5044 - q2)))/( 1 - \\\n",
    "            0.0249412 * q2)))/(62.5044 - q2)) - ( 1.0809 - (11.6259 * (-7.16904 + np.sqrt(62.5044 - q2)))/(7.16904 + \\\n",
    "            np.sqrt(62.5044 - q2)))/(1 - 0.0249412 * q2) + ( 0.7494 - (7.253 * (-7.16904 + np.sqrt(62.5044 - q2)))/(7.16904 + \\\n",
    "            np.sqrt(62.5044 - q2)))/( 1 - 0.0221114 *q2))) * np.sqrt(62.5044 - q2))**2) + (-((np.sqrt(2) * (1.0809 - (11.6259 * \\\n",
    "            (-7.16904 + np.sqrt(62.5044 - q2)))/(7.16904 + np.sqrt(62.5044 - q2))) * np.sqrt(11.1092 - q2))/(1 - 0.0249412 * q2)) \\\n",
    "            - (np.sqrt(2) * (0.6876 - (6.787 * (-7.16904 + np.sqrt(62.5044 - q2)))/(7.16904 + np.sqrt(62.5044 - q2))) * \\\n",
    "            np.sqrt(62.5044 - q2))/(1 - 0.0218313 * q2))**2 + (-((np.sqrt(2) * (1.0809 - (11.6259 * (-7.16904 + \\\n",
    "            np.sqrt(62.5044 - q2)))/(7.16904 + np.sqrt(62.5044 - q2))) * np.sqrt(11.1092 - q2))/(1 - 0.0249412 * q2)) + (\\\n",
    "            np.sqrt(2) * (0.6876 - (6.787 * (-7.16904 + np.sqrt(62.5044 - q2)))/(7.16904 + np.sqrt(62.5044 - q2))) * \\\n",
    "            np.sqrt(62.5044 - q2))/(1 - 0.0218313 * q2))**2 + (1/np.sqrt(q2) * np.sqrt(11.1092 - q2) * (7.90597 * ((\\\n",
    "            62.5044 * (-((1.0809 - (11.6259 * (-7.16904 + np.sqrt(62.5044 - q2)))/(7.16904 + np.sqrt(62.5044 - q2)))/(\\\n",
    "            1 - 0.0249412 * q2)) + (0.8137 - (8.5673 * (-7.16904 + np.sqrt(62.5044 - q2)))/(7.16904 + np.sqrt(62.5044 - q2)))/(\\\n",
    "            1 - 0.0249412 * q2)))/(62.5044 - q2) + (1.0809 - (11.6259 * (-7.16904 + np.sqrt(62.5044 - q2)))/( 7.16904 + \\\n",
    "            np.sqrt(62.5044 - q2)))/(1 - 0.0249412 * q2)) - (7.90597 * (-(( 1.0809 - (11.6259 * (-7.16904 + np.sqrt(62.5044 - \\\n",
    "            q2)))/(7.16904 + np.sqrt(62.5044 - q2)))/(1 - 0.0249412 * q2)) + (0.8137 - (8.5673 * (-7.16904 + np.sqrt(62.5044 \\\n",
    "            - q2)))/( 7.16904 + np.sqrt(62.5044 - q2)))/(1 - 0.0249412 * q2)) * q2)/(62.5044 - q2)) - 1/np.sqrt(q2) * np.sqrt(\\\n",
    "            62.5044 - q2) * (3.33305 * ((0.6876 - (6.787 * (-7.16904 + np.sqrt(62.5044 - q2)))/(7.16904 + np.sqrt(62.5044 - \\\n",
    "            q2)))/(1 - 0.0218313 * q2) - (11.1092 * (-((0.6876 - (6.787 * (-7.16904 + np.sqrt(62.5044 - q2)))/(7.16904 + \\\n",
    "            np.sqrt(62.5044 - q2)))/( 1 - 0.0218313 * q2)) + (0.6876 - (6.5556 * (-7.16904 + np.sqrt(62.5044 - q2)))/(\\\n",
    "            7.16904 + np.sqrt(62.5044 - q2)))/( 1 - 0.0218313 * q2)))/(-11.1092 + q2)) - (3.33305 * (-((0.6876 - (6.787 * \\\n",
    "            (-7.16904 + np.sqrt(62.5044 - q2)))/(7.16904 + np.sqrt(62.5044 - q2)))/(1 - 0.0218313 * q2)) + (0.6876 - (6.5556 * \\\n",
    "            (-7.16904 + np.sqrt(62.5044 - q2)))/(7.16904 + np.sqrt(62.5044 - q2)))/(1 - 0.0218313 * q2)) * q2)/(-11.1092 + \\\n",
    "            q2)))**2 + (1/np.sqrt(q2)* np.sqrt(11.1092 - q2) * (7.90597 * ((62.5044 * (-((1.0809 - (11.6259 * (-7.16904 + \\\n",
    "            np.sqrt(62.5044 - q2)))/(7.16904 + np.sqrt(62.5044 - q2)))/(1 - 0.0249412 * q2)) + (0.8137 - (8.5673 * (-7.16904 \\\n",
    "            + np.sqrt(62.5044 - q2)))/(7.16904 + np.sqrt(62.5044 - q2)))/( 1 - 0.0249412 * q2)))/(62.5044 - q2) + (1.0809 - \\\n",
    "            (11.6259 * (-7.16904 + np.sqrt(62.5044 - q2)))/( 7.16904 + np.sqrt(62.5044 - q2)))/(1 - 0.0249412 * q2)) - (\\\n",
    "            7.90597 * (-(( 1.0809 - (11.6259 * (-7.16904 + np.sqrt(62.5044 - q2)))/( 7.16904 + np.sqrt(62.5044 - q2)))/(1 - \\\n",
    "            0.0249412 * q2)) + (0.8137 - (8.5673 * (-7.16904 + np.sqrt(62.5044 - q2)))/(7.16904 + np.sqrt(62.5044 - q2)))/(\\\n",
    "            1 - 0.0249412 * q2)) * q2)/(62.5044 - q2)) + 1/np.sqrt(q2) * np.sqrt(62.5044 - q2) * (3.33305 * ((0.6876 - (6.787 *\\\n",
    "            (-7.16904 + np.sqrt(62.5044 - q2)))/(7.16904 + np.sqrt(62.5044 - q2)))/(1 - 0.0218313 * q2) - (11.1092 * (-((\\\n",
    "            0.6876 - (6.787 * (-7.16904 + np.sqrt(62.5044 - q2)))/( 7.16904 + np.sqrt(62.5044 - q2)))/( 1 - 0.0218313 * q2)) + \\\n",
    "            (0.6876 - (6.5556 * (-7.16904 + np.sqrt(62.5044 - q2)))/( 7.16904 + np.sqrt(62.5044 - q2)))/( 1 - 0.0218313 * \\\n",
    "            q2)))/(-11.1092 + q2)) - (3.33305 * (-((0.6876 - (6.787 * (-7.16904 + np.sqrt(62.5044 - q2)))/(7.16904 + \\\n",
    "            np.sqrt(62.5044 - q2)))/(1 - 0.0218313 * q2)) + (0.6876 - (6.5556 * (-7.16904 + np.sqrt(62.5044 - q2)))/(\\\n",
    "            7.16904 + np.sqrt(62.5044 - q2)))/(1 - 0.0218313 * q2)) * q2)/(-11.1092 + q2)))**2))\n",
    "\n",
    "\n",
    "\n",
    "\n",
    "\n"
   ]
  },
  {
   "cell_type": "code",
   "execution_count": 223,
   "id": "4d466d8f",
   "metadata": {},
   "outputs": [],
   "source": [
    "def dGammaLambdactau(q2):\n",
    "    return 4.73286*10**-7 * (1 - 3.16128/q2)**2 * q2 * np.sqrt( 1024.56 + q2**2 -   2 * (165.091 +  36.8068 * q2)) * ((-((\\\n",
    "            np.sqrt(2) * (1.0809 - (11.6259 * (-7.16904 + np.sqrt(62.5044 - q2)))/( 7.16904 + np.sqrt(62.5044 - q2))) * \\\n",
    "            np.sqrt(11.1092 - q2))/( 1 - 0.0249412 * q2)) - ( np.sqrt(2) * (0.6876 - (6.787 * (-7.16904 + np.sqrt(62.5044 - \\\n",
    "            q2)))/( 7.16904 + np.sqrt(62.5044 - q2))) * np.sqrt(62.5044 - q2))/( 1 - 0.0218313 * q2))**2 + (-(( np.sqrt(2) * \\\n",
    "            (1.0809 - (11.6259 * (-7.16904 + np.sqrt(62.5044 - q2)))/( 7.16904 + np.sqrt(62.5044 - q2))) * np.sqrt(11.1092 - \\\n",
    "            q2))/( 1 - 0.0249412 * q2)) + ( np.sqrt(2) * (0.6876 - (6.787 * (-7.16904 + np.sqrt(62.5044 - q2)))/(\\\n",
    "            7.16904 + np.sqrt(62.5044 - q2))) * np.sqrt(62.5044 - q2))/( 1 - 0.0218313 * q2))**2 + (1/np.sqrt(q2) * np.sqrt(\\\n",
    "            11.1092 -  q2) * (7.90597 * (( 62.5044 * (-(( 1.0809 - (11.6259 * (-7.16904 + np.sqrt(62.5044 - q2)))/(\\\n",
    "            7.16904 + np.sqrt(62.5044 - q2)))/(1 - 0.0249412 * q2)) + ( 0.8137 - (8.5673 * (-7.16904 + np.sqrt(62.5044 - q2)))/(\\\n",
    "            7.16904 + np.sqrt(62.5044 - q2)))/(1 - 0.0249412 * q2)))/( 62.5044 - q2) + (1.0809 - (11.6259 * (-7.16904 + \\\n",
    "            np.sqrt(62.5044 - q2)))/( 7.16904 + np.sqrt(62.5044 - q2)))/(1 - 0.0249412 * q2)) - ( 7.90597 * (-(( 1.0809 - \\\n",
    "            (11.6259 * (-7.16904 + np.sqrt(62.5044 - q2)))/( 7.16904 + np.sqrt(62.5044 - q2)))/(1 - 0.0249412 * q2)) + (\\\n",
    "            0.8137 - (8.5673 * (-7.16904 + np.sqrt(62.5044 - q2)))/( 7.16904 + np.sqrt(62.5044 - q2)))/(1 - 0.0249412 * q2)) * \\\n",
    "            q2)/( 62.5044 - q2)) -  1/np.sqrt(q2) * np.sqrt( 62.5044 -  q2) * (3.33305 * (( 0.6876 - (6.787 * (-7.16904 + \\\n",
    "            np.sqrt(62.5044 - q2)))/( 7.16904 + np.sqrt(62.5044 - q2)))/(1 - 0.0218313 * q2) - ( 11.1092 * (-(( 0.6876 - \\\n",
    "            (6.787 * (-7.16904 + np.sqrt(62.5044 - q2)))/( 7.16904 + np.sqrt(62.5044 - q2)))/(1 - 0.0218313 * q2)) + ( 0.6876 - \\\n",
    "            (6.5556 * (-7.16904 + np.sqrt(62.5044 - q2)))/( 7.16904 + np.sqrt(62.5044 - q2)))/( 1 - 0.0218313 * q2)))/(-11.1092 \\\n",
    "            + q2)) - ( 3.33305 * (-(( 0.6876 - (6.787 * (-7.16904 + np.sqrt(62.5044 - q2)))/( 7.16904 + np.sqrt(62.5044 - \\\n",
    "            q2)))/(1 - 0.0218313 * q2)) + ( 0.6876 - (6.5556 * (-7.16904 + np.sqrt(62.5044 - q2)))/( 7.16904 + np.sqrt(62.5044 \\\n",
    "            - q2)))/( 1 - 0.0218313 * q2)) * q2)/(-11.1092 + q2)))**2 + (1/np.sqrt(q2) * np.sqrt(11.1092 -  q2) * (7.90597 * \\\n",
    "            (( 62.5044 * (-(( 1.0809 - (11.6259 * (-7.16904 + np.sqrt(62.5044 - q2)))/( 7.16904 + np.sqrt(62.5044 - q2)))/(1 - \\\n",
    "            0.0249412 * q2)) + ( 0.8137 - (8.5673 * (-7.16904 + np.sqrt(62.5044 - q2)))/( 7.16904 + np.sqrt(62.5044 - q2)))/(1 \\\n",
    "            - 0.0249412 * q2)))/( 62.5044 - q2) + ( 1.0809 - (11.6259 * (-7.16904 + np.sqrt(62.5044 - q2)))/( 7.16904 + \\\n",
    "            np.sqrt(62.5044 - q2)))/(1 - 0.0249412 * q2)) - ( 7.90597 * (-(( 1.0809 - (11.6259 * (-7.16904 + np.sqrt(62.5044 -\\\n",
    "            q2)))/( 7.16904 + np.sqrt(62.5044 - q2)))/(1 - 0.0249412 * q2)) + ( 0.8137 - (8.5673 * (-7.16904 +\\\n",
    "            np.sqrt(62.5044 - q2)))/( 7.16904 + np.sqrt(62.5044 - q2)))/(1 - 0.0249412 * q2)) * q2)/( 62.5044 - q2)) + \\\n",
    "            1/np.sqrt(q2) * np.sqrt( 62.5044 -  q2) * (3.33305 * (( 0.6876 - (6.787 * (-7.16904 + np.sqrt(62.5044 - q2)))/(\\\n",
    "            7.16904 + np.sqrt(62.5044 - q2)))/(1 - 0.0218313 * q2) - ( 11.1092 * (-(( 0.6876 - (6.787 * (-7.16904 + \\\n",
    "            np.sqrt(62.5044 - q2)))/( 7.16904 + np.sqrt(62.5044 - q2)))/(1 - 0.0218313 * q2)) + ( 0.6876 - (6.5556 * \\\n",
    "            (-7.16904 + np.sqrt(62.5044 - q2)))/( 7.16904 + np.sqrt(62.5044 - q2)))/( 1 - 0.0218313 * q2)))/(-11.1092 + q2)) \\\n",
    "            - ( 3.33305 * (-(( 0.6876 - (6.787 * (-7.16904 + np.sqrt(62.5044 - q2)))/( 7.16904 + np.sqrt(62.5044 - q2)))/(1 \\\n",
    "            - 0.0218313 * q2)) + ( 0.6876 - (6.5556 * (-7.16904 + np.sqrt(62.5044 - q2)))/( 7.16904 + np.sqrt(62.5044 - \\\n",
    "            q2)))/( 1 - 0.0218313 * q2)) * q2)/(-11.1092 + q2)))**2 +  1/q2 * 1.58064 * (3 * ((-(1/np.sqrt( q2)) * \\\n",
    "            (7.90597 * (( 0.6876 - (6.787 * (-7.16904 + np.sqrt(62.5044 - q2)))/( 7.16904 + np.sqrt(62.5044 - q2)))/(\\\n",
    "            1 - 0.0218313 * q2) - ( 11.1092 * (-(( 0.6876 - (6.787 * (-7.16904 + np.sqrt(62.5044 - q2)))/( 7.16904 + \\\n",
    "            np.sqrt(62.5044 - q2)))/( 1 - 0.0218313 * q2)) + ( 0.6876 - ( 6.5556 * (-7.16904 + np.sqrt(62.5044 - q2)))/(\\\n",
    "            7.16904 + np.sqrt(62.5044 - q2)))/( 1 - 0.0218313 * q2)))/(-11.1092 + q2)) -  7.90597 * (( 0.7446 - (7.7216 *\\\n",
    "            (-7.16904 + np.sqrt(62.5044 - q2)))/( 7.16904 + np.sqrt(62.5044 - q2)))/( 1 - 0.0253883 * q2) - ( 0.6876 - \\\n",
    "            (6.787 * (-7.16904 + np.sqrt(62.5044 - q2)))/( 7.16904 + np.sqrt(62.5044 - q2)))/( 1 - 0.0218313 * q2) + (\\\n",
    "            11.1092 * (-(( 0.6876 - (6.787 * (-7.16904 + np.sqrt(62.5044 - q2)))/( 7.16904 + np.sqrt(62.5044 - q2)))/(\\\n",
    "            1 - 0.0218313 * q2)) + ( 0.6876 - ( 6.5556 * (-7.16904 + np.sqrt(62.5044 - q2)))/( 7.16904 + np.sqrt(62.5044 - \\\n",
    "            q2)))/( 1 - 0.0218313 * q2)))/(-11.1092 + q2))) * np.sqrt( 11.1092 - q2) +  1/np.sqrt(q2) * (3.33305 * ((\\\n",
    "            62.5044 * (-(( 1.0809 - ( 11.6259 * (-7.16904 + np.sqrt(62.5044 - q2)))/( 7.16904 + np.sqrt(62.5044 - q2)))/(\\\n",
    "            1 - 0.0249412 * q2)) + ( 0.8137 - ( 8.5673 * (-7.16904 + np.sqrt(62.5044 - q2)))/( 7.16904 + np.sqrt(62.5044 - \\\n",
    "            q2)))/( 1 - 0.0249412 * q2)))/(62.5044 - q2) + ( 1.0809 - (11.6259 * (-7.16904 + np.sqrt(62.5044 - q2)))/(\\\n",
    "            7.16904 + np.sqrt(62.5044 - q2)))/( 1 - 0.0249412 * q2)) +  3.33305 * (-(( 62.5044 * (-(( 1.0809 - ( 11.6259 * \\\n",
    "            (-7.16904 + np.sqrt(62.5044 - q2)))/( 7.16904 + np.sqrt(62.5044 - q2)))/( 1 - 0.0249412 * q2)) + ( 0.8137 - (\\\n",
    "            8.5673 * (-7.16904 + np.sqrt(62.5044 - q2)))/( 7.16904 + np.sqrt(62.5044 - q2)))/( 1 - 0.0249412 * q2)))/(62.5044 \\\n",
    "            - q2)) - ( 1.0809 - (11.6259 * (-7.16904 + np.sqrt(62.5044 - q2)))/( 7.16904 + np.sqrt(62.5044 - q2)))/(\\\n",
    "            1 - 0.0249412 * q2) + ( 0.7494 - (7.253 * (-7.16904 + np.sqrt(62.5044 - q2)))/( 7.16904 + np.sqrt(62.5044 - \\\n",
    "            q2)))/( 1 - 0.0221114 * q2))) * np.sqrt(62.5044 - q2))**2 + (1/np.sqrt( q2) * (7.90597 * (( 0.6876 - (6.787 * \\\n",
    "            (-7.16904 + np.sqrt(62.5044 - q2)))/( 7.16904 + np.sqrt(62.5044 - q2)))/( 1 - 0.0218313 * q2) - ( 11.1092 * (-((\\\n",
    "            0.6876 - (6.787 * (-7.16904 + np.sqrt(62.5044 - q2)))/( 7.16904 + np.sqrt(62.5044 - q2)))/( 1 - 0.0218313 * q2)) +\\\n",
    "            ( 0.6876 - ( 6.5556 * (-7.16904 + np.sqrt(62.5044 - q2)))/( 7.16904 + np.sqrt(62.5044 - q2)))/( 1 - 0.0218313 * \\\n",
    "            q2)))/(-11.1092 + q2)) -  7.90597 * (( 0.7446 - (7.7216 * (-7.16904 + np.sqrt(62.5044 - q2)))/( 7.16904 + \\\n",
    "            np.sqrt(62.5044 - q2)))/( 1 - 0.0253883 * q2) - ( 0.6876 - (6.787 * (-7.16904 + np.sqrt(62.5044 - q2)))/( 7.16904 +\\\n",
    "            np.sqrt(62.5044 - q2)))/( 1 - 0.0218313 * q2) + ( 11.1092 * (-(( 0.6876 - (6.787 * (-7.16904 + \\\n",
    "            np.sqrt(62.5044 - q2)))/( 7.16904 + np.sqrt(62.5044 - q2)))/( 1 - 0.0218313 * q2)) + ( 0.6876 - ( 6.5556 * \\\n",
    "            (-7.16904 + np.sqrt(62.5044 - q2)))/( 7.16904 + np.sqrt(62.5044 - q2)))/( 1 - 0.0218313 * q2)))/(-11.1092 + q2))) \\\n",
    "            * np.sqrt( 11.1092 - q2) +  1/np.sqrt(q2) * (3.33305 * (( 62.5044 * (-(( 1.0809 - ( 11.6259 * (-7.16904 + \\\n",
    "            np.sqrt(62.5044 - q2)))/( 7.16904 + np.sqrt(62.5044 - q2)))/( 1 - 0.0249412 * q2)) + ( 0.8137 - ( 8.5673 * \\\n",
    "            (-7.16904 + np.sqrt(62.5044 - q2)))/( 7.16904 + np.sqrt(62.5044 - q2)))/( 1 - 0.0249412 * q2)))/(62.5044 - q2) +\\\n",
    "            ( 1.0809 - (11.6259 * (-7.16904 + np.sqrt(62.5044 - q2)))/( 7.16904 + np.sqrt(62.5044 - q2)))/( 1 - 0.0249412 * \\\n",
    "            q2)) +  3.33305 * (-(( 62.5044 * (-(( 1.0809 - ( 11.6259 * (-7.16904 + np.sqrt(62.5044 - q2)))/( 7.16904 + \\\n",
    "            np.sqrt(62.5044 - q2)))/( 1 - 0.0249412 * q2)) + ( 0.8137 - ( 8.5673 * (-7.16904 + np.sqrt(62.5044 - q2)))/(\\\n",
    "            7.16904 + np.sqrt(62.5044 - q2)))/( 1 - 0.0249412 * q2)))/(62.5044 - q2)) - ( 1.0809 - (11.6259 * (-7.16904 + \\\n",
    "            np.sqrt(62.5044 - q2)))/( 7.16904 + np.sqrt(62.5044 - q2)))/( 1 - 0.0249412 * q2) + ( 0.7494 - (7.253 * (-7.16904 + \\\n",
    "            np.sqrt(62.5044 - q2)))/( 7.16904 + np.sqrt(62.5044 - q2)))/( 1 - 0.0221114 * q2))) * np.sqrt(62.5044 - q2))**2) + \\\n",
    "            (-(( np.sqrt(2) * (1.0809 - (11.6259 * (-7.16904 + np.sqrt(62.5044 - q2)))/( 7.16904 + np.sqrt(62.5044 - q2))) * \\\n",
    "            np.sqrt(11.1092 - q2))/( 1 - 0.0249412 * q2)) - ( np.sqrt(2) * (0.6876 - (6.787 * (-7.16904 + np.sqrt(62.5044 - \\\n",
    "            q2)))/( 7.16904 + np.sqrt(62.5044 - q2))) * np.sqrt(62.5044 - q2))/( 1 - 0.0218313 * q2))**2 + (-(( np.sqrt(2) * \\\n",
    "            (1.0809 - (11.6259 * (-7.16904 + np.sqrt(62.5044 - q2)))/( 7.16904 + np.sqrt(62.5044 - q2))) * np.sqrt(11.1092 - \\\n",
    "            q2))/( 1 - 0.0249412 * q2)) + ( np.sqrt(2) * (0.6876 - (6.787 * (-7.16904 + np.sqrt(62.5044 - q2)))/( 7.16904 +\\\n",
    "            np.sqrt(62.5044 - q2))) * np.sqrt(62.5044 - q2))/( 1 - 0.0218313 * q2))**2 + (1/np.sqrt(q2) * np.sqrt( 11.1092 - \\\n",
    "            q2) * (7.90597 * (( 62.5044 * (-(( 1.0809 - (11.6259 * (-7.16904 + np.sqrt(62.5044 - q2)))/( 7.16904 + \\\n",
    "            np.sqrt(62.5044 - q2)))/( 1 - 0.0249412 * q2)) + ( 0.8137 - (8.5673 * (-7.16904 + np.sqrt(62.5044 - q2)))/(\\\n",
    "            7.16904 + np.sqrt(62.5044 - q2)))/( 1 - 0.0249412 * q2)))/(62.5044 - q2) + ( 1.0809 - (11.6259 * (-7.16904 +\\\n",
    "            np.sqrt(62.5044 - q2)))/( 7.16904 + np.sqrt(62.5044 - q2)))/(1 - 0.0249412 * q2)) - ( 7.90597 * (-(( 1.0809 - \\\n",
    "            (11.6259 * (-7.16904 + np.sqrt(62.5044 - q2)))/( 7.16904 + np.sqrt(62.5044 - q2)))/(1 - 0.0249412 * q2)) + (\\\n",
    "            0.8137 - (8.5673 * (-7.16904 + np.sqrt(62.5044 - q2)))/( 7.16904 + np.sqrt(62.5044 - q2)))/( 1 - 0.0249412 * q2)) * \\\n",
    "            q2)/(62.5044 - q2)) -  1/np.sqrt(q2) * np.sqrt( 62.5044 -  q2) * (3.33305 * (( 0.6876 - (6.787 * (-7.16904 + \\\n",
    "            np.sqrt(62.5044 - q2)))/( 7.16904 + np.sqrt(62.5044 - q2)))/(1 - 0.0218313 * q2) - ( 11.1092 * (-(( 0.6876 - \\\n",
    "            (6.787 * (-7.16904 + np.sqrt(62.5044 - q2)))/( 7.16904 + np.sqrt(62.5044 - q2)))/( 1 - 0.0218313 * q2)) + ( 0.6876 -\\\n",
    "            (6.5556 * (-7.16904 + np.sqrt(62.5044 - q2)))/( 7.16904 + np.sqrt(62.5044 - q2)))/( 1 - 0.0218313 * q2)))/(-11.1092 \\\n",
    "            + q2)) - ( 3.33305 * (-(( 0.6876 - (6.787 * (-7.16904 + np.sqrt(62.5044 - q2)))/( 7.16904 + np.sqrt(62.5044 - \\\n",
    "            q2)))/(1 - 0.0218313 * q2)) + (  0.6876 - (6.5556 * (-7.16904 + np.sqrt(62.5044 - q2)))/( 7.16904 + np.sqrt(62.5044 \\\n",
    "            - q2)))/( 1 - 0.0218313 * q2)) * q2)/(-11.1092 + q2)))**2 + (1/np.sqrt(q2) * np.sqrt(11.1092 -  q2) * (7.90597 * \\\n",
    "            (( 62.5044 * (-(( 1.0809 - (11.6259 * (-7.16904 + np.sqrt(62.5044 - q2)))/( 7.16904 + np.sqrt(62.5044 - q2)))/(\\\n",
    "            1 - 0.0249412 * q2)) + ( 0.8137 - (8.5673 * (-7.16904 + np.sqrt(62.5044 - q2)))/( 7.16904 + np.sqrt(62.5044 - \\\n",
    "            q2)))/( 1 - 0.0249412 * q2)))/(62.5044 - q2) + ( 1.0809 - (11.6259 * (-7.16904 + np.sqrt(62.5044 - q2)))/(\\\n",
    "            7.16904 + np.sqrt(62.5044 - q2)))/(1 - 0.0249412 * q2)) - ( 7.90597 * (-(( 1.0809 - (11.6259 * (-7.16904 + \\\n",
    "            np.sqrt(62.5044 - q2)))/( 7.16904 + np.sqrt(62.5044 - q2)))/(1 - 0.0249412 * q2)) + ( 0.8137 - (8.5673 * \\\n",
    "            (-7.16904 + np.sqrt(62.5044 - q2)))/( 7.16904 + np.sqrt(62.5044 - q2)))/( 1 - 0.0249412 * q2)) * q2)/(62.5044 - \\\n",
    "            q2)) +  1/np.sqrt(q2) * np.sqrt( 62.5044 -  q2) * (3.33305 * (( 0.6876 - (6.787 * (-7.16904 + np.sqrt(62.5044 - \\\n",
    "            q2)))/( 7.16904 + np.sqrt(62.5044 - q2)))/(1 - 0.0218313 * q2) - ( 11.1092 * (-(( 0.6876 - (6.787 * (-7.16904 + \\\n",
    "            np.sqrt(62.5044 - q2)))/( 7.16904 + np.sqrt(62.5044 - q2)))/( 1 - 0.0218313 * q2)) + ( 0.6876 - (6.5556 * \\\n",
    "            (-7.16904 + np.sqrt(62.5044 - q2)))/( 7.16904 + np.sqrt(62.5044 - q2)))/( 1 - 0.0218313 * q2)))/(-11.1092 + q2)) -\\\n",
    "            (3.33305 * (-(( 0.6876 - (6.787 * (-7.16904 + np.sqrt(62.5044 - q2)))/( 7.16904 + np.sqrt(62.5044 - q2)))/(1 - \\\n",
    "            0.0218313 * q2)) + ( 0.6876 - (6.5556 * (-7.16904 + np.sqrt(62.5044 - q2)))/( 7.16904 + np.sqrt(62.5044 - q2)))/(\\\n",
    "            1 - 0.0218313 * q2)) * q2)/(-11.1092 + q2)))**2))\n",
    "\n",
    "\n",
    "\n"
   ]
  },
  {
   "cell_type": "code",
   "execution_count": 224,
   "id": "d7b1a38a-a750-4ec5-bf46-4294d158959d",
   "metadata": {},
   "outputs": [
    {
     "data": {
      "text/plain": [
       "[<matplotlib.lines.Line2D at 0x7fcce974b850>]"
      ]
     },
     "execution_count": 224,
     "metadata": {},
     "output_type": "execute_result"
    },
    {
     "data": {
      "image/png": "[encoded data removed]",
      "text/plain": [
       "<Figure size 432x288 with 1 Axes>"
      ]
     },
     "metadata": {
      "needs_background": "light"
     },
     "output_type": "display_data"
    }
   ],
   "source": [
    "q2_mu = np.linspace(0.105**2, 11)\n",
    "q2_tau = np.linspace(1.778**2, 11)\n",
    "\n",
    "\n",
    "dGmu = dGammaLambdacmu(q2_mu)\n",
    "dGtau = dGammaLambdactau(q2_tau)\n",
    "\n",
    "plt.plot(q2_mu, dGmu)\n",
    "plt.plot(q2_tau, dGtau)"
   ]
  },
  {
   "cell_type": "code",
   "execution_count": null,
   "id": "6a1c29af-98df-4ad7-b1d0-e7099400683c",
   "metadata": {},
   "outputs": [],
   "source": []
  },
  {
   "cell_type": "markdown",
   "id": "28471494",
   "metadata": {},
   "source": [
    "## Loading Data"
   ]
  },
  {
   "cell_type": "code",
   "execution_count": 225,
   "id": "ca2a0ba8-d7cb-4c1f-a83a-af2c05f711ad",
   "metadata": {},
   "outputs": [],
   "source": [
    "epsilon_pimu = 1/100\n",
    "\n",
    "# 10noise\n",
    "# modes_dt = {0: {'mode': './features/LambdacTauNu_10Noise.root', 'yields': 2.41e6}, \n",
    "#             1: {'mode': './features/LambdacMuNu_10Noise.root', 'yields': 2.88e7},\n",
    "#             2: {'mode': './features/RLambdacInclusive_10Noise.root', 'yields': 6.33e5},\n",
    "#             3: {'mode': './features/RLambdacCombCascade_10Noise.root', 'yields': 2.37e5},\n",
    "#             4: {'mode': './features/RLambdacMisID_10Noise.root', 'yields': epsilon_pimu*1.63e7}\n",
    "#            }\n",
    "\n",
    "# 20noise\n",
    "modes_dt = {0: {'mode': './features/LambdacTauNu_20Noise.root', 'yields': 2.39e6}, \n",
    "            1: {'mode': './features/LambdacMuNu_20Noise.root', 'yields': 4.76e7},\n",
    "            2: {'mode': './features/RLambdacInclusive_20Noise.root', 'yields': 6.32e5},\n",
    "            3: {'mode': './features/RLambdacCombCascade_20Noise.root', 'yields': 2.43e5},\n",
    "            4: {'mode': './features/RLambdacMisID_20Noise.root', 'yields': epsilon_pimu*1.65e7}\n",
    "           }\n",
    "\n"
   ]
  },
  {
   "cell_type": "code",
   "execution_count": 226,
   "id": "5a0e9d29-4e37-4e8f-8367-e89fe06f4f5c",
   "metadata": {},
   "outputs": [],
   "source": [
    "def load_train_test(modes_dt, size=0.5):\n",
    "    np.random.seed(9)\n",
    "    df_train = pd.DataFrame()\n",
    "    df_test = pd.DataFrame()\n",
    "    num_lt = []\n",
    "    \n",
    "    # loop over different modes\n",
    "    for i, (k, v) in enumerate(modes_dt.items()):\n",
    "        print('\\rReading:', i)\n",
    "        file = uproot.open(v['mode'])\n",
    "        df_i = file['t'].pandas.df()\n",
    "        \n",
    "        # shuffle the index for training and testing sets\n",
    "        idx = df_i.index.tolist()\n",
    "        np.random.shuffle(idx)\n",
    "#         print(len(idx))\n",
    "        idx = idx[:100000]    # if too much data\n",
    "        num_lt.append(len(idx))    \n",
    "\n",
    "        df_i['target'] = i    # add the target label\n",
    "        df_i['weight'] = v['yields']/len(idx)\n",
    "        print(df_i['weight'][0])\n",
    "        \n",
    "        # cut according to the fraction\n",
    "        cut = int(np.ceil(len(idx) * size))\n",
    "        df_train_i = df_i.loc[idx[:cut]]\n",
    "        df_test_i = df_i.loc[idx[cut:]]\n",
    "        \n",
    "        # Put to the global dataframs\n",
    "        df_train = pd.concat([df_train, df_train_i])\n",
    "        df_test = pd.concat([df_test, df_test_i])\n",
    "    \n",
    "    df_train.reset_index(drop=True, inplace=True)\n",
    "    df_test.reset_index(drop=True, inplace=True)\n",
    "    \n",
    "    print('train size: {} ({:.2f}%); test size: {} ({:.2f}%)'.format(len(df_train), 100*len(df_train)/(len(df_train)+len(df_test)), len(df_test), 100*len(df_test)/(len(df_train)+len(df_test))))\n",
    "    print('data points per mode: ',num_lt)\n",
    "    return df_train, df_test\n",
    "\n",
    "    "
   ]
  },
  {
   "cell_type": "code",
   "execution_count": 227,
   "id": "6ca7635f-3c7e-440a-9dcd-95b942b509b0",
   "metadata": {},
   "outputs": [
    {
     "name": "stdout",
     "output_type": "stream",
     "text": [
      "Reading: 0\n",
      "352.0400648107232\n",
      "Reading: 1\n",
      "1046.9131457980513\n",
      "Reading: 2\n",
      "158.31663326653307\n",
      "Reading: 3\n",
      "158.10019518542614\n",
      "Reading: 4\n",
      "1.65\n",
      "train size: 78894 (50.00%); test size: 78891 (50.00%)\n",
      "data points per mode:  [6789, 45467, 3992, 1537, 100000]\n"
     ]
    }
   ],
   "source": [
    "tr_te_split = 0.5\n",
    "df_train, df_test = load_train_test(modes_dt, tr_te_split)\n",
    "# make a copy\n",
    "df_train_o, df_test_o = df_train.copy(), df_test.copy()"
   ]
  },
  {
   "cell_type": "code",
   "execution_count": null,
   "id": "8dda4e95",
   "metadata": {},
   "outputs": [],
   "source": []
  },
  {
   "cell_type": "code",
   "execution_count": 228,
   "id": "ae5b84d9-d9af-4ac4-8945-287dc2fbb6c6",
   "metadata": {},
   "outputs": [],
   "source": [
    "def relabel(x):\n",
    "    if x == 0:    # tau\n",
    "        return 0\n",
    "    elif x == 1:    # mu\n",
    "        return 1\n",
    "    else:    # other bkg\n",
    "        return 2"
   ]
  },
  {
   "cell_type": "code",
   "execution_count": 229,
   "id": "5b273e42-755f-4b81-811c-9413a3b2c2b4",
   "metadata": {},
   "outputs": [],
   "source": [
    "# relabel the, all bkg become one label\n",
    "df_train['target'] = df_train['target'].apply(relabel)\n",
    "df_test['target'] = df_test['target'].apply(relabel)"
   ]
  },
  {
   "cell_type": "code",
   "execution_count": 230,
   "id": "0e1b3776-dd5d-4aa9-bb0f-1bcc7aac2db5",
   "metadata": {},
   "outputs": [
    {
     "data": {
      "text/plain": [
       "Index(['iEvt', 'q2', 'miss2', 'pB', 'EB', 'pHc', 'EHc', 'pMu', 'EMu',\n",
       "       'sMinMuBVert', 'sMinMuHcVert', 'sMinMuTr', 'sMinHcTr', 'sPVHc', 'mHcMu',\n",
       "       'pPerp', 'mCorr', 'D0Max', 'DzMax', 'D0Sum', 'DzSum', 'ENeutral03',\n",
       "       'ENeutral06', 'ENeutral03Hadron', 'ENeutral06Hadron',\n",
       "       'ENeutral03Photon', 'ENeutral06Photon', 'ECharge03', 'ECharge06',\n",
       "       'ECharge03PV', 'ECharge06PV', 'ECharge03DV', 'ECharge06DV', 'mK0SHcMu',\n",
       "       'pK0S', 'q2True', 'miss2True', 'EBTrue', 'pBTrue', 'sMinMuHcVertTrue',\n",
       "       'target', 'weight'],\n",
       "      dtype='object')"
      ]
     },
     "execution_count": 230,
     "metadata": {},
     "output_type": "execute_result"
    }
   ],
   "source": [
    "df_train.columns"
   ]
  },
  {
   "cell_type": "code",
   "execution_count": 231,
   "id": "824ab394-53be-4288-93b3-f9cf53006442",
   "metadata": {},
   "outputs": [],
   "source": [
    "# features = ['q2', 'miss2', \n",
    "#             'pB', 'EB', \n",
    "#             'pHc', 'EHc', \n",
    "#             'pMu', 'EMu',\n",
    "#             'sMinMuHcVert', 'sMinMuTr', 'sMinHcTr', 'sPVHc', \n",
    "#             'mHcMu',\n",
    "#             'pPerp', 'mCorr', \n",
    "#             'D0Max', 'DzMax', 'D0Sum', 'DzSum', \n",
    "#             'ENeutral03','ENeutral06', \n",
    "#             'ENeutral03Hadron', 'ENeutral06Hadron',\n",
    "#             'ENeutral03Photon', 'ENeutral06Photon', \n",
    "#             'ECharge03', 'ECharge06',\n",
    "#             'ECharge03PV', 'ECharge06PV', \n",
    "#             'ECharge03DV', 'ECharge06DV', \n",
    "#             'mK0SHcMu', 'pK0S'\n",
    "#            ]\n",
    "\n",
    "features = ['q2', 'miss2', \n",
    "            'pB', 'EB', \n",
    "            'pHc', 'EHc', \n",
    "            'pMu', 'EMu',\n",
    "            'sMinMuHcVert', 'sMinMuTr', 'sMinHcTr', 'sPVHc', \n",
    "            'mHcMu',\n",
    "            'pPerp', 'mCorr', \n",
    "            'D0Max', 'DzMax', 'D0Sum', 'DzSum', \n",
    "            'ENeutral03','ENeutral06', \n",
    "            'ENeutral03Hadron', 'ENeutral06Hadron',\n",
    "            'ENeutral03Photon', 'ENeutral06Photon', \n",
    "            'ECharge03', 'ECharge06',\n",
    "            'ECharge03PV', 'ECharge06PV', \n",
    "            'ECharge03DV', 'ECharge06DV'\n",
    "           ]"
   ]
  },
  {
   "cell_type": "code",
   "execution_count": 232,
   "id": "2a52aad2-9c65-476b-b428-31cf3ebaef6b",
   "metadata": {},
   "outputs": [],
   "source": [
    "df_train[features] = df_train[features].replace([99999, -np.inf, np.inf], np.nan)\n",
    "df_test[features] = df_test[features].replace([99999, -np.inf, np.inf], np.nan)"
   ]
  },
  {
   "cell_type": "code",
   "execution_count": null,
   "id": "9f696b5d",
   "metadata": {},
   "outputs": [],
   "source": []
  },
  {
   "cell_type": "markdown",
   "id": "07d04069",
   "metadata": {},
   "source": [
    "## Reweight by $q^2\n",
    "$"
   ]
  },
  {
   "cell_type": "code",
   "execution_count": 233,
   "id": "42f5de16-6fff-44c4-acac-6daa5372ca1e",
   "metadata": {},
   "outputs": [],
   "source": [
    "# replace some values that have q2 larger than the max, by the max\n",
    "df_train_o.loc[(df_train_o['q2True']>=11) & ((df_train_o.target==0) | (df_train_o.target==1)), 'q2True'] = 10.9\n",
    "df_train.loc[(df_train['q2True']>=11) & ((df_train.target==0) | (df_train.target==1)), 'q2True'] = 10.9\n",
    "df_test.loc[(df_test['q2True']>=11) & ((df_test.target==0) | (df_test.target==1)), 'q2True'] = 10.9"
   ]
  },
  {
   "cell_type": "code",
   "execution_count": 234,
   "id": "deca2252-be6b-4ae2-80dd-2292e717d13d",
   "metadata": {},
   "outputs": [
    {
     "data": {
      "text/plain": [
       "[<matplotlib.lines.Line2D at 0x7fcce97b4880>]"
      ]
     },
     "execution_count": 234,
     "metadata": {},
     "output_type": "execute_result"
    },
    {
     "data": {
      "image/png": "[encoded data removed]",
      "text/plain": [
       "<Figure size 864x720 with 2 Axes>"
      ]
     },
     "metadata": {
      "needs_background": "light"
     },
     "output_type": "display_data"
    }
   ],
   "source": [
    "bins = 10\n",
    "\n",
    "plt.figure(figsize=(12, 10))\n",
    "\n",
    "# plot for mu\n",
    "ax1 = plt.subplot(221)\n",
    "range_mu = [0.105**2, 11]\n",
    "ax1.hist(df_train_o[df_train_o.target==1]['q2True'], bins=bins, density=True, range=range_mu);\n",
    "q2_mu = np.linspace(range_mu[0], range_mu[1], 1000, endpoint=True)\n",
    "dGmu = dGammaLambdacmu(q2_mu)\n",
    "ax1.plot(q2_mu, dGmu/np.trapz(dGmu, x=q2_mu), color='red', label='theoretical')\n",
    "\n",
    "# plot for tau\n",
    "ax2 = plt.subplot(222)\n",
    "range_tau = [1.778**2, 11]\n",
    "ax2.hist(df_train_o[df_train_o.target==0]['q2True'], bins=bins, density=True, range=range_tau);\n",
    "q2_tau = np.linspace(range_tau[0], range_tau[1], 1000, endpoint=True)\n",
    "dGtau = dGammaLambdactau(q2_tau)\n",
    "ax2.plot(q2_tau, dGtau/np.trapz(dGtau, x=q2_tau), color='red', label='theoretical')"
   ]
  },
  {
   "cell_type": "code",
   "execution_count": 235,
   "id": "9386bf2b-fa70-4e70-bdf6-6d39fedabb10",
   "metadata": {},
   "outputs": [],
   "source": [
    "# reweight according to q^2\n",
    "def find_m_rw(dGamma, df_train, target, range_, bin_num=10):\n",
    "    # get the truth q2 array\n",
    "    q2 = df_train[df_train.target==target]['q2True'].values    \n",
    "\n",
    "    # Simulated bins\n",
    "    hist, bins = np.histogram(a=q2, bins=bin_num, density=True, range=range_)\n",
    "    width = np.diff(bins)\n",
    "    center = (bins[:-1] + bins[1:]) / 2\n",
    "\n",
    "    # Theoretical bins\n",
    "    th_w = []\n",
    "    for i in range(bin_num):\n",
    "        dx = -(bins[i] - bins[i+1])/10\n",
    "        x = np.linspace(bins[i], bins[i+1], 1000)\n",
    "        y = dGamma(q2=x)\n",
    "        th_w.append(np.trapz(y, dx=dx))    # Find area under curve\n",
    "    # normalize\n",
    "    th_w = th_w / sum(th_w) / width\n",
    "\n",
    "    # reweighting\n",
    "    m_rw = th_w / hist\n",
    "    m_rw[np.isinf(m_rw)] = 0\n",
    "    \n",
    "    # return the values of each bin, and the bin bounds\n",
    "    return m_rw, bins\n",
    "\n",
    "\n",
    "\n",
    "\n",
    "\n",
    "# add the reweighting column to th dataframe\n",
    "def add_m_rw(target, m_rw, bins, df):\n",
    "    for i in range(len(bins)-1):\n",
    "        df.loc[(df['target']==target) & (df['q2True']>=bins[i]) & (df['q2True']<bins[i+1]), 'm_rw'] = m_rw[i]\n",
    "    \n",
    "#     print(df.loc[df['target']==target, 'weight'].sum())\n",
    "#     df.loc[df.target==target, 'm_rw'] = df.loc[df.target==target, 'm_rw']/(df.loc[df.target==target, 'm_rw'].sum())\n",
    "    df.loc[df['target']==target, 'reweight'] = df.loc[df['target']==target, 'weight'] * df.loc[df.target==target, 'm_rw']\n",
    "    df = df.drop(columns = ['m_rw'])\n",
    "    \n",
    "#     print(df.loc[df.target==target, 'reweight'].sum())\n",
    "#     print()\n",
    "    return df"
   ]
  },
  {
   "cell_type": "code",
   "execution_count": 236,
   "id": "fff24ec8-5450-4762-b574-b9ee2d284f5e",
   "metadata": {},
   "outputs": [],
   "source": [
    "# getting the weightings, and the bin bounds\n",
    "m_rw_tau, bins_tau = find_m_rw(dGammaLambdactau, df_train_o, target=0, range_=range_tau)\n",
    "m_rw_mu, bins_mu = find_m_rw(dGammaLambdacmu, df_train_o, target=1, range_=range_mu)\n",
    "\n",
    "# duplicate the column for inputting to the function to get the reweight column\n",
    "df_train_o['reweight'] = df_train_o['weight']\n",
    "df_train['reweight'] = df_train['weight']\n",
    "df_test['reweight'] = df_test['weight']\n",
    "\n",
    "df_train_o = add_m_rw(target=0, m_rw=m_rw_tau, bins=bins_tau, df=df_train_o)\n",
    "df_train_o = add_m_rw(target=1, m_rw=m_rw_mu, bins=bins_mu, df=df_train_o)\n",
    "\n",
    "df_train = add_m_rw(target=0, m_rw=m_rw_tau, bins=bins_tau, df=df_train)\n",
    "df_train = add_m_rw(target=1, m_rw=m_rw_mu, bins=bins_mu, df=df_train)\n",
    "\n",
    "df_test = add_m_rw(target=0, m_rw=m_rw_tau, bins=bins_tau, df=df_test)\n",
    "df_test = add_m_rw(target=1, m_rw=m_rw_mu, bins=bins_mu, df=df_test)\n"
   ]
  },
  {
   "cell_type": "code",
   "execution_count": 237,
   "id": "e1e62cae-6704-46ff-a4e0-2c8a76737c7d",
   "metadata": {},
   "outputs": [
    {
     "data": {
      "text/plain": [
       "[<matplotlib.lines.Line2D at 0x7fcce933b790>]"
      ]
     },
     "execution_count": 237,
     "metadata": {},
     "output_type": "execute_result"
    },
    {
     "data": {
      "image/png": "[encoded data removed]",
      "text/plain": [
       "<Figure size 864x720 with 2 Axes>"
      ]
     },
     "metadata": {
      "needs_background": "light"
     },
     "output_type": "display_data"
    }
   ],
   "source": [
    "bins = 10\n",
    "\n",
    "plt.figure(figsize=(12, 10))\n",
    "\n",
    "# reweighted plot for tau, in testing \n",
    "ax1 = plt.subplot(221)\n",
    "ax1.hist(df_train[df_train.target==0]['q2True'], bins=10, weights=df_train[df_train.target==0]['reweight'], density=True, alpha=0.5);\n",
    "ax1.hist(df_test[df_test.target==0]['q2True'], bins=10, weights=df_test[df_test.target==0]['reweight'], density=True, alpha=0.5);\n",
    "ax1.plot(q2_tau, dGtau/np.trapz(dGtau, x=q2_tau), color='red', label='theoretical')\n",
    "\n",
    "# reweighted plot for mu, in testing \n",
    "ax2 = plt.subplot(222)\n",
    "ax2.hist(df_train[df_train.target==1]['q2True'], bins=10, weights=df_train[df_train.target==1]['reweight'], density=True, alpha=0.5, range=[.105**2 ,11]);\n",
    "ax2.hist(df_test[df_test.target==1]['q2True'], bins=10, weights=df_test[df_test.target==1]['reweight'], density=True, alpha=0.5, range=[.105**2 ,11]);\n",
    "ax2.plot(q2_mu, dGmu/np.trapz(dGmu, x=q2_mu), color='red', label='theoretical')"
   ]
  },
  {
   "cell_type": "code",
   "execution_count": null,
   "id": "92191a61",
   "metadata": {},
   "outputs": [],
   "source": []
  },
  {
   "cell_type": "code",
   "execution_count": null,
   "id": "8b6cc5f9",
   "metadata": {},
   "outputs": [],
   "source": []
  },
  {
   "cell_type": "markdown",
   "id": "99bf630c",
   "metadata": {},
   "source": [
    "## BDT"
   ]
  },
  {
   "cell_type": "code",
   "execution_count": 238,
   "id": "d749e004-c765-4815-99ce-d9a532f7c8dd",
   "metadata": {},
   "outputs": [],
   "source": [
    "# getting the inputs and labels\n",
    "X_train = df_train[features]\n",
    "y_train = np.array(df_train.target)\n",
    "\n",
    "# getting the inputs and labels\n",
    "X_test = df_test[features]\n",
    "y_test = np.array(df_train.target)"
   ]
  },
  {
   "cell_type": "code",
   "execution_count": 239,
   "id": "418d498a-3146-4b9f-b93e-30fcfe0c139d",
   "metadata": {},
   "outputs": [],
   "source": [
    "# trainging\n",
    "X_train = df_train[features]\n",
    "y_train = np.array([relabel(i) for i in df_train['target']])\n",
    "\n",
    "# testing\n",
    "X_test = df_test[features]\n",
    "y_test = np.array([relabel(i) for i in df_test['target']])\n",
    "\n",
    "# fitting, with reweighting\n",
    "xgbc1 = xgb.XGBClassifier(seed=0)\n",
    "xgbc1.fit(X_train, y_train, sample_weight=df_train.reweight.values);"
   ]
  },
  {
   "cell_type": "code",
   "execution_count": 240,
   "id": "25ef94ac-a57f-4443-9ccd-897edf2f31bb",
   "metadata": {},
   "outputs": [],
   "source": [
    "# transform the BDT output to score\n",
    "def soft(prob, target):\n",
    "    return np.exp(prob[:, target])/(np.exp(prob).sum(axis=1)) \n",
    "\n",
    "# scores for training\n",
    "df_bdt_train_s = df_train[['target', 'reweight']]\n",
    "df_bdt_train_s.loc[:, 'pred0'] = soft(xgbc1.predict_proba(X_train), 0)\n",
    "df_bdt_train_s.loc[:, 'pred1'] = soft(xgbc1.predict_proba(X_train), 1)\n",
    "\n",
    "# score for testing \n",
    "df_bdt_test_s = df_test[['target', 'reweight']]\n",
    "df_bdt_test_s.loc[:, 'pred0'] = soft(xgbc1.predict_proba(X_test), 0)\n",
    "df_bdt_test_s.loc[:, 'pred1'] = soft(xgbc1.predict_proba(X_test), 1)"
   ]
  },
  {
   "cell_type": "code",
   "execution_count": null,
   "id": "edbeb767",
   "metadata": {},
   "outputs": [],
   "source": []
  },
  {
   "cell_type": "markdown",
   "id": "b8c35739",
   "metadata": {},
   "source": [
    "## Finding the optimal position to cut"
   ]
  },
  {
   "cell_type": "code",
   "execution_count": 241,
   "id": "5501d7a8",
   "metadata": {},
   "outputs": [],
   "source": [
    "def bdt_cut(df, cut1, cut2, signal1=0, signal2=1):\n",
    "    df1 = df[(df['pred0'] >= cut1) & (df['pred1'] < cut2)]    # pass tau cut, not pass mu cut\n",
    "    df2 = df[(df['pred0'] < cut1) & (df['pred1'] >= cut2)]    # pass mu cut, not pass tau cut\n",
    "    \n",
    "    S1 = df1[df1['target'] == signal1]['reweight'].values.sum()    # Number of tau signals\n",
    "    B1 = df1[df1['target'] != signal1]['reweight'].values.sum()    # Number of tau bkg.\n",
    "#     B1 = df1[df1['target'] != signal1]['reweight'].values.sum() + df1[df1['target'] == 1]['reweight'].values.sum()*0.28/100   # Number of tau bkg.\n",
    "    \n",
    "    S2 = df2[df2['target'] == signal2]['reweight'].values.sum()    # Number of mu signals\n",
    "    B2 = df2[df2['target'] != signal2]['reweight'].values.sum()    # Number of mu bkg.\n",
    "#     B2 = df2[df2['target'] != signal2]['reweight'].values.sum() + df2[df2['target'] == 1]['reweight'].values.sum()*0.28/100   # Number of mu bkg.\n",
    "    \n",
    "    return ((S1+B1)**0.5, (0.1*B1), S1/(np.sqrt(S1+B1))), ((S2+B2)**0.5, (0.1*B2), S2/(np.sqrt(S2+B2)))\n",
    "\n",
    "\n",
    "\n",
    "\n",
    "\n",
    "\n",
    "# looping to find the optimal cut\n",
    "def find_opt_cut(df_bdt_train_s, step=0.005):\n",
    "\n",
    "    # tau cut\n",
    "    cuts1 = np.arange(round(df_bdt_train_s.min()['pred0'], 2) - step, round(df_bdt_train_s.max()['pred0'], 2) + step, step)\n",
    "    # mu cut\n",
    "    cuts2 = np.arange(round(df_bdt_train_s.min()['pred1'], 2) - step, round(df_bdt_train_s.max()['pred1'], 2) + step, step)\n",
    "\n",
    "    # store cuts (tau, and mu)\n",
    "    c1_lt, c2_lt = [], []\n",
    "    # store losses\n",
    "    loss11, loss12 = [], []\n",
    "    loss21, loss22 = [], []\n",
    "    snr1, snr2 = [], []\n",
    "\n",
    "    # loop over two cuts\n",
    "    for i1, c1 in enumerate(cuts1):\n",
    "        for i2, c2 in enumerate(cuts2):\n",
    "            print(\"{}/{}; {}/{}\".format(i1, len(cuts1), i2, len(cuts2)), end='\\r')\n",
    "            res1, res2 = bdt_cut(df_bdt_train_s, c1, c2)\n",
    "            c1_lt.append(c1); c2_lt.append(c2)\n",
    "\n",
    "            loss11.append(res1[0]); loss12.append(res1[1])\n",
    "            loss21.append(res2[0]); loss22.append(res2[1])\n",
    "            snr1.append(res1[2]), snr2.append(res2[2])\n",
    "\n",
    "    # store the cuts and corresponding losses\n",
    "    df_bdt_loss = pd.DataFrame([c1_lt, c2_lt, loss11, loss12, snr1, loss21, loss22, snr2]).T\n",
    "    df_bdt_loss.columns = ['c1', 'c2', 'loss11', 'loss12', 'snr1', 'loss21', 'loss22', 'snr2']\n",
    "\n",
    "    df_bdt_loss['loss1'] = (df_bdt_loss['loss11']**2 + df_bdt_loss['loss12']**2)**0.5\n",
    "    df_bdt_loss['tot1'] = (df_bdt_loss['loss1'] - df_bdt_loss['loss1'].min())/(df_bdt_loss['loss1'].max() - df_bdt_loss['loss1'].min()) - \\\n",
    "        ((df_bdt_loss['snr1'] - df_bdt_loss['snr1'].min())/(df_bdt_loss['snr1'].max() - df_bdt_loss['snr1'].min()))\n",
    "\n",
    "    df_bdt_loss['loss2'] = (df_bdt_loss['loss21']**2 + df_bdt_loss['loss22']**2)**0.5\n",
    "    df_bdt_loss['tot2'] = (df_bdt_loss['loss2'] - df_bdt_loss['loss2'].min())/(df_bdt_loss['loss2'].max() - df_bdt_loss['loss2'].min()) - \\\n",
    "        ((df_bdt_loss['snr2'] - df_bdt_loss['snr2'].min())/(df_bdt_loss['snr2'].max() - df_bdt_loss['snr2'].min()))\n",
    "\n",
    "    df_bdt_loss['tot'] = df_bdt_loss['tot1'] + df_bdt_loss['tot2']\n",
    "\n",
    "    return df_bdt_loss.iloc[df_bdt_loss['tot'].argmin()][['c1', 'c2']].values"
   ]
  },
  {
   "cell_type": "code",
   "execution_count": 243,
   "id": "91101347",
   "metadata": {},
   "outputs": [],
   "source": [
    "# c1, c2 = find_opt_cut(df_bdt_train_s)\n",
    "# print(c1, c2)\n",
    "\n",
    "# 10 noise\n",
    "# c1, c2 = 0.345, 0.475\n",
    "\n",
    "# 20 noise\n",
    "c1, c2 = 0.325, 0.485\n"
   ]
  },
  {
   "cell_type": "code",
   "execution_count": 244,
   "id": "dc5e8d74",
   "metadata": {},
   "outputs": [],
   "source": [
    "# apply the cut, to select tau and mu samples\n",
    "df_bdt_test_s_cut_tau = df_bdt_test_s.loc[(df_bdt_test_s['pred0'] >= c1) & \n",
    "                                          (df_bdt_test_s['pred1'] <  c2)]\n",
    "\n",
    "df_bdt_test_s_cut_mu = df_bdt_test_s.loc[(df_bdt_test_s['pred0'] <  c1) &\n",
    "                                         (df_bdt_test_s['pred1'] >= c2)]\n"
   ]
  },
  {
   "cell_type": "code",
   "execution_count": 245,
   "id": "24d62e90",
   "metadata": {},
   "outputs": [],
   "source": [
    "# Grouping the bkg. types\n",
    "df_bdt_test_s_cut_tau['target'] = \\\n",
    "            df_test_o.loc[df_bdt_test_s_cut_tau.index]['target']\n",
    "\n",
    "df_bdt_test_s_cut_mu['target'] = \\\n",
    "            df_test_o.loc[df_bdt_test_s_cut_mu.index]['target']\n",
    "\n"
   ]
  },
  {
   "cell_type": "code",
   "execution_count": 246,
   "id": "34fc20b3",
   "metadata": {},
   "outputs": [],
   "source": [
    "df_bdt_test_s_cut_tau['q2'] = df_test_o.loc[df_bdt_test_s_cut_tau.index]['q2']\n",
    "df_bdt_test_s_cut_mu['q2'] = df_test_o.loc[df_bdt_test_s_cut_mu.index]['q2']"
   ]
  },
  {
   "cell_type": "code",
   "execution_count": 247,
   "id": "58c08f6c",
   "metadata": {},
   "outputs": [
    {
     "data": {
      "text/plain": [
       "array([0, 1, 2, 3, 4])"
      ]
     },
     "execution_count": 247,
     "metadata": {},
     "output_type": "execute_result"
    }
   ],
   "source": [
    "np.unique(df_bdt_test_s_cut_mu.target)"
   ]
  },
  {
   "cell_type": "markdown",
   "id": "c6cd5795",
   "metadata": {},
   "source": [
    "## Calculating the yields"
   ]
  },
  {
   "cell_type": "code",
   "execution_count": 248,
   "id": "0487c09c",
   "metadata": {},
   "outputs": [],
   "source": [
    "def cal_uncertainty(df, channel, channel_labels):\n",
    "    n_lt = []\n",
    "    for i in channel_labels.keys():\n",
    "        # Select the signal/bkg. \n",
    "        dfi = df[df.target==i]\n",
    "        if len(dfi) == 0:\n",
    "            ni = 0\n",
    "        else: \n",
    "            # reweighted number \n",
    "            ni = dfi.reweight.sum() / (1-tr_te_split)\n",
    "        # Print out the table\n",
    "        if i==channel:\n",
    "            print('(*Signal)  {}:\\t\\t{:.2e}'.format(channel_labels[i], ni))\n",
    "#             print(len(dfi))\n",
    "        else:\n",
    "            print('(*Bkg.)    {}:\\t\\t{:.2e}'.format(channel_labels[i], ni))\n",
    "#             print(len(dfi))\n",
    "        \n",
    "        n_lt.append(ni)\n",
    "    # Estimate the Fake-Lambda_c Bkg.\n",
    "#     n_fakeLambdac = n_lt[1]*0.28/100\n",
    "#     n_lt.append(n_fakeLambdac)\n",
    "#     print('(*Bkg.)  {}:\\t{:.2e}'.format('Fake-Lambdac', n_fakeLambdac))\n",
    "    \n",
    "    \n",
    "    print('.'*60)\n",
    "    s = n_lt[channel]    # Number of signals\n",
    "    b = sum(n_lt)    # Number of Bkg. (including the signals, since signal fluctaution also contribute to the uncertainty)\n",
    "    Z = (2*((s + b)*np.log(1+s/b) - s))**0.5    #Signifiance\n",
    "    u = 1/Z    # Uncertainty\n",
    "    print(\"# of Siganl ({}):\\t{:.2e}\".format(channel_labels[channel], s))\n",
    "    print(\"# of Bkg. for {}:\\t{:.2e}\".format(channel_labels[channel], (b-s)))\n",
    "    print('Significance for {}:\\t{:.0f}'.format(channel_labels[channel], Z))\n",
    "    print('Uncertainty for {}:\\t{:.2e} ({:.2e})'.format(channel_labels[channel], u, u))\n",
    "    print('Uncertainty at {}:\\t{:.2e} ({:.2e})'.format('10 TeraZ', 1/((2*(((s*10) + (b*10))*np.log(1+(s*10)/(b*10)) - (s*10)))**0.5), 1/((2*(((s*10) + (b*10))*np.log(1+(s*10)/(b*10)) - (s*10)))**0.5)))\n",
    "    print('S/B for {}:\\t\\t{:.2f}'.format(channel_labels[channel], s/(b-s)))\n",
    "    print('\\n'+'='*60+'\\n'*5)\n",
    "    print()\n",
    "    \n",
    "    u_10TeraZ = 1/((2*(((s*10) + (b*10))*np.log(1+(s*10)/(b*10)) - (s*10)))**0.5)\n",
    "    return u, u_10TeraZ"
   ]
  },
  {
   "cell_type": "code",
   "execution_count": 249,
   "id": "b73d2b45",
   "metadata": {},
   "outputs": [
    {
     "name": "stdout",
     "output_type": "stream",
     "text": [
      "(*Signal)  Jspi tau:\t\t1.71e+06\n",
      "(*Bkg.)    Jpsi mu:\t\t1.11e+06\n",
      "(*Bkg.)    Inclusive:\t\t6.65e+04\n",
      "(*Bkg.)    Comb.+Casc:\t\t4.14e+04\n",
      "(*Bkg.)    MisID:\t\t5.24e+03\n",
      "............................................................\n",
      "# of Siganl (Jspi tau):\t1.71e+06\n",
      "# of Bkg. for Jspi tau:\t1.22e+06\n",
      "Significance for Jspi tau:\t918\n",
      "Uncertainty for Jspi tau:\t1.09e-03 (1.09e-03)\n",
      "Uncertainty at 10 TeraZ:\t3.44e-04 (3.44e-04)\n",
      "S/B for Jspi tau:\t\t1.39\n",
      "\n",
      "============================================================\n",
      "\n",
      "\n",
      "\n",
      "\n",
      "\n",
      "\n",
      "(*Bkg.)    Jspi tau:\t\t4.82e+05\n",
      "(*Signal)  Jpsi mu:\t\t4.42e+07\n",
      "(*Bkg.)    Inclusive:\t\t3.12e+05\n",
      "(*Bkg.)    Comb.+Casc:\t\t6.32e+04\n",
      "(*Bkg.)    MisID:\t\t3.25e+04\n",
      "............................................................\n",
      "# of Siganl (Jpsi mu):\t4.42e+07\n",
      "# of Bkg. for Jpsi mu:\t8.89e+05\n",
      "Significance for Jpsi mu:\t5797\n",
      "Uncertainty for Jpsi mu:\t1.72e-04 (1.72e-04)\n",
      "Uncertainty at 10 TeraZ:\t5.45e-05 (5.45e-05)\n",
      "S/B for Jpsi mu:\t\t49.71\n",
      "\n",
      "============================================================\n",
      "\n",
      "\n",
      "\n",
      "\n",
      "\n",
      "\n",
      "Overall Uncertainty: 1.10e-03\n",
      "Overall Uncertainty 10-Tera Z: 3.49e-04\n"
     ]
    }
   ],
   "source": [
    "CHANNEL_LABELS = {0: 'Jspi tau', 1: 'Jpsi mu', 2: 'Inclusive', 3: 'Comb.+Casc', 4: 'MisID'}\n",
    "uFull_tau, uFull_tau10 = cal_uncertainty(df_bdt_test_s_cut_tau, 0, CHANNEL_LABELS)\n",
    "\n",
    "uFull_mu, uFull_mu10 = cal_uncertainty(df_bdt_test_s_cut_mu, 1, CHANNEL_LABELS)\n",
    "\n",
    "print(\"Overall Uncertainty: {:.2e}\".format((uFull_mu**2 + uFull_tau**2)**0.5))\n",
    "print(\"Overall Uncertainty 10-Tera Z: {:.2e}\".format((uFull_mu10**2 + uFull_tau10**2)**0.5))"
   ]
  },
  {
   "cell_type": "code",
   "execution_count": 251,
   "id": "dbcc7349",
   "metadata": {},
   "outputs": [
    {
     "data": {
      "text/plain": [
       "'0.1470'"
      ]
     },
     "execution_count": 251,
     "metadata": {},
     "output_type": "execute_result"
    }
   ],
   "source": [
    "'{:.4f}'.format(1.10/0.959-1)"
   ]
  },
  {
   "cell_type": "code",
   "execution_count": 218,
   "id": "f89efb6a",
   "metadata": {},
   "outputs": [],
   "source": [
    "# for q^2 binning (cut=7.15GeV)\n",
    "def binbybin_correction(df_train, cut=7.15):\n",
    "    Cs = {}\n",
    "    for i in np.unique(df_train.target):\n",
    "        dfi = df_train[df_train.target == i]\n",
    "        N_q2Low = dfi[dfi.q2 < cut]['reweight'].sum()\n",
    "        N_q2High = dfi[dfi.q2 >= cut]['reweight'].sum()\n",
    "        N_q2truthLow = dfi[dfi.q2True < cut]['reweight'].sum()\n",
    "        N_q2truthHigh = dfi[dfi.q2True >= cut]['reweight'].sum()\n",
    "        Cs[i] = [N_q2truthLow/N_q2Low, N_q2truthHigh/N_q2High]\n",
    "    return Cs"
   ]
  },
  {
   "cell_type": "code",
   "execution_count": 219,
   "id": "31930db7",
   "metadata": {},
   "outputs": [
    {
     "data": {
      "text/plain": [
       "{0: [1.1971129106314942, 0.922824849460894],\n",
       " 1: [0.9703047971687548, 1.0532782179708802],\n",
       " 2: [1, 1],\n",
       " 3: [1, 1],\n",
       " 4: [1, 1]}"
      ]
     },
     "execution_count": 219,
     "metadata": {},
     "output_type": "execute_result"
    }
   ],
   "source": [
    "Cs = binbybin_correction(df_train, 7.15)\n",
    "Cs[2] = [1, 1]    # replacing the bins correction for bkg. to 1\n",
    "Cs[3] = [1, 1]    # replacing the bins correction for bkg. to 1\n",
    "Cs[4] = [1, 1]    # replacing the bins correction for bkg. to 1\n",
    "\n",
    "Cs"
   ]
  },
  {
   "cell_type": "code",
   "execution_count": 220,
   "id": "57debb54",
   "metadata": {},
   "outputs": [],
   "source": [
    "def diff_measurement(df, q2_cut, channel, Cs):\n",
    "#     global dfHigh\n",
    "    def _cal_uncertainty_(df, channel, channel_labels, Cs, region):\n",
    "        n_lt = []\n",
    "        for i in channel_labels.keys():\n",
    "            # Select the signal/bkg. \n",
    "            dfi = df[df.target==i]\n",
    "            if len(dfi) == 0:\n",
    "                ni = 0\n",
    "            else: \n",
    "                # reweighted number \n",
    "                ni = dfi.reweight.sum() / (1-tr_te_split) * Cs[i][region]\n",
    "            # Print out the table\n",
    "            if i==channel:\n",
    "                print('(*Signal)  {}:\\t{:.2e}'.format(channel_labels[i], ni))\n",
    "            else:\n",
    "                print('(*Bkg.)    {}:\\t{:.2e}'.format(channel_labels[i], ni))\n",
    "\n",
    "            n_lt.append(ni)\n",
    "        # Estimate the Fake-J/psi Bkg.\n",
    "#         n_fakeJpsi = n_lt[1]/.99998*.95*7/95/2\n",
    "#         n_lt.append(n_fakeJpsi)\n",
    "#         print('(*Bkg.)    {}:\\t{:.2e}'.format('Fake-Jpsi', n_fakeJpsi))\n",
    "\n",
    "\n",
    "        print('.'*40)\n",
    "        s = n_lt[channel]    # Number of signals\n",
    "        b = sum(n_lt)    # Number of Bkg. (including the signals, since signal fluctaution also contribute to the uncertainty)\n",
    "        Z = (2*((s + b)*np.log(1+s/b) - s))**0.5    #Signifiance\n",
    "        u = 1/Z    # Uncertainty\n",
    "        print(\"# of Siganl ({}):     {:.2e}\".format(channel_labels[channel], s))\n",
    "        print(\"# of Bkg. for {}:     {:.2e}\".format(channel_labels[channel], (b-s)))\n",
    "        print('Significance for {}:  {:.0f}'.format(channel_labels[channel], Z))\n",
    "        print('Uncertainty for {}:   {:.5e} ({:.2e})'.format(channel_labels[channel], u, u))\n",
    "        print('Uncertainty at {}:    {:.5e} ({:.2e})'.format('10 TeraZ', 1/((2*(((s*10) + (b*10))*np.log(1+(s*10)/(b*10)) - (s*10)))**0.5), 1/((2*(((s*10) + (b*10))*np.log(1+(s*10)/(b*10)) - (s*10)))**0.5)))\n",
    "        print('S/B for {}:           {:.2f}'.format(channel_labels[channel], s/(b-s)))\n",
    "        print('\\n'+'='*40)\n",
    "\n",
    "#         for i in channel_labels.keys():\n",
    "#             if i == channel:\n",
    "#                 continue\n",
    "#             else:\n",
    "#                 print('{}/B:\\t{:.2f}/{:.2f} = {:.2f}%'.format(channel_labels[i], n_lt[i], (b-s), n_lt[i]/(b-s)*100))\n",
    "#         print('{}/B:\\t{:.2f}/{:.2f} = {:.2f}%'.format('Fake-J/psi', n_lt[-1], (b-s), (n_lt[-1])/(b-s)*100))\n",
    "\n",
    "        u10 = 1/((2*(((s*10) + (b*10))*np.log(1+(s*10)/(b*10)) - (s*10)))**0.5)\n",
    "        return u, u10\n",
    "    \n",
    "    \n",
    "    dfLow = df[df.q2 < q2_cut]\n",
    "    dfHigh = df[df.q2 >= q2_cut]\n",
    "#     print(dfHigh)\n",
    "    print('#####   q^2 < 7.15   #####')\n",
    "    print()\n",
    "    u_Low, u_Low10 = _cal_uncertainty_(dfLow, channel, CHANNEL_LABELS, Cs, 0)\n",
    "    print()\n",
    "    print('#####   q^2 >= 7.15   #####')    \n",
    "    print()\n",
    "    u_High, u_High10 = _cal_uncertainty_(dfHigh, channel, CHANNEL_LABELS, Cs, 1)\n",
    "    \n",
    "    \n",
    "    \n",
    "    return u_Low, u_High, u_Low10, u_High10\n",
    "    "
   ]
  },
  {
   "cell_type": "code",
   "execution_count": 192,
   "id": "a38cfe7b",
   "metadata": {},
   "outputs": [
    {
     "name": "stdout",
     "output_type": "stream",
     "text": [
      "#####   q^2 < 7.15   #####\n",
      "\n",
      "(*Signal)  Jspi tau:\t4.61e+05\n",
      "(*Bkg.)    Jpsi mu:\t1.92e+05\n",
      "(*Bkg.)    Inclusive:\t3.07e+04\n",
      "(*Bkg.)    Comb.+Casc:\t2.50e+04\n",
      "(*Bkg.)    MisID:\t1.75e+03\n",
      "........................................\n",
      "# of Siganl (Jspi tau):     4.61e+05\n",
      "# of Bkg. for Jspi tau:     2.50e+05\n",
      "Significance for Jspi tau:  500\n",
      "Uncertainty for Jspi tau:   2.00182e-03 (2.00e-03)\n",
      "Uncertainty at 10 TeraZ:    6.33030e-04 (6.33e-04)\n",
      "S/B for Jspi tau:           1.85\n",
      "\n",
      "========================================\n",
      "\n",
      "#####   q^2 >= 7.15   #####\n",
      "\n",
      "(*Signal)  Jspi tau:\t1.37e+06\n",
      "(*Bkg.)    Jpsi mu:\t3.00e+05\n",
      "(*Bkg.)    Inclusive:\t4.11e+04\n",
      "(*Bkg.)    Comb.+Casc:\t1.68e+04\n",
      "(*Bkg.)    MisID:\t3.78e+03\n",
      "........................................\n",
      "# of Siganl (Jspi tau):     1.37e+06\n",
      "# of Bkg. for Jspi tau:     3.62e+05\n",
      "Significance for Jspi tau:  935\n",
      "Uncertainty for Jspi tau:   1.06965e-03 (1.07e-03)\n",
      "Uncertainty at 10 TeraZ:    3.38253e-04 (3.38e-04)\n",
      "S/B for Jspi tau:           3.78\n",
      "\n",
      "========================================\n",
      "\n",
      "\n",
      "\n",
      "\n",
      "\n",
      "\n",
      "#####   q^2 < 7.15   #####\n",
      "\n",
      "(*Bkg.)    Jspi tau:\t2.42e+05\n",
      "(*Signal)  Jpsi mu:\t1.69e+07\n",
      "(*Bkg.)    Inclusive:\t1.63e+05\n",
      "(*Bkg.)    Comb.+Casc:\t4.72e+04\n",
      "(*Bkg.)    MisID:\t2.42e+04\n",
      "........................................\n",
      "# of Siganl (Jpsi mu):     1.69e+07\n",
      "# of Bkg. for Jpsi mu:     4.77e+05\n",
      "Significance for Jpsi mu:  3578\n",
      "Uncertainty for Jpsi mu:   2.79522e-04 (2.80e-04)\n",
      "Uncertainty at 10 TeraZ:    8.83927e-05 (8.84e-05)\n",
      "S/B for Jpsi mu:           35.51\n",
      "\n",
      "========================================\n",
      "\n",
      "#####   q^2 >= 7.15   #####\n",
      "\n",
      "(*Bkg.)    Jspi tau:\t1.37e+05\n",
      "(*Signal)  Jpsi mu:\t9.97e+06\n",
      "(*Bkg.)    Inclusive:\t9.68e+04\n",
      "(*Bkg.)    Comb.+Casc:\t7.92e+03\n",
      "(*Bkg.)    MisID:\t4.42e+03\n",
      "........................................\n",
      "# of Siganl (Jpsi mu):     9.97e+06\n",
      "# of Bkg. for Jpsi mu:     2.46e+05\n",
      "Significance for Jpsi mu:  2749\n",
      "Uncertainty for Jpsi mu:   3.63786e-04 (3.64e-04)\n",
      "Uncertainty at 10 TeraZ:    1.15039e-04 (1.15e-04)\n",
      "S/B for Jpsi mu:           40.52\n",
      "\n",
      "========================================\n",
      "\n",
      "\n",
      "\n",
      "\n",
      "\n",
      "\n",
      "Overall Uncertainty (Low):  2.02e-03\n",
      "Overall Uncertainty 10-Tera Z (Low):  6.39e-04\n",
      "Overall Uncertainty (High): 1.13e-03\n",
      "Overall Uncertainty 10-Tera Z (High): 3.57e-04\n"
     ]
    }
   ],
   "source": [
    "uLow_tau, uHigh_tau, uLow_tau10, uHigh_tau10 = diff_measurement(df_bdt_test_s_cut_tau, 7.15, 0, Cs)\n",
    "\n",
    "print('\\n'*5)\n",
    "\n",
    "uLow_mu, uHigh_mu, uLow_mu10, uHigh_mu10 = diff_measurement(df_bdt_test_s_cut_mu, 7.15, 1, Cs)\n",
    "\n",
    "print('\\n'*5)\n",
    "\n",
    "print(\"Overall Uncertainty (Low):  {:.2e}\".format((uLow_tau**2 + uLow_mu**2)**0.5))\n",
    "print(\"Overall Uncertainty 10-Tera Z (Low):  {:.2e}\".format((uLow_mu10**2 + uLow_tau10**2)**0.5))\n",
    "print(\"Overall Uncertainty (High): {:.2e}\".format((uHigh_tau**2 + uHigh_mu**2)**0.5))\n",
    "print(\"Overall Uncertainty 10-Tera Z (High): {:.2e}\".format((uHigh_tau10**2 + uHigh_mu10**2)**0.5))\n"
   ]
  },
  {
   "cell_type": "code",
   "execution_count": null,
   "id": "49172ddf",
   "metadata": {},
   "outputs": [],
   "source": []
  },
  {
   "cell_type": "code",
   "execution_count": null,
   "id": "1bb6a3d4",
   "metadata": {},
   "outputs": [],
   "source": []
  },
  {
   "cell_type": "code",
   "execution_count": null,
   "id": "ee951031",
   "metadata": {},
   "outputs": [],
   "source": []
  },
  {
   "cell_type": "code",
   "execution_count": null,
   "id": "5acec62e",
   "metadata": {},
   "outputs": [],
   "source": []
  },
  {
   "cell_type": "code",
   "execution_count": null,
   "id": "cb21de50",
   "metadata": {},
   "outputs": [],
   "source": []
  },
  {
   "cell_type": "code",
   "execution_count": null,
   "id": "a4f56e14",
   "metadata": {},
   "outputs": [],
   "source": []
  },
  {
   "cell_type": "markdown",
   "id": "163b120e",
   "metadata": {},
   "source": [
    "## Saving Plots"
   ]
  },
  {
   "cell_type": "code",
   "execution_count": 193,
   "id": "00ac3520",
   "metadata": {},
   "outputs": [],
   "source": [
    "df_plot = df_test"
   ]
  },
  {
   "cell_type": "code",
   "execution_count": 199,
   "id": "861a5d98",
   "metadata": {},
   "outputs": [
    {
     "name": "stdout",
     "output_type": "stream",
     "text": [
      "error for tau mode:  1.66\n",
      "error for mu mode: 1.69\n"
     ]
    },
    {
     "data": {
      "image/png": "[encoded data removed]",
      "text/plain": [
       "<Figure size 576x432 with 1 Axes>"
      ]
     },
     "metadata": {
      "needs_background": "light"
     },
     "output_type": "display_data"
    }
   ],
   "source": [
    "f = plt.figure(figsize=(8,6))\n",
    "ax1 = plt.subplot(111)\n",
    "range_=[-10,13]\n",
    "\n",
    "ax1.hist(df_plot[(df_plot.target==0)]['q2'], weights=df_plot[df_plot.target==0]['reweight'], bins=20, range=range_, density=True, histtype='step', lw=3, label=r'$\\Lambda_b^0 \\to \\Lambda_c^- \\tau^+\\nu$', alpha=0.5, color='C0');\n",
    "ax1.hist(df_plot[(df_plot.target==1)]['q2'], weights=df_plot[df_plot.target==1]['reweight'], bins=20, range=range_, density=True, histtype='step', lw=3, label=r'$\\Lambda_b^0 \\to \\Lambda_c^-  \\mu^+\\nu$', alpha=0.5, color='C1');\n",
    "ax1.hist(df_plot[(df_plot.target!=0)&(df_plot.target!=1)]['q2'], weights=df_plot[(df_plot.target!=0)&(df_plot.target!=1)]['reweight'], bins=20, range=range_, density=True, histtype='step', lw=3, label=r'Bkg.', alpha=0.5, color='C2');\n",
    "\n",
    "ax1.legend(loc=2, fontsize=20)\n",
    "ax1.hist(df_plot[(df_plot.target==0)]['q2True'], weights=df_plot[df_plot.target==0]['reweight'], bins=20, range=range_, density=True, histtype='step', lw=2, label=r'$\\Lambda_b^0\\to \\Lambda_c^- \\tau^+\\nu$', alpha=0.5, color='C0', linestyle='--');\n",
    "ax1.hist(df_plot[(df_plot.target==1)]['q2True'], weights=df_plot[df_plot.target==1]['reweight'], bins=20, range=range_, density=True, histtype='step', lw=2, label=r'$\\Lambda_b^0\\to \\Lambda_c^- \\mu^+\\nu$', alpha=0.5, color='C1', linestyle='--');\n",
    "\n",
    "ax1.set_ylabel('Normlized distribution', fontsize=20)\n",
    "ax1.set_xlabel(r'$q^2$ [GeV$^2$]', fontsize=20)\n",
    "ax1.set_yticks([])\n",
    "\n",
    "f.savefig('./figures/Lambdabq2')\n",
    "# f.savefig('./figures/Lambdabq2_20noise')\n",
    "\n",
    "\n",
    "X_mea0 = df_plot[(df_plot.target==0)]['q2']\n",
    "X_mea1 = df_plot[(df_plot.target==1)]['q2']\n",
    "X_tru0 = df_plot[(df_plot.target==0)]['q2True']\n",
    "X_tru1 = df_plot[(df_plot.target==1)]['q2True']\n",
    "\n",
    "X0 = X_mea0 - X_tru0\n",
    "X1 = X_mea1 - X_tru1\n",
    "\n",
    "W0 = df_plot[(df_plot.target==0)]['reweight']\n",
    "W1 = df_plot[(df_plot.target==1)]['reweight']\n",
    "\n",
    "X_Wmean0 = sum(X0 * W0) / sum(W0)\n",
    "X_Wmean1 = sum(X1 * W1) / sum(W1)\n",
    "\n",
    "print(\"error for tau mode:  {:.2f}\".format((sum((X0 - X_Wmean0)**2 * W0) / (sum(W0)*(len(W0)-1)/len(W0)))**0.5))\n",
    "print(\"error for mu mode: {:.2f}\".format((sum((X1 - X_Wmean1)**2 * W1) / (sum(W1)*(len(W1)-1)/len(W1)))**0.5))\n"
   ]
  },
  {
   "cell_type": "code",
   "execution_count": 200,
   "id": "66825d4e",
   "metadata": {},
   "outputs": [
    {
     "name": "stdout",
     "output_type": "stream",
     "text": [
      "error for mu mode:  2.37\n",
      "error for tau mode: 2.88\n"
     ]
    },
    {
     "data": {
      "image/png": "[encoded data removed]",
      "text/plain": [
       "<Figure size 576x432 with 1 Axes>"
      ]
     },
     "metadata": {
      "needs_background": "light"
     },
     "output_type": "display_data"
    }
   ],
   "source": [
    "f = plt.figure(figsize=(8,6))\n",
    "ax1 = plt.subplot(111)\n",
    "range_=[-11,10]\n",
    "\n",
    "\n",
    "ax1.hist(df_plot[(df_plot.target==0)]['miss2'], weights=df_plot[df_plot.target==0]['reweight'], bins=20, range=range_, density=True, histtype='step', lw=3, label=r'$\\Lambda_b^0 \\to \\Lambda_c^-  \\tau^+\\nu$', alpha=0.5, color='C0');\n",
    "ax1.hist(df_plot[(df_plot.target==1)]['miss2'], weights=df_plot[df_plot.target==1]['reweight'], bins=20, range=range_, density=True, histtype='step', lw=3, label=r'$\\Lambda_b^0 \\to \\Lambda_c^-  \\mu^+\\nu$', alpha=0.5, color='C1');\n",
    "ax1.hist(df_plot[(df_plot.target!=0)&(df_plot.target!=1)]['miss2'], weights=df_plot[(df_plot.target!=0)&(df_plot.target!=1)]['reweight'], bins=20, range=range_, density=True, histtype='step', lw=3, label=r'Bkg.', alpha=0.5, color='C2');\n",
    "\n",
    "ax1.legend(loc=2, fontsize=20)\n",
    "ax1.hist(df_plot[(df_plot.target==0)]['miss2True'], weights=df_plot[df_plot.target==0]['reweight'], bins=20, range=range_, density=True, histtype='step', lw=2, label=r'true $\\Lambda_b^0\\to \\Lambda_c^- \\tau^+\\nu$', alpha=0.5, color='C0', linestyle='--');\n",
    "ax1.hist(df_plot[(df_plot.target==1)]['miss2True'], weights=df_plot[df_plot.target==1]['reweight'], bins=20, range=range_, density=True, histtype='step', lw=2, label=r'true $\\Lambda_b^0\\to \\Lambda_c^- \\mu^+\\nu$', alpha=0.5, color='C1', linestyle='--');\n",
    "\n",
    "ax1.set_ylabel('Normlized distribution', fontsize=20)\n",
    "ax1.set_xlabel(r'$m_{\\rm miss}^2$ [GeV$^2$]', fontsize=20)\n",
    "ax1.set_yticks([])\n",
    "\n",
    "f.savefig('./figures/Lambdabmiss2')\n",
    "# f.savefig('./figures/Lambdabmiss2_20noise')\n",
    "\n",
    "\n",
    "X_mea0 = df_plot[(df_plot.target==0)]['miss2']\n",
    "X_mea1 = df_plot[(df_plot.target==1)]['miss2']\n",
    "X_tru0 = df_plot[(df_plot.target==0)]['miss2True']\n",
    "X_tru1 = df_plot[(df_plot.target==1)]['miss2True']\n",
    "\n",
    "X0 = X_mea0 - X_tru0\n",
    "X1 = X_mea1 - X_tru1\n",
    "\n",
    "W0 = df_plot[(df_plot.target==0)]['reweight']\n",
    "W1 = df_plot[(df_plot.target==1)]['reweight']\n",
    "\n",
    "X_Wmean0 = sum(X0 * W0) / sum(W0)\n",
    "X_Wmean1 = sum(X1 * W1) / sum(W1)\n",
    "\n",
    "print(\"error for mu mode:  {:.2f}\".format((sum((X0 - X_Wmean0)**2 * W0) / (sum(W0)*(len(W0)-1)/len(W0)))**0.5))\n",
    "print(\"error for tau mode: {:.2f}\".format((sum((X1 - X_Wmean1)**2 * W1) / (sum(W1)*(len(W1)-1)/len(W1)))**0.5))\n",
    "\n"
   ]
  },
  {
   "cell_type": "code",
   "execution_count": 204,
   "id": "9afc1409",
   "metadata": {},
   "outputs": [
    {
     "name": "stdout",
     "output_type": "stream",
     "text": [
      "error for mu mode:  2.28\n",
      "error for tau mode: 2.41\n"
     ]
    },
    {
     "data": {
      "image/png": "[encoded data removed]",
      "text/plain": [
       "<Figure size 576x432 with 1 Axes>"
      ]
     },
     "metadata": {
      "needs_background": "light"
     },
     "output_type": "display_data"
    }
   ],
   "source": [
    "f = plt.figure(figsize=(8,6))\n",
    "ax1 = plt.subplot(111)\n",
    "range_=[0,50]\n",
    "\n",
    "ax1.hist(df_plot[(df_plot.target==0)]['EB'], weights=df_plot[df_plot.target==0]['reweight'], bins=20, range=range_, density=True, histtype='step', lw=3, label=r'$\\Lambda_b^0 \\to \\Lambda_c^- \\tau^+\\nu$', alpha=0.5, color='C0');\n",
    "ax1.hist(df_plot[(df_plot.target==1)]['EB'], weights=df_plot[df_plot.target==1]['reweight'], bins=20, range=range_, density=True, histtype='step', lw=3, label=r'$\\Lambda_b^0 \\to \\Lambda_c^- \\mu^+\\nu$', alpha=0.5, color='C1');\n",
    "ax1.hist(df_plot[(df_plot.target!=0)&(df_plot.target!=1)]['EB'], weights=df_plot[(df_plot.target!=0)&(df_plot.target!=1)]['reweight'], bins=20, range=range_, density=True, histtype='step', lw=3, label=r'Bkg.', alpha=0.5, color='C2');\n",
    "\n",
    "ax1.legend(loc=2, fontsize=20)\n",
    "ax1.hist(df_plot[(df_plot.target==0)]['EBTrue'], weights=df_plot[df_plot.target==0]['reweight'], bins=20, range=range_, density=True, histtype='step', lw=2, label=r'true $\\Lambda_b^0\\to \\Lambda_c^- \\tau^+\\nu$', alpha=0.5, color='C0', linestyle='--');\n",
    "ax1.hist(df_plot[(df_plot.target==1)]['EBTrue'], weights=df_plot[df_plot.target==1]['reweight'], bins=20, range=range_, density=True, histtype='step', lw=2, label=r'true $\\Lambda_b^0\\to \\Lambda_c^- \\mu^+\\nu$', alpha=0.5, color='C1', linestyle='--');\n",
    "\n",
    "ax1.set_ylabel('Normlized distribution', fontsize=20)\n",
    "ax1.set_xlabel(r'$E_{\\Lambda_b^0}$ [GeV]', fontsize=20)\n",
    "ax1.set_yticks([])\n",
    "\n",
    "f.savefig('./figures/LambdabE')\n",
    "# f.savefig('./figures/LambdabE_20noise')\n",
    "\n",
    "\n",
    "X_mea0 = df_plot[(df_plot.target==0)]['EB']\n",
    "X_mea1 = df_plot[(df_plot.target==1)]['EB']\n",
    "X_tru0 = df_plot[(df_plot.target==0)]['EBTrue']\n",
    "X_tru1 = df_plot[(df_plot.target==1)]['EBTrue']\n",
    "\n",
    "X0 = X_mea0 - X_tru0\n",
    "X1 = X_mea1 - X_tru1\n",
    "\n",
    "W0 = df_plot[(df_plot.target==0)]['reweight']\n",
    "W1 = df_plot[(df_plot.target==1)]['reweight']\n",
    "\n",
    "X_Wmean0 = sum(X0 * W0) / sum(W0)\n",
    "X_Wmean1 = sum(X1 * W1) / sum(W1)\n",
    "\n",
    "print(\"error for mu mode:  {:.2f}\".format((sum((X0 - X_Wmean0)**2 * W0) / (sum(W0)*(len(W0)-1)/len(W0)))**0.5))\n",
    "print(\"error for tau mode: {:.2f}\".format((sum((X1 - X_Wmean1)**2 * W1) / (sum(W1)*(len(W1)-1)/len(W1)))**0.5))\n"
   ]
  },
  {
   "cell_type": "code",
   "execution_count": 209,
   "id": "498e7a48",
   "metadata": {
    "scrolled": false
   },
   "outputs": [
    {
     "data": {
      "image/png": "[encoded data removed]",
      "text/plain": [
       "<Figure size 576x432 with 1 Axes>"
      ]
     },
     "metadata": {
      "needs_background": "light"
     },
     "output_type": "display_data"
    }
   ],
   "source": [
    "f = plt.figure(figsize=(8,6))\n",
    "ax1 = plt.subplot(111)\n",
    "range_=[-3,0.3]\n",
    "\n",
    "\n",
    "ax1.hist(np.log10(df_plot[(df_plot.target==0)]['sMinMuBVert']), weights=df_plot[df_plot.target==0]['reweight'], bins=20, range=range_, density=True, histtype='step', lw=3, label=r'$\\Lambda_b^0 \\to \\Lambda_c^-  \\tau^+\\nu$', alpha=0.5);\n",
    "ax1.hist(np.log10(df_plot[(df_plot.target==1)]['sMinMuBVert']), weights=df_plot[df_plot.target==1]['reweight'], bins=20, range=range_, density=True, histtype='step', lw=3, label=r'$\\Lambda_b^0 \\to \\Lambda_c^-  \\mu^+\\nu$', alpha=0.5);\n",
    "ax1.hist(np.log10(df_plot[(df_plot.target!=0)&(df_plot.target!=1)]['sMinMuBVert']), weights=df_plot[(df_plot.target!=0)&(df_plot.target!=1)]['reweight'], bins=20, range=range_, density=True, histtype='step', lw=3, label=r'Bkg.', alpha=0.5);\n",
    "\n",
    "\n",
    "# ax1.hist(np.log10(df_plot[(df_plot.target==0)]['sMinMuHcVertTrue']), weights=df_plot[df_plot.target==0]['reweight'], bins=20, range=range_, density=True, histtype='step', lw=3, alpha=0.5, color='C0', linestyle='--');\n",
    "# ax1.hist(np.log10(df_plot[(df_plot.target==1)]['sMinMuHcVertTrue']), weights=df_plot[df_plot.target==1]['reweight'], bins=20, range=range_, density=True, histtype='step', lw=3, alpha=0.5, color='C1', linestyle='--');\n",
    "\n",
    "ax1.set_ylabel('Normlized distribution', fontsize=20)\n",
    "ax1.set_xlabel(r'$\\log{s_{\\rm SV}}$', fontsize=20)\n",
    "ax1.set_yticks([])\n",
    "ax1.legend(loc=2, fontsize=20)\n",
    "\n",
    "f.savefig('./figures/Lambdablogssv')\n",
    "# f.savefig('./figures/Lambdablogssv_20noise')\n"
   ]
  },
  {
   "cell_type": "code",
   "execution_count": 210,
   "id": "a10ece6a",
   "metadata": {},
   "outputs": [
    {
     "data": {
      "text/plain": [
       "['q2',\n",
       " 'miss2',\n",
       " 'pB',\n",
       " 'EB',\n",
       " 'pHc',\n",
       " 'EHc',\n",
       " 'pMu',\n",
       " 'EMu',\n",
       " 'sMinMuHcVert',\n",
       " 'sMinMuTr',\n",
       " 'sMinHcTr',\n",
       " 'sPVHc',\n",
       " 'mHcMu',\n",
       " 'pPerp',\n",
       " 'mCorr',\n",
       " 'D0Max',\n",
       " 'DzMax',\n",
       " 'D0Sum',\n",
       " 'DzSum',\n",
       " 'ENeutral03',\n",
       " 'ENeutral06',\n",
       " 'ENeutral03Hadron',\n",
       " 'ENeutral06Hadron',\n",
       " 'ENeutral03Photon',\n",
       " 'ENeutral06Photon',\n",
       " 'ECharge03',\n",
       " 'ECharge06',\n",
       " 'ECharge03PV',\n",
       " 'ECharge06PV',\n",
       " 'ECharge03DV',\n",
       " 'ECharge06DV']"
      ]
     },
     "execution_count": 210,
     "metadata": {},
     "output_type": "execute_result"
    }
   ],
   "source": [
    "features"
   ]
  },
  {
   "cell_type": "code",
   "execution_count": 213,
   "id": "117cdf5b",
   "metadata": {},
   "outputs": [
    {
     "data": {
      "image/png": "[encoded data removed]",
      "text/plain": [
       "<Figure size 576x432 with 1 Axes>"
      ]
     },
     "metadata": {
      "needs_background": "light"
     },
     "output_type": "display_data"
    }
   ],
   "source": [
    "f = plt.figure(figsize=(8,6))\n",
    "ax1 = plt.subplot(111)\n",
    "range_=[0,10]\n",
    "\n",
    "\n",
    "ax1.hist(df_plot[(df_plot.target==0)]['ENeutral03Photon'], weights=df_plot[df_plot.target==0]['reweight'], bins=20, range=range_, density=True, histtype='step', lw=3, label=r'$\\Lambda_b^0 \\to \\Lambda_c^- \\tau^+\\nu$', alpha=0.5);\n",
    "ax1.hist(df_plot[(df_plot.target==1)]['ENeutral03Photon'], weights=df_plot[df_plot.target==1]['reweight'], bins=20, range=range_, density=True, histtype='step', lw=3, label=r'$\\Lambda_b^0 \\to \\Lambda_c^- \\mu^+\\nu$', alpha=0.5);\n",
    "ax1.hist(df_plot[(df_plot.target!=0)&(df_plot.target!=1)]['ENeutral03Photon'], weights=df_plot[(df_plot.target!=0)&(df_plot.target!=1)]['reweight'], bins=20, range=range_, density=True, histtype='step', lw=3, label=r'Bkg.', alpha=0.5);\n",
    "ax1.set_ylabel('Normlized distribution', fontsize=20)\n",
    "ax1.set_xlabel(r'$I_\\gamma(0.3\\rm rad)$ [GeV]', fontsize=20)\n",
    "ax1.set_yticks([])\n",
    "ax1.legend(loc=1, fontsize=20)\n",
    "\n",
    "f.savefig('./figures/Lambdabisolation')\n"
   ]
  },
  {
   "cell_type": "code",
   "execution_count": 215,
   "id": "473841ec",
   "metadata": {},
   "outputs": [
    {
     "data": {
      "image/png": "[encoded data removed]",
      "text/plain": [
       "<Figure size 576x432 with 1 Axes>"
      ]
     },
     "metadata": {
      "needs_background": "light"
     },
     "output_type": "display_data"
    }
   ],
   "source": [
    "\n",
    "df_plot = df_bdt_test_s\n",
    "f = plt.figure(figsize=(8,6))\n",
    "ax1 = plt.subplot(111)\n",
    "pred0_max = df_plot[(df_plot.target==0)]['pred0'].max() \n",
    "pred0_min = df_plot[(df_plot.target==0)]['pred0'].min() \n",
    "pred0_diff = pred0_max - pred0_min\n",
    "range_=[pred0_min - 0.1*pred0_max, pred0_max + 0.1*pred0_diff]\n",
    "# print(range_)\n",
    "\n",
    "ax1.hist(df_plot[(df_plot.target==0)]['pred0'], weights=df_plot[df_plot.target==0]['reweight'], bins=20, range=range_, density=True, histtype='step', lw=3, label=r'$\\Lambda_b^0 \\to \\Lambda_c^-\\tau^+\\nu$', alpha=0.5);\n",
    "ax1.hist(df_plot[(df_plot.target==1)]['pred0'], weights=df_plot[df_plot.target==1]['reweight'], bins=20, range=range_, density=True, histtype='step', lw=3, label=r'$\\Lambda_b^0 \\to \\Lambda_c^-\\mu^+\\nu$', alpha=0.5);\n",
    "ax1.hist(df_plot[(df_plot.target!=0)&(df_plot.target!=1)]['pred0'], weights=df_plot[(df_plot.target!=0)&(df_plot.target!=1)]['reweight'], bins=20, range=range_, density=True, histtype='step', lw=3, label=r'Bkg.', alpha=0.5);\n",
    "ax1.set_ylabel('Normlized distribution', fontsize=20)\n",
    "ax1.set_xlabel(r'BDT score for $B_c^+\\to J/\\psi \\tau^+\\nu$', fontsize=20)\n",
    "ax1.set_yticks([])\n",
    "ax1.legend(loc=1, fontsize=20)\n",
    "ax1.axvline(c1, color='red', lw=3)\n",
    "\n",
    "f.savefig('./figures/LambdabtauBDT')\n"
   ]
  },
  {
   "cell_type": "code",
   "execution_count": 100,
   "id": "940df3a3",
   "metadata": {},
   "outputs": [
    {
     "data": {
      "text/plain": [
       "{'miss2': 1341.0,\n",
       " 'q2': 1141.0,\n",
       " 'mHcMu': 1067.0,\n",
       " 'pB': 1024.0,\n",
       " 'sPVHc': 1024.0,\n",
       " 'pHc': 942.0,\n",
       " 'sMinMuHcVert': 918.0,\n",
       " 'pMu': 839.0,\n",
       " 'mCorr': 819.0,\n",
       " 'pPerp': 686.0,\n",
       " 'ENeutral03Photon': 572.0,\n",
       " 'ENeutral06Photon': 528.0,\n",
       " 'ENeutral06': 453.0,\n",
       " 'ENeutral03': 436.0,\n",
       " 'sMinMuTr': 302.0,\n",
       " 'sMinHcTr': 281.0,\n",
       " 'ENeutral06Hadron': 273.0,\n",
       " 'ENeutral03Hadron': 261.0,\n",
       " 'ECharge06': 256.0,\n",
       " 'ECharge06PV': 247.0,\n",
       " 'ECharge03': 224.0,\n",
       " 'ECharge03PV': 185.0,\n",
       " 'ECharge06DV': 132.0,\n",
       " 'ECharge03DV': 121.0,\n",
       " 'D0Max': 85.0,\n",
       " 'EHc': 84.0,\n",
       " 'DzSum': 79.0,\n",
       " 'DzMax': 76.0,\n",
       " 'D0Sum': 72.0}"
      ]
     },
     "execution_count": 100,
     "metadata": {},
     "output_type": "execute_result"
    }
   ],
   "source": [
    "d = xgbc1.get_booster().get_score()\n",
    "dict(sorted(d.items(), key=lambda item: -1*item[1]))\n",
    "# R(Jpsi)"
   ]
  },
  {
   "cell_type": "code",
   "execution_count": null,
   "id": "c57c60ca",
   "metadata": {},
   "outputs": [],
   "source": []
  },
  {
   "cell_type": "code",
   "execution_count": null,
   "id": "6127435d",
   "metadata": {},
   "outputs": [],
   "source": []
  },
  {
   "cell_type": "code",
   "execution_count": null,
   "id": "b046b844",
   "metadata": {},
   "outputs": [],
   "source": []
  },
  {
   "cell_type": "code",
   "execution_count": 27,
   "id": "4bb926c2",
   "metadata": {},
   "outputs": [
    {
     "data": {
      "text/plain": [
       "0        0.012823\n",
       "1        0.021189\n",
       "2        0.046108\n",
       "3        0.205834\n",
       "4        0.203519\n",
       "           ...   \n",
       "54597    0.013388\n",
       "54598    0.438956\n",
       "54599    0.014942\n",
       "54600    0.004887\n",
       "54601    0.015372\n",
       "Name: sMinMuHcVert, Length: 54602, dtype: float32"
      ]
     },
     "execution_count": 27,
     "metadata": {},
     "output_type": "execute_result"
    }
   ],
   "source": [
    "df_test['sMinMuHcVert']"
   ]
  },
  {
   "cell_type": "code",
   "execution_count": 35,
   "id": "0a8aad4f",
   "metadata": {},
   "outputs": [],
   "source": [
    "# df_plot = df_test.loc[df_test_o[df_test_o['target']!=4].index]\n",
    "df_plot = df_test.loc[df_test_o[df_test_o['target']!=4].index]\n",
    "df_plot = df_test\n"
   ]
  },
  {
   "cell_type": "code",
   "execution_count": null,
   "id": "2b35e190",
   "metadata": {},
   "outputs": [],
   "source": []
  }
 ],
 "metadata": {
  "kernelspec": {
   "display_name": "Python 3 (ipykernel)",
   "language": "python",
   "name": "python3"
  },
  "language_info": {
   "codemirror_mode": {
    "name": "ipython",
    "version": 3
   },
   "file_extension": ".py",
   "mimetype": "text/x-python",
   "name": "python",
   "nbconvert_exporter": "python",
   "pygments_lexer": "ipython3",
   "version": "3.10.2"
  }
 },
 "nbformat": 4,
 "nbformat_minor": 5
}
