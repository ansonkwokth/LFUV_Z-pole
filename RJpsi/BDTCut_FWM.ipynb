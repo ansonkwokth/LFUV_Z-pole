{
 "cells": [
  {
   "cell_type": "code",
   "execution_count": 296,
   "id": "4255cc33-315a-4071-9c33-fbf9a930ac75",
   "metadata": {},
   "outputs": [],
   "source": [
    "import uproot\n",
    "import pandas as pd\n",
    "import numpy as np\n",
    "import matplotlib.pyplot as plt\n",
    "import xgboost as xgb\n",
    "\n",
    "\n",
    "import warnings\n",
    "warnings.filterwarnings(\"ignore\")"
   ]
  },
  {
   "cell_type": "markdown",
   "id": "7d1fdbbe",
   "metadata": {},
   "source": [
    "## Theoretical $q^2$"
   ]
  },
  {
   "cell_type": "code",
   "execution_count": 297,
   "id": "75d024d4-b466-46e5-9445-9da8e87aaa6d",
   "metadata": {},
   "outputs": [],
   "source": [
    "def dGammaJpsimu(q2):\n",
    "    return 6.79842*10**(-7) * (0. + (1 + 0.0055125/q2) * ((4.31066 * np.exp(0.038 * q2 + 0.0015 * q2**2) - 0.0448191 * np.exp(0.065 * q2 + 0.0015* q2**2)*np.sqrt((10.106 - q2) * (87.8156 - q2)))**2 + \\\n",
    "            (4.31066 *np.exp(0.038 *q2 + 0.0015 *q2**2) + 0.0448191 *np.exp(0.065* q2 + 0.0015 *q2**2)*np.sqrt((10.106 - q2)* (87.8156 - q2)))**2 \\\n",
    "            + (2.29039* (0.007288 *np.exp(0.064 * q2 + 0.0041* q2**2)* (10.106 - q2)* (87.8156 - q2) + 0.46 *np.exp(0.038 *q2 + 0.0015 *q2**2) *(-29.7904 + q2))**2)/q2) + \\\n",
    "            (0.0057567 *np.exp(0.094 *q2 + 0.0034 *q2**2) *(10.106 - q2) *(87.8156 - q2))/q2**2)*(1 - 0.011025/q2)**2 *np.sqrt((10.106 - q2) *(87.8156 - q2))* q2\n",
    "\n",
    "\n",
    "def dGammaJpsitau(q2):\n",
    "    return 6.79842*10**(-7) * (0. + (1 + 1.58064/q2) * ((4.31066 *np.exp(0.038 *q2 + 0.0015* q2**2) - 0.0448191 *np.exp(0.065* q2 + 0.0015 *q2**2)* np.sqrt((10.106 - q2) *(87.8156 - q2)))**2 +\\\n",
    "            (4.31066 *np.exp(0.038 *q2 + 0.0015 *q2**2) +0.0448191 *np.exp(0.065* q2 + 0.0015 *q2**2)*np.sqrt((10.106 - q2)* (87.8156 - q2)))**2 \\\n",
    "            + (2.29039* (0.007288 *np.exp(0.064 *q2 + 0.0041 *q2**2)* (10.106 - q2)* (87.8156 - q2) + 0.46*np.exp(0.038 *q2 + 0.0015 *q2**2) *(-29.7904 + q2))**2)/q2) + \\\n",
    "            (1.65066 *np.exp(0.094* q2 + 0.0034 *q2**2)* (10.106 - q2) *(87.8156 - q2))/q2**2)* (1 - 3.16128/q2)**2 *np.sqrt((10.106 - q2) *(87.8156 - q2))* q2"
   ]
  },
  {
   "cell_type": "code",
   "execution_count": 298,
   "id": "d7b1a38a-a750-4ec5-bf46-4294d158959d",
   "metadata": {},
   "outputs": [
    {
     "data": {
      "text/plain": [
       "[<matplotlib.lines.Line2D at 0x7f241727e4a0>]"
      ]
     },
     "execution_count": 298,
     "metadata": {},
     "output_type": "execute_result"
    },
    {
     "data": {
      "image/png": "[encoded data removed]",
      "text/plain": [
       "<Figure size 432x288 with 1 Axes>"
      ]
     },
     "metadata": {
      "needs_background": "light"
     },
     "output_type": "display_data"
    }
   ],
   "source": [
    "q2_mu = np.linspace(0.105**2, 10.106)\n",
    "q2_tau = np.linspace(1.778**2, 10.106)\n",
    "\n",
    "dGmu = dGammaJpsimu(q2_mu)\n",
    "dGtau = dGammaJpsitau(q2_tau)\n",
    "\n",
    "plt.plot(q2_mu, dGmu)\n",
    "plt.plot(q2_tau, dGtau)"
   ]
  },
  {
   "cell_type": "code",
   "execution_count": null,
   "id": "6a1c29af-98df-4ad7-b1d0-e7099400683c",
   "metadata": {},
   "outputs": [],
   "source": []
  },
  {
   "cell_type": "markdown",
   "id": "28471494",
   "metadata": {},
   "source": [
    "## Loading Data"
   ]
  },
  {
   "cell_type": "code",
   "execution_count": 299,
   "id": "ca2a0ba8-d7cb-4c1f-a83a-af2c05f711ad",
   "metadata": {},
   "outputs": [],
   "source": [
    "epsilon_pimu = 1/100\n",
    "\n",
    "# No veto\n",
    "modes_dt = {0: {'mode': './features/JpsiTauNu_10Noise_NoVeto.root', 'yields': 3.76e3}, \n",
    "            1: {'mode': './features/JpsiMuNu_10Noise_NoVeto.root', 'yields': 1.03e5},\n",
    "            2: {'mode': './features/RJpsiInclusive_10Noise_NoVeto.root', 'yields': 3.83e3},\n",
    "            3: {'mode': './features/RJpsiCombCascade_10Noise_NoVeto.root', 'yields': 7.89e4},\n",
    "            4: {'mode': './features/RJpsiMisID_10Noise_NoVeto.root', 'yields': epsilon_pimu*1.10e8}\n",
    "           }\n",
    "\n",
    "\n",
    "\n",
    "# # 20noise\n",
    "# modes_dt = {0: {'mode': './features/JpsiTauNu_20Noise_NoVeto.root', 'yields': 3.65e3}, \n",
    "#             1: {'mode': './features/JpsiMuNu_20Noise_NoVeto.root', 'yields': 9.95e4},\n",
    "#             2: {'mode': './features/RJpsiInclusive_20Noise_NoVeto.root', 'yields': 3.79e3},\n",
    "#             3: {'mode': './features/RJpsiCombCascade_20Noise_NoVeto.root', 'yields': 7.94e4},\n",
    "#             4: {'mode': './features/RJpsiMisID_20Noise_NoVeto.root', 'yields': epsilon_pimu*1.10e8}\n",
    "#            }"
   ]
  },
  {
   "cell_type": "code",
   "execution_count": 300,
   "id": "5a0e9d29-4e37-4e8f-8367-e89fe06f4f5c",
   "metadata": {},
   "outputs": [],
   "source": [
    "def load_train_test(modes_dt, size=0.5):\n",
    "    np.random.seed(9)\n",
    "    df_train = pd.DataFrame()\n",
    "    df_test = pd.DataFrame()\n",
    "    num_lt = []\n",
    "    \n",
    "    # loop over different modes\n",
    "    for i, (k, v) in enumerate(modes_dt.items()):\n",
    "        print('\\rReading:', i)\n",
    "        file = uproot.open(v['mode'])\n",
    "#         df_i = file['t'].pandas.df()\n",
    "        df_i = pd.DataFrame(np.array(file['t']['features'].array()))\n",
    "        \n",
    "        # shuffle the index for training and testing sets\n",
    "        idx = df_i.index.tolist()\n",
    "        np.random.shuffle(idx)\n",
    "#         print(len(idx))\n",
    "        idx = idx[:20000]    # if too much data\n",
    "#         idx = idx[:5000]    # if too much data\n",
    "        num_lt.append(len(idx))    \n",
    "\n",
    "        df_i['target'] = i    # add the target label\n",
    "        df_i['weight'] = v['yields']/len(idx)\n",
    "        print(df_i['weight'][0])\n",
    "        \n",
    "        # cut according to the fraction\n",
    "        cut = int(np.ceil(len(idx) * size))\n",
    "        df_train_i = df_i.loc[idx[:cut]]\n",
    "        df_test_i = df_i.loc[idx[cut:]]\n",
    "        \n",
    "        # Put to the global dataframs\n",
    "        df_train = pd.concat([df_train, df_train_i])\n",
    "        df_test = pd.concat([df_test, df_test_i])\n",
    "    \n",
    "    df_train.reset_index(drop=True, inplace=True)\n",
    "    df_test.reset_index(drop=True, inplace=True)\n",
    "    \n",
    "    print('train size: {} ({:.2f}%); test size: {} ({:.2f}%)'.format(len(df_train), 100*len(df_train)/(len(df_train)+len(df_test)), len(df_test), 100*len(df_test)/(len(df_train)+len(df_test))))\n",
    "    print('data points per mode: ',num_lt)\n",
    "    return df_train, df_test\n",
    "\n",
    "    "
   ]
  },
  {
   "cell_type": "code",
   "execution_count": 301,
   "id": "6ca7635f-3c7e-440a-9dcd-95b942b509b0",
   "metadata": {},
   "outputs": [
    {
     "name": "stdout",
     "output_type": "stream",
     "text": [
      "Reading: 0\n",
      "1.8458517427589594\n",
      "Reading: 1\n",
      "19.548301385462135\n",
      "Reading: 2\n",
      "22.662721893491124\n",
      "Reading: 3\n",
      "44.325842696629216\n",
      "Reading: 4\n",
      "55.0\n",
      "train size: 14629 (50.01%); test size: 14626 (49.99%)\n",
      "data points per mode:  [2037, 5269, 169, 1780, 20000]\n"
     ]
    }
   ],
   "source": [
    "tr_te_split = 0.5\n",
    "df_train, df_test = load_train_test(modes_dt, tr_te_split)\n",
    "# make a copy\n",
    "df_train_o, df_test_o = df_train.copy(), df_test.copy()"
   ]
  },
  {
   "cell_type": "code",
   "execution_count": 302,
   "id": "e55f732f",
   "metadata": {},
   "outputs": [],
   "source": [
    "file = uproot.open(\"./features/JpsiTauNu_FWM.root\")\n",
    "# df_tau = file['t'].pandas.df()\n",
    "df_tau = pd.DataFrame(np.array(file['t']['FWMs'].array()))\n",
    "df_tau = df_tau.set_index('iEvt')\n",
    "\n",
    "file = uproot.open(\"./features/JpsiMuNu_FWM.root\")\n",
    "df_mu = pd.DataFrame(np.array(file['t']['FWMs'].array()))\n",
    "df_mu = df_mu.set_index('iEvt')\n",
    "\n",
    "file = uproot.open(\"./features/RJpsiMisID_FWM.root\")\n",
    "df_misid = pd.DataFrame(np.array(file['t']['FWMs'].array()))\n",
    "df_misid = df_misid.set_index('iEvt')\n",
    "\n",
    "file = uproot.open(\"./features/RJpsiInclusive_FWM.root\")\n",
    "df_incl1 = pd.DataFrame(np.array(file['t']['FWMs'].array()))\n",
    "df_incl1 = df_incl1.set_index('iEvt')\n",
    "\n",
    "file = uproot.open(\"./features/RJpsiInclusive_FWM_seed2.root\")\n",
    "df_incl2 = pd.DataFrame(np.array(file['t']['FWMs'].array()))\n",
    "df_incl2 = df_incl2.set_index('iEvt')\n",
    "df_incl = pd.concat([df_incl1, df_incl2])\n",
    "\n",
    "file = uproot.open(\"./features/RJpsiCombCascade_FWM.root\")\n",
    "df_comb = pd.DataFrame(np.array(file['t']['FWMs'].array()))\n",
    "df_comb = df_comb.set_index('iEvt')"
   ]
  },
  {
   "cell_type": "code",
   "execution_count": 303,
   "id": "31a966ac",
   "metadata": {},
   "outputs": [],
   "source": [
    "FWM_col = ['H_EE0', 'H_EE1', 'H_EE2', 'H_EE3', 'H_EE4', \n",
    "           'H_EE5', 'H_EE6', 'H_EE7', 'H_EE8', 'H_EE9', 'H_EE10']"
   ]
  },
  {
   "cell_type": "code",
   "execution_count": 304,
   "id": "66d236b0",
   "metadata": {},
   "outputs": [],
   "source": [
    "df_train_o.loc[df_train_o.target==0, FWM_col] = df_tau.loc[df_train_o.loc[df_train_o.target==0]['iEvt']][FWM_col].values\n",
    "df_train_o.loc[df_train_o.target==1, FWM_col] = df_mu.loc[df_train_o.loc[df_train_o.target==1]['iEvt']][FWM_col].values\n",
    "df_train_o.loc[df_train_o.target==2, FWM_col] = df_incl.loc[df_train_o.loc[df_train_o.target==2]['iEvt']][FWM_col].values\n",
    "df_train_o.loc[df_train_o.target==3, FWM_col] = df_comb.loc[df_train_o.loc[df_train_o.target==3]['iEvt']][FWM_col].values\n",
    "df_train_o.loc[df_train_o.target==4, FWM_col] = df_misid.loc[df_train_o.loc[df_train_o.target==4]['iEvt']][FWM_col].values\n"
   ]
  },
  {
   "cell_type": "code",
   "execution_count": 305,
   "id": "fa2628d2",
   "metadata": {},
   "outputs": [],
   "source": [
    "df_test_o.loc[df_test_o.target==0, FWM_col] = df_tau.loc[df_test_o.loc[df_test_o.target==0]['iEvt']][FWM_col].values\n",
    "df_test_o.loc[df_test_o.target==1, FWM_col] = df_mu.loc[df_test_o.loc[df_test_o.target==1]['iEvt']][FWM_col].values\n",
    "df_test_o.loc[df_test_o.target==2, FWM_col] = df_incl.loc[df_test_o.loc[df_test_o.target==2]['iEvt']][FWM_col].values\n",
    "df_test_o.loc[df_test_o.target==3, FWM_col] = df_comb.loc[df_test_o.loc[df_test_o.target==3]['iEvt']][FWM_col].values\n",
    "df_test_o.loc[df_test_o.target==4, FWM_col] = df_misid.loc[df_test_o.loc[df_test_o.target==4]['iEvt']][FWM_col].values\n"
   ]
  },
  {
   "cell_type": "code",
   "execution_count": 306,
   "id": "e726c20f",
   "metadata": {},
   "outputs": [],
   "source": [
    "df_train = df_train_o.copy()\n",
    "df_test = df_test_o.copy()"
   ]
  },
  {
   "cell_type": "code",
   "execution_count": 307,
   "id": "ae5b84d9-d9af-4ac4-8945-287dc2fbb6c6",
   "metadata": {},
   "outputs": [],
   "source": [
    "def relabel(x):\n",
    "    if x == 0:    # tau\n",
    "        return 0\n",
    "    elif x == 1:    # mu\n",
    "        return 1\n",
    "    else:    # other bkg\n",
    "        return 2"
   ]
  },
  {
   "cell_type": "code",
   "execution_count": 308,
   "id": "5b273e42-755f-4b81-811c-9413a3b2c2b4",
   "metadata": {},
   "outputs": [],
   "source": [
    "# relabel the, all bkg become one label\n",
    "df_train['target'] = df_train['target'].apply(relabel)\n",
    "df_test['target'] = df_test['target'].apply(relabel)"
   ]
  },
  {
   "cell_type": "code",
   "execution_count": 309,
   "id": "0e1b3776-dd5d-4aa9-bb0f-1bcc7aac2db5",
   "metadata": {},
   "outputs": [
    {
     "data": {
      "text/plain": [
       "Index(['iEvt', 'q2', 'miss2', 'pB', 'EB', 'pHc', 'EHc', 'pMu', 'EMu',\n",
       "       'sMinMuBVert', 'sMinMuHcVert', 'sMinMuTr', 'sMinHcTr', 'sPVHc', 'mHcMu',\n",
       "       'pPerp', 'pPerpHc', 'mCorr', 'D0Max', 'DzMax', 'D0Sum', 'DzSum',\n",
       "       'ENeutral03', 'ENeutral06', 'ENeutral03Hadron', 'ENeutral06Hadron',\n",
       "       'ENeutral03Photon', 'ENeutral06Photon', 'ECharge03', 'ECharge06',\n",
       "       'ECharge03PV', 'ECharge06PV', 'ECharge03DV', 'ECharge06DV', 'mK0SHcMu',\n",
       "       'pK0S', 'q2True', 'miss2True', 'EBTrue', 'pBTrue', 'sMinMuHcVertTrue',\n",
       "       'target', 'weight', 'H_EE0', 'H_EE1', 'H_EE2', 'H_EE3', 'H_EE4',\n",
       "       'H_EE5', 'H_EE6', 'H_EE7', 'H_EE8', 'H_EE9', 'H_EE10'],\n",
       "      dtype='object')"
      ]
     },
     "execution_count": 309,
     "metadata": {},
     "output_type": "execute_result"
    }
   ],
   "source": [
    "df_train.columns"
   ]
  },
  {
   "cell_type": "code",
   "execution_count": 334,
   "id": "824ab394-53be-4288-93b3-f9cf53006442",
   "metadata": {},
   "outputs": [],
   "source": [
    "# features = ['q2', 'miss2', \n",
    "#             'pB', 'EB', \n",
    "#             'pHc', 'EHc', \n",
    "#             'pMu', 'EMu',\n",
    "#             'sMinMuHcVert', 'sMinMuTr', 'sMinHcTr', 'sPVHc', \n",
    "#             'mHcMu',\n",
    "#             'pPerp', 'mCorr', \n",
    "#             'D0Max', 'DzMax', 'D0Sum', 'DzSum', \n",
    "#             'ENeutral03','ENeutral06', \n",
    "#             'ENeutral03Hadron', 'ENeutral06Hadron',\n",
    "#             'ENeutral03Photon', 'ENeutral06Photon', \n",
    "#             'ECharge03', 'ECharge06',\n",
    "#             'ECharge03PV', 'ECharge06PV', \n",
    "#             'ECharge03DV', 'ECharge06DV', \n",
    "#             'mK0SHcMu', 'pK0S'\n",
    "#            ]\n",
    "\n",
    "features = ['q2', 'miss2',  # check\n",
    "            'pB', 'EB',  # check\n",
    "            'pHc', 'EHc', # check \n",
    "            'pMu', 'EMu', # check\n",
    "            'sMinMuHcVert', 'sMinMuTr', 'sMinHcTr', 'sPVHc',  # check\n",
    "            'mHcMu', # check\n",
    "            'pPerp', 'mCorr',  # check\n",
    "            'D0Max', 'DzMax', 'D0Sum', 'DzSum',  # check\n",
    "            'ENeutral03','ENeutral06',  # check\n",
    "            'ENeutral03Hadron', 'ENeutral06Hadron', # check\n",
    "            'ENeutral03Photon', 'ENeutral06Photon',  # check\n",
    "            'ECharge03', 'ECharge06', # check\n",
    "            'ECharge03PV', 'ECharge06PV',  # check\n",
    "            'ECharge03DV', 'ECharge06DV' # check\n",
    "           ]"
   ]
  },
  {
   "cell_type": "code",
   "execution_count": 335,
   "id": "125a0090",
   "metadata": {},
   "outputs": [
    {
     "data": {
      "text/plain": [
       "['sMinMuHcVert',\n",
       " 'sMinMuTr',\n",
       " 'sMinHcTr',\n",
       " 'sPVHc',\n",
       " 'H_EE0',\n",
       " 'H_EE1',\n",
       " 'H_EE2',\n",
       " 'H_EE3',\n",
       " 'H_EE4',\n",
       " 'H_EE5',\n",
       " 'H_EE6',\n",
       " 'H_EE7',\n",
       " 'H_EE8',\n",
       " 'H_EE9',\n",
       " 'H_EE10']"
      ]
     },
     "execution_count": 335,
     "metadata": {},
     "output_type": "execute_result"
    }
   ],
   "source": [
    "# Original + FWM\n",
    "# features = features + FWM_col\n",
    "\n",
    "# # Vertex + FWM\n",
    "features = ['sMinMuHcVert', 'sMinMuTr', 'sMinHcTr', 'sPVHc'] + FWM_col\n",
    "\n",
    "# # Vertex + Isolation + FWM\n",
    "# features = ['sMinMuHcVert', 'sMinMuTr', 'sMinHcTr', 'sPVHc'] + \\\n",
    "#             ['ENeutral03','ENeutral06',  # check\n",
    "#             'ENeutral03Hadron', 'ENeutral06Hadron', # check\n",
    "#             'ENeutral03Photon', 'ENeutral06Photon',  # check\n",
    "#             'ECharge03', 'ECharge06', # check\n",
    "#             'ECharge03PV', 'ECharge06PV',  # check\n",
    "#             'ECharge03DV', 'ECharge06DV' ] + FWM_col\n",
    "\n",
    "\n",
    "\n",
    "features"
   ]
  },
  {
   "cell_type": "code",
   "execution_count": 336,
   "id": "2a52aad2-9c65-476b-b428-31cf3ebaef6b",
   "metadata": {},
   "outputs": [],
   "source": [
    "df_train[features] = df_train[features].replace([99999, -np.inf, np.inf], np.nan)\n",
    "df_test[features] = df_test[features].replace([99999, -np.inf, np.inf], np.nan)"
   ]
  },
  {
   "cell_type": "code",
   "execution_count": null,
   "id": "0ee7feb5",
   "metadata": {},
   "outputs": [],
   "source": []
  },
  {
   "cell_type": "code",
   "execution_count": 337,
   "id": "d03c2293",
   "metadata": {},
   "outputs": [],
   "source": [
    "# df_train_o[df_train_o.target==4]['pPerpHc']"
   ]
  },
  {
   "cell_type": "markdown",
   "id": "07d04069",
   "metadata": {},
   "source": [
    "## Reweight by $q^2\n",
    "$"
   ]
  },
  {
   "cell_type": "code",
   "execution_count": 338,
   "id": "42f5de16-6fff-44c4-acac-6daa5372ca1e",
   "metadata": {},
   "outputs": [],
   "source": [
    "# replace some values that have q2 larger than the max, by the max\n",
    "# df_train_o.loc[(df_train_o['q2True']>=11) & ((df_train_o.target==0) | (df_train_o.target==1)), 'q2True'] = 10.9\n",
    "# df_train.loc[(df_train['q2True']>=11) & ((df_train.target==0) | (df_train.target==1)), 'q2True'] = 10.9\n",
    "# df_test.loc[(df_test['q2True']>=11) & ((df_test.target==0) | (df_test.target==1)), 'q2True'] = 10.9"
   ]
  },
  {
   "cell_type": "code",
   "execution_count": 339,
   "id": "deca2252-be6b-4ae2-80dd-2292e717d13d",
   "metadata": {},
   "outputs": [
    {
     "data": {
      "text/plain": [
       "[<matplotlib.lines.Line2D at 0x7f24144d28f0>]"
      ]
     },
     "execution_count": 339,
     "metadata": {},
     "output_type": "execute_result"
    },
    {
     "data": {
      "image/png": "[encoded data removed]",
      "text/plain": [
       "<Figure size 864x720 with 2 Axes>"
      ]
     },
     "metadata": {
      "needs_background": "light"
     },
     "output_type": "display_data"
    }
   ],
   "source": [
    "bins = 10\n",
    "\n",
    "plt.figure(figsize=(12, 10))\n",
    "\n",
    "# plot for mu\n",
    "ax1 = plt.subplot(221)\n",
    "range_mu = [0.105**2, 10.106]\n",
    "ax1.hist(df_train_o[df_train_o.target==1]['q2True'], bins=bins, density=True, range=range_mu);\n",
    "q2_mu = np.linspace(range_mu[0], range_mu[1], 1000, endpoint=True)\n",
    "dGmu = dGammaJpsimu(q2_mu)\n",
    "ax1.plot(q2_mu, dGmu/np.trapz(dGmu, x=q2_mu), color='red', label='theoretical')\n",
    "\n",
    "# plot for tau\n",
    "ax2 = plt.subplot(222)\n",
    "range_tau = [1.778**2, 10.106]\n",
    "ax2.hist(df_train_o[df_train_o.target==0]['q2True'], bins=bins, density=True, range=range_tau);\n",
    "q2_tau = np.linspace(range_tau[0], range_tau[1], 1000, endpoint=True)\n",
    "dGtau = dGammaJpsitau(q2_tau)\n",
    "ax2.plot(q2_tau, dGtau/np.trapz(dGtau, x=q2_tau), color='red', label='theoretical')"
   ]
  },
  {
   "cell_type": "code",
   "execution_count": 340,
   "id": "9386bf2b-fa70-4e70-bdf6-6d39fedabb10",
   "metadata": {},
   "outputs": [],
   "source": [
    "# reweight according to q^2\n",
    "def find_m_rw(dGamma, df_train, target, range_, bin_num=10):\n",
    "    # get the truth q2 array\n",
    "    q2 = df_train[df_train.target==target]['q2True'].values    \n",
    "\n",
    "    # Simulated bins\n",
    "    hist, bins = np.histogram(a=q2, bins=bin_num, density=True, range=range_)\n",
    "    width = np.diff(bins)\n",
    "    center = (bins[:-1] + bins[1:]) / 2\n",
    "\n",
    "    # Theoretical bins\n",
    "    th_w = []\n",
    "    for i in range(bin_num):\n",
    "        dx = -(bins[i] - bins[i+1])/10\n",
    "        x = np.linspace(bins[i], bins[i+1], 1000)\n",
    "        y = dGamma(q2=x)\n",
    "        th_w.append(np.trapz(y, dx=dx))    # Find area under curve\n",
    "    # normalize\n",
    "    th_w = th_w / sum(th_w) / width\n",
    "\n",
    "    # reweighting\n",
    "    m_rw = th_w / hist\n",
    "    m_rw[np.isinf(m_rw)] = 0\n",
    "    \n",
    "    # return the values of each bin, and the bin bounds\n",
    "    return m_rw, bins\n",
    "\n",
    "\n",
    "\n",
    "\n",
    "\n",
    "# add the reweighting column to th dataframe\n",
    "def add_m_rw(target, m_rw, bins, df):\n",
    "    for i in range(len(bins)-1):\n",
    "        df.loc[(df['target']==target) & (df['q2True']>=bins[i]) & (df['q2True']<bins[i+1]), 'm_rw'] = m_rw[i]\n",
    "    \n",
    "#     print(df.loc[df['target']==target, 'weight'].sum())\n",
    "#     df.loc[df.target==target, 'm_rw'] = df.loc[df.target==target, 'm_rw']/(df.loc[df.target==target, 'm_rw'].sum())\n",
    "    df.loc[df['target']==target, 'reweight'] = df.loc[df['target']==target, 'weight'] * df.loc[df.target==target, 'm_rw']\n",
    "    df = df.drop(columns = ['m_rw'])\n",
    "    \n",
    "#     print(df.loc[df.target==target, 'reweight'].sum())\n",
    "#     print()\n",
    "    return df"
   ]
  },
  {
   "cell_type": "code",
   "execution_count": 341,
   "id": "fff24ec8-5450-4762-b574-b9ee2d284f5e",
   "metadata": {},
   "outputs": [],
   "source": [
    "# getting the weightings, and the bin bounds\n",
    "m_rw_tau, bins_tau = find_m_rw(dGammaJpsitau, df_train_o, target=0, range_=range_tau)\n",
    "m_rw_mu, bins_mu = find_m_rw(dGammaJpsimu, df_train_o, target=1, range_=range_mu)\n",
    "\n",
    "# duplicate the column for inputting to the function to get the reweight column\n",
    "df_train_o['reweight'] = df_train_o['weight']\n",
    "df_train['reweight'] = df_train['weight']\n",
    "df_test['reweight'] = df_test['weight']\n",
    "\n",
    "df_train_o = add_m_rw(target=0, m_rw=m_rw_tau, bins=bins_tau, df=df_train_o)\n",
    "df_train_o = add_m_rw(target=1, m_rw=m_rw_mu, bins=bins_mu, df=df_train_o)\n",
    "\n",
    "df_train = add_m_rw(target=0, m_rw=m_rw_tau, bins=bins_tau, df=df_train)\n",
    "df_train = add_m_rw(target=1, m_rw=m_rw_mu, bins=bins_mu, df=df_train)\n",
    "\n",
    "df_test = add_m_rw(target=0, m_rw=m_rw_tau, bins=bins_tau, df=df_test)\n",
    "df_test = add_m_rw(target=1, m_rw=m_rw_mu, bins=bins_mu, df=df_test)\n"
   ]
  },
  {
   "cell_type": "code",
   "execution_count": null,
   "id": "cd3d5d97-46db-45ae-8e45-260c982e2ec3",
   "metadata": {},
   "outputs": [],
   "source": []
  },
  {
   "cell_type": "code",
   "execution_count": 342,
   "id": "e1e62cae-6704-46ff-a4e0-2c8a76737c7d",
   "metadata": {},
   "outputs": [
    {
     "data": {
      "text/plain": [
       "[<matplotlib.lines.Line2D at 0x7f241485b520>]"
      ]
     },
     "execution_count": 342,
     "metadata": {},
     "output_type": "execute_result"
    },
    {
     "data": {
      "image/png": "[encoded data removed]",
      "text/plain": [
       "<Figure size 864x720 with 2 Axes>"
      ]
     },
     "metadata": {
      "needs_background": "light"
     },
     "output_type": "display_data"
    }
   ],
   "source": [
    "bins = 10\n",
    "\n",
    "plt.figure(figsize=(12, 10))\n",
    "\n",
    "# reweighted plot for tau, in testing \n",
    "ax1 = plt.subplot(221)\n",
    "ax1.hist(df_train[df_train.target==0]['q2True'], bins=10, weights=df_train[df_train.target==0]['reweight'], density=True, alpha=0.5);\n",
    "ax1.hist(df_test[df_test.target==0]['q2True'], bins=10, weights=df_test[df_test.target==0]['reweight'], density=True, alpha=0.5);\n",
    "ax1.plot(q2_tau, dGtau/np.trapz(dGtau, x=q2_tau), color='red', label='theoretical')\n",
    "\n",
    "# reweighted plot for mu, in testing \n",
    "ax2 = plt.subplot(222)\n",
    "ax2.hist(df_train[df_train.target==1]['q2True'], bins=10, weights=df_train[df_train.target==1]['reweight'], density=True, alpha=0.5, range=[.105**2 ,11]);\n",
    "ax2.hist(df_test[df_test.target==1]['q2True'], bins=10, weights=df_test[df_test.target==1]['reweight'], density=True, alpha=0.5, range=[.105**2 ,11]);\n",
    "ax2.plot(q2_mu, dGmu/np.trapz(dGmu, x=q2_mu), color='red', label='theoretical')"
   ]
  },
  {
   "cell_type": "markdown",
   "id": "99bf630c",
   "metadata": {},
   "source": [
    "## BDT"
   ]
  },
  {
   "cell_type": "code",
   "execution_count": 343,
   "id": "d749e004-c765-4815-99ce-d9a532f7c8dd",
   "metadata": {},
   "outputs": [],
   "source": [
    "# getting the inputs and labels\n",
    "X_train = df_train[features]\n",
    "y_train = np.array(df_train.target)\n",
    "\n",
    "# getting the inputs and labels\n",
    "X_test = df_test[features]\n",
    "y_test = np.array(df_train.target)"
   ]
  },
  {
   "cell_type": "code",
   "execution_count": 344,
   "id": "418d498a-3146-4b9f-b93e-30fcfe0c139d",
   "metadata": {},
   "outputs": [],
   "source": [
    "# trainging\n",
    "X_train = df_train[features]\n",
    "y_train = np.array([relabel(i) for i in df_train['target']])\n",
    "\n",
    "# testing\n",
    "X_test = df_test[features]\n",
    "y_test = np.array([relabel(i) for i in df_test['target']])\n",
    "\n",
    "# fitting, with reweighting\n",
    "xgbc1 = xgb.XGBClassifier(seed=0)\n",
    "xgbc1.fit(X_train, y_train, sample_weight=df_train.reweight.values);"
   ]
  },
  {
   "cell_type": "code",
   "execution_count": 345,
   "id": "25ef94ac-a57f-4443-9ccd-897edf2f31bb",
   "metadata": {},
   "outputs": [],
   "source": [
    "# transform the BDT output to score\n",
    "def soft(prob, target):\n",
    "    return np.exp(prob[:, target])/(np.exp(prob).sum(axis=1)) \n",
    "\n",
    "# scores for training\n",
    "df_bdt_train_s = df_train[['target', 'reweight']]\n",
    "df_bdt_train_s.loc[:, 'pred0'] = xgbc1.predict_proba(X_train)[:, 0]\n",
    "df_bdt_train_s.loc[:, 'pred1'] = xgbc1.predict_proba(X_train)[:, 1]\n",
    "\n",
    "# score for testing \n",
    "df_bdt_test_s = df_test[['target', 'reweight']]\n",
    "df_bdt_test_s.loc[:, 'pred0'] = xgbc1.predict_proba(X_test)[:, 0]\n",
    "df_bdt_test_s.loc[:, 'pred1'] = xgbc1.predict_proba(X_test)[:, 1]"
   ]
  },
  {
   "cell_type": "code",
   "execution_count": null,
   "id": "edbeb767",
   "metadata": {},
   "outputs": [],
   "source": []
  },
  {
   "cell_type": "markdown",
   "id": "b8c35739",
   "metadata": {},
   "source": [
    "## Finding the optimal position to cut"
   ]
  },
  {
   "cell_type": "code",
   "execution_count": 346,
   "id": "2f7b8869",
   "metadata": {},
   "outputs": [],
   "source": [
    "def bdt_cut(df, cut1, cut2, signal1=0, signal2=1):\n",
    "    df1 = df[(df['pred0'] >= cut1) & (df['pred1'] < cut2)]    # pass tau cut, not pass mu cut\n",
    "    df2 = df[(df['pred0'] < cut1) & (df['pred1'] >= cut2)]    # pass mu cut, not pass tau cut\n",
    "    \n",
    "    S1 = df1[df1['target'] == signal1]['reweight'].values.sum()    # Number of tau signals\n",
    "    B1 = df1[df1['target'] != signal1]['reweight'].values.sum()    # Number of tau bkg.\n",
    "#     B1 = df1[df1['target'] != signal1]['reweight'].values.sum() + df1[df1['target'] == 1]['reweight'].values.sum()*0.28/100   # Number of tau bkg.\n",
    "    \n",
    "    S2 = df2[df2['target'] == signal2]['reweight'].values.sum()    # Number of mu signals\n",
    "    B2 = df2[df2['target'] != signal2]['reweight'].values.sum()    # Number of mu bkg.\n",
    "#     B2 = df2[df2['target'] != signal2]['reweight'].values.sum() + df2[df2['target'] == 1]['reweight'].values.sum()*0.28/100   # Number of mu bkg.\n",
    "    \n",
    "    return ((S1+B1)**0.5, (0.1*B1), S1/(np.sqrt(S1+B1))), ((S2+B2)**0.5, (0.1*B2), S2/(np.sqrt(S2+B2)))\n",
    "\n",
    "\n",
    "\n",
    "\n",
    "\n",
    "\n",
    "# looping to find the optimal cut\n",
    "def find_opt_cut(df_bdt_train_s, step=0.01):\n",
    "\n",
    "    # tau cut\n",
    "#     cuts1 = np.arange(round(df_bdt_train_s.min()['pred0'], 2) - step, round(df_bdt_train_s.max()['pred0'], 2) + step, step)\n",
    "    cuts1 = np.arange(0, 1, step)\n",
    "    # mu cut\n",
    "    cuts2 = np.arange(0, 1, step)\n",
    "\n",
    "    # store cuts (tau, and mu)\n",
    "    c1_lt, c2_lt = [], []\n",
    "    # store losses\n",
    "    loss11, loss12 = [], []\n",
    "    loss21, loss22 = [], []\n",
    "    snr1, snr2 = [], []\n",
    "\n",
    "    # loop over two cuts\n",
    "    for i1, c1 in enumerate(cuts1):\n",
    "        for i2, c2 in enumerate(cuts2):\n",
    "            print(\"{}/{}; {}/{}\".format(i1, len(cuts1), i2, len(cuts2)), end='\\r')\n",
    "            res1, res2 = bdt_cut(df_bdt_train_s, c1, c2)\n",
    "            c1_lt.append(c1); c2_lt.append(c2)\n",
    "\n",
    "            loss11.append(res1[0]); loss12.append(res1[1])\n",
    "            loss21.append(res2[0]); loss22.append(res2[1])\n",
    "            snr1.append(res1[2]), snr2.append(res2[2])\n",
    "\n",
    "    # store the cuts and corresponding losses\n",
    "    df_bdt_loss = pd.DataFrame([c1_lt, c2_lt, loss11, loss12, snr1, loss21, loss22, snr2]).T\n",
    "    df_bdt_loss.columns = ['c1', 'c2', 'loss11', 'loss12', 'snr1', 'loss21', 'loss22', 'snr2']\n",
    "\n",
    "    df_bdt_loss['loss1'] = (df_bdt_loss['loss11']**2 + df_bdt_loss['loss12']**2)**0.5\n",
    "    df_bdt_loss['tot1'] = (df_bdt_loss['loss1'] - df_bdt_loss['loss1'].min())/(df_bdt_loss['loss1'].max() - df_bdt_loss['loss1'].min()) - \\\n",
    "        ((df_bdt_loss['snr1'] - df_bdt_loss['snr1'].min())/(df_bdt_loss['snr1'].max() - df_bdt_loss['snr1'].min()))\n",
    "\n",
    "    df_bdt_loss['loss2'] = (df_bdt_loss['loss21']**2 + df_bdt_loss['loss22']**2)**0.5\n",
    "    df_bdt_loss['tot2'] = (df_bdt_loss['loss2'] - df_bdt_loss['loss2'].min())/(df_bdt_loss['loss2'].max() - df_bdt_loss['loss2'].min()) - \\\n",
    "        ((df_bdt_loss['snr2'] - df_bdt_loss['snr2'].min())/(df_bdt_loss['snr2'].max() - df_bdt_loss['snr2'].min()))\n",
    "\n",
    "    df_bdt_loss['tot'] = df_bdt_loss['tot1'] + df_bdt_loss['tot2']\n",
    "\n",
    "    return df_bdt_loss.iloc[df_bdt_loss['tot'].argmin()][['c1', 'c2']].values"
   ]
  },
  {
   "cell_type": "code",
   "execution_count": 349,
   "id": "91101347",
   "metadata": {},
   "outputs": [],
   "source": [
    "# c1, c2 = find_opt_cut(df_bdt_train_s)\n",
    "# print(c1, c2)\n",
    "\n",
    "# # Original + FWM\n",
    "# c1,c2 = 0.23, 0.07\n",
    "\n",
    "# Vertex info + Isolation + FWM\n",
    "# original\n",
    "# c1, c2 = 0.08, 0.92\n",
    "# tunned\n",
    "# c1, c2 = 0.64, 0.07\n",
    "\n",
    "# Vertex info + FWM\n",
    "# original\n",
    "# c1, c2 = 0.06, 0.64\n",
    "# tunned\n",
    "c1, c2 = 0.48, 0.05\n"
   ]
  },
  {
   "cell_type": "code",
   "execution_count": 350,
   "id": "dc5e8d74",
   "metadata": {},
   "outputs": [],
   "source": [
    "# apply the cut, to select tau and mu samples\n",
    "df_bdt_test_s_cut_tau = df_bdt_test_s.loc[(df_bdt_test_s['pred0'] >= c1) & \n",
    "                                          (df_bdt_test_s['pred1'] <  c2)]\n",
    "\n",
    "df_bdt_test_s_cut_mu = df_bdt_test_s.loc[(df_bdt_test_s['pred0'] <  c1) &\n",
    "                                         (df_bdt_test_s['pred1'] >= c2)]\n",
    "# Grouping the bkg. types\n",
    "df_bdt_test_s_cut_tau['target'] = \\\n",
    "            df_test_o.loc[df_bdt_test_s_cut_tau.index]['target']\n",
    "\n",
    "df_bdt_test_s_cut_mu['target'] = \\\n",
    "            df_test_o.loc[df_bdt_test_s_cut_mu.index]['target']\n",
    "\n",
    "df_bdt_test_s_cut_tau['q2'] = df_test_o.loc[df_bdt_test_s_cut_tau.index]['q2']\n",
    "df_bdt_test_s_cut_mu['q2'] = df_test_o.loc[df_bdt_test_s_cut_mu.index]['q2']"
   ]
  },
  {
   "cell_type": "code",
   "execution_count": 351,
   "id": "04b911c5",
   "metadata": {},
   "outputs": [],
   "source": [
    "def cal_uncertainty(df, channel, channel_labels):\n",
    "    n_lt = []\n",
    "    for i in channel_labels.keys():\n",
    "        # Select the signal/bkg. \n",
    "        dfi = df[df.target==i]\n",
    "        if len(dfi) == 0:\n",
    "            ni = 0\n",
    "        else: \n",
    "            # reweighted number \n",
    "            ni = dfi.reweight.sum() / (1-tr_te_split)\n",
    "        # Print out the table\n",
    "        if i==channel:\n",
    "            print('(*Signal)  {}:\\t\\t{:.2e}'.format(channel_labels[i], ni))\n",
    "#             print(len(dfi))\n",
    "        else:\n",
    "            print('(*Bkg.)    {}:\\t\\t{:.2e}'.format(channel_labels[i], ni))\n",
    "#             print(len(dfi))\n",
    "        \n",
    "        n_lt.append(ni)\n",
    "    # Estimate the Fake-Lambda_c Bkg.\n",
    "#     n_fakeLambdac = n_lt[1]*0.28/100\n",
    "#     n_lt.append(n_fakeLambdac)\n",
    "#     print('(*Bkg.)  {}:\\t{:.2e}'.format('Fake-Lambdac', n_fakeLambdac))\n",
    "    \n",
    "    \n",
    "    print('.'*60)\n",
    "    s = n_lt[channel]    # Number of signals\n",
    "    b = sum(n_lt)    # Number of Bkg. (including the signals, since signal fluctaution also contribute to the uncertainty)\n",
    "    Z = (2*((s + b)*np.log(1+s/b) - s))**0.5    #Signifiance\n",
    "    u = 1/Z    # Uncertainty\n",
    "    print(\"# of Siganl ({}):\\t{:.2e}\".format(channel_labels[channel], s))\n",
    "    print(\"# of Bkg. for {}:\\t{:.2e}\".format(channel_labels[channel], (b-s)))\n",
    "    print('Significance for {}:\\t{:.0f}'.format(channel_labels[channel], Z))\n",
    "    print('Uncertainty for {}:\\t{:.2e} ({:.2e})'.format(channel_labels[channel], u, u))\n",
    "    print('Uncertainty at {}:\\t{:.2e} ({:.2e})'.format('10 TeraZ', 1/((2*(((s*10) + (b*10))*np.log(1+(s*10)/(b*10)) - (s*10)))**0.5), 1/((2*(((s*10) + (b*10))*np.log(1+(s*10)/(b*10)) - (s*10)))**0.5)))\n",
    "    print('S/B for {}:\\t\\t{:.2f}'.format(channel_labels[channel], s/(b-s)))\n",
    "    print('\\n'+'='*60+'\\n'*5)\n",
    "    print()\n",
    "    \n",
    "    u_10TeraZ = 1/((2*(((s*10) + (b*10))*np.log(1+(s*10)/(b*10)) - (s*10)))**0.5)\n",
    "    return u, u_10TeraZ"
   ]
  },
  {
   "cell_type": "code",
   "execution_count": 352,
   "id": "b73d2b45",
   "metadata": {},
   "outputs": [
    {
     "name": "stdout",
     "output_type": "stream",
     "text": [
      "(*Signal)  Jspi tau:\t\t1.90e+03\n",
      "(*Bkg.)    Jpsi mu:\t\t1.62e+02\n",
      "(*Bkg.)    Inclusive:\t\t2.72e+02\n",
      "(*Bkg.)    Comb.+Casc:\t\t2.84e+03\n",
      "(*Bkg.)    MisID:\t\t4.40e+02\n",
      "............................................................\n",
      "# of Siganl (Jspi tau):\t1.90e+03\n",
      "# of Bkg. for Jspi tau:\t3.71e+03\n",
      "Significance for Jspi tau:\t24\n",
      "Uncertainty for Jspi tau:\t4.15e-02 (4.15e-02)\n",
      "Uncertainty at 10 TeraZ:\t1.31e-02 (1.31e-02)\n",
      "S/B for Jspi tau:\t\t0.51\n",
      "\n",
      "============================================================\n",
      "\n",
      "\n",
      "\n",
      "\n",
      "\n",
      "\n",
      "(*Bkg.)    Jspi tau:\t\t1.35e+03\n",
      "(*Signal)  Jpsi mu:\t\t9.52e+04\n",
      "(*Bkg.)    Inclusive:\t\t5.89e+02\n",
      "(*Bkg.)    Comb.+Casc:\t\t8.87e+02\n",
      "(*Bkg.)    MisID:\t\t9.12e+04\n",
      "............................................................\n",
      "# of Siganl (Jpsi mu):\t9.52e+04\n",
      "# of Bkg. for Jpsi mu:\t9.40e+04\n",
      "Significance for Jpsi mu:\t204\n",
      "Uncertainty for Jpsi mu:\t4.91e-03 (4.91e-03)\n",
      "Uncertainty at 10 TeraZ:\t1.55e-03 (1.55e-03)\n",
      "S/B for Jpsi mu:\t\t1.01\n",
      "\n",
      "============================================================\n",
      "\n",
      "\n",
      "\n",
      "\n",
      "\n",
      "\n",
      "Overall Uncertainty: 4.18e-02\n",
      "Overall Uncertainty 10-Tera Z: 1.32e-02\n"
     ]
    }
   ],
   "source": [
    "CHANNEL_LABELS = {0: 'Jspi tau', 1: 'Jpsi mu', 2: 'Inclusive', 3: 'Comb.+Casc', 4: 'MisID'}\n",
    "uFull_tau, uFull_tau10 = cal_uncertainty(df_bdt_test_s_cut_tau, 0, CHANNEL_LABELS)\n",
    "\n",
    "uFull_mu, uFull_mu10 = cal_uncertainty(df_bdt_test_s_cut_mu, 1, CHANNEL_LABELS)\n",
    "\n",
    "print(\"Overall Uncertainty: {:.2e}\".format((uFull_mu**2 + uFull_tau**2)**0.5))\n",
    "print(\"Overall Uncertainty 10-Tera Z: {:.2e}\".format((uFull_mu10**2 + uFull_tau10**2)**0.5))"
   ]
  },
  {
   "cell_type": "code",
   "execution_count": null,
   "id": "54fb71f8",
   "metadata": {},
   "outputs": [],
   "source": []
  },
  {
   "cell_type": "code",
   "execution_count": 353,
   "id": "dbcc7349",
   "metadata": {},
   "outputs": [
    {
     "data": {
      "text/plain": [
       "'0.2210'"
      ]
     },
     "execution_count": 353,
     "metadata": {},
     "output_type": "execute_result"
    }
   ],
   "source": [
    "'{:.4f}'.format(3.26/2.67-1)"
   ]
  },
  {
   "cell_type": "code",
   "execution_count": 53,
   "id": "f89efb6a",
   "metadata": {},
   "outputs": [],
   "source": [
    "# for q^2 binning (cut=7.15GeV)\n",
    "def binbybin_correction(df_train, cut=7.15):\n",
    "    Cs = {}\n",
    "    for i in np.unique(df_train.target):\n",
    "        dfi = df_train[df_train.target == i]\n",
    "        N_q2Low = dfi[dfi.q2 < cut]['reweight'].sum()\n",
    "        N_q2High = dfi[dfi.q2 >= cut]['reweight'].sum()\n",
    "        N_q2truthLow = dfi[dfi.q2True < cut]['reweight'].sum()\n",
    "        N_q2truthHigh = dfi[dfi.q2True >= cut]['reweight'].sum()\n",
    "        Cs[i] = [N_q2truthLow/N_q2Low, N_q2truthHigh/N_q2High]\n",
    "    return Cs"
   ]
  },
  {
   "cell_type": "code",
   "execution_count": 54,
   "id": "31930db7",
   "metadata": {},
   "outputs": [
    {
     "data": {
      "text/plain": [
       "{0: [0.8681075985902256, 1.1142472365417386],\n",
       " 1: [0.9557716768760559, 1.0912024243077074],\n",
       " 2: [1, 1],\n",
       " 3: [1, 1],\n",
       " 4: [1, 1]}"
      ]
     },
     "execution_count": 54,
     "metadata": {},
     "output_type": "execute_result"
    }
   ],
   "source": [
    "Cs = binbybin_correction(df_train, 7.15)\n",
    "Cs[2] = [1, 1]    # replacing the bins correction for bkg. to 1\n",
    "Cs[3] = [1, 1]    # replacing the bins correction for bkg. to 1\n",
    "Cs[4] = [1, 1]    # replacing the bins correction for bkg. to 1\n",
    "\n",
    "Cs"
   ]
  },
  {
   "cell_type": "code",
   "execution_count": 55,
   "id": "57debb54",
   "metadata": {},
   "outputs": [],
   "source": [
    "def diff_measurement(df, q2_cut, channel, Cs):\n",
    "#     global dfHigh\n",
    "    def _cal_uncertainty_(df, channel, channel_labels, Cs, region):\n",
    "        n_lt = []\n",
    "        for i in channel_labels.keys():\n",
    "            # Select the signal/bkg. \n",
    "            dfi = df[df.target==i]\n",
    "            if len(dfi) == 0:\n",
    "                ni = 0\n",
    "            else: \n",
    "                # reweighted number \n",
    "                ni = dfi.reweight.sum() / (1-tr_te_split) * Cs[i][region]\n",
    "            # Print out the table\n",
    "            if i==channel:\n",
    "                print('(*Signal)  {}:\\t{:.2e}'.format(channel_labels[i], ni))\n",
    "            else:\n",
    "                print('(*Bkg.)    {}:\\t{:.2e}'.format(channel_labels[i], ni))\n",
    "\n",
    "            n_lt.append(ni)\n",
    "        # Estimate the Fake-J/psi Bkg.\n",
    "#         n_fakeJpsi = n_lt[1]/.99998*.95*7/95/2\n",
    "#         n_lt.append(n_fakeJpsi)\n",
    "#         print('(*Bkg.)    {}:\\t{:.2e}'.format('Fake-Jpsi', n_fakeJpsi))\n",
    "\n",
    "\n",
    "        print('.'*40)\n",
    "        s = n_lt[channel]    # Number of signals\n",
    "        b = sum(n_lt)    # Number of Bkg. (including the signals, since signal fluctaution also contribute to the uncertainty)\n",
    "        Z = (2*((s + b)*np.log(1+s/b) - s))**0.5    #Signifiance\n",
    "        u = 1/Z    # Uncertainty\n",
    "        print(\"# of Siganl ({}):     {:.2e}\".format(channel_labels[channel], s))\n",
    "        print(\"# of Bkg. for {}:     {:.2e}\".format(channel_labels[channel], (b-s)))\n",
    "        print('Significance for {}:  {:.0f}'.format(channel_labels[channel], Z))\n",
    "        print('Uncertainty for {}:   {:.5e} ({:.2e})'.format(channel_labels[channel], u, u))\n",
    "        print('Uncertainty at {}:    {:.5e} ({:.2e})'.format('10 TeraZ', 1/((2*(((s*10) + (b*10))*np.log(1+(s*10)/(b*10)) - (s*10)))**0.5), 1/((2*(((s*10) + (b*10))*np.log(1+(s*10)/(b*10)) - (s*10)))**0.5)))\n",
    "        print('S/B for {}:           {:.2f}'.format(channel_labels[channel], s/(b-s)))\n",
    "        print('\\n'+'='*40)\n",
    "\n",
    "#         for i in channel_labels.keys():\n",
    "#             if i == channel:\n",
    "#                 continue\n",
    "#             else:\n",
    "#                 print('{}/B:\\t{:.2f}/{:.2f} = {:.2f}%'.format(channel_labels[i], n_lt[i], (b-s), n_lt[i]/(b-s)*100))\n",
    "#         print('{}/B:\\t{:.2f}/{:.2f} = {:.2f}%'.format('Fake-J/psi', n_lt[-1], (b-s), (n_lt[-1])/(b-s)*100))\n",
    "\n",
    "        u10 = 1/((2*(((s*10) + (b*10))*np.log(1+(s*10)/(b*10)) - (s*10)))**0.5)\n",
    "        return u, u10\n",
    "    \n",
    "    \n",
    "    dfLow = df[df.q2 < q2_cut]\n",
    "    dfHigh = df[df.q2 >= q2_cut]\n",
    "#     print(dfHigh)\n",
    "    print('#####   q^2 < 7.15   #####')\n",
    "    print()\n",
    "    u_Low, u_Low10 = _cal_uncertainty_(dfLow, channel, CHANNEL_LABELS, Cs, 0)\n",
    "    print()\n",
    "    print('#####   q^2 >= 7.15   #####')    \n",
    "    print()\n",
    "    u_High, u_High10 = _cal_uncertainty_(dfHigh, channel, CHANNEL_LABELS, Cs, 1)\n",
    "    \n",
    "    \n",
    "    \n",
    "    return u_Low, u_High, u_Low10, u_High10\n",
    "    "
   ]
  },
  {
   "cell_type": "code",
   "execution_count": 56,
   "id": "a38cfe7b",
   "metadata": {},
   "outputs": [
    {
     "name": "stdout",
     "output_type": "stream",
     "text": [
      "#####   q^2 < 7.15   #####\n",
      "\n",
      "(*Signal)  Jspi tau:\t1.03e+03\n",
      "(*Bkg.)    Jpsi mu:\t3.43e+02\n",
      "(*Bkg.)    Inclusive:\t0.00e+00\n",
      "(*Bkg.)    Comb.+Casc:\t6.21e+02\n",
      "(*Bkg.)    MisID:\t4.40e+02\n",
      "........................................\n",
      "# of Siganl (Jspi tau):     1.03e+03\n",
      "# of Bkg. for Jspi tau:     1.40e+03\n",
      "Significance for Jspi tau:  20\n",
      "Uncertainty for Jspi tau:   5.08048e-02 (5.08e-02)\n",
      "Uncertainty at 10 TeraZ:    1.60659e-02 (1.61e-02)\n",
      "S/B for Jspi tau:           0.74\n",
      "\n",
      "========================================\n",
      "\n",
      "#####   q^2 >= 7.15   #####\n",
      "\n",
      "(*Signal)  Jspi tau:\t1.71e+03\n",
      "(*Bkg.)    Jpsi mu:\t5.19e+02\n",
      "(*Bkg.)    Inclusive:\t0.00e+00\n",
      "(*Bkg.)    Comb.+Casc:\t1.77e+02\n",
      "(*Bkg.)    MisID:\t2.20e+02\n",
      "........................................\n",
      "# of Siganl (Jspi tau):     1.71e+03\n",
      "# of Bkg. for Jspi tau:     9.16e+02\n",
      "Significance for Jspi tau:  30\n",
      "Uncertainty for Jspi tau:   3.28125e-02 (3.28e-02)\n",
      "Uncertainty at 10 TeraZ:    1.03762e-02 (1.04e-02)\n",
      "S/B for Jspi tau:           1.87\n",
      "\n",
      "========================================\n",
      "\n",
      "\n",
      "\n",
      "\n",
      "\n",
      "\n",
      "#####   q^2 < 7.15   #####\n",
      "\n",
      "(*Bkg.)    Jspi tau:\t2.33e+02\n",
      "(*Signal)  Jpsi mu:\t6.27e+04\n",
      "(*Bkg.)    Inclusive:\t7.17e+02\n",
      "(*Bkg.)    Comb.+Casc:\t4.43e+02\n",
      "(*Bkg.)    MisID:\t4.18e+03\n",
      "........................................\n",
      "# of Siganl (Jpsi mu):     6.27e+04\n",
      "# of Bkg. for Jpsi mu:     5.57e+03\n",
      "Significance for Jpsi mu:  213\n",
      "Uncertainty for Jpsi mu:   4.70185e-03 (4.70e-03)\n",
      "Uncertainty at 10 TeraZ:    1.48685e-03 (1.49e-03)\n",
      "S/B for Jpsi mu:           11.25\n",
      "\n",
      "========================================\n",
      "\n",
      "#####   q^2 >= 7.15   #####\n",
      "\n",
      "(*Bkg.)    Jspi tau:\t5.74e+01\n",
      "(*Signal)  Jpsi mu:\t3.47e+04\n",
      "(*Bkg.)    Inclusive:\t0.00e+00\n",
      "(*Bkg.)    Comb.+Casc:\t0.00e+00\n",
      "(*Bkg.)    MisID:\t7.70e+02\n",
      "........................................\n",
      "# of Siganl (Jpsi mu):     3.47e+04\n",
      "# of Bkg. for Jpsi mu:     8.27e+02\n",
      "Significance for Jpsi mu:  162\n",
      "Uncertainty for Jpsi mu:   6.16574e-03 (6.17e-03)\n",
      "Uncertainty at 10 TeraZ:    1.94978e-03 (1.95e-03)\n",
      "S/B for Jpsi mu:           41.93\n",
      "\n",
      "========================================\n",
      "\n",
      "\n",
      "\n",
      "\n",
      "\n",
      "\n",
      "Overall Uncertainty (Low):  5.10e-02\n",
      "Overall Uncertainty 10-Tera Z (Low):  1.61e-02\n",
      "Overall Uncertainty (High): 3.34e-02\n",
      "Overall Uncertainty 10-Tera Z (High): 1.06e-02\n"
     ]
    }
   ],
   "source": [
    "uLow_tau, uHigh_tau, uLow_tau10, uHigh_tau10 = diff_measurement(df_bdt_test_s_cut_tau, 7.15, 0, Cs)\n",
    "\n",
    "print('\\n'*5)\n",
    "\n",
    "uLow_mu, uHigh_mu, uLow_mu10, uHigh_mu10 = diff_measurement(df_bdt_test_s_cut_mu, 7.15, 1, Cs)\n",
    "\n",
    "print('\\n'*5)\n",
    "\n",
    "print(\"Overall Uncertainty (Low):  {:.2e}\".format((uLow_tau**2 + uLow_mu**2)**0.5))\n",
    "print(\"Overall Uncertainty 10-Tera Z (Low):  {:.2e}\".format((uLow_mu10**2 + uLow_tau10**2)**0.5))\n",
    "print(\"Overall Uncertainty (High): {:.2e}\".format((uHigh_tau**2 + uHigh_mu**2)**0.5))\n",
    "print(\"Overall Uncertainty 10-Tera Z (High): {:.2e}\".format((uHigh_tau10**2 + uHigh_mu10**2)**0.5))\n"
   ]
  },
  {
   "cell_type": "code",
   "execution_count": null,
   "id": "49172ddf",
   "metadata": {},
   "outputs": [],
   "source": []
  },
  {
   "cell_type": "code",
   "execution_count": 58,
   "id": "1bb6a3d4",
   "metadata": {},
   "outputs": [
    {
     "data": {
      "text/plain": [
       "{'sMinMuHcVert': 819.0,\n",
       " 'sMinMuTr': 641.0,\n",
       " 'miss2': 639.0,\n",
       " 'sPVHc': 600.0,\n",
       " 'pB': 578.0,\n",
       " 'mCorr': 476.0,\n",
       " 'sMinHcTr': 456.0,\n",
       " 'mHcMu': 445.0,\n",
       " 'q2': 401.0,\n",
       " 'pHc': 361.0,\n",
       " 'H_EE0': 361.0,\n",
       " 'H_EE1': 349.0,\n",
       " 'pMu': 262.0,\n",
       " 'pPerp': 254.0,\n",
       " 'ECharge03': 253.0,\n",
       " 'ENeutral06': 215.0,\n",
       " 'ENeutral03': 209.0,\n",
       " 'ECharge06': 201.0,\n",
       " 'ECharge06PV': 180.0,\n",
       " 'H_EE2': 170.0,\n",
       " 'H_EE3': 156.0,\n",
       " 'H_EE10': 151.0,\n",
       " 'H_EE5': 145.0,\n",
       " 'ECharge06DV': 144.0,\n",
       " 'D0Max': 137.0,\n",
       " 'H_EE7': 133.0,\n",
       " 'DzMax': 126.0,\n",
       " 'H_EE9': 123.0,\n",
       " 'ENeutral06Photon': 116.0,\n",
       " 'H_EE8': 112.0,\n",
       " 'DzSum': 110.0,\n",
       " 'D0Sum': 106.0,\n",
       " 'H_EE6': 94.0,\n",
       " 'H_EE4': 91.0,\n",
       " 'ENeutral03Photon': 89.0,\n",
       " 'ENeutral06Hadron': 40.0,\n",
       " 'ECharge03DV': 34.0,\n",
       " 'ENeutral03Hadron': 22.0,\n",
       " 'EHc': 20.0,\n",
       " 'ECharge03PV': 20.0}"
      ]
     },
     "execution_count": 58,
     "metadata": {},
     "output_type": "execute_result"
    }
   ],
   "source": [
    "d = xgbc1.get_booster().get_score()\n",
    "dict(sorted(d.items(), key=lambda item: -1*item[1]))\n",
    "# R(Jpsi)"
   ]
  },
  {
   "cell_type": "code",
   "execution_count": null,
   "id": "ee951031",
   "metadata": {},
   "outputs": [],
   "source": []
  },
  {
   "cell_type": "code",
   "execution_count": null,
   "id": "5acec62e",
   "metadata": {},
   "outputs": [],
   "source": []
  },
  {
   "cell_type": "code",
   "execution_count": null,
   "id": "cb21de50",
   "metadata": {},
   "outputs": [],
   "source": []
  },
  {
   "cell_type": "code",
   "execution_count": null,
   "id": "a4f56e14",
   "metadata": {},
   "outputs": [],
   "source": []
  },
  {
   "cell_type": "code",
   "execution_count": null,
   "id": "b24a2da3",
   "metadata": {},
   "outputs": [],
   "source": []
  }
 ],
 "metadata": {
  "kernelspec": {
   "display_name": "Python 3 (ipykernel)",
   "language": "python",
   "name": "python3"
  },
  "language_info": {
   "codemirror_mode": {
    "name": "ipython",
    "version": 3
   },
   "file_extension": ".py",
   "mimetype": "text/x-python",
   "name": "python",
   "nbconvert_exporter": "python",
   "pygments_lexer": "ipython3",
   "version": "3.10.2"
  }
 },
 "nbformat": 4,
 "nbformat_minor": 5
}
