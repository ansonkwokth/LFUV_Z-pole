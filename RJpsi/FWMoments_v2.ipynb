{
 "cells": [
  {
   "cell_type": "code",
   "execution_count": 1,
   "id": "4255cc33-315a-4071-9c33-fbf9a930ac75",
   "metadata": {},
   "outputs": [
    {
     "name": "stderr",
     "output_type": "stream",
     "text": [
      "/home/anson/.local/lib/python3.10/site-packages/xgboost/compat.py:36: FutureWarning: pandas.Int64Index is deprecated and will be removed from pandas in a future version. Use pandas.Index with the appropriate dtype instead.\n",
      "  from pandas import MultiIndex, Int64Index\n"
     ]
    }
   ],
   "source": [
    "import uproot\n",
    "import pandas as pd\n",
    "import numpy as np\n",
    "import matplotlib.pyplot as plt\n",
    "import xgboost as xgb\n",
    "\n",
    "\n",
    "import warnings\n",
    "warnings.filterwarnings(\"ignore\")"
   ]
  },
  {
   "cell_type": "markdown",
   "id": "28471494",
   "metadata": {},
   "source": [
    "## Loading Data"
   ]
  },
  {
   "cell_type": "code",
   "execution_count": 2,
   "id": "d4c9223c",
   "metadata": {},
   "outputs": [],
   "source": [
    "file = uproot.open(\"./features/JpsiTauNu_FWM.root\")\n",
    "# df_tau = file['t'].pandas.df()\n",
    "df_tau = pd.DataFrame(np.array(file['t']['FWMs'].array()))\n",
    "\n",
    "file = uproot.open(\"./features/JpsiMuNu_FWM.root\")\n",
    "df_mu = pd.DataFrame(np.array(file['t']['FWMs'].array()))\n",
    "\n",
    "file = uproot.open(\"./features/RJpsiMisID_FWM.root\")\n",
    "df_misid = pd.DataFrame(np.array(file['t']['FWMs'].array()))\n",
    "\n",
    "file = uproot.open(\"./features/RJpsiInclusive_FWM.root\")\n",
    "df_incl1 = pd.DataFrame(np.array(file['t']['FWMs'].array()))\n",
    "file = uproot.open(\"./features/RJpsiInclusive_FWM_seed2.root\")\n",
    "df_incl2 = pd.DataFrame(np.array(file['t']['FWMs'].array()))\n",
    "df_incl = pd.concat([df_incl1, df_incl2])\n",
    "\n",
    "file = uproot.open(\"./features/RJpsiCombCascade_FWM.root\")\n",
    "df_comb = pd.DataFrame(np.array(file['t']['FWMs'].array()))"
   ]
  },
  {
   "cell_type": "code",
   "execution_count": 3,
   "id": "743c16b6",
   "metadata": {},
   "outputs": [
    {
     "name": "stdout",
     "output_type": "stream",
     "text": [
      "Reading: 0\n",
      "1.8458517427589594\n",
      "Reading: 1\n",
      "19.548301385462135\n",
      "Reading: 2\n",
      "23.076923076923077\n",
      "Reading: 3\n",
      "44.831460674157306\n",
      "Reading: 4\n",
      "55.0\n",
      "train size: 29255 (100.00%); test size: 0 (0.00%)\n",
      "data points per mode:  [2037, 5269, 169, 1780, 20000]\n"
     ]
    }
   ],
   "source": [
    "epsilon_pimu = 1/100\n",
    "\n",
    "# No veto\n",
    "modes_dt = {0: {'mode': './features/JpsiTauNu_10Noise_NoVeto.root', 'yields': 3.76e3}, \n",
    "            1: {'mode': './features/JpsiMuNu_10Noise_NoVeto.root', 'yields': 1.03e5},\n",
    "            2: {'mode': './features/RJpsiInclusive_10Noise_NoVeto.root', 'yields': 3.90e3},\n",
    "            3: {'mode': './features/RJpsiCombCascade_10Noise_NoVeto.root', 'yields': 7.98e4},\n",
    "            4: {'mode': './features/RJpsiMisID_10Noise_NoVeto.root', 'yields': epsilon_pimu*1.10e8}\n",
    "           }\n",
    "\n",
    "def load_train_test(modes_dt, size=0.5):\n",
    "    np.random.seed(9)\n",
    "    df_train = pd.DataFrame()\n",
    "    df_test = pd.DataFrame()\n",
    "    num_lt = []\n",
    "    \n",
    "    # loop over different modes\n",
    "    for i, (k, v) in enumerate(modes_dt.items()):\n",
    "        print('\\rReading:', i)\n",
    "        file = uproot.open(v['mode'])\n",
    "#         df_i = file['t'].pandas.df()\n",
    "        df_i = pd.DataFrame(np.array(file['t']['features'].array()))\n",
    "        \n",
    "        # shuffle the index for training and testing sets\n",
    "        idx = df_i.index.tolist()\n",
    "        np.random.shuffle(idx)\n",
    "#         print(len(idx))\n",
    "        idx = idx[:20000]    # if too much data\n",
    "#         idx = idx[:5000]    # if too much data\n",
    "        num_lt.append(len(idx))    \n",
    "\n",
    "        df_i['target'] = i    # add the target label\n",
    "        df_i['weight'] = v['yields']/len(idx)\n",
    "        print(df_i['weight'][0])\n",
    "        \n",
    "        # cut according to the fraction\n",
    "        cut = int(np.ceil(len(idx) * size))\n",
    "        df_train_i = df_i.loc[idx[:cut]]\n",
    "        df_test_i = df_i.loc[idx[cut:]]\n",
    "        \n",
    "        # Put to the global dataframs\n",
    "        df_train = pd.concat([df_train, df_train_i])\n",
    "        df_test = pd.concat([df_test, df_test_i])\n",
    "    \n",
    "    df_train.reset_index(drop=True, inplace=True)\n",
    "    df_test.reset_index(drop=True, inplace=True)\n",
    "    \n",
    "    print('train size: {} ({:.2f}%); test size: {} ({:.2f}%)'.format(len(df_train), 100*len(df_train)/(len(df_train)+len(df_test)), len(df_test), 100*len(df_test)/(len(df_train)+len(df_test))))\n",
    "    print('data points per mode: ',num_lt)\n",
    "    return df_train, df_test\n",
    "\n",
    "tr_te_split = 1\n",
    "df_reco_, _ = load_train_test(modes_dt, tr_te_split)\n",
    "# make a copy\n",
    "# df_train_o, df_test_o = df_train.copy(), df_test.copy()\n"
   ]
  },
  {
   "cell_type": "code",
   "execution_count": 4,
   "id": "128cddc9",
   "metadata": {},
   "outputs": [],
   "source": [
    "df_reco = df_reco_.copy()\n",
    "df_reco_tau = df_reco[df_reco.target==0]\n",
    "df_reco_mu = df_reco[df_reco.target==1]\n",
    "\n",
    "df_reco_comb = df_reco[df_reco.target==3]\n",
    "\n",
    "df_reco_incl = df_reco[df_reco.target==2]\n",
    "df_reco_misid = df_reco[df_reco.target==5]"
   ]
  },
  {
   "cell_type": "code",
   "execution_count": 5,
   "id": "d588f253",
   "metadata": {},
   "outputs": [],
   "source": [
    "df_comb['angle_sum'] = df_comb['angle1'] + df_comb['angle2']\n",
    "df_comb['E_sum'] = df_comb['E1'] + df_comb['E2']\n",
    "\n",
    "\n",
    "four_B = df_comb.nB == 4\n",
    "two_B_two_c = (df_comb.nB == 2) & (df_comb.nC == 2)\n",
    "# two_B = (df_comb.nB == 2) & (df_comb.nC == 0) \n",
    "two_B = (~ four_B) & (~ two_B_two_c)\n",
    "\n",
    "df_4b = df_comb.loc[four_B]\n",
    "df_2b2c = df_comb.loc[two_B_two_c]\n",
    "df_2b = df_comb.loc[two_B]\n"
   ]
  },
  {
   "cell_type": "code",
   "execution_count": 6,
   "id": "ec49ec68",
   "metadata": {},
   "outputs": [
    {
     "data": {
      "text/plain": [
       "array([0.95404251, 0.03258046, 0.01337704])"
      ]
     },
     "execution_count": 6,
     "metadata": {},
     "output_type": "execute_result"
    }
   ],
   "source": [
    "np.array([len(df_2b), len(df_2b2c), len(df_4b)]) / (len(df_2b) + len(df_2b2c) + len(df_4b))"
   ]
  },
  {
   "cell_type": "code",
   "execution_count": 7,
   "id": "4d0e26f0",
   "metadata": {},
   "outputs": [
    {
     "name": "stdout",
     "output_type": "stream",
     "text": [
      "[0.95404251 0.03258046 0.01337704]\n",
      "[988202  33747  13856]\n",
      "7.61e+04\n",
      "2.60e+03\n",
      "1.07e+03\n"
     ]
    }
   ],
   "source": [
    "df_comb_reco = df_comb.copy()\n",
    "df_comb_reco.index = df_comb_reco.iEvt\n",
    "\n",
    "# interactions:\n",
    "# Split the comb+cascade into 2b, 2b2c, 4b cases\n",
    "df_2b_int = df_comb_reco.loc[list(set(df_comb_reco.iEvt).intersection(df_2b.iEvt))]\n",
    "df_4b_int = df_comb_reco.loc[list(set(df_comb_reco.iEvt).intersection(df_4b.iEvt))]\n",
    "df_2b2c_int = df_comb_reco.loc[list(set(df_comb_reco.iEvt).intersection(df_2b2c.iEvt))]\n",
    "\n",
    "print(np.array([len(df_2b_int), len(df_2b2c_int), len(df_4b_int)]) / (len(df_2b_int) + len(df_2b2c_int) + len(df_4b_int)))\n",
    "\n",
    "print(np.array([len(df_2b_int), len(df_2b2c_int), len(df_4b_int)]) )\n",
    "\n",
    "for y in np.array([len(df_2b_int), len(df_2b2c_int), len(df_4b_int)]) / (len(df_2b_int) + len(df_2b2c_int) + len(df_4b_int)):\n",
    "    print(\"{:.2e}\".format(y*7.98e4))\n",
    "    "
   ]
  },
  {
   "cell_type": "code",
   "execution_count": 8,
   "id": "3015687f",
   "metadata": {},
   "outputs": [],
   "source": [
    "df_tau_reco = df_tau.copy()\n",
    "df_tau_reco.index = df_tau_reco.iEvt\n",
    "df_mu_reco = df_mu.copy()\n",
    "df_mu_reco.index = df_mu_reco.iEvt\n",
    "\n",
    "# reconstructed events, and the corresponding FWM\n",
    "df_tau_cut = df_tau_reco.loc[list(set(df_reco_tau.iEvt).intersection(df_tau_reco.iEvt))]\n",
    "df_mu_cut = df_mu_reco.loc[list(set(df_reco_mu.iEvt).intersection(df_mu_reco.iEvt))]"
   ]
  },
  {
   "cell_type": "code",
   "execution_count": 9,
   "id": "6ec98092",
   "metadata": {},
   "outputs": [],
   "source": [
    "df_incl_reco = df_incl.copy()\n",
    "df_incl_reco.index = df_incl_reco.iEvt\n",
    "df_misid_reco = df_misid.copy()\n",
    "df_misid_reco.index = df_misid_reco.iEvt\n",
    "\n",
    "# reconstructed events, and the corresponding FWM\n",
    "df_incl_cut = df_incl_reco.loc[list(set(df_reco_incl.iEvt).intersection(df_incl_reco.iEvt))]\n",
    "df_misid_cut = df_misid_reco.loc[list(set(df_reco_misid.iEvt).intersection(df_misid_reco.iEvt))]"
   ]
  },
  {
   "cell_type": "code",
   "execution_count": 10,
   "id": "5b9b5062",
   "metadata": {},
   "outputs": [],
   "source": [
    "df_2b_reco = df_2b_int.copy()\n",
    "df_2b_reco.index = df_2b_reco.iEvt\n",
    "df_2b2c_reco = df_2b2c_int.copy()\n",
    "df_2b2c_reco.index = df_2b2c_reco.iEvt\n",
    "df_4b_reco = df_4b_int.copy()\n",
    "df_4b_reco.index = df_4b_reco.iEvt\n",
    "\n",
    "# reconstructed events, and the corresponding FWM\n",
    "df_2b_cut = df_2b_reco.loc[list(set(df_reco_comb.iEvt).intersection(df_2b_reco.iEvt))]\n",
    "df_2b2c_cut = df_2b2c_reco.loc[list(set(df_reco_comb.iEvt).intersection(df_2b2c_reco.iEvt))]\n",
    "df_4b_cut = df_4b_reco.loc[list(set(df_reco_comb.iEvt).intersection(df_4b_reco.iEvt))]\n"
   ]
  },
  {
   "cell_type": "code",
   "execution_count": 11,
   "id": "30468051",
   "metadata": {},
   "outputs": [
    {
     "data": {
      "text/plain": [
       "(897, 575, 308)"
      ]
     },
     "execution_count": 11,
     "metadata": {},
     "output_type": "execute_result"
    }
   ],
   "source": [
    "len(df_2b_cut), len(df_2b2c_cut), len(df_4b_cut)"
   ]
  },
  {
   "cell_type": "code",
   "execution_count": 12,
   "id": "f595143d",
   "metadata": {},
   "outputs": [
    {
     "data": {
      "text/plain": [
       "(1780, 1780)"
      ]
     },
     "execution_count": 12,
     "metadata": {},
     "output_type": "execute_result"
    }
   ],
   "source": [
    "len(df_reco_comb), len(df_2b_cut) + len(df_2b2c_cut) + len(df_4b_cut)"
   ]
  },
  {
   "cell_type": "code",
   "execution_count": null,
   "id": "4bf9ce2d",
   "metadata": {},
   "outputs": [],
   "source": []
  },
  {
   "cell_type": "markdown",
   "id": "a7c23c98",
   "metadata": {},
   "source": [
    "### Plotting "
   ]
  },
  {
   "cell_type": "code",
   "execution_count": 35,
   "id": "8d3e036a",
   "metadata": {},
   "outputs": [
    {
     "data": {
      "text/plain": [
       "[]"
      ]
     },
     "execution_count": 35,
     "metadata": {},
     "output_type": "execute_result"
    },
    {
     "data": {
      "image/png": "[encoded data removed]",
      "text/plain": [
       "<Figure size 576x432 with 1 Axes>"
      ]
     },
     "metadata": {
      "needs_background": "light"
     },
     "output_type": "display_data"
    }
   ],
   "source": [
    "\n",
    "f = plt.figure(figsize=(8,6))\n",
    "ax1 = plt.subplot(111)\n",
    "\n",
    "bins_=15\n",
    "range_=[0,1]\n",
    "ax1.margins(x=0.1)\n",
    "\n",
    "df_tau_ = df_tau[(df_tau.H_EE2<=1)&(df_tau.H_EE2>=0)]\n",
    "ax1.hist(df_tau_['H_EE2'], weights=[1/len(df_tau_)]*len(df_tau_), range=range_, bins=bins_, histtype='step', lw=3, alpha=0.5, label=r'$B_c\\to J/\\psi \\tau \\nu$', color='C0');\n",
    "\n",
    "df_mu_ = df_mu[(df_mu.H_EE2<=1)&(df_mu.H_EE2>=0)]\n",
    "ax1.hist(df_mu_['H_EE2'], weights=[1/len(df_mu_)]*len(df_mu_), range=range_, bins=bins_, histtype='step', lw=3, alpha=0.5, label=r'$B_c\\to J/\\psi \\mu \\nu$', color='C1');\n",
    "\n",
    "\n",
    "df_4b_ = df_4b[(df_4b.H_EE2<=1)&(df_4b.H_EE2>=0)]\n",
    "plt.hist(df_4b_['H_EE2'], weights=[1/len(df_4b_)]*len(df_4b_), range=range_, bins=bins_, histtype='step', lw=3, alpha=0.5, label='4b', color='C2');\n",
    "\n",
    "df_2b2c_ = df_2b2c[(df_2b2c.H_EE2<=1)&(df_2b2c.H_EE2>=0)]\n",
    "plt.hist(df_2b2c_['H_EE2'], weights=[1/len(df_2b2c_)]*len(df_2b2c_), range=range_, bins=bins_, histtype='step', lw=3, alpha=0.5, label='2b2c', color='C3');\n",
    "\n",
    "df_2b_ = df_2b[(df_2b.H_EE2<=1)&(df_2b.H_EE2>=0)]\n",
    "plt.hist(df_2b_['H_EE2'], weights=[1/len(df_2b_)]*len(df_2b_), range=range_, bins=bins_, histtype='step', lw=3, alpha=0.5, label='2b', color='C4');\n",
    "\n",
    "\n",
    "df_incl_ = df_incl[(df_incl.H_EE2<=1)&(df_incl.H_EE2>=0)]\n",
    "plt.hist(df_incl_['H_EE2'], weights=[1/len(df_incl_)]*len(df_incl_), range=range_, bins=bins_, histtype='step', lw=3, alpha=0.5, label='Incl.', color='C5');\n",
    "\n",
    "df_misid_ = df_misid[(df_misid.H_EE2<=1)&(df_misid.H_EE2>=0)]\n",
    "plt.hist(df_misid_['H_EE2'], weights=[1/len(df_misid_)]*len(df_misid_), range=range_, bins=bins_, histtype='step', lw=3, alpha=0.5, label='MisID', color='C6');\n",
    "\n",
    "\n",
    "\n",
    "ax1.set_ylabel('Normalized distribution', fontsize=20)\n",
    "ax1.set_xlabel(r'$H_{EE;2}$', fontsize=20)\n",
    "ax1.set_yticks([])\n",
    "# ax1.legend(loc=2, fontsize=20)\n",
    "\n",
    "# f.savefig('./figures/FWM_EE2')\n"
   ]
  },
  {
   "cell_type": "code",
   "execution_count": 14,
   "id": "2796f10e",
   "metadata": {},
   "outputs": [],
   "source": [
    "HEE_col = ['H_EE0', 'H_EE1', 'H_EE2', 'H_EE3', 'H_EE4', \n",
    "           'H_EE5', 'H_EE6', 'H_EE7', 'H_EE8', 'H_EE9', 'H_EE10']"
   ]
  },
  {
   "cell_type": "code",
   "execution_count": 15,
   "id": "0d9c2bba",
   "metadata": {},
   "outputs": [
    {
     "data": {
      "image/png": "[encoded data removed]",
      "text/plain": [
       "<Figure size 576x432 with 1 Axes>"
      ]
     },
     "metadata": {
      "needs_background": "light"
     },
     "output_type": "display_data"
    }
   ],
   "source": [
    "\n",
    "f = plt.figure(figsize=(8,6))\n",
    "ax1 = plt.subplot(111)\n",
    "\n",
    "\n",
    "\n",
    "df_tau[HEE_col].mean(axis=0).plot(lw=3, alpha=0.5, ax=ax1, label=r'$B_c\\to J/\\psi \\tau \\nu$', color='C0')\n",
    "df_mu[HEE_col].mean(axis=0).plot(lw=3, alpha=0.5, ax=ax1, label=r'$B_c\\to J/\\psi \\mu \\nu$', color='C1')\n",
    "df_4b[HEE_col].mean(axis=0).plot(lw=3, alpha=0.5, ax=ax1, label='4b', color='C2')\n",
    "df_2b2c[HEE_col].mean(axis=0).plot(lw=3, alpha=0.5, ax=ax1, label='2b2c', color='C3')\n",
    "df_2b[HEE_col].mean(axis=0).plot(lw=3, alpha=0.5, ax=ax1, label='2b', color='C4')\n",
    "df_incl[HEE_col].mean(axis=0).plot(lw=3, alpha=0.5, ax=ax1, label='Incl.', color='C5')\n",
    "df_misid[HEE_col].mean(axis=0).plot(lw=3, alpha=0.5, ax=ax1, label='MisID', color='C6')\n",
    "\n",
    "\n",
    "ax1.set_ylim([-0.05, 1.2])\n",
    "# ax1.set_ylabel('Normlized distribution', fontsize=20)\n",
    "ax1.set_xlabel(r'$H_{EE;l}$', fontsize=20)\n",
    "# ax1.set_yticks([])\n",
    "ax1.legend(loc=1, fontsize=20)\n",
    "ax1.set_xticks(np.arange(len(HEE_col)), HEE_col);\n",
    "\n",
    "f.savefig('./figures/FWM_EEl')\n",
    "\n"
   ]
  },
  {
   "cell_type": "code",
   "execution_count": 34,
   "id": "9ec9219a",
   "metadata": {},
   "outputs": [
    {
     "data": {
      "text/plain": [
       "<matplotlib.legend.Legend at 0x7f37f359dcc0>"
      ]
     },
     "execution_count": 34,
     "metadata": {},
     "output_type": "execute_result"
    },
    {
     "data": {
      "image/png": "[encoded data removed]",
      "text/plain": [
       "<Figure size 576x432 with 1 Axes>"
      ]
     },
     "metadata": {
      "needs_background": "light"
     },
     "output_type": "display_data"
    }
   ],
   "source": [
    "\n",
    "f = plt.figure(figsize=(8,6))\n",
    "ax1 = plt.subplot(111)\n",
    "\n",
    "bins_=15\n",
    "range_=[0,1]\n",
    "ax1.margins(x=0.1)\n",
    "\n",
    "df_tau_ = df_tau[(df_tau.H_EE2<=1)&(df_tau.H_EE2>=0)]\n",
    "ax1.hist(df_tau_['H_EE2'], weights=[1/len(df_tau_)]*len(df_tau_), range=range_, bins=bins_, histtype='step', lw=3, alpha=0.5, label=r'$B_c\\to J/\\psi \\tau \\nu$', color='C0');\n",
    "\n",
    "df_mu_ = df_mu[(df_mu.H_EE2<=1)&(df_mu.H_EE2>=0)]\n",
    "ax1.hist(df_mu_['H_EE2'], weights=[1/len(df_mu_)]*len(df_mu_), range=range_, bins=bins_, histtype='step', lw=3, alpha=0.5, label=r'$B_c\\to J/\\psi \\mu \\nu$', color='C1');\n",
    "\n",
    "\n",
    "# df_4b_ = df_4b[(df_4b.H_EE2<=1)&(df_4b.H_EE2>=0)]\n",
    "# plt.hist(df_4b_['H_EE2'], weights=[1/len(df_4b_)]*len(df_4b_), range=range_, bins=bins_, histtype='step', lw=3, alpha=0.5, label='4b', color='C2');\n",
    "\n",
    "# df_2b2c_ = df_2b2c[(df_2b2c.H_EE2<=1)&(df_2b2c.H_EE2>=0)]\n",
    "# plt.hist(df_2b2c_['H_EE2'], weights=[1/len(df_2b2c_)]*len(df_2b2c_), range=range_, bins=bins_, histtype='step', lw=3, alpha=0.5, label='2b2c', color='C3');\n",
    "\n",
    "# df_2b_ = df_2b[(df_2b.H_EE2<=1)&(df_2b.H_EE2>=0)]\n",
    "# plt.hist(df_2b_['H_EE2'], weights=[1/len(df_2b_)]*len(df_2b_), range=range_, bins=bins_, histtype='step', lw=3, alpha=0.5, label='2b', color='C4');\n",
    "\n",
    "\n",
    "df_incl_ = df_incl[(df_incl.H_EE2<=1)&(df_incl.H_EE2>=0)]\n",
    "plt.hist(df_incl_['H_EE2'], weights=[1/len(df_incl_)]*len(df_incl_), range=range_, bins=bins_, histtype='step', lw=3, alpha=0.5, label='Incl.', color='C5');\n",
    "\n",
    "# df_misid_ = df_misid[(df_misid.H_EE2<=1)&(df_misid.H_EE2>=0)]\n",
    "# plt.hist(df_misid_['H_EE2'], weights=[1/len(df_misid_)]*len(df_misid_), range=range_, bins=bins_, histtype='step', lw=3, alpha=0.5, label='MisID', color='C6');\n",
    "\n",
    "\n",
    "\n",
    "ax1.set_ylabel('Normalized distribution', fontsize=20)\n",
    "ax1.set_xlabel(r'$H_{EE;2}$', fontsize=20)\n",
    "ax1.set_yticks([])\n",
    "ax1.legend(loc=2, fontsize=20)\n",
    "\n",
    "# f.savefig('./figures/FWM_EE2_Bc_incl')\n"
   ]
  },
  {
   "cell_type": "code",
   "execution_count": 36,
   "id": "783525a6",
   "metadata": {},
   "outputs": [
    {
     "data": {
      "text/plain": [
       "<matplotlib.legend.Legend at 0x7f37f359f460>"
      ]
     },
     "execution_count": 36,
     "metadata": {},
     "output_type": "execute_result"
    },
    {
     "data": {
      "image/png": "[encoded data removed]",
      "text/plain": [
       "<Figure size 576x432 with 1 Axes>"
      ]
     },
     "metadata": {
      "needs_background": "light"
     },
     "output_type": "display_data"
    }
   ],
   "source": [
    "\n",
    "f = plt.figure(figsize=(8,6))\n",
    "ax1 = plt.subplot(111)\n",
    "\n",
    "bins_=15\n",
    "range_=[0,1]\n",
    "ax1.margins(x=0.1)\n",
    "\n",
    "df_tau_ = df_tau[(df_tau.H_EE2<=1)&(df_tau.H_EE2>=0)]\n",
    "ax1.hist(df_tau_['H_EE2'], weights=[1/len(df_tau_)]*len(df_tau_), range=range_, bins=bins_, histtype='step', lw=3, alpha=0.5, label=r'$B_c\\to J/\\psi \\tau \\nu$', color='C0');\n",
    "\n",
    "df_mu_ = df_mu[(df_mu.H_EE2<=1)&(df_mu.H_EE2>=0)]\n",
    "ax1.hist(df_mu_['H_EE2'], weights=[1/len(df_mu_)]*len(df_mu_), range=range_, bins=bins_, histtype='step', lw=3, alpha=0.5, label=r'$B_c\\to J/\\psi \\mu \\nu$', color='C1');\n",
    "\n",
    "\n",
    "# df_4b_ = df_4b[(df_4b.H_EE2<=1)&(df_4b.H_EE2>=0)]\n",
    "# plt.hist(df_4b_['H_EE2'], weights=[1/len(df_4b_)]*len(df_4b_), range=range_, bins=bins_, histtype='step', lw=3, alpha=0.5, label='4b', color='C2');\n",
    "\n",
    "# df_2b2c_ = df_2b2c[(df_2b2c.H_EE2<=1)&(df_2b2c.H_EE2>=0)]\n",
    "# plt.hist(df_2b2c_['H_EE2'], weights=[1/len(df_2b2c_)]*len(df_2b2c_), range=range_, bins=bins_, histtype='step', lw=3, alpha=0.5, label='2b2c', color='C3');\n",
    "\n",
    "# df_2b_ = df_2b[(df_2b.H_EE2<=1)&(df_2b.H_EE2>=0)]\n",
    "# plt.hist(df_2b_['H_EE2'], weights=[1/len(df_2b_)]*len(df_2b_), range=range_, bins=bins_, histtype='step', lw=3, alpha=0.5, label='2b', color='C4');\n",
    "\n",
    "\n",
    "# df_incl_ = df_incl[(df_incl.H_EE2<=1)&(df_incl.H_EE2>=0)]\n",
    "# plt.hist(df_incl_['H_EE2'], weights=[1/len(df_incl_)]*len(df_incl_), range=range_, bins=bins_, histtype='step', lw=3, alpha=0.5, label='Incl.', color='C5');\n",
    "\n",
    "df_misid_ = df_misid[(df_misid.H_EE2<=1)&(df_misid.H_EE2>=0)]\n",
    "plt.hist(df_misid_['H_EE2'], weights=[1/len(df_misid_)]*len(df_misid_), range=range_, bins=bins_, histtype='step', lw=3, alpha=0.5, label='MisID', color='C6');\n",
    "\n",
    "\n",
    "\n",
    "ax1.set_ylabel('Normalized distribution', fontsize=20)\n",
    "ax1.set_xlabel(r'$H_{EE;2}$', fontsize=20)\n",
    "ax1.set_yticks([])\n",
    "ax1.legend(loc=2, fontsize=20)\n"
   ]
  },
  {
   "cell_type": "code",
   "execution_count": null,
   "id": "ecea383e",
   "metadata": {},
   "outputs": [],
   "source": []
  },
  {
   "cell_type": "code",
   "execution_count": 37,
   "id": "1c1540c4",
   "metadata": {},
   "outputs": [
    {
     "data": {
      "text/plain": [
       "<matplotlib.legend.Legend at 0x7f37f34bd720>"
      ]
     },
     "execution_count": 37,
     "metadata": {},
     "output_type": "execute_result"
    },
    {
     "data": {
      "image/png": "[encoded data removed]",
      "text/plain": [
       "<Figure size 576x432 with 1 Axes>"
      ]
     },
     "metadata": {
      "needs_background": "light"
     },
     "output_type": "display_data"
    }
   ],
   "source": [
    "\n",
    "f = plt.figure(figsize=(8,6))\n",
    "ax1 = plt.subplot(111)\n",
    "\n",
    "bins_=15\n",
    "range_=[0,1]\n",
    "ax1.margins(x=0.1)\n",
    "\n",
    "# df_tau_ = df_tau[(df_tau.H_EE2<=1)&(df_tau.H_EE2>=0)]\n",
    "# ax1.hist(df_tau_['H_EE2'], weights=[1/len(df_tau_)]*len(df_tau_), range=range_, bins=bins_, histtype='step', lw=3, alpha=0.5, label=r'$B_c\\to J/\\psi \\tau \\nu$', color='C0');\n",
    "\n",
    "# df_mu_ = df_mu[(df_mu.H_EE2<=1)&(df_mu.H_EE2>=0)]\n",
    "# ax1.hist(df_mu_['H_EE2'], weights=[1/len(df_mu_)]*len(df_mu_), range=range_, bins=bins_, histtype='step', lw=3, alpha=0.5, label=r'$B_c\\to J/\\psi \\mu \\nu$', color='C1');\n",
    "\n",
    "\n",
    "df_4b_ = df_4b[(df_4b.H_EE2<=1)&(df_4b.H_EE2>=0)]\n",
    "plt.hist(df_4b_['H_EE2'], weights=[1/len(df_4b_)]*len(df_4b_), range=range_, bins=bins_, histtype='step', lw=3, alpha=0.5, label='4b', color='C2');\n",
    "\n",
    "df_2b2c_ = df_2b2c[(df_2b2c.H_EE2<=1)&(df_2b2c.H_EE2>=0)]\n",
    "plt.hist(df_2b2c_['H_EE2'], weights=[1/len(df_2b2c_)]*len(df_2b2c_), range=range_, bins=bins_, histtype='step', lw=3, alpha=0.5, label='2b2c', color='C3');\n",
    "\n",
    "df_2b_ = df_2b[(df_2b.H_EE2<=1)&(df_2b.H_EE2>=0)]\n",
    "plt.hist(df_2b_['H_EE2'], weights=[1/len(df_2b_)]*len(df_2b_), range=range_, bins=bins_, histtype='step', lw=3, alpha=0.5, label='2b', color='C4');\n",
    "\n",
    "\n",
    "# df_incl_ = df_incl[(df_incl.H_EE2<=1)&(df_incl.H_EE2>=0)]\n",
    "# plt.hist(df_incl_['H_EE2'], weights=[1/len(df_incl_)]*len(df_incl_), range=range_, bins=bins_, histtype='step', lw=3, alpha=0.5, label='Incl.', color='C5');\n",
    "\n",
    "# df_misid_ = df_misid[(df_misid.H_EE2<=1)&(df_misid.H_EE2>=0)]\n",
    "# plt.hist(df_misid_['H_EE2'], weights=[1/len(df_misid_)]*len(df_misid_), range=range_, bins=bins_, histtype='step', lw=3, alpha=0.5, label='MisID', color='C6');\n",
    "\n",
    "\n",
    "\n",
    "ax1.set_ylabel('Normalized distribution', fontsize=20)\n",
    "ax1.set_xlabel(r'$H_{EE;2}$', fontsize=20)\n",
    "ax1.set_yticks([])\n",
    "ax1.legend(loc=1, fontsize=20)\n",
    "\n",
    "# f.savefig('./figures/FWM_EE2_bs')\n"
   ]
  },
  {
   "cell_type": "code",
   "execution_count": null,
   "id": "4d0be888",
   "metadata": {},
   "outputs": [],
   "source": []
  },
  {
   "cell_type": "code",
   "execution_count": null,
   "id": "849fa12a",
   "metadata": {},
   "outputs": [],
   "source": []
  },
  {
   "cell_type": "code",
   "execution_count": 19,
   "id": "7f59788f",
   "metadata": {},
   "outputs": [
    {
     "data": {
      "text/plain": [
       "(988202, 13856, 33747)"
      ]
     },
     "execution_count": 19,
     "metadata": {},
     "output_type": "execute_result"
    }
   ],
   "source": [
    "len(df_2b), len(df_4b), len(df_2b2c)"
   ]
  },
  {
   "cell_type": "code",
   "execution_count": 20,
   "id": "786eee44",
   "metadata": {},
   "outputs": [],
   "source": [
    "# f = plt.figure(figsize=(18,9))\n",
    "# ax1 = plt.subplot(231)\n",
    "# ax1.hist(df_4b['angle1'], weights=[1/len(df_4b)]*len(df_4b), bins=20, range=[0,180], histtype='step', lw=3, label='4b');\n",
    "# ax1.hist(df_2b2c['angle1'], weights=[1/len(df_2b2c)]*len(df_2b2c), bins=20, range=[0,180], histtype='step', lw=3, label='2b2c');\n",
    "# ax1.set_title(\"smallest angle\")\n",
    "# plt.legend()\n",
    "\n",
    "# ax2 = plt.subplot(232)\n",
    "# ax2.hist(df_4b['angle2'], weights=[1/len(df_4b)]*len(df_4b), bins=20, range=[0,180], histtype='step', lw=3, label='4b');\n",
    "# ax2.hist(df_2b2c['angle2'], weights=[1/len(df_2b2c)]*len(df_2b2c), bins=20, range=[0,180], histtype='step', lw=3, label='2b2c');\n",
    "# ax2.set_title(\"second smallest angle\")\n",
    "# plt.legend()\n",
    "\n",
    "# ax3 = plt.subplot(233)\n",
    "# ax3.hist(df_4b['angle_sum'], weights=[1/len(df_4b)]*len(df_4b), bins=20, range=[0,180*2], histtype='step', lw=3, label='4b');\n",
    "# ax3.hist(df_2b2c['angle_sum'], weights=[1/len(df_2b2c)]*len(df_2b2c), bins=20, range=[0,180*2], histtype='step', lw=3, label='2b2c');\n",
    "# ax3.set_title(\"sum of two smallest angles\")\n",
    "# plt.legend()\n",
    "\n",
    "# ax4 = plt.subplot(234)\n",
    "# ax4.hist(df_4b['E1'], weights=[1/len(df_4b)]*len(df_4b), bins=20, range=[0,30], histtype='step', lw=3, label='4b');\n",
    "# ax4.hist(df_2b2c['E1'], weights=[1/len(df_2b2c)]*len(df_2b2c), bins=20, range=[0,30], histtype='step', lw=3, label='2b2c');\n",
    "# ax4.set_title(\"smallest E\")\n",
    "# plt.legend()\n",
    "\n",
    "# ax5 = plt.subplot(235)\n",
    "# ax5.hist(df_4b['E2'], weights=[1/len(df_4b)]*len(df_4b), bins=20, range=[0,30], histtype='step', lw=3, label='4b');\n",
    "# ax5.hist(df_2b2c['E2'], weights=[1/len(df_2b2c)]*len(df_2b2c), bins=20, range=[0,30], histtype='step', lw=3, label='2b2c');\n",
    "# ax5.set_title(\"second smallest E\")\n",
    "# plt.legend()\n",
    "\n",
    "# ax6 = plt.subplot(236)\n",
    "# ax6.hist(df_4b['E_sum'], weights=[1/len(df_4b)]*len(df_4b), bins=20, range=[0,30*2], histtype='step', lw=3, label='4b');\n",
    "# ax6.hist(df_2b2c['E_sum'], weights=[1/len(df_2b2c)]*len(df_2b2c), bins=20, range=[0,30*2], histtype='step', lw=3, label='2b2c');\n",
    "# ax6.set_title(\"sum of two smallest E\")\n",
    "# plt.legend()\n",
    "\n",
    "# plt.tight_layout()\n",
    "# # f.savefig('./angles_energies', bbox_inches='tight')"
   ]
  },
  {
   "cell_type": "code",
   "execution_count": 21,
   "id": "3c3b9674",
   "metadata": {},
   "outputs": [],
   "source": [
    "\n",
    "# f = plt.figure(figsize=(8,6))\n",
    "# ax1 = plt.subplot(111)\n",
    "\n",
    "# ax1.hist(df_4b['angle1'], weights=[1/len(df_4b)]*len(df_4b), bins=20, range=[0,180], histtype='step', lw=3, label='4b', alpha=0.5, color='C2');\n",
    "# ax1.hist(df_2b2c['angle1'], weights=[1/len(df_2b2c)]*len(df_2b2c), bins=20, range=[0,180], histtype='step', lw=3, label='2b2c', alpha=0.5, color='C3');\n",
    "\n",
    "# plt.legend()\n",
    "\n",
    "\n",
    "# ax1.set_ylabel('Normalized distribution', fontsize=20)\n",
    "# ax1.set_xlabel(\"Smallest angle\", fontsize=20)\n",
    "# ax1.set_yticks([])\n",
    "# ax1.legend(loc=1, fontsize=20)\n",
    "\n",
    "# f.savefig('./figures/FWM_SmallestAngle')\n"
   ]
  },
  {
   "cell_type": "code",
   "execution_count": 22,
   "id": "7f723c46",
   "metadata": {},
   "outputs": [],
   "source": [
    "\n",
    "# f = plt.figure(figsize=(8,6))\n",
    "# ax1 = plt.subplot(111)\n",
    "\n",
    "# ax1.hist(df_4b['angle2'], weights=[1/len(df_4b)]*len(df_4b), bins=20, range=[0,180], histtype='step', lw=3, label='4b', alpha=0.5, color='C2');\n",
    "# ax1.hist(df_2b2c['angle2'], weights=[1/len(df_2b2c)]*len(df_2b2c), bins=20, range=[0,180], histtype='step', lw=3, label='2b2c', alpha=0.5, color='C3');\n",
    "# # ax1.set_title(\"\")\n",
    "\n",
    "\n",
    "# ax1.set_ylabel('Normalized distribution', fontsize=20)\n",
    "# ax1.set_xlabel(\"Second smallest angle\", fontsize=20)\n",
    "# ax1.set_yticks([])\n",
    "# ax1.legend(loc=1, fontsize=20)\n",
    "\n",
    "# f.savefig('./figures/FWM_SecondSmallestAngle')\n"
   ]
  },
  {
   "cell_type": "code",
   "execution_count": 23,
   "id": "956d3b16",
   "metadata": {},
   "outputs": [],
   "source": [
    "\n",
    "# f = plt.figure(figsize=(8,6))\n",
    "# ax1 = plt.subplot(111)\n",
    "\n",
    "# ax1.hist(df_4b['angle_sum'], weights=[1/len(df_4b)]*len(df_4b), bins=20, range=[0,180*2], histtype='step', lw=3, label='4b', alpha=0.5, color='C2');\n",
    "# ax1.hist(df_2b2c['angle_sum'], weights=[1/len(df_2b2c)]*len(df_2b2c), bins=20, range=[0,180*2], histtype='step', lw=3, label='2b2c', alpha=0.5, color='C3');\n",
    "\n",
    "\n",
    "# ax1.set_ylabel('Normalized distribution', fontsize=20)\n",
    "# ax1.set_xlabel(\"Sum of 2 smallest angles\", fontsize=20)\n",
    "# ax1.set_yticks([])\n",
    "# ax1.legend(loc=1, fontsize=20)\n",
    "\n",
    "# f.savefig('./figures/FWM_SumAngle')\n"
   ]
  },
  {
   "cell_type": "code",
   "execution_count": 24,
   "id": "a71918f8",
   "metadata": {},
   "outputs": [],
   "source": [
    "\n",
    "# f = plt.figure(figsize=(8,6))\n",
    "# ax1 = plt.subplot(111)\n",
    "\n",
    "# ax1.hist(df_4b['E1'], weights=[1/len(df_4b)]*len(df_4b), bins=20, range=[0,30], histtype='step', lw=3, label='4b', alpha=0.5, color='C2');\n",
    "# ax1.hist(df_2b2c['E1'], weights=[1/len(df_2b2c)]*len(df_2b2c), bins=20, range=[0,30], histtype='step', lw=3, label='2b2c', alpha=0.5, color='C3');\n",
    "\n",
    "# ax1.set_ylabel('Normalized distribution', fontsize=20)\n",
    "# ax1.set_xlabel(\"Smallest E\", fontsize=20)\n",
    "# ax1.set_yticks([])\n",
    "# ax1.legend(loc=1, fontsize=20)\n",
    "\n",
    "# f.savefig('./figures/FWM_SmallestE')\n"
   ]
  },
  {
   "cell_type": "code",
   "execution_count": 25,
   "id": "e91eb273",
   "metadata": {},
   "outputs": [],
   "source": [
    "\n",
    "# f = plt.figure(figsize=(8,6))\n",
    "# ax1 = plt.subplot(111)\n",
    "\n",
    "# ax1.hist(df_4b['E2'], weights=[1/len(df_4b)]*len(df_4b), bins=20, range=[0,30], histtype='step', lw=3, label='4b', alpha=0.5, color='C2');\n",
    "# ax1.hist(df_2b2c['E2'], weights=[1/len(df_2b2c)]*len(df_2b2c), bins=20, range=[0,30], histtype='step', lw=3, label='2b2c', alpha=0.5, color='C3');\n",
    "\n",
    "# ax1.set_ylabel('Normalized distribution', fontsize=20)\n",
    "# ax1.set_xlabel(\"Second smallest E\", fontsize=20)\n",
    "# ax1.set_yticks([])\n",
    "# ax1.legend(loc=1, fontsize=20)\n",
    "\n",
    "# f.savefig('./figures/FWM_SecondSmallestE')\n"
   ]
  },
  {
   "cell_type": "code",
   "execution_count": 26,
   "id": "457b8bff",
   "metadata": {},
   "outputs": [],
   "source": [
    "\n",
    "# f = plt.figure(figsize=(8,6))\n",
    "# ax1 = plt.subplot(111)\n",
    "\n",
    "# ax1.hist(df_4b['E_sum'], weights=[1/len(df_4b)]*len(df_4b), bins=20, range=[0,30*2], histtype='step', lw=3, label='4b', alpha=0.5, color='C2');\n",
    "# ax1.hist(df_2b2c['E_sum'], weights=[1/len(df_2b2c)]*len(df_2b2c), bins=20, range=[0,30*2], histtype='step', lw=3, label='2b2c', alpha=0.5, color='C3');\n",
    "\n",
    "# ax1.set_ylabel('Normalized distribution', fontsize=20)\n",
    "# ax1.set_xlabel(\"Sum of 2 smallest E\", fontsize=20)\n",
    "# ax1.set_yticks([])\n",
    "# ax1.legend(loc=1, fontsize=20)\n",
    "\n",
    "# f.savefig('./figures/FWM_SumE')\n"
   ]
  },
  {
   "cell_type": "code",
   "execution_count": null,
   "id": "88fc84f9",
   "metadata": {},
   "outputs": [],
   "source": []
  },
  {
   "cell_type": "code",
   "execution_count": 27,
   "id": "be6661c5",
   "metadata": {},
   "outputs": [
    {
     "data": {
      "text/plain": [
       "(988202, 897)"
      ]
     },
     "execution_count": 27,
     "metadata": {},
     "output_type": "execute_result"
    }
   ],
   "source": [
    "len(df_2b), len(df_2b_cut)"
   ]
  },
  {
   "cell_type": "code",
   "execution_count": 28,
   "id": "8e61b0fe",
   "metadata": {},
   "outputs": [
    {
     "data": {
      "text/plain": [
       "33747"
      ]
     },
     "execution_count": 28,
     "metadata": {},
     "output_type": "execute_result"
    }
   ],
   "source": [
    "len(df_2b2c)"
   ]
  },
  {
   "cell_type": "code",
   "execution_count": 29,
   "id": "df689814",
   "metadata": {},
   "outputs": [
    {
     "data": {
      "text/plain": [
       "13856"
      ]
     },
     "execution_count": 29,
     "metadata": {},
     "output_type": "execute_result"
    }
   ],
   "source": [
    "len(df_4b)"
   ]
  },
  {
   "cell_type": "code",
   "execution_count": null,
   "id": "127d4a72",
   "metadata": {},
   "outputs": [],
   "source": []
  },
  {
   "cell_type": "code",
   "execution_count": 30,
   "id": "42ae046c",
   "metadata": {},
   "outputs": [
    {
     "data": {
      "text/plain": [
       "[]"
      ]
     },
     "execution_count": 30,
     "metadata": {},
     "output_type": "execute_result"
    },
    {
     "data": {
      "image/png": "[encoded data removed]",
      "text/plain": [
       "<Figure size 576x432 with 1 Axes>"
      ]
     },
     "metadata": {
      "needs_background": "light"
     },
     "output_type": "display_data"
    }
   ],
   "source": [
    "\n",
    "f = plt.figure(figsize=(8,6))\n",
    "ax1 = plt.subplot(111)\n",
    "\n",
    "bins_=20\n",
    "range_=[-0.1,1.1]\n",
    "\n",
    "# bins_=30\n",
    "# range_=[-0.5,1.]\n",
    "\n",
    "df_tau_ = df_tau[(df_tau.H_EE2<=1)&(df_tau.H_EE2>=0)]\n",
    "ax1.hist(df_tau_['H_EE2'], weights=[1/len(df_tau_)]*len(df_tau_), range=range_, bins=bins_, histtype='step', lw=3, alpha=0.5, label=r'$B_c\\to J/\\psi \\tau \\nu$', color='C0');\n",
    "\n",
    "df_mu_ = df_mu[(df_mu.H_EE2<=1)&(df_mu.H_EE2>=0)]\n",
    "ax1.hist(df_mu_['H_EE2'], weights=[1/len(df_mu_)]*len(df_mu_), range=range_, bins=bins_, histtype='step', lw=3, alpha=0.5, label=r'$B_c\\to J/\\psi \\mu \\nu$', color='C1');\n",
    "\n",
    "\n",
    "# df_4b_ = df_4b[(df_4b.H_EE2<=1)&(df_4b.H_EE2>=0)]\n",
    "# plt.hist(df_4b_['H_EE2'], weights=[1/len(df_4b_)]*len(df_4b_), range=range_, bins=bins_, histtype='step', lw=3, alpha=0.5, label='4b', color='C2');\n",
    "\n",
    "# df_2b2c_ = df_2b2c[(df_2b2c.H_EE2<=1)&(df_2b2c.H_EE2>=0)]\n",
    "# plt.hist(df_2b2c_['H_EE2'], weights=[1/len(df_2b2c_)]*len(df_2b2c_), range=range_, bins=bins_, histtype='step', lw=3, alpha=0.5, label='2b2c', color='C3');\n",
    "\n",
    "# df_2b_ = df_2b[(df_2b.H_EE2<=1)&(df_2b.H_EE2>=0)]\n",
    "# plt.hist(df_2b_['H_EE2'], weights=[1/len(df_2b_)]*len(df_2b_), range=range_, bins=bins_, histtype='step', lw=3, alpha=0.5, label='2b', color='C4');\n",
    "\n",
    "\n",
    "df_incl_ = df_incl[(df_incl.H_EE2<=1)&(df_incl.H_EE2>=0)]\n",
    "plt.hist(df_incl_['H_EE2'], weights=[1/len(df_incl_)]*len(df_incl_), range=range_, bins=bins_, histtype='step', lw=3, alpha=0.5, label='Incl.', color='C5');\n",
    "\n",
    "df_misid_ = df_misid[(df_misid.H_EE2<=1)&(df_misid.H_EE2>=0)]\n",
    "plt.hist(df_misid_['H_EE2'], weights=[1/len(df_misid_)]*len(df_misid_), range=range_, bins=bins_, histtype='step', lw=3, alpha=0.5, label='MisID', color='C6');\n",
    "\n",
    "\n",
    "\n",
    "ax1.set_ylabel('Normlized distribution', fontsize=20)\n",
    "ax1.set_xlabel(r'$H_{EE;2}$', fontsize=20)\n",
    "ax1.set_yticks([])\n",
    "# ax1.legend(loc=2, fontsize=20)\n",
    "\n",
    "# f.savefig('./figures/FWM_EE2')\n"
   ]
  },
  {
   "cell_type": "code",
   "execution_count": null,
   "id": "55b60a13",
   "metadata": {},
   "outputs": [],
   "source": []
  },
  {
   "cell_type": "code",
   "execution_count": null,
   "id": "a85d7408",
   "metadata": {},
   "outputs": [],
   "source": []
  },
  {
   "cell_type": "markdown",
   "id": "1af12d57",
   "metadata": {},
   "source": [
    "### Pltotting (after reconstruction)"
   ]
  },
  {
   "cell_type": "code",
   "execution_count": 31,
   "id": "f2340b49",
   "metadata": {},
   "outputs": [
    {
     "data": {
      "text/plain": [
       "<matplotlib.legend.Legend at 0x7f37e19d1960>"
      ]
     },
     "execution_count": 31,
     "metadata": {},
     "output_type": "execute_result"
    },
    {
     "data": {
      "image/png": "[encoded data removed]",
      "text/plain": [
       "<Figure size 576x432 with 1 Axes>"
      ]
     },
     "metadata": {
      "needs_background": "light"
     },
     "output_type": "display_data"
    }
   ],
   "source": [
    "\n",
    "f = plt.figure(figsize=(8,6))\n",
    "ax1 = plt.subplot(111)\n",
    "\n",
    "bins_=12\n",
    "range_=[-0,1]\n",
    "\n",
    "ax1.margins(x=0.1)\n",
    "\n",
    "# bins_=30\n",
    "# range_=[-0.5,1.]\n",
    "\n",
    "df_tau_ = df_tau_cut[(df_tau_cut.H_EE2<=1)&(df_tau_cut.H_EE2>=0)]\n",
    "ax1.hist(df_tau_['H_EE2'], weights=[1/len(df_tau_)]*len(df_tau_), range=range_, bins=bins_, histtype='step', lw=3, alpha=0.5, label=r'$B_c\\to J/\\psi \\tau \\nu$', color='C0');\n",
    "\n",
    "df_mu_ = df_mu_cut[(df_mu_cut.H_EE2<=1)&(df_mu_cut.H_EE2>=0)]\n",
    "ax1.hist(df_mu_['H_EE2'], weights=[1/len(df_mu_)]*len(df_mu_), range=range_, bins=bins_, histtype='step', lw=3, alpha=0.5, label=r'$B_c\\to J/\\psi \\mu \\nu$', color='C1');\n",
    "\n",
    "# df_4b_ = df_4b_cut[(df_4b_cut.H_EE2<=1)&(df_4b_cut.H_EE2>=0)]\n",
    "# plt.hist(df_4b_['H_EE2'], weights=[1/len(df_4b_)]*len(df_4b_), range=range_, bins=bins_, histtype='step', lw=3, alpha=0.5, label='4b', color='C2');\n",
    "\n",
    "# df_2b2c_ = df_2b2c_cut[(df_2b2c_cut.H_EE2<=1)&(df_2b2c_cut.H_EE2>=0)]\n",
    "# plt.hist(df_2b2c_['H_EE2'], weights=[1/len(df_2b2c_)]*len(df_2b2c_), range=range_, bins=bins_, histtype='step', lw=3, alpha=0.5, label='2b2c', color='C3');\n",
    "\n",
    "# df_2b_ = df_2b_cut[(df_2b_cut.H_EE2<=1)&(df_2b_cut.H_EE2>=0)]\n",
    "# plt.hist(df_2b_['H_EE2'], weights=[1/len(df_2b_)]*len(df_2b_), range=range_, bins=bins_, histtype='step', lw=3, alpha=0.5, label='2b', color='C4');\n",
    "\n",
    "df_incl_ = df_incl_cut[(df_incl_cut.H_EE2<=1)&(df_incl_cut.H_EE2>=0)]\n",
    "plt.hist(df_incl_['H_EE2'], weights=[1/len(df_incl_)]*len(df_incl_), range=range_, bins=bins_, histtype='step', lw=3, alpha=0.5, label='Incl.', color='C5');\n",
    "\n",
    "# df_misid_ = df_misid[(df_misid.H_EE2<=1)&(df_misid.H_EE2>=0)]\n",
    "# plt.hist(df_misid_['H_EE2'], weights=[1/len(df_misid_)]*len(df_misid_), range=range_, bins=bins_, histtype='step', lw=3, alpha=0.5, label='MisID', color='C6');\n",
    "\n",
    "\n",
    "\n",
    "ax1.set_ylabel('Normalized distribution', fontsize=20)\n",
    "ax1.set_xlabel(r'$H_{EE;2}$', fontsize=20)\n",
    "ax1.set_yticks([])\n",
    "ax1.legend(loc=2, fontsize=20)\n"
   ]
  },
  {
   "cell_type": "code",
   "execution_count": 115,
   "id": "7b6f2d7c",
   "metadata": {},
   "outputs": [
    {
     "data": {
      "text/plain": [
       "<matplotlib.legend.Legend at 0x7f24079e7fa0>"
      ]
     },
     "execution_count": 115,
     "metadata": {},
     "output_type": "execute_result"
    },
    {
     "data": {
      "image/png": "[encoded data removed]",
      "text/plain": [
       "<Figure size 576x432 with 1 Axes>"
      ]
     },
     "metadata": {
      "needs_background": "light"
     },
     "output_type": "display_data"
    }
   ],
   "source": [
    "\n",
    "f = plt.figure(figsize=(8,6))\n",
    "ax1 = plt.subplot(111)\n",
    "\n",
    "bins_=12\n",
    "range_=[-0,1]\n",
    "\n",
    "ax1.margins(x=0.1)\n",
    "\n",
    "# bins_=30\n",
    "# range_=[-0.5,1.]\n",
    "\n",
    "df_tau_ = df_tau_cut[(df_tau_cut.H_EE2<=1)&(df_tau_cut.H_EE2>=0)]\n",
    "ax1.hist(df_tau_['H_EE2'], weights=[1/len(df_tau_)]*len(df_tau_), range=range_, bins=bins_, histtype='step', lw=3, alpha=0.5, label=r'$B_c\\to J/\\psi \\tau \\nu$', color='C0');\n",
    "\n",
    "df_mu_ = df_mu_cut[(df_mu_cut.H_EE2<=1)&(df_mu_cut.H_EE2>=0)]\n",
    "ax1.hist(df_mu_['H_EE2'], weights=[1/len(df_mu_)]*len(df_mu_), range=range_, bins=bins_, histtype='step', lw=3, alpha=0.5, label=r'$B_c\\to J/\\psi \\mu \\nu$', color='C1');\n",
    "\n",
    "# df_4b_ = df_4b_cut[(df_4b_cut.H_EE2<=1)&(df_4b_cut.H_EE2>=0)]\n",
    "# plt.hist(df_4b_['H_EE2'], weights=[1/len(df_4b_)]*len(df_4b_), range=range_, bins=bins_, histtype='step', lw=3, alpha=0.5, label='4b', color='C2');\n",
    "\n",
    "# df_2b2c_ = df_2b2c_cut[(df_2b2c_cut.H_EE2<=1)&(df_2b2c_cut.H_EE2>=0)]\n",
    "# plt.hist(df_2b2c_['H_EE2'], weights=[1/len(df_2b2c_)]*len(df_2b2c_), range=range_, bins=bins_, histtype='step', lw=3, alpha=0.5, label='2b2c', color='C3');\n",
    "\n",
    "# df_2b_ = df_2b_cut[(df_2b_cut.H_EE2<=1)&(df_2b_cut.H_EE2>=0)]\n",
    "# plt.hist(df_2b_['H_EE2'], weights=[1/len(df_2b_)]*len(df_2b_), range=range_, bins=bins_, histtype='step', lw=3, alpha=0.5, label='2b', color='C4');\n",
    "\n",
    "# df_incl_ = df_incl_cut[(df_incl_cut.H_EE2<=1)&(df_incl_cut.H_EE2>=0)]\n",
    "# plt.hist(df_incl_['H_EE2'], weights=[1/len(df_incl_)]*len(df_incl_), range=range_, bins=bins_, histtype='step', lw=3, alpha=0.5, label='Incl.', color='C5');\n",
    "\n",
    "# df_misid_ = df_misid_cut[(df_misid_cut.H_EE2<=1)&(df_misid_cut.H_EE2>=0)]\n",
    "# plt.hist(df_misid_['H_EE2'], weights=[1/len(df_misid_)]*len(df_misid_), range=range_, bins=bins_, histtype='step', lw=3, alpha=0.5, label='MisID', color='C6');\n",
    "\n",
    "\n",
    "\n",
    "ax1.set_ylabel('Normalized distribution', fontsize=20)\n",
    "ax1.set_xlabel(r'$H_{EE;2}$', fontsize=20)\n",
    "ax1.set_yticks([])\n",
    "ax1.legend(loc=2, fontsize=20)\n"
   ]
  },
  {
   "cell_type": "code",
   "execution_count": 112,
   "id": "63415be8",
   "metadata": {},
   "outputs": [
    {
     "data": {
      "text/plain": [
       "(6499, 2037, 0)"
      ]
     },
     "execution_count": 112,
     "metadata": {},
     "output_type": "execute_result"
    }
   ],
   "source": [
    "len(df_tau), len(df_tau_cut), len(df_misid_cut)"
   ]
  },
  {
   "cell_type": "code",
   "execution_count": null,
   "id": "1ddae5f6",
   "metadata": {},
   "outputs": [],
   "source": []
  },
  {
   "cell_type": "code",
   "execution_count": 125,
   "id": "85e83d08",
   "metadata": {},
   "outputs": [
    {
     "data": {
      "text/plain": [
       "<matplotlib.legend.Legend at 0x7f2446d2c1f0>"
      ]
     },
     "execution_count": 125,
     "metadata": {},
     "output_type": "execute_result"
    },
    {
     "data": {
      "image/png": "[encoded data removed]",
      "text/plain": [
       "<Figure size 576x432 with 1 Axes>"
      ]
     },
     "metadata": {
      "needs_background": "light"
     },
     "output_type": "display_data"
    }
   ],
   "source": [
    "\n",
    "f = plt.figure(figsize=(8,6))\n",
    "ax1 = plt.subplot(111)\n",
    "\n",
    "bins_=12\n",
    "range_=[-0,1]\n",
    "\n",
    "ax1.margins(x=0.1)\n",
    "\n",
    "# bins_=30\n",
    "# range_=[-0.5,1.]\n",
    "\n",
    "# df_tau_ = df_tau_cut[(df_tau_cut.H_EE2<=1)&(df_tau_cut.H_EE2>=0)]\n",
    "# ax1.hist(df_tau_['H_EE2'], weights=[1/len(df_tau_)]*len(df_tau_), range=range_, bins=bins_, histtype='step', lw=3, alpha=0.5, label=r'$B_c\\to J/\\psi \\tau \\nu$', color='C0');\n",
    "\n",
    "# df_mu_ = df_mu_cut[(df_mu_cut.H_EE2<=1)&(df_mu_cut.H_EE2>=0)]\n",
    "# ax1.hist(df_mu_['H_EE2'], weights=[1/len(df_mu_)]*len(df_mu_), range=range_, bins=bins_, histtype='step', lw=3, alpha=0.5, label=r'$B_c\\to J/\\psi \\mu \\nu$', color='C1');\n",
    "\n",
    "df_4b_ = df_4b_cut[(df_4b_cut.H_EE2<=1)&(df_4b_cut.H_EE2>=0)]\n",
    "plt.hist(df_4b_['H_EE2'], weights=[1/len(df_4b_)]*len(df_4b_), range=range_, bins=bins_, histtype='step', lw=3, alpha=0.5, label='4b', color='C2');\n",
    "\n",
    "df_2b2c_ = df_2b2c_cut[(df_2b2c_cut.H_EE2<=1)&(df_2b2c_cut.H_EE2>=0)]\n",
    "plt.hist(df_2b2c_['H_EE2'], weights=[1/len(df_2b2c_)]*len(df_2b2c_), range=range_, bins=bins_, histtype='step', lw=3, alpha=0.5, label='2b2c', color='C3');\n",
    "\n",
    "df_2b_ = df_2b_cut[(df_2b_cut.H_EE2<=1)&(df_2b_cut.H_EE2>=0)]\n",
    "plt.hist(df_2b_['H_EE2'], weights=[1/len(df_2b_)]*len(df_2b_), range=range_, bins=bins_, histtype='step', lw=3, alpha=0.5, label='2b', color='C4');\n",
    "\n",
    "# df_incl_ = df_incl_cut[(df_incl_cut.H_EE2<=1)&(df_incl_cut.H_EE2>=0)]\n",
    "# plt.hist(df_incl_['H_EE2'], weights=[1/len(df_incl_)]*len(df_incl_), range=range_, bins=bins_, histtype='step', lw=3, alpha=0.5, label='Incl.', color='C5');\n",
    "\n",
    "# df_misid_ = df_misid[(df_misid.H_EE2<=1)&(df_misid.H_EE2>=0)]\n",
    "# plt.hist(df_misid_['H_EE2'], weights=[1/len(df_misid_)]*len(df_misid_), range=range_, bins=bins_, histtype='step', lw=3, alpha=0.5, label='MisID', color='C6');\n",
    "\n",
    "\n",
    "\n",
    "ax1.set_ylabel('Normalized distribution', fontsize=20)\n",
    "ax1.set_xlabel(r'$H_{EE;2}$', fontsize=20)\n",
    "ax1.set_yticks([])\n",
    "ax1.legend(loc=2, fontsize=20)\n"
   ]
  },
  {
   "cell_type": "code",
   "execution_count": null,
   "id": "90651a10",
   "metadata": {},
   "outputs": [],
   "source": []
  },
  {
   "cell_type": "code",
   "execution_count": null,
   "id": "8fc84811",
   "metadata": {},
   "outputs": [],
   "source": []
  },
  {
   "cell_type": "code",
   "execution_count": 132,
   "id": "f7c53150",
   "metadata": {},
   "outputs": [
    {
     "data": {
      "text/plain": [
       "[]"
      ]
     },
     "execution_count": 132,
     "metadata": {},
     "output_type": "execute_result"
    },
    {
     "data": {
      "image/png": "[encoded data removed]",
      "text/plain": [
       "<Figure size 576x432 with 1 Axes>"
      ]
     },
     "metadata": {
      "needs_background": "light"
     },
     "output_type": "display_data"
    }
   ],
   "source": [
    "\n",
    "f = plt.figure(figsize=(8,6))\n",
    "ax1 = plt.subplot(111)\n",
    "\n",
    "bins_=20\n",
    "range_=[-0.1,1.1]\n",
    "\n",
    "# bins_=30\n",
    "# range_=[-0.5,1.]\n",
    "\n",
    "df_tau_ = df_tau[(df_tau.H_EE2<=1)&(df_tau.H_EE2>=0)]\n",
    "ax1.hist(df_tau_['H_EE2'], weights=[1/len(df_tau_)]*len(df_tau_), range=range_, bins=bins_, histtype='step', lw=3, alpha=0.5, label=r'$B_c\\to J/\\psi \\tau \\nu$', color='C0');\n",
    "\n",
    "df_mu_ = df_mu[(df_mu.H_EE2<=1)&(df_mu.H_EE2>=0)]\n",
    "ax1.hist(df_mu_['H_EE2'], weights=[1/len(df_mu_)]*len(df_mu_), range=range_, bins=bins_, histtype='step', lw=3, alpha=0.5, label=r'$B_c\\to J/\\psi \\mu \\nu$', color='C1');\n",
    "\n",
    "\n",
    "df_4b_ = df_4b[(df_4b.H_EE2<=1)&(df_4b.H_EE2>=0)]\n",
    "plt.hist(df_4b_['H_EE2'], weights=[1/len(df_4b_)]*len(df_4b_), range=range_, bins=bins_, histtype='step', lw=3, alpha=0.5, label='4b', color='C2');\n",
    "\n",
    "df_2b2c_ = df_2b2c[(df_2b2c.H_EE2<=1)&(df_2b2c.H_EE2>=0)]\n",
    "plt.hist(df_2b2c_['H_EE2'], weights=[1/len(df_2b2c_)]*len(df_2b2c_), range=range_, bins=bins_, histtype='step', lw=3, alpha=0.5, label='2b2c', color='C3');\n",
    "\n",
    "df_2b_ = df_2b[(df_2b.H_EE2<=1)&(df_2b.H_EE2>=0)]\n",
    "plt.hist(df_2b_['H_EE2'], weights=[1/len(df_2b_)]*len(df_2b_), range=range_, bins=bins_, histtype='step', lw=3, alpha=0.5, label='2b', color='C4');\n",
    "\n",
    "\n",
    "# df_incl_ = df_incl[(df_incl.H_EE2<=1)&(df_incl.H_EE2>=0)]\n",
    "# plt.hist(df_incl_['H_EE2'], weights=[1/len(df_incl_)]*len(df_incl_), range=range_, bins=bins_, histtype='step', lw=3, alpha=0.5, label='Incl.', color='C5');\n",
    "\n",
    "# df_misid_ = df_misid[(df_misid.H_EE2<=1)&(df_misid.H_EE2>=0)]\n",
    "# plt.hist(df_misid_['H_EE2'], weights=[1/len(df_misid_)]*len(df_misid_), range=range_, bins=bins_, histtype='step', lw=3, alpha=0.5, label='MisID', color='C6');\n",
    "\n",
    "\n",
    "ax1.set_ylabel('Normalized distribution', fontsize=20)\n",
    "ax1.set_xlabel(r'$H_{EE;2}$', fontsize=20)\n",
    "ax1.set_yticks([])\n",
    "# ax1.legend(loc=2, fontsize=20)\n"
   ]
  },
  {
   "cell_type": "code",
   "execution_count": 38,
   "id": "171cd3a7",
   "metadata": {},
   "outputs": [
    {
     "data": {
      "text/plain": [
       "[]"
      ]
     },
     "execution_count": 38,
     "metadata": {},
     "output_type": "execute_result"
    },
    {
     "data": {
      "image/png": "[encoded data removed]",
      "text/plain": [
       "<Figure size 576x432 with 1 Axes>"
      ]
     },
     "metadata": {
      "needs_background": "light"
     },
     "output_type": "display_data"
    }
   ],
   "source": [
    "\n",
    "f = plt.figure(figsize=(8,6))\n",
    "ax1 = plt.subplot(111)\n",
    "\n",
    "bins_=15\n",
    "range_=[0,1]\n",
    "ax1.margins(x=0.1)\n",
    "\n",
    "df_tau_ = df_tau[(df_tau.H_EE2<=1)&(df_tau.H_EE2>=0)]\n",
    "ax1.hist(df_tau_['H_EE2'], weights=[1/len(df_tau_)]*len(df_tau_), range=range_, bins=bins_, histtype='step', lw=3, alpha=0.5, label=r'$B_c\\to J/\\psi \\tau \\nu$', color='C0');\n",
    "\n",
    "df_mu_ = df_mu[(df_mu.H_EE2<=1)&(df_mu.H_EE2>=0)]\n",
    "ax1.hist(df_mu_['H_EE2'], weights=[1/len(df_mu_)]*len(df_mu_), range=range_, bins=bins_, histtype='step', lw=3, alpha=0.5, label=r'$B_c\\to J/\\psi \\mu \\nu$', color='C1');\n",
    "\n",
    "\n",
    "# df_4b_ = df_4b[(df_4b.H_EE2<=1)&(df_4b.H_EE2>=0)]\n",
    "# plt.hist(df_4b_['H_EE2'], weights=[1/len(df_4b_)]*len(df_4b_), range=range_, bins=bins_, histtype='step', lw=3, alpha=0.5, label='4b', color='C2');\n",
    "\n",
    "# df_2b2c_ = df_2b2c[(df_2b2c.H_EE2<=1)&(df_2b2c.H_EE2>=0)]\n",
    "# plt.hist(df_2b2c_['H_EE2'], weights=[1/len(df_2b2c_)]*len(df_2b2c_), range=range_, bins=bins_, histtype='step', lw=3, alpha=0.5, label='2b2c', color='C3');\n",
    "\n",
    "df_2b_ = df_2b[(df_2b.H_EE2<=1)&(df_2b.H_EE2>=0)]\n",
    "plt.hist(df_2b_['H_EE2'], weights=[1/len(df_2b_)]*len(df_2b_), range=range_, bins=bins_, histtype='step', lw=3, alpha=0.5, label='2b', color='C4');\n",
    "\n",
    "\n",
    "# df_incl_ = df_incl[(df_incl.H_EE2<=1)&(df_incl.H_EE2>=0)]\n",
    "# plt.hist(df_incl_['H_EE2'], weights=[1/len(df_incl_)]*len(df_incl_), range=range_, bins=bins_, histtype='step', lw=3, alpha=0.5, label='Incl.', color='C5');\n",
    "\n",
    "# df_misid_ = df_misid[(df_misid.H_EE2<=1)&(df_misid.H_EE2>=0)]\n",
    "# plt.hist(df_misid_['H_EE2'], weights=[1/len(df_misid_)]*len(df_misid_), range=range_, bins=bins_, histtype='step', lw=3, alpha=0.5, label='MisID', color='C6');\n",
    "\n",
    "\n",
    "\n",
    "ax1.set_ylabel('Normalized distribution', fontsize=20)\n",
    "ax1.set_xlabel(r'$H_{EE;2}$', fontsize=20)\n",
    "ax1.set_yticks([])\n",
    "# ax1.legend(loc=2, fontsize=20)\n",
    "\n",
    "# f.savefig('./figures/FWM_EE2')\n"
   ]
  },
  {
   "cell_type": "code",
   "execution_count": null,
   "id": "32080add",
   "metadata": {},
   "outputs": [],
   "source": []
  }
 ],
 "metadata": {
  "kernelspec": {
   "display_name": "Python 3 (ipykernel)",
   "language": "python",
   "name": "python3"
  },
  "language_info": {
   "codemirror_mode": {
    "name": "ipython",
    "version": 3
   },
   "file_extension": ".py",
   "mimetype": "text/x-python",
   "name": "python",
   "nbconvert_exporter": "python",
   "pygments_lexer": "ipython3",
   "version": "3.10.4"
  }
 },
 "nbformat": 4,
 "nbformat_minor": 5
}
