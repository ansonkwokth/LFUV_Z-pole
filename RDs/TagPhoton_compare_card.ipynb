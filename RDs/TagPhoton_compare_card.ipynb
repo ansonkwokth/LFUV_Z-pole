{
 "cells": [
  {
   "cell_type": "code",
   "execution_count": 1,
   "id": "4255cc33-315a-4071-9c33-fbf9a930ac75",
   "metadata": {},
   "outputs": [
    {
     "name": "stderr",
     "output_type": "stream",
     "text": [
      "/home/anson/.local/lib/python3.10/site-packages/xgboost/compat.py:36: FutureWarning: pandas.Int64Index is deprecated and will be removed from pandas in a future version. Use pandas.Index with the appropriate dtype instead.\n",
      "  from pandas import MultiIndex, Int64Index\n"
     ]
    }
   ],
   "source": [
    "import uproot\n",
    "import pandas as pd\n",
    "import numpy as np\n",
    "import matplotlib.pyplot as plt\n",
    "import xgboost as xgb\n",
    "\n",
    "\n",
    "import warnings\n",
    "warnings.filterwarnings(\"ignore\")"
   ]
  },
  {
   "cell_type": "markdown",
   "id": "368d40f7",
   "metadata": {},
   "source": [
    "## Loading Data"
   ]
  },
  {
   "cell_type": "code",
   "execution_count": 7,
   "id": "ca2a0ba8-d7cb-4c1f-a83a-af2c05f711ad",
   "metadata": {},
   "outputs": [],
   "source": [
    "# epsilon_pimu = 1/100\n",
    "\n",
    "\n",
    "# modes_dt = {0: {'mode': './features/IDEA_card_DsTauNu_10Noise.root', 'yields': 5.17e5}, \n",
    "#             1: {'mode': './features/IDEA_card_DsMuNu_10Noise.root', 'yields': 8.94e6},\n",
    "#             2: {'mode': './features/IDEA_card_DsstarTauNu_10Noise.root', 'yields': 8.16e5}, \n",
    "#             3: {'mode': './features/IDEA_card_DsstarMuNu_10Noise.root', 'yields': 1.89e7},\n",
    "#             4: {'mode': './features/RDsInclusive_10Noise.root', 'yields': 2.78e6},\n",
    "#             5: {'mode': './features/RDsCombCascade_10Noise.root', 'yields': 8.55e6},\n",
    "#             6: {'mode': './features/RDsMisID_10Noise.root', 'yields': epsilon_pimu*8.51e7}\n",
    "#            }\n"
   ]
  },
  {
   "cell_type": "code",
   "execution_count": 8,
   "id": "5a0e9d29-4e37-4e8f-8367-e89fe06f4f5c",
   "metadata": {},
   "outputs": [],
   "source": [
    "# def load_train_test(modes_dt, size=0.5):\n",
    "#     np.random.seed(9)\n",
    "#     df_train = pd.DataFrame()\n",
    "#     df_test = pd.DataFrame()\n",
    "#     num_lt = []\n",
    "    \n",
    "#     # loop over different modes\n",
    "#     for i, (k, v) in enumerate(modes_dt.items()):\n",
    "#         file = uproot.open(v['mode'])\n",
    "# #         df_i = file['t'].pandas.df()    \n",
    "#         df_i = pd.DataFrame(np.array(file['t']['features'].array()))\n",
    "#         df_i['target'] = i    # add the target label\n",
    "#         df_i['weight'] = v['yields']/len(df_i)\n",
    "#         num_lt.append(len(df_i))\n",
    "\n",
    "#         # shuffle the index for training and testing sets\n",
    "#         idx = df_i.index.tolist()\n",
    "#         np.random.shuffle(idx)\n",
    "        \n",
    "#         # cut according to the fraction\n",
    "#         cut = int(np.ceil(len(idx) * size))\n",
    "#         df_train_i = df_i.loc[idx[:cut]]\n",
    "#         df_test_i = df_i.loc[idx[cut:]]\n",
    "        \n",
    "#         # Put to the global dataframs\n",
    "#         df_train = pd.concat([df_train, df_train_i])\n",
    "#         df_test = pd.concat([df_test, df_test_i])\n",
    "    \n",
    "#     df_train.reset_index(drop=True, inplace=True)\n",
    "#     df_test.reset_index(drop=True, inplace=True)\n",
    "    \n",
    "#     print('train size: {} ({:.2f}%); test size: {} ({:.2f}%)'.format(len(df_train), 100*len(df_train)/(len(df_train)+len(df_test)), len(df_test), 100*len(df_test)/(len(df_train)+len(df_test))))\n",
    "#     print('data points per mode: ',num_lt)\n",
    "#     return df_train, df_test\n",
    "\n",
    "    "
   ]
  },
  {
   "cell_type": "code",
   "execution_count": 9,
   "id": "6ca7635f-3c7e-440a-9dcd-95b942b509b0",
   "metadata": {},
   "outputs": [],
   "source": [
    "# tr_te_split = 1\n",
    "# df_train, df_test = load_train_test(modes_dt, tr_te_split)\n",
    "# # df_test, df_train = load_train_test(modes_dt, tr_te_split)\n",
    "# # make a copy\n",
    "# df_train_o, df_test_o = df_train.copy(), df_test.copy()"
   ]
  },
  {
   "cell_type": "code",
   "execution_count": 10,
   "id": "a6c64a1c-480c-4026-99b8-37e0addd7edc",
   "metadata": {},
   "outputs": [],
   "source": [
    "# df_tau = df_train[df_train.target==2]\n",
    "# df_mu = df_train[df_train.target==3]"
   ]
  },
  {
   "cell_type": "code",
   "execution_count": 11,
   "id": "2d2b3e08",
   "metadata": {},
   "outputs": [],
   "source": [
    "\n",
    "# f = plt.figure(figsize=(8,6))\n",
    "# ax1 = plt.subplot(111)\n",
    "# range_=[0, 5]\n",
    "# bins_ = 20\n",
    "\n",
    "# ax1.margins(y=0.5)\n",
    "\n",
    "\n",
    "# ax1.hist(df_tau[df_tau.isDsPho==1]['EPhoTrue'], weights=[1/len(df_tau[df_tau.isDsPho==1])] * len(df_tau[df_tau.isDsPho==1]), bins=bins_, range=range_, histtype='step', lw=3, label=r'Tagged $B_s^0\\to D_s^{*-} \\tau^+\\nu$', alpha=0.5, color='C0');\n",
    "# ax1.hist(df_tau[df_tau.isDsPho==0]['EPhoTrue'], weights=[1/len(df_tau[df_tau.isDsPho==0])] * len(df_tau[df_tau.isDsPho==0]), bins=bins_, range=range_, histtype='step', lw=3, label=r'Untagged $B_s^0\\to D_s^{*-} \\tau^+\\nu$', alpha=0.5, color='C1');\n",
    "# ax1.hist(df_mu[df_mu.isDsPho==1]['EPhoTrue'], weights=[1/len(df_mu[df_mu.isDsPho==1])] * len(df_mu[df_mu.isDsPho==1]), bins=bins_, range=range_, histtype='step', lw=3, label=r'Tagged $B_s^0\\to D_s^{*-} \\mu^+\\nu$', alpha=0.5, color='C0', linestyle='--');\n",
    "# ax1.hist(df_mu[df_mu.isDsPho==0]['EPhoTrue'], weights=[1/len(df_mu[df_mu.isDsPho==0])] * len(df_mu[df_mu.isDsPho==0]), bins=bins_, range=range_, histtype='step', lw=3, label=r'Untagged $B_s^0\\to D_s^{*-} \\mu^+\\nu$', alpha=0.5, color='C1', linestyle='--');\n",
    "\n",
    "\n",
    "# ax1.set_ylabel('Normlized distribution', fontsize=20)\n",
    "# ax1.set_xlabel(r'$E_\\gamma$ [GeV]', fontsize=20)\n",
    "# ax1.set_yticks([])\n",
    "# ax1.legend(loc=1, fontsize=20)\n",
    "# # ax1.axvline(c3, color='red', lw=3)\n",
    "\n",
    "# # f.savefig('./figures/Dsstar_angularsep_2')"
   ]
  },
  {
   "cell_type": "code",
   "execution_count": 12,
   "id": "9355c7aa",
   "metadata": {},
   "outputs": [],
   "source": [
    "\n",
    "# f = plt.figure(figsize=(8,6))\n",
    "# ax1 = plt.subplot(111)\n",
    "# range_=[0, 2]\n",
    "# bins_ = 20\n",
    "\n",
    "# ax1.margins(y=0.1)\n",
    "\n",
    "\n",
    "# ax1.hist(df_tau[df_tau.isDsPho==1]['DeltaRDsPhoTrue'], weights=[1/len(df_tau[df_tau.isDsPho==1])] * len(df_tau[df_tau.isDsPho==1]), bins=bins_, range=range_, histtype='step', lw=3, label=r'Tagged $B_s^0\\to D_s^{*-} \\tau^+\\nu$', alpha=0.5, color='C0');\n",
    "# ax1.hist(df_tau[df_tau.isDsPho==0]['DeltaRDsPhoTrue'], weights=[1/len(df_tau[df_tau.isDsPho==0])] * len(df_tau[df_tau.isDsPho==0]), bins=bins_, range=range_, histtype='step', lw=3, label=r'Untagged $B_s^0\\to D_s^{*-} \\tau^+\\nu$', alpha=0.5, color='C1');\n",
    "# ax1.hist(df_mu[df_mu.isDsPho==1]['DeltaRDsPhoTrue'], weights=[1/len(df_mu[df_mu.isDsPho==1])] * len(df_mu[df_mu.isDsPho==1]), bins=bins_, range=range_, histtype='step', lw=3, label=r'Tagged $B_s^0\\to D_s^{*-} \\mu^+\\nu$', alpha=0.5, color='C0', linestyle='--');\n",
    "# ax1.hist(df_mu[df_mu.isDsPho==0]['DeltaRDsPhoTrue'], weights=[1/len(df_mu[df_mu.isDsPho==0])] * len(df_mu[df_mu.isDsPho==0]), bins=bins_, range=range_, histtype='step', lw=3, label=r'Untagged $B_s^0\\to D_s^{*-} \\mu^+\\nu$', alpha=0.5, color='C1', linestyle='--');\n",
    "\n",
    "\n",
    "# ax1.set_ylabel('Normlized distribution', fontsize=20)\n",
    "# ax1.set_xlabel(r'$\\Delta R_{D_s\\gamma}$', fontsize=20)\n",
    "# ax1.set_yticks([])\n",
    "# ax1.legend(loc=1, fontsize=20)\n",
    "# # ax1.axvline(c3, color='red', lw=3)\n",
    "\n",
    "# # f.savefig('./figures/Dsstar_photonTag')"
   ]
  },
  {
   "cell_type": "code",
   "execution_count": null,
   "id": "53ecd2ac",
   "metadata": {},
   "outputs": [],
   "source": []
  },
  {
   "cell_type": "code",
   "execution_count": 13,
   "id": "17fecc82",
   "metadata": {},
   "outputs": [],
   "source": [
    "# df_tau.correctPhoton.sum()/len(df_tau)"
   ]
  },
  {
   "cell_type": "code",
   "execution_count": 14,
   "id": "8be1f2aa",
   "metadata": {},
   "outputs": [],
   "source": [
    "# df_mu.correctPhoton.sum()/len(df_mu)"
   ]
  },
  {
   "cell_type": "code",
   "execution_count": null,
   "id": "1c42122e",
   "metadata": {},
   "outputs": [],
   "source": []
  },
  {
   "cell_type": "code",
   "execution_count": null,
   "id": "c4112caa",
   "metadata": {},
   "outputs": [],
   "source": []
  },
  {
   "cell_type": "code",
   "execution_count": 15,
   "id": "3de9fbcf",
   "metadata": {},
   "outputs": [],
   "source": [
    "epsilon_pimu = 1/100\n",
    "\n",
    "\n",
    "modes_dt = {0: {'mode': './features/IDEA_card_DsTauNu_10Noise.root', 'yields': 5.17e5}, \n",
    "            1: {'mode': './features/IDEA_card_DsMuNu_10Noise.root', 'yields': 8.94e6},\n",
    "            2: {'mode': './features/IDEA_card_DsstarTauNu_10Noise.root', 'yields': 8.16e5}, \n",
    "            3: {'mode': './features/IDEA_card_DsstarMuNu_10Noise.root', 'yields': 1.89e7},\n",
    "            4: {'mode': './features/RDsInclusive_10Noise.root', 'yields': 2.78e6},\n",
    "            5: {'mode': './features/RDsCombCascade_10Noise.root', 'yields': 8.55e6},\n",
    "            6: {'mode': './features/RDsMisID_10Noise.root', 'yields': epsilon_pimu*8.51e7}\n",
    "           }\n",
    "\n",
    "\n",
    "modes_dt0 = {0: {'mode': './features/IDEA_card_DsTauNu_10Noise.root', 'yields': 5.17e5}, \n",
    "            1: {'mode': './features/IDEA_card_DsMuNu_10Noise.root', 'yields': 8.94e6},\n",
    "            2: {'mode': './features/IDEA_card_DsstarTauNu_10Noise_0Alpha.root', 'yields': 8.16e5}, \n",
    "            3: {'mode': './features/IDEA_card_DsstarMuNu_10Noise_0Alpha.root', 'yields': 1.89e7},\n",
    "            4: {'mode': './features/RDsInclusive_10Noise.root', 'yields': 2.78e6},\n",
    "            5: {'mode': './features/RDsCombCascade_10Noise.root', 'yields': 8.55e6},\n",
    "            6: {'mode': './features/RDsMisID_10Noise.root', 'yields': epsilon_pimu*8.51e7}\n",
    "           }\n",
    "\n",
    "modes_dt01 = {0: {'mode': './features/IDEA_card_DsTauNu_10Noise.root', 'yields': 5.17e5}, \n",
    "            1: {'mode': './features/IDEA_card_DsMuNu_10Noise.root', 'yields': 8.94e6},\n",
    "            2: {'mode': './features/IDEA_card_DsstarTauNu_10Noise_01Alpha.root', 'yields': 8.16e5}, \n",
    "            3: {'mode': './features/IDEA_card_DsstarMuNu_10Noise_01Alpha.root', 'yields': 1.89e7},\n",
    "            4: {'mode': './features/RDsInclusive_10Noise.root', 'yields': 2.78e6},\n",
    "            5: {'mode': './features/RDsCombCascade_10Noise.root', 'yields': 8.55e6},\n",
    "            6: {'mode': './features/RDsMisID_10Noise.root', 'yields': epsilon_pimu*8.51e7}\n",
    "           }\n",
    "\n",
    "modes_dt05 = {0: {'mode': './features/IDEA_card_DsTauNu_10Noise.root', 'yields': 5.17e5}, \n",
    "            1: {'mode': './features/IDEA_card_DsMuNu_10Noise.root', 'yields': 8.94e6},\n",
    "            2: {'mode': './features/IDEA_card_DsstarTauNu_10Noise_05Alpha.root', 'yields': 8.16e5}, \n",
    "            3: {'mode': './features/IDEA_card_DsstarMuNu_10Noise_05Alpha.root', 'yields': 1.89e7},\n",
    "            4: {'mode': './features/RDsInclusive_10Noise.root', 'yields': 2.78e6},\n",
    "            5: {'mode': './features/RDsCombCascade_10Noise.root', 'yields': 8.55e6},\n",
    "            6: {'mode': './features/RDsMisID_10Noise.root', 'yields': epsilon_pimu*8.51e7}\n",
    "           }\n",
    "\n",
    "modes_dt2 = {0: {'mode': './features/IDEA_card_DsTauNu_10Noise.root', 'yields': 5.17e5}, \n",
    "            1: {'mode': './features/IDEA_card_DsMuNu_10Noise.root', 'yields': 8.94e6},\n",
    "            2: {'mode': './features/IDEA_card_DsstarTauNu_10Noise_2Alpha.root', 'yields': 8.16e5}, \n",
    "            3: {'mode': './features/IDEA_card_DsstarMuNu_10Noise_2Alpha.root', 'yields': 1.89e7},\n",
    "            4: {'mode': './features/RDsInclusive_10Noise.root', 'yields': 2.78e6},\n",
    "            5: {'mode': './features/RDsCombCascade_10Noise.root', 'yields': 8.55e6},\n",
    "            6: {'mode': './features/RDsMisID_10Noise.root', 'yields': epsilon_pimu*8.51e7}\n",
    "           }\n"
   ]
  },
  {
   "cell_type": "code",
   "execution_count": 16,
   "id": "56592d80",
   "metadata": {},
   "outputs": [
    {
     "name": "stdout",
     "output_type": "stream",
     "text": [
      "train size: 99403 (100.00%); test size: 0 (0.00%)\n",
      "data points per mode:  [1555, 10094, 849, 2647, 2374, 7623, 74261]\n",
      "train size: 99403 (100.00%); test size: 0 (0.00%)\n",
      "data points per mode:  [1555, 10094, 849, 2647, 2374, 7623, 74261]\n",
      "train size: 99403 (100.00%); test size: 0 (0.00%)\n",
      "data points per mode:  [1555, 10094, 849, 2647, 2374, 7623, 74261]\n",
      "train size: 99403 (100.00%); test size: 0 (0.00%)\n",
      "data points per mode:  [1555, 10094, 849, 2647, 2374, 7623, 74261]\n"
     ]
    }
   ],
   "source": [
    "\n",
    "df_train0, df_test0 = load_train_test(modes_dt0, tr_te_split)\n",
    "df_train01, df_test01 = load_train_test(modes_dt01, tr_te_split)\n",
    "df_train05, df_test05 = load_train_test(modes_dt05, tr_te_split)\n",
    "df_train2, df_test2 = load_train_test(modes_dt2, tr_te_split)"
   ]
  },
  {
   "cell_type": "code",
   "execution_count": 17,
   "id": "ee290be7",
   "metadata": {},
   "outputs": [],
   "source": [
    "df_tau0 = df_train0[df_train0.target==2]\n",
    "df_mu0 = df_train0[df_train0.target==3]\n",
    "\n",
    "df_tau01 = df_train01[df_train01.target==2]\n",
    "df_mu01 = df_train01[df_train01.target==3]\n",
    "\n",
    "df_tau05 = df_train05[df_train05.target==2]\n",
    "df_mu05 = df_train05[df_train05.target==3]\n",
    "\n",
    "df_tau2 = df_train2[df_train2.target==2]\n",
    "df_mu2 = df_train2[df_train2.target==3]\n"
   ]
  },
  {
   "cell_type": "code",
   "execution_count": 18,
   "id": "a5b6652a",
   "metadata": {},
   "outputs": [
    {
     "name": "stdout",
     "output_type": "stream",
     "text": [
      "0.3380\n",
      "0.3369\n",
      "0.3310\n",
      "0.3251\n",
      "0.3168\n",
      "\n"
     ]
    }
   ],
   "source": [
    "print(\"{:.4f}\\n{:.4f}\\n{:.4f}\\n{:.4f}\\n{:.4f}\\n\".format(\n",
    "df_tau0.correctPhoton.sum()/len(df_tau0), \\\n",
    "df_tau01.correctPhoton.sum()/len(df_tau01), \\\n",
    "df_tau05.correctPhoton.sum()/len(df_tau05), \\\n",
    "df_tau.correctPhoton.sum()/len(df_tau), \\\n",
    "df_tau2.correctPhoton.sum()/len(df_tau2)))\n"
   ]
  },
  {
   "cell_type": "code",
   "execution_count": 19,
   "id": "534dda33",
   "metadata": {},
   "outputs": [
    {
     "name": "stdout",
     "output_type": "stream",
     "text": [
      "0.3241\n",
      "0.3230\n",
      "0.3207\n",
      "0.3173\n",
      "0.3079\n",
      "\n"
     ]
    }
   ],
   "source": [
    "print(\"{:.4f}\\n{:.4f}\\n{:.4f}\\n{:.4f}\\n{:.4f}\\n\".format(\n",
    "df_mu0.correctPhoton.sum()/len(df_mu0), \\\n",
    "df_mu01.correctPhoton.sum()/len(df_mu01), \\\n",
    "df_mu05.correctPhoton.sum()/len(df_mu05), \\\n",
    "df_mu.correctPhoton.sum()/len(df_mu), \\\n",
    "df_mu2.correctPhoton.sum()/len(df_mu2)))\n"
   ]
  },
  {
   "cell_type": "code",
   "execution_count": 20,
   "id": "4aeda5e4",
   "metadata": {},
   "outputs": [],
   "source": [
    "# alpha   photon tag eff.\n",
    "# tau:\n",
    "# 0       0.3394\n",
    "# 0.1     0.3383\n",
    "# 0.5     0.3326\n",
    "# 1       0.3257\n",
    "# 2       0.3165\n",
    "\n",
    "# mu:\n",
    "# 0       0.3206\n",
    "# 0.1     0.3195\n",
    "# 0.5     0.3173\n",
    "# 1       0.3139\n",
    "# 2       0.3047\n"
   ]
  },
  {
   "cell_type": "code",
   "execution_count": null,
   "id": "b483296a",
   "metadata": {},
   "outputs": [],
   "source": []
  },
  {
   "cell_type": "code",
   "execution_count": null,
   "id": "0374087f",
   "metadata": {},
   "outputs": [],
   "source": []
  },
  {
   "cell_type": "code",
   "execution_count": null,
   "id": "37a996cd",
   "metadata": {},
   "outputs": [],
   "source": []
  },
  {
   "cell_type": "code",
   "execution_count": 21,
   "id": "0b2f2584",
   "metadata": {},
   "outputs": [],
   "source": [
    "df_train_ = df_train[(df_train.target<=3)]\n",
    "df_train2_ = df_train2[(df_train2.target<=3)]\n",
    "df_train05_ = df_train05[(df_train05.target<=3)]\n",
    "df_train01_ = df_train05[(df_train01.target<=3)]\n",
    "df_train0_ = df_train05[(df_train0.target<=3)]"
   ]
  },
  {
   "cell_type": "code",
   "execution_count": 37,
   "id": "175f8164",
   "metadata": {},
   "outputs": [
    {
     "data": {
      "text/plain": [
       "<matplotlib.legend.Legend at 0x7f9824cf74f0>"
      ]
     },
     "execution_count": 37,
     "metadata": {},
     "output_type": "execute_result"
    },
    {
     "data": {
      "image/png": "[encoded data removed]",
      "text/plain": [
       "<Figure size 576x432 with 1 Axes>"
      ]
     },
     "metadata": {
      "needs_background": "light"
     },
     "output_type": "display_data"
    }
   ],
   "source": [
    "f = plt.figure(figsize=(8,6))\n",
    "ax1 = plt.subplot(111)\n",
    "range_=[0, 0.3]\n",
    "bins_ = 25\n",
    "\n",
    "# ax1.hist(df_train01_['DeltaM'], weights=df_train01_['weight']/(df_train01_['weight'].sum()), bins=bins_, range=range_, histtype='step', lw=3, label=r'$\\alpha=0.5$', alpha=0.5);\n",
    "ax1.hist(df_train05_['DeltaM'], weights=df_train05_['weight']/(df_train05_['weight'].sum()), bins=bins_, range=range_, histtype='step', lw=3, label=r'$\\alpha=0.5$', alpha=0.5);\n",
    "ax1.hist(df_train_['DeltaM'], weights=df_train_['weight']/(df_train_['weight'].sum()), bins=bins_, range=range_, histtype='step', lw=3, label=r'$\\alpha=1$', alpha=0.5);\n",
    "ax1.hist(df_train2_['DeltaM'], weights=df_train2_['weight']/(df_train2_['weight'].sum()), bins=bins_, range=range_, histtype='step', lw=3, label=r'$\\alpha=2$', alpha=0.5);\n",
    "\n",
    "\n",
    "ax1.set_ylabel('Normlized distribution', fontsize=20)\n",
    "ax1.set_xlabel(r'$\\Delta m=m(D_s\\gamma)-m(D_s)$ [GeV$/c^2$]', fontsize=20)\n",
    "ax1.set_yticks([])\n",
    "ax1.legend(loc=1, fontsize=20)\n",
    "\n",
    "# f.savefig('./figures/Dsdeltam_alphas')\n"
   ]
  },
  {
   "cell_type": "code",
   "execution_count": null,
   "id": "d6425920",
   "metadata": {},
   "outputs": [],
   "source": []
  },
  {
   "cell_type": "code",
   "execution_count": null,
   "id": "772e49fd",
   "metadata": {},
   "outputs": [],
   "source": []
  },
  {
   "cell_type": "code",
   "execution_count": null,
   "id": "d908785d",
   "metadata": {},
   "outputs": [],
   "source": []
  },
  {
   "cell_type": "code",
   "execution_count": null,
   "id": "155d28e9",
   "metadata": {},
   "outputs": [],
   "source": []
  },
  {
   "cell_type": "code",
   "execution_count": null,
   "id": "536bb7cb",
   "metadata": {},
   "outputs": [],
   "source": []
  },
  {
   "cell_type": "code",
   "execution_count": 24,
   "id": "5a94a777",
   "metadata": {},
   "outputs": [],
   "source": [
    "epsilon_pimu = 1/100\n",
    "\n",
    "\n",
    "modes_or_dt = {0: {'mode': './features/DsTauNu_10Noise.root', 'yields': 5.17e5}, \n",
    "            1: {'mode': './features/DsMuNu_10Noise.root', 'yields': 8.94e6},\n",
    "            2: {'mode': './features/DsstarTauNu_10Noise.root', 'yields': 8.16e5}, \n",
    "            3: {'mode': './features/DsstarMuNu_10Noise.root', 'yields': 1.89e7},\n",
    "            4: {'mode': './features/RDsInclusive_10Noise.root', 'yields': 2.78e6},\n",
    "            5: {'mode': './features/RDsCombCascade_10Noise.root', 'yields': 8.55e6},\n",
    "            6: {'mode': './features/RDsMisID_10Noise.root', 'yields': epsilon_pimu*8.51e7}\n",
    "           }\n",
    "\n",
    "\n",
    "modes_or_dt0 = {0: {'mode': './features/DsTauNu_10Noise.root', 'yields': 5.17e5}, \n",
    "            1: {'mode': './features/DsMuNu_10Noise.root', 'yields': 8.94e6},\n",
    "            2: {'mode': './features/DsstarTauNu_10Noise_0Alpha.root', 'yields': 8.16e5}, \n",
    "            3: {'mode': './features/DsstarMuNu_10Noise_0Alpha.root', 'yields': 1.89e7},\n",
    "            4: {'mode': './features/RDsInclusive_10Noise.root', 'yields': 2.78e6},\n",
    "            5: {'mode': './features/RDsCombCascade_10Noise.root', 'yields': 8.55e6},\n",
    "            6: {'mode': './features/RDsMisID_10Noise.root', 'yields': epsilon_pimu*8.51e7}\n",
    "           }\n",
    "\n",
    "modes_or_dt01 = {0: {'mode': './features/DsTauNu_10Noise.root', 'yields': 5.17e5}, \n",
    "            1: {'mode': './features/DsMuNu_10Noise.root', 'yields': 8.94e6},\n",
    "            2: {'mode': './features/DsstarTauNu_10Noise_01Alpha.root', 'yields': 8.16e5}, \n",
    "            3: {'mode': './features/DsstarMuNu_10Noise_01Alpha.root', 'yields': 1.89e7},\n",
    "            4: {'mode': './features/RDsInclusive_10Noise.root', 'yields': 2.78e6},\n",
    "            5: {'mode': './features/RDsCombCascade_10Noise.root', 'yields': 8.55e6},\n",
    "            6: {'mode': './features/RDsMisID_10Noise.root', 'yields': epsilon_pimu*8.51e7}\n",
    "           }\n",
    "\n",
    "modes_or_dt05 = {0: {'mode': './features/DsTauNu_10Noise.root', 'yields': 5.17e5}, \n",
    "            1: {'mode': './features/DsMuNu_10Noise.root', 'yields': 8.94e6},\n",
    "            2: {'mode': './features/DsstarTauNu_10Noise_05Alpha.root', 'yields': 8.16e5}, \n",
    "            3: {'mode': './features/DsstarMuNu_10Noise_05Alpha.root', 'yields': 1.89e7},\n",
    "            4: {'mode': './features/RDsInclusive_10Noise.root', 'yields': 2.78e6},\n",
    "            5: {'mode': './features/RDsCombCascade_10Noise.root', 'yields': 8.55e6},\n",
    "            6: {'mode': './features/RDsMisID_10Noise.root', 'yields': epsilon_pimu*8.51e7}\n",
    "           }\n",
    "\n",
    "modes_or_dt2 = {0: {'mode': './features/DsTauNu_10Noise.root', 'yields': 5.17e5}, \n",
    "            1: {'mode': './features/DsMuNu_10Noise.root', 'yields': 8.94e6},\n",
    "            2: {'mode': './features/DsstarTauNu_10Noise_2Alpha.root', 'yields': 8.16e5}, \n",
    "            3: {'mode': './features/DsstarMuNu_10Noise_2Alpha.root', 'yields': 1.89e7},\n",
    "            4: {'mode': './features/RDsInclusive_10Noise.root', 'yields': 2.78e6},\n",
    "            5: {'mode': './features/RDsCombCascade_10Noise.root', 'yields': 8.55e6},\n",
    "            6: {'mode': './features/RDsMisID_10Noise.root', 'yields': epsilon_pimu*8.51e7}\n",
    "           }\n"
   ]
  },
  {
   "cell_type": "code",
   "execution_count": 30,
   "id": "b7d77534",
   "metadata": {},
   "outputs": [
    {
     "name": "stdout",
     "output_type": "stream",
     "text": [
      "train size: 99609 (100.00%); test size: 0 (0.00%)\n",
      "data points per mode:  [1564, 10261, 845, 2681, 2374, 7623, 74261]\n",
      "train size: 99609 (100.00%); test size: 0 (0.00%)\n",
      "data points per mode:  [1564, 10261, 845, 2681, 2374, 7623, 74261]\n",
      "train size: 99609 (100.00%); test size: 0 (0.00%)\n",
      "data points per mode:  [1564, 10261, 845, 2681, 2374, 7623, 74261]\n",
      "train size: 99609 (100.00%); test size: 0 (0.00%)\n",
      "data points per mode:  [1564, 10261, 845, 2681, 2374, 7623, 74261]\n",
      "train size: 99609 (100.00%); test size: 0 (0.00%)\n",
      "data points per mode:  [1564, 10261, 845, 2681, 2374, 7623, 74261]\n"
     ]
    }
   ],
   "source": [
    "\n",
    "df_train_or0, df_test_or0 = load_train_test(modes_or_dt0, tr_te_split)\n",
    "df_train_or01, df_test_or01 = load_train_test(modes_or_dt01, tr_te_split)\n",
    "df_train_or05, df_test_or05 = load_train_test(modes_or_dt05, tr_te_split)\n",
    "df_train_or, df_test_or = load_train_test(modes_or_dt, tr_te_split)\n",
    "df_train_or2, df_test_or2 = load_train_test(modes_or_dt2, tr_te_split)"
   ]
  },
  {
   "cell_type": "code",
   "execution_count": 31,
   "id": "50153943",
   "metadata": {},
   "outputs": [],
   "source": [
    "df_tau_or0 = df_train_or0[df_train_or0.target==2]\n",
    "df_mu_or0 = df_train_or0[df_train_or0.target==3]\n",
    "\n",
    "df_tau_or01 = df_train_or01[df_train_or01.target==2]\n",
    "df_mu_or01 = df_train_or01[df_train_or01.target==3]\n",
    "\n",
    "df_tau_or05 = df_train_or05[df_train_or05.target==2]\n",
    "df_mu_or05 = df_train_or05[df_train_or05.target==3]\n",
    "\n",
    "df_tau_or = df_train_or[df_train_or.target==2]\n",
    "df_mu_or = df_train_or[df_train_or.target==3]\n",
    "\n",
    "df_tau_or2 = df_train_or2[df_train_or2.target==2]\n",
    "df_mu_or2 = df_train_or2[df_train_or2.target==3]\n"
   ]
  },
  {
   "cell_type": "code",
   "execution_count": 32,
   "id": "0f5f63df",
   "metadata": {},
   "outputs": [],
   "source": [
    "df_train_or_ = df_train_or[(df_train_or.target<=3)]\n",
    "df_train_or2_ = df_train_or2[(df_train_or2.target<=3)]\n",
    "df_train_or05_ = df_train_or05[(df_train_or05.target<=3)]\n",
    "df_train_or01_ = df_train_or05[(df_train_or01.target<=3)]\n",
    "df_train_or0_ = df_train_or05[(df_train_or0.target<=3)]"
   ]
  },
  {
   "cell_type": "code",
   "execution_count": 46,
   "id": "514456b5",
   "metadata": {},
   "outputs": [
    {
     "data": {
      "text/plain": [
       "<matplotlib.legend.Legend at 0x7f9825c34e20>"
      ]
     },
     "execution_count": 46,
     "metadata": {},
     "output_type": "execute_result"
    },
    {
     "data": {
      "image/png": "[encoded data removed]",
      "text/plain": [
       "<Figure size 576x432 with 1 Axes>"
      ]
     },
     "metadata": {
      "needs_background": "light"
     },
     "output_type": "display_data"
    }
   ],
   "source": [
    "f = plt.figure(figsize=(8,6))\n",
    "ax1 = plt.subplot(111)\n",
    "range_=[0.0, 0.3]\n",
    "bins_ = 25\n",
    "\n",
    "ax1.plot(np.NaN, np.NaN, '-', color='none', label=r\"$\\alpha=1$\")\n",
    "# ax1.hist(df_train01_['DeltaM'], weights=df_train01_['weight']/(df_train01_['weight'].sum()), bins=bins_, range=range_, histtype='step', lw=3, label=r'$\\alpha=0.5$', alpha=0.5);\n",
    "# ax1.hist(df_train05_['DeltaM'], weights=df_train05_['weight']/(df_train05_['weight'].sum()), bins=bins_, range=range_, histtype='step', lw=3, label=r'$\\alpha=0.5$', alpha=0.5);\n",
    "ax1.hist(df_train_['DeltaM'], weights=df_train_['weight']/(df_train_['weight'].sum()), bins=bins_, range=range_, histtype='step', lw=3, label=r'IDEA', alpha=0.65, color='C4');\n",
    "# ax1.hist(df_train2_['DeltaM'], weights=df_train2_['weight']/(df_train2_['weight'].sum()), bins=bins_, range=range_, histtype='step', lw=3, label=r'$\\alpha=2$', alpha=0.5);\n",
    "\n",
    "\n",
    "# ax1.hist(df_train_or05_['DeltaM'], weights=df_train_or05_['weight']/(df_train_or05_['weight'].sum()), bins=bins_, range=range_, lw=3, alpha=0.2, color='C0');\n",
    "ax1.hist(df_train_or_['DeltaM'], weights=df_train_or_['weight']/(df_train_or_['weight'].sum()), bins=bins_, range=range_, histtype='step', lw=3, label=r'ILD', alpha=0.5, color='C1');\n",
    "# ax1.hist(df_train_or2_['DeltaM'], weights=df_train_or2_['weight']/(df_train_or2_['weight'].sum()), bins=bins_, range=range_, histtype='step', lw=3, alpha=0.5, color='C2', linestyle='--');\n",
    "\n",
    "\n",
    "ax1.set_ylabel('Normlized distribution', fontsize=20)\n",
    "ax1.set_xlabel(r'$\\Delta m$ [GeV]', fontsize=20)\n",
    "ax1.set_yticks([])\n",
    "ax1.legend(loc=1, fontsize=20)\n",
    "\n",
    "# f.savefig('./figures/Dsdeltam_ILD_IDEA')\n"
   ]
  },
  {
   "cell_type": "code",
   "execution_count": 34,
   "id": "22fe294d",
   "metadata": {},
   "outputs": [],
   "source": [
    "# f = plt.figure(figsize=(8,6))\n",
    "# ax1 = plt.subplot(111)\n",
    "# range_=[0.0, 0.3]\n",
    "# bins_ = 25\n",
    "\n",
    "# # ax1.hist(df_train01_['DeltaM'], weights=df_train01_['weight']/(df_train01_['weight'].sum()), bins=bins_, range=range_, histtype='step', density=True, lw=3, label=r'$\\alpha=0.5$', alpha=0.5);\n",
    "# ax1.hist(df_train05_['DeltaM'], weights=df_train05_['weight']/(df_train05_['weight'].sum()), bins=bins_, range=range_, histtype='step', density=True, lw=3, label=r'$\\alpha=0.5$', alpha=0.5, color='C0');\n",
    "# ax1.hist(df_train_['DeltaM'], weights=df_train_['weight']/(df_train_['weight'].sum()), bins=bins_, range=range_, histtype='step', density=True, lw=3, label=r'$\\alpha=1$', alpha=0.5, color='C1');\n",
    "# # ax1.hist(df_train2_['DeltaM'], weights=df_train2_['weight']/(df_train2_['weight'].sum()), bins=bins_, range=range_, histtype='step', density=True, lw=3, label=r'$\\alpha=2$', alpha=0.5, color='C2');\n",
    "\n",
    "# ax1.hist(df_train_or05_['DeltaM'], weights=df_train_or05_['weight']/(df_train_or05_['weight'].sum()), bins=bins_, range=range_, histtype='step', density=True, lw=3, alpha=0.5, color='C0', linestyle='--');\n",
    "# ax1.hist(df_train_or_['DeltaM'], weights=df_train_or_['weight']/(df_train_or_['weight'].sum()), bins=bins_, range=range_, histtype='step', density=True, lw=3, alpha=0.5, color='C1', linestyle='--');\n",
    "# # ax1.hist(df_train_or2_['DeltaM'], weights=df_train_or2_['weight']/(df_train_or2_['weight'].sum()), bins=bins_, range=range_, histtype='step', density=True, lw=3, alpha=0.5, color='C2', linestyle='--');\n",
    "\n",
    "\n",
    "# ax1.set_ylabel('Normlized distribution', fontsize=20)\n",
    "# ax1.set_xlabel(r'$\\Delta m=m(D_s\\gamma)-m(D_s)$ [GeV$/c^2$]', fontsize=20)\n",
    "# ax1.set_yticks([])\n",
    "# ax1.legend(loc=1, fontsize=20)\n",
    "\n",
    "# # f.savefig('./figures/Dsdeltam_alphas')\n"
   ]
  },
  {
   "cell_type": "code",
   "execution_count": 35,
   "id": "8db2f8ec",
   "metadata": {},
   "outputs": [],
   "source": [
    "# f = plt.figure(figsize=(8,6))\n",
    "# ax1 = plt.subplot(111)\n",
    "# range_=[0.0, 0.3]\n",
    "# bins_ = 25\n",
    "# # range_=[0.05, 0.25]\n",
    "# # bins_ = 20\n",
    "\n",
    "# # ax1.hist(df_train01_['DeltaM'], weights=df_train01_['weight']/(df_train01_['weight'].sum()), bins=bins_, range=range_, histtype='step', density=True, lw=3, label=r'$\\alpha=0.5$', alpha=0.5);\n",
    "# ax1.hist(df_train05_['DeltaM'], weights=df_train05_['weight']/(df_train05_['weight'].sum()), bins=bins_, range=range_, density=True, lw=3, label=r'$\\alpha=0.5$', alpha=0.2, color='C0');\n",
    "# ax1.hist(df_train_['DeltaM'], weights=df_train_['weight']/(df_train_['weight'].sum()), bins=bins_, range=range_, density=True, lw=3, label=r'$\\alpha=1$', alpha=0.2, color='C1');\n",
    "# # ax1.hist(df_train2_['DeltaM'], weights=df_train2_['weight']/(df_train2_['weight'].sum()), bins=bins_, range=range_, histtype='step', density=True, lw=3, label=r'$\\alpha=2$', alpha=0.5, color='C2');\n",
    "\n",
    "# ax1.hist(df_train_or05_['DeltaM'], weights=df_train_or05_['weight']/(df_train_or05_['weight'].sum()), bins=bins_, range=range_, histtype='step', density=True, lw=3, alpha=0.5, color='C0');\n",
    "# ax1.hist(df_train_or_['DeltaM'], weights=df_train_or_['weight']/(df_train_or_['weight'].sum()), bins=bins_, range=range_, histtype='step', density=True, lw=3, alpha=0.5, color='C1');\n",
    "# # ax1.hist(df_train_or2_['DeltaM'], weights=df_train_or2_['weight']/(df_train_or2_['weight'].sum()), bins=bins_, range=range_, histtype='step', density=True, lw=3, alpha=0.5, color='C2', linestyle='--');\n",
    "\n",
    "\n",
    "# ax1.set_ylabel('Normlized distribution', fontsize=20)\n",
    "# ax1.set_xlabel(r'$\\Delta m=m(D_s\\gamma)-m(D_s)$ [GeV$/c^2$]', fontsize=20)\n",
    "# ax1.set_yticks([])\n",
    "# ax1.legend(loc=1, fontsize=20)\n",
    "\n",
    "# # f.savefig('./figures/Dsdeltam_alphas')\n"
   ]
  },
  {
   "cell_type": "code",
   "execution_count": 207,
   "id": "c961f64c",
   "metadata": {},
   "outputs": [],
   "source": [
    "# f = plt.figure(figsize=(8,6))\n",
    "# ax1 = plt.subplot(111)\n",
    "# range_=[0.0, 0.3]\n",
    "# bins_ = 25\n",
    "# # range_=[0.05, 0.25]\n",
    "# # bins_ = 20\n",
    "\n",
    "# ax1.hist(df_train01_['DeltaM'], weights=df_train01_['weight']/(df_train01_['weight'].sum()), bins=bins_, range=range_, histtype='step', density=True, lw=3, label=r'$\\alpha=0.5$', alpha=0.5);\n",
    "# ax1.hist(df_train05_['DeltaM'], weights=df_train05_['weight']/(df_train05_['weight'].sum()), bins=bins_, range=range_, histtype='step', density=True, lw=3, label=r'$\\alpha=0.5$', alpha=0.5, color='C0');\n",
    "# ax1.hist(df_train_['DeltaM'], weights=df_train_['weight']/(df_train_['weight'].sum()), bins=bins_, range=range_, histtype='step', density=True, lw=3, label=r'IDEA', alpha=0.5, color='C0');\n",
    "# # ax1.hist(df_train2_['DeltaM'], weights=df_train2_['weight']/(df_train2_['weight'].sum()), bins=bins_, range=range_, histtype='step', density=True, lw=3, label=r'$\\alpha=2$', alpha=0.5, color='C2');\n",
    "\n",
    "# # ax1.hist(df_train_or05_['DeltaM'], weights=df_train_or05_['weight']/(df_train_or05_['weight'].sum()), bins=bins_, range=range_, density=True, lw=3, alpha=0.2, color='C0');\n",
    "# # ax1.hist(df_train_or_['DeltaM'], weights=df_train_or_['weight']/(df_train_or_['weight'].sum()), bins=bins_, range=range_, histtype='step', density=True, lw=3, label=r'ILD', alpha=0.5, color='C1');\n",
    "# # ax1.hist(df_train_or2_['DeltaM'], weights=df_train_or2_['weight']/(df_train_or2_['weight'].sum()), bins=bins_, range=range_, histtype='step', density=True, lw=3, alpha=0.5, color='C2', linestyle='--');\n",
    "\n",
    "\n",
    "# ax1.set_ylabel('Normlized distribution', fontsize=20)\n",
    "# ax1.set_xlabel(r'$\\Delta m=m(D_s\\gamma)-m(D_s)$ [GeV$/c^2$]', fontsize=20)\n",
    "# ax1.set_yticks([])\n",
    "# ax1.legend(loc=1, fontsize=20)\n",
    "\n",
    "# # f.savefig('./figures/Dsdeltam_alphas')\n"
   ]
  },
  {
   "cell_type": "code",
   "execution_count": 36,
   "id": "89743410",
   "metadata": {},
   "outputs": [],
   "source": [
    "# f = plt.figure(figsize=(8,6))\n",
    "# ax1 = plt.subplot(111)\n",
    "# range_=[0, 0.3]\n",
    "# bins_ = 25\n",
    "\n",
    "# # ax1.hist(df_train_or01_['DeltaM'], weights=df_train_or01_['weight']/(df_train_or01_['weight'].sum()), bins=bins_, range=range_, histtype='step', density=True, lw=3, label=r'$\\alpha=0.5$', alpha=0.5);\n",
    "# ax1.hist(df_train_or05_['DeltaM'], weights=df_train_or05_['weight']/(df_train_or05_['weight'].sum()), bins=bins_, range=range_, histtype='step', density=True, lw=3, label=r'$\\alpha=0.5$', alpha=0.5, color='C0');\n",
    "# ax1.hist(df_train_or_['DeltaM'], weights=df_train_or_['weight']/(df_train_or_['weight'].sum()), bins=bins_, range=range_, histtype='step', density=True, lw=3, label=r'$\\alpha=1$', alpha=0.5, color='C1');\n",
    "# ax1.hist(df_train_or2_['DeltaM'], weights=df_train_or2_['weight']/(df_train_or2_['weight'].sum()), bins=bins_, range=range_, histtype='step', density=True, lw=3, label=r'$\\alpha=2$', alpha=0.5, color='C2');\n",
    "\n",
    "\n",
    "# ax1.set_ylabel('Normlized distribution', fontsize=20)\n",
    "# ax1.set_xlabel(r'$\\Delta m=m(D_s\\gamma)-m(D_s)$ [GeV$/c^2$]', fontsize=20)\n",
    "# ax1.set_yticks([])\n",
    "# ax1.legend(loc=1, fontsize=20)\n",
    "\n",
    "# # f.savefig('./figures/Dsdeltam_alphas')\n"
   ]
  },
  {
   "cell_type": "code",
   "execution_count": null,
   "id": "7a10e922",
   "metadata": {},
   "outputs": [],
   "source": []
  },
  {
   "cell_type": "code",
   "execution_count": null,
   "id": "2385b9c6",
   "metadata": {},
   "outputs": [],
   "source": []
  }
 ],
 "metadata": {
  "kernelspec": {
   "display_name": "Python 3 (ipykernel)",
   "language": "python",
   "name": "python3"
  },
  "language_info": {
   "codemirror_mode": {
    "name": "ipython",
    "version": 3
   },
   "file_extension": ".py",
   "mimetype": "text/x-python",
   "name": "python",
   "nbconvert_exporter": "python",
   "pygments_lexer": "ipython3",
   "version": "3.10.2"
  }
 },
 "nbformat": 4,
 "nbformat_minor": 5
}
